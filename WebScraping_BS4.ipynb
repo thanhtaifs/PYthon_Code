{
 "cells": [
  {
   "cell_type": "code",
   "execution_count": 44,
   "id": "51feb412",
   "metadata": {},
   "outputs": [],
   "source": [
    "from bs4 import BeautifulSoup\n",
    "import urllib.request as urllib2\n",
    "import requests\n",
    "import pandas as pd\n",
    "import time"
   ]
  },
  {
   "cell_type": "code",
   "execution_count": 54,
   "id": "e932e87f",
   "metadata": {},
   "outputs": [],
   "source": [
    "data = {'MASO_BHXH': [],'MATKHAU': [] }  \n",
    "# Creates pandas DataFrame.\n",
    "df = pd.DataFrame(data)"
   ]
  },
  {
   "cell_type": "code",
   "execution_count": 46,
   "id": "fa6dbda2",
   "metadata": {},
   "outputs": [],
   "source": [
    "result = pd.read_excel(r'C:\\Users\\PC\\Desktop\\TEST\\Data_VssID_20102022_DU.xlsx', dtype=str)"
   ]
  },
  {
   "cell_type": "code",
   "execution_count": null,
   "id": "0704a943",
   "metadata": {},
   "outputs": [],
   "source": [
    "url = \"https://mailnesia.com/rss/\"\n",
    "box_email = \"?mailcount=10&format=plain\"\n",
    "\n",
    "i = 0\n",
    "\n",
    "while i < 20: \n",
    "  masobhxh = result.loc[i,\"soBhxh\"]      \n",
    "  Name_email = result.loc[i,\"Email\"].split(\"@\")[0]\n",
    "  print(\"Đang lấy dữ liệu của địa chi Email \" + Name_email)\n",
    "  #Name_email = \"nguyenvanthang01011964\"\n",
    "  quote_page = url  + Name_email + box_email\n",
    "  try:\n",
    "    page = urllib2.urlopen(quote_page)\n",
    "    time.sleep(2)  \n",
    "    soup = BeautifulSoup(page,\"lxml\")     \n",
    "    a = soup.find_all('item')\n",
    "    flag = False\n",
    "    #print(a)\n",
    "    for j in a:\n",
    "        if flag == False:\n",
    "          for litag in j.description.findAll('li'):\n",
    "            if flag == False:\n",
    "              if \"Mật khẩu\" in litag.text:\n",
    "                mk = litag.text.split(\":\")[1] \n",
    "                flag = True           \n",
    "              #print(mk)\n",
    "              else:\n",
    "                break\n",
    "        else:\n",
    "          break\n",
    "    df = df.append({'MASO_BHXH': masobhxh, 'MATKHAU': mk  }, ignore_index=True) \n",
    "    print('Đã lấy được thông tin của vị trí : ' + str(i) + ' ' + Name_email)    \n",
    "    #print(\"Xử lý hồ sơ tiếp theo ....\")\n",
    "    i = i + 1       \n",
    "    time.sleep(4)  \n",
    "  except:\n",
    "     print('Lỗi tại hồ sơ ....' + str(i) + ' ' + result.loc[i,\"Email\"]) \n",
    "     df = df.append({'MASO_BHXH': masobhxh, 'MATKHAU': mk  }, ignore_index=True)   \n",
    "     i = i + 1"
   ]
  },
  {
   "cell_type": "code",
   "execution_count": 53,
   "id": "eb1cb2f8",
   "metadata": {},
   "outputs": [],
   "source": [
    "df.to_excel(r'C:\\Users\\PC\\Desktop\\TEST\\Data_VssID_20102022_DU_Email.xlsx')"
   ]
  }
 ],
 "metadata": {
  "kernelspec": {
   "display_name": "Python 3.9.4 64-bit",
   "language": "python",
   "name": "python3"
  },
  "language_info": {
   "codemirror_mode": {
    "name": "ipython",
    "version": 3
   },
   "file_extension": ".py",
   "mimetype": "text/x-python",
   "name": "python",
   "nbconvert_exporter": "python",
   "pygments_lexer": "ipython3",
   "version": "3.9.4"
  },
  "vscode": {
   "interpreter": {
    "hash": "52634da84371cba311ea128a5ea7cdc41ff074b781779e754b270ff9f8153cee"
   }
  }
 },
 "nbformat": 4,
 "nbformat_minor": 5
}
