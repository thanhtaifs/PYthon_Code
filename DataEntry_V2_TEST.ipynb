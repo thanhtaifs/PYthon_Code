{
 "cells": [
  {
   "cell_type": "code",
   "execution_count": 2,
   "id": "93a4e785",
   "metadata": {},
   "outputs": [
    {
     "name": "stdout",
     "output_type": "stream",
     "text": [
      "C:\\Users\\PC\\.wdm\\drivers\\chromedriver\\win64\\118.0.5993.70\\chromedriver-win32/chromedriver.exe\n"
     ]
    }
   ],
   "source": [
    "\n",
    "\n",
    "driver = webdriver.Chrome(service=Service(ChromeDriverManager().install()))\n",
    "installed_path = ChromeDriverManager().install()\n",
    "print(installed_path)\n"
   ]
  },
  {
   "cell_type": "code",
   "execution_count": 23,
   "id": "ff592d6f",
   "metadata": {},
   "outputs": [],
   "source": [
    "from selenium import webdriver\n",
    "from selenium.webdriver.chrome.service import Service\n",
    "from webdriver_manager.chrome import ChromeDriverManager\n",
    "link = r'E:\\Chrome\\chromedriver.exe'\n",
    "driver = webdriver.Chrome(service = Service(link))\n",
    "driver.get(\"https://www.google.com\")"
   ]
  },
  {
   "cell_type": "code",
   "execution_count": 10,
   "id": "738ac378",
   "metadata": {},
   "outputs": [
    {
     "name": "stdout",
     "output_type": "stream",
     "text": [
      "C:\\Users\\PC\\.wdm\\drivers\\chromedriver\\win64\\118.0.5993.70\\chromedriver-win32/chromedriver.exe\n"
     ]
    }
   ],
   "source": [
    "installed_path = ChromeDriverManager().install()\n",
    "print(installed_path)"
   ]
  },
  {
   "cell_type": "code",
   "execution_count": 17,
   "metadata": {},
   "outputs": [
    {
     "data": {
      "text/plain": [
       "'E:\\\\Chrome\\\\chromedriver.exe'"
      ]
     },
     "execution_count": 17,
     "metadata": {},
     "output_type": "execute_result"
    }
   ],
   "source": [
    "import shutil\n",
    "shutil.copy(installed_path, r\"E:\\Chrome\" )\n"
   ]
  },
  {
   "cell_type": "code",
   "execution_count": null,
   "id": "16c17a75",
   "metadata": {},
   "outputs": [],
   "source": [
    "driver.get(\"https://www.google.com\")"
   ]
  }
 ],
 "metadata": {
  "kernelspec": {
   "display_name": "Python 3.8.1 64-bit",
   "language": "python",
   "name": "python3"
  },
  "language_info": {
   "codemirror_mode": {
    "name": "ipython",
    "version": 3
   },
   "file_extension": ".py",
   "mimetype": "text/x-python",
   "name": "python",
   "nbconvert_exporter": "python",
   "pygments_lexer": "ipython3",
   "version": "3.9.4"
  },
  "vscode": {
   "interpreter": {
    "hash": "7f36d96b16a80fe67a5bd5bd0b1969df9712b396977a3dcf3499eedc03b10903"
   }
  }
 },
 "nbformat": 4,
 "nbformat_minor": 5
}
