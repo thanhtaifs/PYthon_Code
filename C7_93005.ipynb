{
 "cells": [
  {
   "cell_type": "code",
   "execution_count": 1,
   "id": "9200961a",
   "metadata": {
    "scrolled": true
   },
   "outputs": [],
   "source": [
    "import pandas as pd\n",
    "import glob\n",
    "import matplotlib.pyplot as plt\n",
    "import sqlite3\n",
    "import numpy as np"
   ]
  },
  {
   "cell_type": "markdown",
   "id": "8810874a",
   "metadata": {},
   "source": [
    "# Tách dữ liệu riêng của CSKCB 93005\n",
    "\n"
   ]
  },
  {
   "cell_type": "code",
   "execution_count": 3,
   "id": "87d2fe13",
   "metadata": {},
   "outputs": [],
   "source": [
    "# chỉnh sửa tên csckb nếu muốn thay đổi tại cskcb nào ???\n",
    "CSCKB = 'CSKCB_93002 ';"
   ]
  },
  {
   "cell_type": "code",
   "execution_count": 4,
   "id": "6c27cb31",
   "metadata": {},
   "outputs": [],
   "source": [
    "# loại câu lệnh gì khi thao tác với CSDL\n",
    "syntax = 'CREATE TABLE ';"
   ]
  },
  {
   "cell_type": "code",
   "execution_count": 5,
   "id": "723b7a2c",
   "metadata": {},
   "outputs": [],
   "source": [
    "# dữ liệu cần lấy khi thực thi câu lệnh SQL.\n",
    "sql_query = (r'as '\n",
    "            + ' Select MA_CHA,MA_CSKCB,NAM_QT,KY_QT,XML1_ID,TEN_CHOT,MA_THE,HO_TEN,NGAY_SINH,GIOI_TINH,NGAY_VAO,NGAY_RA,MA_BENH,MA_BENHKHAC,MA_LOAIKCB,LOAI_BN,'\n",
    "            +' T_TONGCHI,T_XN,T_CDHA,T_THUOC,T_MAU,T_PTTT,T_VTYT,T_DVKT_TYLE,T_THUOC_TYLE,T_VTYT_TYLE,T_KHAM,T_GIUONG,T_VCHUYEN,T_BNCCT,T_BNTT,T_BHTT,'\n",
    "            +' T_XN_BHTT,T_CDHA_BHTT,T_THUOC_BHTT,T_MAU_BHTT,T_PTTT_BHTT,T_VTYT_BHTT,T_DVKT_TYLE_BHTT,T_THUOC_TYLE_BHTT,T_VTYT_TYLE_BHTT,T_KHAM_BHTT,T_GIUONG_BHTT,T_VCHUYEN_BHTT,T_NGOAIDS,T_NGUONKHAC,'\n",
    "            +' TINH_LUOT,TINH_TIEN,GIAM_DINH,T_XUATTOAN_TONGCHI,T_XUATTOAN_BHTT,LYDO_XT,MA_BN,DIA_CHI,MA_DKBD,GT_THE_TU,GT_THE_DEN,MA_KHUVUC,MA_LYDO_VVIEN,MA_NOI_CHUYEN,SO_NGAY_DTRI,KET_QUA_DTRI,TINH_TRANG_RV,MA_KHOA,T_TRU_CCG,T_BHTT_SAU_CCG,MA_LOAIKCB_GOC,TINH_LUOT_GOC,LUOT_KBT_XAC_NHAN,TACH_LUOT_XAC_NHAN,MA_LOAI_KCB_CN'\n",
    "            +' from gsgd_bhyt7980b_final')"
   ]
  },
  {
   "cell_type": "code",
   "execution_count": 6,
   "id": "55fdb95b",
   "metadata": {},
   "outputs": [],
   "source": [
    "# điều kiện xử lý SQL\n",
    "condition = ' where MA_CHA = 93002 and KY_QT BETWEEN 202001 and 202112'\n",
    "# xử lý tạo bảng\n",
    "query = syntax + CSCKB + sql_query  + condition"
   ]
  },
  {
   "cell_type": "code",
   "execution_count": 7,
   "id": "0d2dae43",
   "metadata": {},
   "outputs": [],
   "source": [
    "def updateSqliteTable(query):\n",
    "    try:       \n",
    "        con = sqlite3.connect(r'E:\\Cn\\93_20220329_202001_202112_bao_cao_gsgd_bhyt7980b_final.db')\n",
    "        cursor = con.cursor()  \n",
    "        sql_update_query = query   \n",
    "        cursor.execute(sql_update_query)        \n",
    "        con.commit() \n",
    "        return cursor.rowcount\n",
    "        #print(\"Number row update \" + str(cursor.rowcount))\n",
    "        cursor.close()\n",
    "    except sqlite3.Error as error:\n",
    "        print(\"Failed to update sqlite table\", error)\n",
    "    finally:\n",
    "        if con:\n",
    "            con.close()      "
   ]
  },
  {
   "cell_type": "code",
   "execution_count": 8,
   "id": "02cec793",
   "metadata": {
    "scrolled": true
   },
   "outputs": [
    {
     "data": {
      "text/plain": [
       "-1"
      ]
     },
     "execution_count": 8,
     "metadata": {},
     "output_type": "execute_result"
    }
   ],
   "source": [
    "updateSqliteTable(query)\n",
    "#print(\"Create table\" + query)"
   ]
  },
  {
   "cell_type": "code",
   "execution_count": 9,
   "id": "78cbf1a8",
   "metadata": {},
   "outputs": [],
   "source": [
    "syntax = 'ALTER TABLE ';"
   ]
  },
  {
   "cell_type": "code",
   "execution_count": 10,
   "id": "6b28de54",
   "metadata": {},
   "outputs": [
    {
     "data": {
      "text/plain": [
       "-1"
      ]
     },
     "execution_count": 10,
     "metadata": {},
     "output_type": "execute_result"
    }
   ],
   "source": [
    "sql_query = 'ADD COLUMN LUOT_DUNG INT'\n",
    "# xử lý thêm cột lượt đúng\n",
    "query = syntax + CSCKB + sql_query\n",
    "updateSqliteTable(query)"
   ]
  },
  {
   "cell_type": "code",
   "execution_count": 11,
   "id": "3c80687e",
   "metadata": {},
   "outputs": [
    {
     "data": {
      "text/plain": [
       "-1"
      ]
     },
     "execution_count": 11,
     "metadata": {},
     "output_type": "execute_result"
    }
   ],
   "source": [
    "sql_query = 'ADD COLUMN BENH_DUNG TEXT'\n",
    "# xử lý thêm cột bệnh đúng\n",
    "query = syntax + CSCKB + sql_query\n",
    "updateSqliteTable(query)"
   ]
  },
  {
   "cell_type": "code",
   "execution_count": 12,
   "id": "1a3a8009",
   "metadata": {},
   "outputs": [
    {
     "data": {
      "text/plain": [
       "-1"
      ]
     },
     "execution_count": 12,
     "metadata": {},
     "output_type": "execute_result"
    }
   ],
   "source": [
    "sql_query = 'ADD COLUMN MA_LOAI_KCB_DUNG INT'\n",
    "# xử lý thêm cột bệnh đúng\n",
    "query = syntax + CSCKB + sql_query\n",
    "updateSqliteTable(query)"
   ]
  },
  {
   "cell_type": "code",
   "execution_count": 13,
   "id": "620e45c3",
   "metadata": {},
   "outputs": [
    {
     "name": "stdout",
     "output_type": "stream",
     "text": [
      "Number row changed : 262\n"
     ]
    }
   ],
   "source": [
    "# xử lý trường hợp giám định 3 loại xuất toán toàn bộ\n",
    "syntax = 'UPDATE '\n",
    "sql_query = (r'SET LUOT_DUNG = 0, BENH_DUNG = \"GD3\" WHERE TINH_LUOT = 0 AND TINH_TIEN = 0')\n",
    "query = syntax + CSCKB + sql_query\n",
    "countrow = 0;\n",
    "countrow += updateSqliteTable(query)\n",
    "print(\"Number row changed : \" + str(countrow))"
   ]
  },
  {
   "cell_type": "code",
   "execution_count": 14,
   "id": "b1a54762",
   "metadata": {},
   "outputs": [
    {
     "name": "stdout",
     "output_type": "stream",
     "text": [
      "Number row changed : 192662\n"
     ]
    }
   ],
   "source": [
    "# các đối tượng đúng còn lại\n",
    "sql_query = (r'SET LUOT_DUNG = 1, BENH_DUNG = MA_BENH WHERE TINH_TIEN = 1 AND T_TONGCHI != T_KHAM ')\n",
    "query = syntax + CSCKB + sql_query\n",
    "countrow = 0;\n",
    "countrow += updateSqliteTable(query)\n",
    "print(\"Number row changed : \" + str(countrow))"
   ]
  },
  {
   "cell_type": "code",
   "execution_count": 15,
   "id": "216d6f1c",
   "metadata": {},
   "outputs": [
    {
     "name": "stdout",
     "output_type": "stream",
     "text": [
      "Number row changed : 5394\n"
     ]
    }
   ],
   "source": [
    "# xử lý các đối tượng chỉ có tiền công khám KHB\n",
    "sql_query = (r'SET LUOT_DUNG = 1, BENH_DUNG = \"KHB\" WHERE  TINH_TIEN = 1 and T_TONGCHI = T_KHAM ')\n",
    "query = syntax + CSCKB + sql_query\n",
    "countrow = 0;\n",
    "countrow += updateSqliteTable(query)\n",
    "print(\"Number row changed : \" + str(countrow))"
   ]
  },
  {
   "cell_type": "code",
   "execution_count": 16,
   "id": "a1ef6904",
   "metadata": {},
   "outputs": [
    {
     "name": "stdout",
     "output_type": "stream",
     "text": [
      "Number row changed : 2963\n"
     ]
    }
   ],
   "source": [
    "# cập nhật lượt đúng bằng 0 cho các trường hợp ghép lượt và các trường hợp tách lượt do trùng, tách đợt điều trị\n",
    "sql_query = (r'SET LUOT_DUNG = 0, BENH_DUNG = MA_BENH  WHERE TACH_LUOT_XAC_NHAN = 1 OR LUOT_KBT_XAC_NHAN = 1 ')\n",
    "query = syntax + CSCKB + sql_query\n",
    "countrow = 0;\n",
    "countrow += updateSqliteTable(query)\n",
    "print(\"Number row changed : \" + str(countrow))"
   ]
  },
  {
   "cell_type": "code",
   "execution_count": 17,
   "id": "2d8651f4",
   "metadata": {},
   "outputs": [
    {
     "name": "stdout",
     "output_type": "stream",
     "text": [
      "Number row changed : 198318\n"
     ]
    }
   ],
   "source": [
    "# cập nhật lại loại KCB cho Cn\n",
    "sql_query = (r'SET MA_LOAI_KCB_DUNG = MA_LOAI_KCB_CN ')\n",
    "query = syntax + CSCKB + sql_query\n",
    "countrow = 0;\n",
    "countrow += updateSqliteTable(query)\n",
    "print(\"Number row changed : \" + str(countrow))"
   ]
  },
  {
   "cell_type": "markdown",
   "id": "af3f040b",
   "metadata": {},
   "source": [
    "# Danh sách dữ liệu phát sinh năm 2020"
   ]
  },
  {
   "cell_type": "code",
   "execution_count": 6,
   "id": "6d5e2157",
   "metadata": {},
   "outputs": [],
   "source": [
    "syntax = 'SELECT'\n",
    "# chỉnh sửa tên csckb nếu muốn thay đổi tại cskcb nào ???\n",
    "CSCKB = 'CSKCB_93002 '; \n",
    "# dữ liệu cần lấy khi thực thi câu lệnh SQL.\n",
    "sql_query = (r' CASE WHEN MA_LOAI_KCB_DUNG = 1 THEN \"Khám bệnh\"'\n",
    "\t\t+ ' WHEN MA_LOAI_KCB_DUNG = 2 THEN \"Điều trị ngoại trú\"'\n",
    "\t\t+ ' WHEN MA_LOAI_KCB_DUNG = 3 THEN \"Điều trị nội trú\"'\n",
    "\t\t+ ' WHEN MA_LOAI_KCB_DUNG = 4 THEN \"Giường lưu TYT\"'\n",
    "        + ' WHEN MA_LOAI_KCB_DUNG = 5 THEN \"Nội trú ban ngày\"'\n",
    "\t\t+ ' ELSE \"Khác\"'\t\n",
    "\t\t+'  END As \"LOAI_KCB\", * FROM ')\n",
    "\n",
    "condition = \"WHERE MA_CHA = 93002 AND KY_QT BETWEEN 202001 and 202012 AND SUBSTR(MA_THE,1,2) not in ('QN','CA','CY') AND BENH_DUNG != 'GD3'\"\n",
    "\n",
    "query = syntax + sql_query + CSCKB + condition"
   ]
  },
  {
   "cell_type": "code",
   "execution_count": 7,
   "id": "2c915e18",
   "metadata": {},
   "outputs": [],
   "source": [
    "#query"
   ]
  },
  {
   "cell_type": "code",
   "execution_count": 8,
   "id": "aa0ffde6",
   "metadata": {},
   "outputs": [
    {
     "name": "stdout",
     "output_type": "stream",
     "text": [
      "Số lượng dữ liệu được sử dụng(112290, 75)\n"
     ]
    }
   ],
   "source": [
    "con = sqlite3.connect(r'D:\\DATACSDL\\CSDL\\DataCn\\NAM2020-2021\\93_20220329_202001_202112_bao_cao_gsgd_bhyt7980b_final.db')\n",
    "Read_Data_2020 = pd.read_sql_query(query,con);\n",
    "# xử lý dữ liệu bỏ ra các trường hợp giám định xuất toán toàn bộ và các đối tượng nghị định số 70 (QN-CA-CY)\n",
    "List2020 = Read_Data_2020[((Read_Data_2020['MA_THE'].astype(str).str.slice(0, 2) != 'QN') | (Read_Data_2020['MA_THE'].astype(str).str.slice(0, 2) != 'CA') | (Read_Data_2020['MA_THE'].astype(str).str.slice(0, 2) != 'CY'))]\n",
    "print(\"Số lượng dữ liệu được sử dụng\" + str(List2020.shape))"
   ]
  },
  {
   "cell_type": "code",
   "execution_count": 9,
   "id": "01a3ebb5",
   "metadata": {},
   "outputs": [],
   "source": [
    "#List2020.shape\n",
    "#List2020.info()"
   ]
  },
  {
   "cell_type": "markdown",
   "id": "63bd81f4",
   "metadata": {},
   "source": [
    "# Danh sách dữ liệu phát sinh năm 2021"
   ]
  },
  {
   "cell_type": "code",
   "execution_count": 10,
   "id": "88b5aeed",
   "metadata": {},
   "outputs": [],
   "source": [
    "syntax = 'SELECT'\n",
    "# chỉnh sửa tên csckb nếu muốn thay đổi tại cskcb nào ???\n",
    "CSCKB = 'CSKCB_93005'; \n",
    "# dữ liệu cần lấy khi thực thi câu lệnh SQL.\n",
    "sql_query = (r' CASE WHEN MA_LOAI_KCB_DUNG = 1 THEN \"Khám bệnh\"'\n",
    "\t\t+ ' WHEN MA_LOAI_KCB_DUNG = 2 THEN \"Điều trị ngoại trú\"'\n",
    "\t\t+ ' WHEN MA_LOAI_KCB_DUNG = 3 THEN \"Điều trị nội trú\"'\n",
    "\t\t+ ' WHEN MA_LOAI_KCB_DUNG = 4 THEN \"Giường lưu TYT\"'\n",
    "        + ' WHEN MA_LOAI_KCB_DUNG = 5 THEN \"Nội trú ban ngày\"'\n",
    "\t\t+ ' ELSE \"Khác\"'\t\n",
    "\t\t+'  END As \"LOAI_KCB\", * FROM ')\n",
    "condition = \" WHERE MA_CHA = 93005 AND KY_QT BETWEEN 202101 and 202112 AND SUBSTR(MA_THE,1,2) not in ('QN','CA','CY') AND BENH_DUNG != 'GD3' \"\n",
    "\n",
    "query = syntax + sql_query + CSCKB + condition"
   ]
  },
  {
   "cell_type": "code",
   "execution_count": 11,
   "id": "a4e4bfa8",
   "metadata": {},
   "outputs": [
    {
     "name": "stdout",
     "output_type": "stream",
     "text": [
      "Số lượng dữ liệu được sử dụng(85529, 75)\n"
     ]
    }
   ],
   "source": [
    "con = sqlite3.connect(r'D:\\DATACSDL\\CSDL\\DataCn\\NAM2020-2021\\93_20220329_202001_202112_bao_cao_gsgd_bhyt7980b_final.db')\n",
    "Read_Data_2021 = pd.read_sql_query(query,con);\n",
    "# xử lý dữ liệu bỏ ra các trường hợp giám định xuất toán toàn bộ và các đối tượng nghị định số 70 (QN-CA-CY)\n",
    "List2021 = Read_Data_2021[((Read_Data_2021['MA_THE'].astype(str).str.slice(0, 2) != 'QN') | (Read_Data_2021['MA_THE'].astype(str).str.slice(0, 2) != 'CA') | (Read_Data_2021['MA_THE'].astype(str).str.slice(0, 2) != 'CY'))]\n",
    "print(\"Số lượng dữ liệu được sử dụng\" + str(List2021.shape))"
   ]
  },
  {
   "cell_type": "code",
   "execution_count": 12,
   "id": "5d02a658",
   "metadata": {
    "scrolled": false
   },
   "outputs": [],
   "source": [
    "# List2021.shape\n",
    "# List2021.info()"
   ]
  },
  {
   "cell_type": "markdown",
   "id": "b6e05ae3",
   "metadata": {},
   "source": [
    "# Xử lý dữ liệu 2 năm "
   ]
  },
  {
   "cell_type": "code",
   "execution_count": 13,
   "id": "204bb738",
   "metadata": {},
   "outputs": [],
   "source": [
    "result2020 = List2020[[\"XML1_ID\", \"MA_THE\",\"MA_CSKCB\",\"NAM_QT\",\"KY_QT\",\"T_VCHUYEN_BHTT\",\"T_BHTT_SAU_CCG\",\"LOAI_KCB\",\"LUOT_DUNG\",\"BENH_DUNG\"]].copy()\n",
    "# xử lý lấy mã bệnh\n",
    "result2020.loc[result2020['BENH_DUNG'].astype(str).str.slice(0, 1) == 'U',\"BENH_DUNG\"] = result2020['BENH_DUNG'].astype(str).str.slice(0, 7)\n",
    "result2020.loc[result2020['BENH_DUNG'].astype(str).str.slice(0, 1) != 'U',\"BENH_DUNG\"] = result2020['BENH_DUNG'].astype(str).str.slice(0, 3)\n",
    "#result2020['BENH_DUNG'] =  result2020['BENH_DUNG'].astype(str).str.slice(0, 3)"
   ]
  },
  {
   "cell_type": "code",
   "execution_count": 14,
   "id": "b6446459",
   "metadata": {},
   "outputs": [],
   "source": [
    "result2021 = List2021[[\"XML1_ID\", \"MA_THE\",\"MA_CSKCB\",\"NAM_QT\",\"KY_QT\",\"T_VCHUYEN_BHTT\",\"T_BHTT_SAU_CCG\",\"LOAI_KCB\",\"LUOT_DUNG\",\"BENH_DUNG\"]].copy()\n",
    "# xử lý lấy mã bệnh\n",
    "result2021.loc[result2021['BENH_DUNG'].astype(str).str.slice(0, 1) == 'U',\"BENH_DUNG\"] = result2021['BENH_DUNG'].astype(str).str.slice(0, 7)\n",
    "result2021.loc[result2021['BENH_DUNG'].astype(str).str.slice(0, 1) != 'U',\"BENH_DUNG\"] = result2021['BENH_DUNG'].astype(str).str.slice(0, 3)\n",
    "#result2021['BENH_DUNG'] =  result2021['BENH_DUNG'].astype(str).str.slice(0, 3)"
   ]
  },
  {
   "cell_type": "code",
   "execution_count": 15,
   "id": "8b15e2ef",
   "metadata": {},
   "outputs": [],
   "source": [
    "#result2021\n",
    "#frames = [result2020, result2021]"
   ]
  },
  {
   "cell_type": "code",
   "execution_count": 16,
   "id": "7bf9a155",
   "metadata": {},
   "outputs": [],
   "source": [
    "#CSCKB93016_C7Data = pd.concat(frames)\n",
    "#Data_2020 = result2020.groupby(['MA_CSKCB','TUYEN','LOAI_KCB','BENH_DUNG']).agg({'LUOT_DUNG':'sum','T_BHTT_SAU_CCG':'sum' ,'T_VCHUYEN_BHTT' : 'sum'}).reset_index()\n",
    "Data_2020 = result2020.groupby(['MA_CSKCB','LOAI_KCB','BENH_DUNG']).agg({'LUOT_DUNG':'sum','T_BHTT_SAU_CCG':'sum' ,'T_VCHUYEN_BHTT' : 'sum'}).reset_index()\n",
    "Data_2020['CPBQ'] =  (Data_2020[\"T_BHTT_SAU_CCG\"] - Data_2020[\"T_VCHUYEN_BHTT\"]) / Data_2020[\"LUOT_DUNG\"]\n",
    "Data_2020['T_BHTT_SAU_CCG'] = Data_2020['T_BHTT_SAU_CCG'] - Data_2020['T_VCHUYEN_BHTT'] \n",
    "#Data_2020.reset_index()\n",
    "# Data_2020['MA_CSKCB'] = Data_2020['MA_CSKCB'].apply(np.int64)\n",
    "# Data_2020['MA_LOAIKCB'] = Data_2020['MA_LOAIKCB'].apply(np.int64)\n",
    "#Data_2020.info()\n"
   ]
  },
  {
   "cell_type": "code",
   "execution_count": 17,
   "id": "74dd0672",
   "metadata": {},
   "outputs": [],
   "source": [
    "#CSCKB93016_C7Data = pd.concat(frames)\n",
    "Data_2021 = result2021.groupby(['MA_CSKCB','LOAI_KCB','BENH_DUNG']).agg({'LUOT_DUNG':'sum','T_BHTT_SAU_CCG':'sum' ,'T_VCHUYEN_BHTT' : 'sum'}).reset_index()\n",
    "Data_2021['CPBQ'] =  (Data_2021[\"T_BHTT_SAU_CCG\"] - Data_2021[\"T_VCHUYEN_BHTT\"]) / Data_2021[\"LUOT_DUNG\"]\n",
    "Data_2021['T_BHTT_SAU_CCG'] = Data_2021['T_BHTT_SAU_CCG'] - Data_2021['T_VCHUYEN_BHTT'] \n",
    "#Data_2021.info()"
   ]
  },
  {
   "cell_type": "code",
   "execution_count": 18,
   "id": "27b78879",
   "metadata": {},
   "outputs": [],
   "source": [
    "# outer là điều kiện lấy đảm bảo đầy đủ dữ liệu của 2 năm\n",
    "CSCKB93005_C7Data = pd.merge(Data_2020, Data_2021,  how='outer', left_on=['MA_CSKCB','LOAI_KCB','BENH_DUNG'], right_on = ['MA_CSKCB','LOAI_KCB','BENH_DUNG'],suffixes=('_KYTRUOC', '_KYHIENTAI'))\n"
   ]
  },
  {
   "cell_type": "code",
   "execution_count": 19,
   "id": "a3fcb741",
   "metadata": {},
   "outputs": [],
   "source": [
    "CSCKB93005_C7Data = CSCKB93005_C7Data.replace(np.nan, 0)\n",
    "CSCKB93005_C7Data.loc[CSCKB93005_C7Data[\"LUOT_DUNG_KYTRUOC\"] == 0, \"TANG/GIAM\"] = CSCKB93005_C7Data[\"T_BHTT_SAU_CCG_KYHIENTAI\"]\n",
    "CSCKB93005_C7Data.loc[CSCKB93005_C7Data[\"LUOT_DUNG_KYTRUOC\"] != 0, \"TANG/GIAM\"] =  (CSCKB93005_C7Data[\"LUOT_DUNG_KYHIENTAI\"] - CSCKB93005_C7Data[\"LUOT_DUNG_KYTRUOC\"]) * ((CSCKB93005_C7Data[\"T_BHTT_SAU_CCG_KYTRUOC\"] - CSCKB93005_C7Data[\"T_VCHUYEN_BHTT_KYTRUOC\"]) / CSCKB93005_C7Data[\"LUOT_DUNG_KYTRUOC\"]) * 1\n",
    "CSCKB93005_C7Data['BQ_CHENHLECH'] = CSCKB93005_C7Data['CPBQ_KYHIENTAI']  - CSCKB93005_C7Data['CPBQ_KYTRUOC']\n",
    "CSCKB93005_C7Data['CHIPHI_CHENHLECH'] = CSCKB93005_C7Data['T_BHTT_SAU_CCG_KYHIENTAI']  - CSCKB93005_C7Data['T_BHTT_SAU_CCG_KYTRUOC']\n"
   ]
  },
  {
   "cell_type": "code",
   "execution_count": 20,
   "id": "37bb71a6",
   "metadata": {},
   "outputs": [],
   "source": [
    "#CSCKB93102_C7Data"
   ]
  },
  {
   "cell_type": "code",
   "execution_count": 21,
   "id": "11928980",
   "metadata": {},
   "outputs": [
    {
     "data": {
      "text/plain": [
       "MA_CSKCB\n",
       "93005   -4,348,105,145.34\n",
       "93026      -20,149,860.45\n",
       "93027        5,713,153.93\n",
       "93028      -19,180,908.00\n",
       "93029      -29,417,931.78\n",
       "93030       10,341,381.43\n",
       "93031      -40,054,939.18\n",
       "93032      -11,744,208.74\n",
       "93033       15,964,161.93\n",
       "93087        9,355,887.56\n",
       "Name: TANG/GIAM, dtype: float64"
      ]
     },
     "execution_count": 21,
     "metadata": {},
     "output_type": "execute_result"
    }
   ],
   "source": [
    "pd.options.display.float_format = '{:,.2f}'.format\n",
    "CSCKB93005_C7Data.groupby(\"MA_CSKCB\")['TANG/GIAM'].sum()\n"
   ]
  },
  {
   "cell_type": "code",
   "execution_count": 22,
   "id": "ddf5f727",
   "metadata": {},
   "outputs": [
    {
     "name": "stdout",
     "output_type": "stream",
     "text": [
      "Chi phí C7 của CSCKB: -4,427,278,408.64\n"
     ]
    }
   ],
   "source": [
    "print('Chi phí C7 của CSCKB:','{0:,.2f}'.format(CSCKB93005_C7Data['TANG/GIAM'].sum()))"
   ]
  },
  {
   "cell_type": "code",
   "execution_count": 23,
   "id": "7e166232",
   "metadata": {},
   "outputs": [],
   "source": [
    "CSCKB93005_C7Data.to_excel(r'D:\\SOLIEU\\THAMDINHCn\\CSKCB93005_C7KCB.xlsx')"
   ]
  }
 ],
 "metadata": {
  "interpreter": {
   "hash": "65413db5d18b6e6fc91f4af23253c3dc507c53d0efef2afae1768d332c9921e3"
  },
  "kernelspec": {
   "display_name": "Python 3.8.1 64-bit",
   "name": "python3"
  },
  "language_info": {
   "codemirror_mode": {
    "name": "ipython",
    "version": 3
   },
   "file_extension": ".py",
   "mimetype": "text/x-python",
   "name": "python",
   "nbconvert_exporter": "python",
   "pygments_lexer": "ipython3",
   "version": "3.8.1"
  }
 },
 "nbformat": 4,
 "nbformat_minor": 5
}
