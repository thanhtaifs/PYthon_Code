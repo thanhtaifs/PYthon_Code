{
 "cells": [
  {
   "cell_type": "code",
   "execution_count": 1,
   "id": "40cfa2a2",
   "metadata": {},
   "outputs": [
    {
     "name": "stderr",
     "output_type": "stream",
     "text": [
      "C:\\Users\\TAITTH~1.VSS\\AppData\\Local\\Temp/ipykernel_16140/2692559431.py:14: DeprecationWarning: executable_path has been deprecated, please pass in a Service object\n",
      "  driver = webdriver.Chrome(options=chrome_options, executable_path= Path_Chrome_Driver)\n"
     ]
    }
   ],
   "source": [
    "from selenium import webdriver\n",
    "from selenium.webdriver.chrome.options import Options\n",
    "import time\n",
    "from selenium.webdriver.common.keys import Keys\n",
    "from selenium.webdriver.common.action_chains import ActionChains\n",
    "from selenium.webdriver.support import expected_conditions as EC\n",
    "from selenium.webdriver.common.by import By\n",
    "from selenium.webdriver.support.ui import WebDriverWait\n",
    "import pandas as pd\n",
    "from selenium.common.exceptions import NoSuchElementException\n",
    "\n",
    "chrome_options = Options()\n",
    "Path_Chrome_Driver = r\"C:\\Users\\taitt.haugiang.VSS\\Desktop\\Chrome\\chromedriver.exe\"\n",
    "driver = webdriver.Chrome(options=chrome_options, executable_path= Path_Chrome_Driver)"
   ]
  },
  {
   "cell_type": "code",
   "execution_count": 2,
   "id": "9bd74f2e",
   "metadata": {},
   "outputs": [],
   "source": [
    "baseUrl = r'https://dichvucong.baohiemxahoi.gov.vn/#/dang-ky'\n",
    "driver.get(baseUrl)"
   ]
  },
  {
   "cell_type": "code",
   "execution_count": 3,
   "id": "07a4ec8c",
   "metadata": {},
   "outputs": [],
   "source": [
    "time.sleep(2)\n",
    "driver.find_element(By.CLASS_NAME, 'mat-flat-button').click()"
   ]
  },
  {
   "cell_type": "code",
   "execution_count": 5,
   "id": "8df0b651",
   "metadata": {},
   "outputs": [],
   "source": [
    "folder_excel = r\"C:\\Users\\taitt.haugiang.VSS\\Desktop\\HN\\NGAY02102022\"\n",
    "# Tên file excel cần xử lý\n",
    "FileName_Excel = \"DULIEU HCSN-DN 02102022_CAIVSSID_TAI_2_XONG.xlsx\"\n",
    "result = pd.read_excel(folder_excel + \"\\\\\" + FileName_Excel, dtype=str)"
   ]
  },
  {
   "cell_type": "code",
   "execution_count": null,
   "id": "f9084a69",
   "metadata": {},
   "outputs": [],
   "source": [
    "i = 0\n",
    "\n",
    "hoten = result.loc[i,\"hoTen\"]\n",
    "EMAIL = result.loc[i,\"Email\"]\n",
    "Name_Email = EMAIL.split(\"@\")[0]\n",
    "print(\"Dữ liệu theo STT: \" + str(i + 1))\n",
    "print(\"Địa chỉ Email: \" + Name_Email)\n",
    "print(\"Họ tên: \" + hoten)\n",
    "Ma_BHXH = result.loc[i,\"soBhxh\"]\n",
    "CMND = result.loc[i,\"soCmnd\"]\n",
    "DC =  result.loc[i,\"DC\"]\n",
    "XA = result.loc[i,\"maXaLh\"]\n",
    "TINH =  result.loc[i,\"maTinhLh\"]\n",
    "HUYEN =  result.loc[i,\"maHuyenLh\"]\n",
    "SDT = result.loc[i,\"soDienThoai\"]\n",
    "driver.find_element(By.ID, 'mat-input-7').send_keys(hoten)\n",
    "driver.find_element(By.ID, 'mat-input-4').send_keys(Ma_BHXH)\n",
    "driver.find_element(By.ID, 'mat-input-5').send_keys(CMND)\n",
    " \n",
    "WebDriverWait(driver,3).until(EC.element_to_be_clickable((By.ID,\"mat-input-8\"))).send_keys(TINH)\n",
    "actions = ActionChains(driver)\n",
    "actions.send_keys(Keys.TAB)\n",
    "actions.perform()\n",
    "time.sleep(0.5)\n",
    "# driver.find_element(By.ID, 'mat-input-9').send_keys(HUYEN)\n",
    "WebDriverWait(driver,3).until(EC.element_to_be_clickable((By.ID,\"mat-input-9\"))).send_keys(HUYEN)\n",
    "actions = ActionChains(driver) \n",
    "actions.send_keys(Keys.TAB)\n",
    "actions.perform()\n",
    "time.sleep(0.5)\n",
    "# driver.find_element(By.ID, 'mat-input-10').send_keys(XA)\n",
    "WebDriverWait(driver,3).until(EC.element_to_be_clickable((By.ID,\"mat-input-10\"))).send_keys(XA)\n",
    "actions = ActionChains(driver) \n",
    "actions.send_keys(Keys.TAB)\n",
    "actions.perform()\n",
    "\n",
    "driver.find_element(By.ID, 'mat-input-11').send_keys(DC)\n",
    "driver.find_element(By.ID, 'mat-input-2').send_keys(EMAIL)\n",
    "driver.find_element(By.ID, 'mat-input-3').send_keys(SDT)\n",
    "WebDriverWait(driver,10).until(EC.element_to_be_clickable((By.XPATH,\"//button[./span[text()='Chọn']]\"))).click()\n",
    "WebDriverWait(driver,10).until(EC.element_to_be_clickable((By.XPATH,\"//strong[contains(text(),'[093]')]\"))).click()\n",
    "# đối với huyện Châu thành A\n",
    "#WebDriverWait(driver,10).until(EC.element_to_be_clickable((By.XPATH,\"//strong[contains(text(),'[09302]')]\"))).click()\n",
    "# đối với huyện Châu thành\n",
    "#WebDriverWait(driver,10).until(EC.element_to_be_clickable((By.XPATH,\"//strong[contains(text(),'[09303]')]\"))).click()\n",
    "# đối với huyện Phụng Hiệp\n",
    "#WebDriverWait(driver,10).until(EC.element_to_be_clickable((By.XPATH,\"//strong[contains(text(),'[09304]')]\"))).click()\n",
    "# đối với huyện Vị Thủy\n",
    "#WebDriverWait(driver,10).until(EC.element_to_be_clickable((By.XPATH,\"//strong[contains(text(),'[09305]')]\"))).click()\n",
    "# đối với huyện Long Mỹ\n",
    "#WebDriverWait(driver,10).until(EC.element_to_be_clickable((By.XPATH,\"//strong[contains(text(),'[09306]')]\"))).click()\n",
    "# đối với TP Ngã Bảy\n",
    "#WebDriverWait(driver,10).until(EC.element_to_be_clickable((By.XPATH,\"//strong[contains(text(),'[09307]')]\"))).click()\n",
    "# đối với TX Long Mỹ\n",
    "#WebDriverWait(driver,10).until(EC.element_to_be_clickable((By.XPATH,\"//strong[contains(text(),'[09308]')]\"))).click()\n",
    "\n",
    "WebDriverWait(driver,5).until(EC.element_to_be_clickable((By.CLASS_NAME,\"mat-raised-button\"))).click()\n",
    "time.sleep(0.5)\n",
    "driver.find_element(By.ID, 'mat-input-6').send_keys('')\n"
   ]
  }
 ],
 "metadata": {
  "kernelspec": {
   "display_name": "Python 3.8.1 64-bit",
   "language": "python",
   "name": "python3"
  },
  "language_info": {
   "codemirror_mode": {
    "name": "ipython",
    "version": 3
   },
   "file_extension": ".py",
   "mimetype": "text/x-python",
   "name": "python",
   "nbconvert_exporter": "python",
   "pygments_lexer": "ipython3",
   "version": "3.8.1"
  },
  "vscode": {
   "interpreter": {
    "hash": "7f36d96b16a80fe67a5bd5bd0b1969df9712b396977a3dcf3499eedc03b10903"
   }
  }
 },
 "nbformat": 4,
 "nbformat_minor": 5
}
