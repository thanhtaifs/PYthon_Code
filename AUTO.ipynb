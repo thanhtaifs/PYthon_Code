{
 "cells": [
  {
   "cell_type": "code",
   "execution_count": 11,
   "metadata": {},
   "outputs": [
    {
     "name": "stdout",
     "output_type": "stream",
     "text": [
      "<ppadb.device.Device object at 0x000001F8400A78E0>\n"
     ]
    }
   ],
   "source": [
    "# -*- coding: utf-8 -*-\n",
    "from ppadb.client import Client as AdbClient\n",
    "import time\n",
    "import os\n",
    "# -*- coding: utf-8 -*-\n",
    "def getDevice():\n",
    "    # Default is \"127.0.0.1\" and 5037\n",
    "    #client = AdbClient(host=\"127.0.0.1\", port=57443)\n",
    "    client = AdbClient(host='127.0.0.1', port=5037)\n",
    "    devices = client.devices()\n",
    "    if (len(devices) < 0):\n",
    "        print(\"0 device\")\n",
    "        return 0\n",
    "\n",
    "    return devices[0]\n",
    "    \n",
    "device = getDevice()\n",
    "\n",
    "print(device)"
   ]
  },
  {
   "cell_type": "code",
   "execution_count": 2,
   "metadata": {},
   "outputs": [],
   "source": [
    "import pandas as pd\n",
    "result = pd.read_excel(r'C:\\Users\\Lenovo\\Desktop\\Data\\dulieulacty.xlsx', dtype=str)\n"
   ]
  },
  {
   "cell_type": "code",
   "execution_count": null,
   "metadata": {},
   "outputs": [],
   "source": [
    "# for i in range(len(result)): \n",
    "#     soBhxh = result.loc[i, \"soBhxh\"]\n",
    "#     hoTen = result.loc[i, \"hoTen\"]   \n",
    "#     soCmnd = result.loc[i, \"soCmnd\"]\n",
    "#     soDienThoai = result.loc[i, \"soDienThoai\"]\n"
   ]
  },
  {
   "cell_type": "code",
   "execution_count": 4,
   "metadata": {},
   "outputs": [
    {
     "name": "stdout",
     "output_type": "stream",
     "text": [
      "you typed some text before pressing enter\n",
      "0939376903\n",
      "you typed some text before pressing enter\n",
      "you typed some text before pressing enter\n",
      "you typed some text before pressing enter\n",
      "you typed some text before pressing enter\n",
      "you typed some text before pressing enter\n",
      "you typed some text before pressing enter\n",
      "you typed some text before pressing enter\n",
      "you typed some text before pressing enter\n"
     ]
    },
    {
     "ename": "KeyboardInterrupt",
     "evalue": "Interrupted by user",
     "output_type": "error",
     "traceback": [
      "\u001b[1;31m---------------------------------------------------------------------------\u001b[0m",
      "\u001b[1;31mKeyboardInterrupt\u001b[0m                         Traceback (most recent call last)",
      "\u001b[1;32m<ipython-input-4-50f0ac72f7d1>\u001b[0m in \u001b[0;36m<module>\u001b[1;34m\u001b[0m\n\u001b[0;32m      3\u001b[0m \u001b[1;32mwhile\u001b[0m \u001b[1;32mTrue\u001b[0m\u001b[1;33m:\u001b[0m\u001b[1;33m\u001b[0m\u001b[1;33m\u001b[0m\u001b[0m\n\u001b[0;32m      4\u001b[0m     \u001b[1;32mtry\u001b[0m\u001b[1;33m:\u001b[0m\u001b[1;33m\u001b[0m\u001b[1;33m\u001b[0m\u001b[0m\n\u001b[1;32m----> 5\u001b[1;33m         \u001b[0mtext\u001b[0m \u001b[1;33m=\u001b[0m \u001b[0minput\u001b[0m\u001b[1;33m(\u001b[0m\u001b[1;34m\"Nhập Enter để tiếp tục\"\u001b[0m\u001b[1;33m)\u001b[0m  \u001b[1;31m# or raw_input in python2\u001b[0m\u001b[1;33m\u001b[0m\u001b[1;33m\u001b[0m\u001b[0m\n\u001b[0m\u001b[0;32m      6\u001b[0m         \u001b[1;32mif\u001b[0m \u001b[0mtext\u001b[0m \u001b[1;33m==\u001b[0m \u001b[1;34m\"\"\u001b[0m \u001b[1;33m:\u001b[0m\u001b[1;33m\u001b[0m\u001b[1;33m\u001b[0m\u001b[0m\n\u001b[0;32m      7\u001b[0m             \u001b[0mvitri\u001b[0m \u001b[1;33m=\u001b[0m \u001b[0mvitri\u001b[0m \u001b[1;33m+\u001b[0m \u001b[1;36m1\u001b[0m\u001b[1;33m\u001b[0m\u001b[1;33m\u001b[0m\u001b[0m\n",
      "\u001b[1;32mC:\\Python\\Python39\\lib\\site-packages\\ipykernel\\kernelbase.py\u001b[0m in \u001b[0;36mraw_input\u001b[1;34m(self, prompt)\u001b[0m\n\u001b[0;32m    846\u001b[0m                 \u001b[1;34m\"raw_input was called, but this frontend does not support input requests.\"\u001b[0m\u001b[1;33m\u001b[0m\u001b[1;33m\u001b[0m\u001b[0m\n\u001b[0;32m    847\u001b[0m             )\n\u001b[1;32m--> 848\u001b[1;33m         return self._input_request(str(prompt),\n\u001b[0m\u001b[0;32m    849\u001b[0m             \u001b[0mself\u001b[0m\u001b[1;33m.\u001b[0m\u001b[0m_parent_ident\u001b[0m\u001b[1;33m,\u001b[0m\u001b[1;33m\u001b[0m\u001b[1;33m\u001b[0m\u001b[0m\n\u001b[0;32m    850\u001b[0m             \u001b[0mself\u001b[0m\u001b[1;33m.\u001b[0m\u001b[0m_parent_header\u001b[0m\u001b[1;33m,\u001b[0m\u001b[1;33m\u001b[0m\u001b[1;33m\u001b[0m\u001b[0m\n",
      "\u001b[1;32mC:\\Python\\Python39\\lib\\site-packages\\ipykernel\\kernelbase.py\u001b[0m in \u001b[0;36m_input_request\u001b[1;34m(self, prompt, ident, parent, password)\u001b[0m\n\u001b[0;32m    890\u001b[0m             \u001b[1;32mexcept\u001b[0m \u001b[0mKeyboardInterrupt\u001b[0m\u001b[1;33m:\u001b[0m\u001b[1;33m\u001b[0m\u001b[1;33m\u001b[0m\u001b[0m\n\u001b[0;32m    891\u001b[0m                 \u001b[1;31m# re-raise KeyboardInterrupt, to truncate traceback\u001b[0m\u001b[1;33m\u001b[0m\u001b[1;33m\u001b[0m\u001b[1;33m\u001b[0m\u001b[0m\n\u001b[1;32m--> 892\u001b[1;33m                 \u001b[1;32mraise\u001b[0m \u001b[0mKeyboardInterrupt\u001b[0m\u001b[1;33m(\u001b[0m\u001b[1;34m\"Interrupted by user\"\u001b[0m\u001b[1;33m)\u001b[0m \u001b[1;32mfrom\u001b[0m \u001b[1;32mNone\u001b[0m\u001b[1;33m\u001b[0m\u001b[1;33m\u001b[0m\u001b[0m\n\u001b[0m\u001b[0;32m    893\u001b[0m             \u001b[1;32mexcept\u001b[0m \u001b[0mException\u001b[0m \u001b[1;32mas\u001b[0m \u001b[0me\u001b[0m\u001b[1;33m:\u001b[0m\u001b[1;33m\u001b[0m\u001b[1;33m\u001b[0m\u001b[0m\n\u001b[0;32m    894\u001b[0m                 \u001b[0mself\u001b[0m\u001b[1;33m.\u001b[0m\u001b[0mlog\u001b[0m\u001b[1;33m.\u001b[0m\u001b[0mwarning\u001b[0m\u001b[1;33m(\u001b[0m\u001b[1;34m\"Invalid Message:\"\u001b[0m\u001b[1;33m,\u001b[0m \u001b[0mexc_info\u001b[0m\u001b[1;33m=\u001b[0m\u001b[1;32mTrue\u001b[0m\u001b[1;33m)\u001b[0m\u001b[1;33m\u001b[0m\u001b[1;33m\u001b[0m\u001b[0m\n",
      "\u001b[1;31mKeyboardInterrupt\u001b[0m: Interrupted by user"
     ]
    }
   ],
   "source": [
    "# vị trí dữ liệu đang được xử lý\n",
    "vitri = -1\n",
    "while True:\n",
    "    try:\n",
    "        text = input(\"Nhập Enter để tiếp tục\")  # or raw_input in python2\n",
    "        if text == \"\" :\n",
    "            vitri = vitri + 1\n",
    "            soBhxh = result.loc[vitri, \"soBhxh\"]\n",
    "            hoTen = result.loc[vitri, \"hoTen\"]   \n",
    "            soCmnd = result.loc[vitri, \"soCmnd\"]\n",
    "            soDienThoai = result.loc[vitri, \"soDienThoai\"]            \n",
    "            device.input_keyevent(3)\n",
    "            time.sleep(2)\n",
    "            device.input_tap(1431,160)\n",
    "            time.sleep(1)\n",
    "            device.input_tap(777,692)\n",
    "            time.sleep(1)\n",
    "            device.input_tap(58,180)\n",
    "            time.sleep(0,5)\n",
    "            device.input_text(soBhxh)\n",
    "            time.sleep(0.5)\n",
    "            device.input_tap(60,273)\n",
    "            time.sleep(0.5)\n",
    "            charsb64 = hoTen\n",
    "            os.system(r\"C:\\Users\\Lenovo\\AppData\\Local\\Android\\Sdk\\platform-tools\\adb shell am broadcast -a ADB_INPUT_TEXT --es msg '%s'\" %charsb64)\n",
    "            time.sleep(0.5)\n",
    "            device.input_tap(51,412)\n",
    "            time.sleep(0.5)\n",
    "            device.input_text(soCmnd)\n",
    "            time.sleep(0.5)\n",
    "            device.input_tap(64,783)\n",
    "            time.sleep(0.5)\n",
    "            device.input_text(soDienThoai)\n",
    "        else:\n",
    "            print(\"you typed some text before pressing enter\")\n",
    "    except Exception as e:\n",
    "        print(\"please enter number\")\n",
    "\n"
   ]
  }
 ],
 "metadata": {
  "interpreter": {
   "hash": "ee5cc6fef2d70a7e71ee3826687cbd150f18158e0b1eef11d4f4f92bb920e304"
  },
  "kernelspec": {
   "display_name": "Python 3.9.4 64-bit",
   "name": "python3"
  },
  "language_info": {
   "codemirror_mode": {
    "name": "ipython",
    "version": 3
   },
   "file_extension": ".py",
   "mimetype": "text/x-python",
   "name": "python",
   "nbconvert_exporter": "python",
   "pygments_lexer": "ipython3",
   "version": "3.9.4"
  },
  "orig_nbformat": 4
 },
 "nbformat": 4,
 "nbformat_minor": 2
}
