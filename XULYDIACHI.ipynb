{
 "cells": [
  {
   "cell_type": "code",
   "execution_count": 3,
   "metadata": {},
   "outputs": [],
   "source": [
    "import pandas as pd\n",
    "import unicodedata\n",
    "result = pd.read_excel(r'C:\\Users\\Lenovo\\Desktop\\VSSID\\Excel\\CHILIEM_3.xlsx', dtype=str)\n",
    "NEW_VALUE = result[\"diaChiLh\"].str.split(\",\", n = 1, expand = True)\n",
    "result['DC'] = NEW_VALUE[0]\n",
    "NEW_VALUE_HT = result[\"hoTen\"].apply(lambda val: unicodedata.normalize('NFKD', val).encode('ascii', 'ignore').decode())\n",
    "EMAIL_1 = NEW_VALUE_HT.str.replace(\" \",\"\") + result[\"soBhxh\"] + \"@mailnesia.com\"\n",
    "EMAIL_2 = NEW_VALUE_HT.str.replace(\" \",\"\") + result[\"soBhxh\"] + \"@yopmail.com\"\n",
    "EMAIL_3 = NEW_VALUE_HT.str.replace(\" \",\"\") + result[\"soBhxh\"] + \"@mailcatch.com\"\n",
    "result['Email'] = EMAIL_1\n",
    "result['Email_2'] = EMAIL_2\n",
    "result['Email_3'] = EMAIL_3\n",
    "result.to_excel(r'C:\\Users\\Lenovo\\Desktop\\VSSID\\Excel\\CHILIEM_3_REF.xlsx')"
   ]
  }
 ],
 "metadata": {
  "interpreter": {
   "hash": "ee5cc6fef2d70a7e71ee3826687cbd150f18158e0b1eef11d4f4f92bb920e304"
  },
  "kernelspec": {
   "display_name": "Python 3.9.4 64-bit",
   "name": "python3"
  },
  "language_info": {
   "codemirror_mode": {
    "name": "ipython",
    "version": 3
   },
   "file_extension": ".py",
   "mimetype": "text/x-python",
   "name": "python",
   "nbconvert_exporter": "python",
   "pygments_lexer": "ipython3",
   "version": "3.9.4"
  },
  "orig_nbformat": 4
 },
 "nbformat": 4,
 "nbformat_minor": 2
}
