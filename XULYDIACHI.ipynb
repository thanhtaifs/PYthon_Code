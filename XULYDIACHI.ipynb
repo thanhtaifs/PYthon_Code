{
 "cells": [
  {
   "cell_type": "code",
   "execution_count": 2,
   "metadata": {},
   "outputs": [],
   "source": [
    "import pandas as pd\n",
    "result = pd.read_excel(r'C:\\Users\\Lenovo\\Desktop\\Data\\DULIEUTAI.xlsx', dtype=str)\n",
    "NEW_VALUE = result[\"DIACHI\"].str.split(\",\", n = 1, expand = True)\n",
    "result['DC'] = NEW_VALUE[0]\n",
    "result.to_excel(r'C:\\Users\\Lenovo\\Desktop\\Data\\DULIEUTAIOK.xlsx')\n"
   ]
  }
 ],
 "metadata": {
  "interpreter": {
   "hash": "ee5cc6fef2d70a7e71ee3826687cbd150f18158e0b1eef11d4f4f92bb920e304"
  },
  "kernelspec": {
   "display_name": "Python 3.9.4 64-bit",
   "name": "python3"
  },
  "language_info": {
   "codemirror_mode": {
    "name": "ipython",
    "version": 3
   },
   "file_extension": ".py",
   "mimetype": "text/x-python",
   "name": "python",
   "nbconvert_exporter": "python",
   "pygments_lexer": "ipython3",
   "version": "3.9.4"
  },
  "orig_nbformat": 4
 },
 "nbformat": 4,
 "nbformat_minor": 2
}
