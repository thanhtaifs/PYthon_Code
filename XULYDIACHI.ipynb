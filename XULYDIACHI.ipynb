{
 "cells": [
  {
   "cell_type": "code",
   "execution_count": 1,
   "id": "3aae2c3e",
   "metadata": {},
   "outputs": [],
   "source": [
    "import pandas as pd\n",
    "import unicodedata"
   ]
  },
  {
   "cell_type": "code",
   "execution_count": 3,
   "id": "b43f4fa2",
   "metadata": {},
   "outputs": [],
   "source": [
    "result = pd.read_excel(r'C:\\Users\\PC\\Desktop\\VSSID\\DATA_CTA.xlsx', dtype=str)\n",
    "NEW_VALUE = result[\"diaChiLh\"].str.split(\",\", n = 1, expand = True)\n",
    "result['DC'] = NEW_VALUE[0]\n",
    "table = { ord('Đ'):'D',ord('đ'):'d' }\n",
    "NEW_VALUE_HT = result[\"hoTen\"].str.lower().apply(lambda val: unicodedata.normalize('NFD', val).translate(table).encode('ascii', 'ignore').decode('ascii'))\n",
    "EMAIL_1 = NEW_VALUE_HT.str.replace(\" \",\"\") + pd.to_datetime(result['ngaySinh']).dt.strftime('%d%m%Y') + \"@mailnesia.com\"\n",
    "# EMAIL_2 = NEW_VALUE_HT.str.replace(\" \",\"\") + result[\"soBhxh\"] + \"@yopmail.com\"\n",
    "# EMAIL_3 = NEW_VALUE_HT.str.replace(\" \",\"\") + result[\"soBhxh\"] + \"@mailcatch.com\"\n",
    "result['Email'] = EMAIL_1.str.lower()\n",
    "# result['Email_2'] = EMAIL_2.str.lower()\n",
    "# result['Email_3'] = EMAIL_3.str.lower()\n",
    "result['Hoan_Thanh'] = 0\n",
    "# result['CONVER']  = pd.to_datetime(result['NGAY']).dt.strftime('%d%m%Y')\n",
    "\n",
    "# NEW_VALUE_2 = result[\"TEN_FILe\"].str.split(\",\", n = 3, expand = True)\n",
    "# result['FOLDER'] = NEW_VALUE_2[2]\n",
    "result\n",
    "result.to_excel(r'C:\\Users\\PC\\Desktop\\VSSID\\DATA_CTA_GOC.xlsx')"
   ]
  }
 ],
 "metadata": {
  "kernelspec": {
   "display_name": "Python 3.9.4 64-bit",
   "language": "python",
   "name": "python3"
  },
  "language_info": {
   "codemirror_mode": {
    "name": "ipython",
    "version": 3
   },
   "file_extension": ".py",
   "mimetype": "text/x-python",
   "name": "python",
   "nbconvert_exporter": "python",
   "pygments_lexer": "ipython3",
   "version": "3.9.4"
  },
  "vscode": {
   "interpreter": {
    "hash": "52634da84371cba311ea128a5ea7cdc41ff074b781779e754b270ff9f8153cee"
   }
  }
 },
 "nbformat": 4,
 "nbformat_minor": 5
}
