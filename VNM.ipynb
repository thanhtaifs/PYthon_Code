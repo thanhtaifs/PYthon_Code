{
 "cells": [
  {
   "cell_type": "code",
   "execution_count": 2,
   "metadata": {},
   "outputs": [],
   "source": [
    "import matplotlib.pyplot as plt\n",
    "import numpy as np\n",
    "import pandas as pd\n",
    "import pandas_datareader as web\n",
    "import datetime as dt\n",
    "\n",
    "from sklearn.preprocessing import MinMaxScaler\n",
    "from tensorflow.keras.models import Sequential\n",
    "from tensorflow.keras.layers import Dense, Dropout, LSTM"
   ]
  },
  {
   "cell_type": "code",
   "execution_count": 2,
   "metadata": {},
   "outputs": [],
   "source": [
    "# start_date = dt.datetime(2016,1,19)\n",
    "# end_date = dt.datetime(2021,12,31)\n",
    "# data = web.DataReader(name=\"TSLA\", data_source='yahoo', start=start_date, end=end_date)\n",
    "# print(data)"
   ]
  },
  {
   "cell_type": "code",
   "execution_count": 3,
   "metadata": {},
   "outputs": [],
   "source": [
    "result = pd.read_csv(r'E:\\VNM\\excel_vnm.csv')\n",
    "result[\"Date\"] = pd.to_datetime(result[\"<DTYYYYMMDD>\"], format='%Y%m%d')\n",
    "result['Close'] = pd.to_numeric(result['<CloseFixed>'].astype(str)) * 1000\n",
    "result['High'] = pd.to_numeric(result['<HighFixed>'].astype(str)) * 1000\n",
    "result['Low'] = pd.to_numeric(result['<LowFixed>'].astype(str)) * 1000\n",
    "result['Volume'] = pd.to_numeric(result['<Volume>'].astype(str))\n",
    "data_finish = result[['Date','High','Low' ,'Close','Volume']].copy()\n",
    "#data_finish"
   ]
  },
  {
   "cell_type": "code",
   "execution_count": 5,
   "metadata": {},
   "outputs": [],
   "source": [
    "result_test = pd.read_csv(r'E:\\VNM\\excel_vnm_test.csv')\n",
    "result_test[\"Date\"] = pd.to_datetime(result_test[\"<DTYYYYMMDD>\"], format='%Y%m%d')\n",
    "result_test['Close'] = pd.to_numeric(result_test['<CloseFixed>'].astype(str)) * 1000\n",
    "result_test['High'] = pd.to_numeric(result_test['<HighFixed>'].astype(str)) * 1000\n",
    "result_test['Low'] = pd.to_numeric(result_test['<LowFixed>'].astype(str)) * 1000\n",
    "result_test['Volume'] = pd.to_numeric(result_test['<Volume>'].astype(str))\n",
    "test_data = result[['Date','High','Low' ,'Close','Volume']].copy()\n",
    "#data_finish"
   ]
  },
  {
   "cell_type": "code",
   "execution_count": 35,
   "metadata": {},
   "outputs": [
    {
     "name": "stdout",
     "output_type": "stream",
     "text": [
      "Epoch 1/100\n"
     ]
    }
   ],
   "source": [
    "company = \"VNM\"\n",
    "# Start = dt.datetime(2012,1,1)\n",
    "# End = dt.datetime(2021,12,31)\n",
    "\n",
    "# data = web.DataReader(company,'yahoo',Start,End)\n",
    "\n",
    "scaler = MinMaxScaler(feature_range=(0,1))\n",
    "scaler_data = scaler.fit_transform(data_finish['Close'].values.reshape(-1,1))\n",
    "\n",
    "prediction_days = 60\n",
    "\n",
    "x_train = []\n",
    "y_train = []\n",
    "\n",
    "for x in range(prediction_days,len(scaler_data)):\n",
    "    x_train.append(scaler_data[x-prediction_days:x,0])\n",
    "    y_train.append(scaler_data[x,0])\n",
    "\n",
    "x_train, y_train =np.array(x_train), np.array(y_train)\n",
    "x_train = np.reshape(x_train,(x_train.shape[0],x_train.shape[1],1))\n",
    "\n",
    "model = Sequential()\n",
    "\n",
    "model.add(LSTM(units=50, return_sequences=True, input_shape=(x_train.shape[1], 1)))\n",
    "model.add(Dropout(0.2))\n",
    "model.add(LSTM(units=50, return_sequences=True))\n",
    "model.add(Dropout(0.2))\n",
    "model.add(LSTM(units=50))\n",
    "model.add(Dropout(0.2))\n",
    "model.add(Dense(units=1)) #prediction of the next closing value\n",
    "\n",
    "\n",
    "model.compile(optimizer = 'adam',loss = 'mean_squared_error')\n",
    "model.fit(x_train,y_train,epochs = 100,batch_size = 32)\n",
    "\n",
    "\n",
    "# test_start = dt.datetime(2022,1,1)\n",
    "# test_end = dt.datetime.now\n",
    "\n",
    "# test_data =  web.DataReader(company,'yahoo',test_start,test_end)\n",
    "\n",
    "total_dataset=pd.concat((data_finish['Close'], test_data['Close']), axis=0)\n",
    "\n",
    "model_inputs = total_dataset[len(total_dataset) - len(test_data) - prediction_days:].values\n",
    "model_inputs = model_inputs.reshape(-1,1)\n",
    "model_inputs = scaler.transform(model_inputs)\n",
    "\n",
    "\n",
    "x_test = []\n",
    "\n",
    "for x in range(prediction_days,len(model_inputs)):\n",
    "    x_test.append(model_inputs[x-prediction_days:x,0])\n",
    "\n",
    "x_test = np.array(x_test)\n",
    "x_test = np.reshape(x_test,(x_test.shape[0],x_test.shape[1],1))\n",
    "\n",
    "prediction_prices = model.predict(x_test)\n",
    "prediction_prices = scaler.inverse_transform(prediction_prices)\n",
    "\n",
    "actual_prices = data_finish['Close']\n",
    "\n",
    "\n"
   ]
  },
  {
   "cell_type": "code",
   "execution_count": 3,
   "metadata": {},
   "outputs": [
    {
     "ename": "NameError",
     "evalue": "name 'actual_prices' is not defined",
     "output_type": "error",
     "traceback": [
      "\u001b[1;31m---------------------------------------------------------------------------\u001b[0m",
      "\u001b[1;31mNameError\u001b[0m                                 Traceback (most recent call last)",
      "\u001b[1;32m~\\AppData\\Local\\Temp/ipykernel_5724/1240885440.py\u001b[0m in \u001b[0;36m<module>\u001b[1;34m\u001b[0m\n\u001b[0;32m      1\u001b[0m \u001b[1;31m# Plot the test predictions\u001b[0m\u001b[1;33m\u001b[0m\u001b[1;33m\u001b[0m\u001b[1;33m\u001b[0m\u001b[0m\n\u001b[1;32m----> 2\u001b[1;33m \u001b[0mplt\u001b[0m\u001b[1;33m.\u001b[0m\u001b[0mplot\u001b[0m\u001b[1;33m(\u001b[0m\u001b[0mactual_prices\u001b[0m\u001b[1;33m,\u001b[0m \u001b[0mcolor\u001b[0m \u001b[1;33m=\u001b[0m \u001b[1;34m\"black\"\u001b[0m\u001b[1;33m,\u001b[0m \u001b[0mlabel\u001b[0m\u001b[1;33m=\u001b[0m\u001b[1;34mf\"Actual {company} Price\"\u001b[0m\u001b[1;33m)\u001b[0m\u001b[1;33m\u001b[0m\u001b[1;33m\u001b[0m\u001b[0m\n\u001b[0m\u001b[0;32m      3\u001b[0m \u001b[0mplt\u001b[0m\u001b[1;33m.\u001b[0m\u001b[0mplot\u001b[0m\u001b[1;33m(\u001b[0m\u001b[0mprediction_prices\u001b[0m\u001b[1;33m,\u001b[0m \u001b[0mcolor\u001b[0m\u001b[1;33m=\u001b[0m\u001b[1;34m\"red\"\u001b[0m\u001b[1;33m,\u001b[0m \u001b[0mlabel\u001b[0m\u001b[1;33m=\u001b[0m\u001b[1;34mf\"Predicted {company} Price\"\u001b[0m\u001b[1;33m)\u001b[0m\u001b[1;33m\u001b[0m\u001b[1;33m\u001b[0m\u001b[0m\n\u001b[0;32m      4\u001b[0m \u001b[0mplt\u001b[0m\u001b[1;33m.\u001b[0m\u001b[0mtitle\u001b[0m\u001b[1;33m(\u001b[0m\u001b[1;34mf\"{company} Share Price\"\u001b[0m\u001b[1;33m)\u001b[0m\u001b[1;33m\u001b[0m\u001b[1;33m\u001b[0m\u001b[0m\n\u001b[0;32m      5\u001b[0m \u001b[0mplt\u001b[0m\u001b[1;33m.\u001b[0m\u001b[0mxlabel\u001b[0m\u001b[1;33m(\u001b[0m\u001b[1;34m\"Time\"\u001b[0m\u001b[1;33m)\u001b[0m\u001b[1;33m\u001b[0m\u001b[1;33m\u001b[0m\u001b[0m\n",
      "\u001b[1;31mNameError\u001b[0m: name 'actual_prices' is not defined"
     ]
    }
   ],
   "source": [
    "# Plot the test predictions\n",
    "plt.plot(actual_prices, color = \"black\", label=f\"Actual {company} Price\")\n",
    "plt.plot(prediction_prices, color=\"red\", label=f\"Predicted {company} Price\")\n",
    "plt.title(f\"{company} Share Price\")\n",
    "plt.xlabel(\"Time\")\n",
    "plt.ylabel(f\"{company} Share Price\")\n",
    "plt.legend()\n",
    "plt.show()"
   ]
  },
  {
   "cell_type": "code",
   "execution_count": 33,
   "metadata": {},
   "outputs": [
    {
     "name": "stdout",
     "output_type": "stream",
     "text": [
      "Prediction: [[78940.28]]\n"
     ]
    }
   ],
   "source": [
    "\n",
    "#real_data = [model_inputs[len(model_inputs)+1-prediction_days:len(model_inputs+1), 0]]\n",
    "real_data = [model_inputs[len(model_inputs)  - prediction_days:len(model_inputs + 1), 0]]\n",
    "real_data = np.array(real_data)\n",
    "real_data=np.reshape(real_data, (real_data.shape[0], real_data.shape[1],1))\n",
    "\n",
    "prediction=model.predict(real_data)\n",
    "prediction = scaler.inverse_transform(prediction)\n",
    "print(f\"Prediction: {prediction}\")\n"
   ]
  }
 ],
 "metadata": {
  "interpreter": {
   "hash": "ee5cc6fef2d70a7e71ee3826687cbd150f18158e0b1eef11d4f4f92bb920e304"
  },
  "kernelspec": {
   "display_name": "Python 3.9.4 64-bit",
   "name": "python3"
  },
  "language_info": {
   "codemirror_mode": {
    "name": "ipython",
    "version": 3
   },
   "file_extension": ".py",
   "mimetype": "text/x-python",
   "name": "python",
   "nbconvert_exporter": "python",
   "pygments_lexer": "ipython3",
   "version": "3.9.4"
  },
  "orig_nbformat": 4
 },
 "nbformat": 4,
 "nbformat_minor": 2
}
