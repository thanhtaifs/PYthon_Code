{
 "cells": [
  {
   "cell_type": "code",
   "execution_count": 44,
   "id": "51feb412",
   "metadata": {},
   "outputs": [],
   "source": [
    "from bs4 import BeautifulSoup\n",
    "import urllib.request as urllib2\n",
    "import requests\n",
    "import pandas as pd\n",
    "import time"
   ]
  },
  {
   "cell_type": "code",
   "execution_count": 54,
   "id": "e932e87f",
   "metadata": {},
   "outputs": [],
   "source": [
    "data = {'MASO_BHXH': [],'MATKHAU': [] }  \n",
    "# Creates pandas DataFrame.\n",
    "df = pd.DataFrame(data)"
   ]
  },
  {
   "cell_type": "code",
   "execution_count": 46,
   "id": "fa6dbda2",
   "metadata": {},
   "outputs": [],
   "source": [
    "result = pd.read_excel(r'C:\\Users\\PC\\Desktop\\TEST\\Data_VssID_20102022_DU.xlsx', dtype=str)\n",
    "url = \"https://mailnesia.com\"\n",
    "box_email = \"/mailbox/\""
   ]
  },
  {
   "cell_type": "code",
   "execution_count": null,
   "id": "08e7ea8d",
   "metadata": {},
   "outputs": [],
   "source": [
    "j = 10\n",
    "while j < 20:           \n",
    "    try:\n",
    "        masobhxh = result.loc[j,\"soBhxh\"]        \n",
    "        #Name_email = \"nguyenvantrung27121963\"\n",
    "        Name_email = result.loc[j,\"Email\"].split(\"@\")[0]\n",
    "        print(\"Đang lấy dữ liệu của địa chi Email \" + Name_email)\n",
    "        link_extend = box_email + Name_email\n",
    "        # specify the url\n",
    "        quote_page = url + box_email + Name_email\n",
    "        page = urllib2.urlopen(quote_page)\n",
    "        #print(quote_page)\n",
    "        soup = BeautifulSoup(page,\"html.parser\")       \n",
    "        #print(soup.prettify())\n",
    "        flag = False     \n",
    "        mk = \"\"\n",
    "        for a in soup.find_all('a', href=True):  \n",
    "            #print(a['href']) \n",
    "            if flag == False:\n",
    "                #print(a['href']) \n",
    "                if link_extend in a['href']:\n",
    "                    next_link = url + a['href']   \n",
    "                    id_ref = a['href'].split(link_extend +\"/\")[1]    \n",
    "                    div_id = \"text_html_\" + id_ref        \n",
    "                    nextpage  = urllib2.urlopen(next_link)   \n",
    "                    #print(nextpage)    \n",
    "                    nextsoup = BeautifulSoup(nextpage, \"html.parser\")       \n",
    "                    get_div_content = nextsoup.find(id= div_id)\n",
    "                    parent = get_div_content.find(\"ul\")  \n",
    "                    #text = list(parent.descendants)        \n",
    "                    for litag in parent.find_all('li'):\n",
    "                        #print(litag.text)\n",
    "                        if flag == False:                            \n",
    "                            if \"Mật khẩu\" in litag.text:\n",
    "                                flag = True\n",
    "                                mk = litag.text.split(\":\")[1]\n",
    "                                #print(\"mật khẩu là : \" + mk) \n",
    "                        else:                                         \n",
    "                            break\n",
    "                    # xác định thông tin k = 0 là chưa có thông in     \n",
    "            else:\n",
    "                break\n",
    "        df = df.append({'MASO_BHXH': masobhxh, 'MATKHAU': mk  }, ignore_index=True) \n",
    "        print('Đã lấy được thông tin của : ' + Name_email + \" với mật khẩu : \" + mk)    \n",
    "        print(\"Xử lý hồ sơ tiếp theo ....\")\n",
    "        j = j + 1       \n",
    "        time.sleep(5)  \n",
    "    except:\n",
    "        print(\"Lỗi tại hồ sơ ....\" + result.loc[j,\"Email\"]) \n",
    "        df = df.append({'MASO_BHXH': masobhxh, 'MATKHAU': mk  }, ignore_index=True)   \n",
    "        j = j + 1\n",
    "        "
   ]
  },
  {
   "cell_type": "code",
   "execution_count": 53,
   "id": "eb1cb2f8",
   "metadata": {},
   "outputs": [],
   "source": [
    "df.to_excel(r'C:\\Users\\PC\\Desktop\\TEST\\Data_VssID_20102022_DU_Email.xlsx')"
   ]
  }
 ],
 "metadata": {
  "kernelspec": {
   "display_name": "Python 3.9.4 64-bit",
   "language": "python",
   "name": "python3"
  },
  "language_info": {
   "codemirror_mode": {
    "name": "ipython",
    "version": 3
   },
   "file_extension": ".py",
   "mimetype": "text/x-python",
   "name": "python",
   "nbconvert_exporter": "python",
   "pygments_lexer": "ipython3",
   "version": "3.9.4"
  },
  "vscode": {
   "interpreter": {
    "hash": "52634da84371cba311ea128a5ea7cdc41ff074b781779e754b270ff9f8153cee"
   }
  }
 },
 "nbformat": 4,
 "nbformat_minor": 5
}
