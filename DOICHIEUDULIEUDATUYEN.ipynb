{
 "cells": [
  {
   "cell_type": "code",
   "execution_count": 18,
   "metadata": {
    "scrolled": true
   },
   "outputs": [],
   "source": [
    "import pandas as pd\n",
    "import glob\n",
    "import matplotlib.pyplot as plt\n",
    "import numpy as np\n",
    "import seaborn as sns"
   ]
  },
  {
   "cell_type": "code",
   "execution_count": 19,
   "metadata": {},
   "outputs": [],
   "source": [
    "files = [] # Tạo biến lưu trữ các nội dung lưu dữ liệu Excel\n",
    "file_list = glob.glob(r'C:\\Users\\Lenovo\\Desktop\\Excel\\HANGQUY\\*.xlsx') # Đọc tất cả dữ liệu trong thư mục Data"
   ]
  },
  {
   "cell_type": "code",
   "execution_count": 20,
   "metadata": {},
   "outputs": [],
   "source": [
    "# duyệt tập tin Excel và kết nối lại thành 1 tập tin\n",
    "for filename in file_list:\n",
    "    df = pd.concat(pd.read_excel(filename, sheet_name=None), ignore_index=True)\n",
    "    files.append(df)\n",
    "frame = pd.concat(files, axis=0, ignore_index=True)"
   ]
  },
  {
   "cell_type": "code",
   "execution_count": 21,
   "metadata": {
    "scrolled": true
   },
   "outputs": [],
   "source": [
    "data = frame[(frame['GIAM_DINH'] != 3) & (frame['LOAI_BN'] == 3)] # lọc bỏ các đối tượng giám định từ chối và bệnh nhân trong tỉnh"
   ]
  },
  {
   "cell_type": "code",
   "execution_count": 22,
   "metadata": {
    "scrolled": true
   },
   "outputs": [],
   "source": [
    "# lấy các trường cần thiết để đối chiếu dữ liệu\n",
    "result = data[[\"XML1_ID\", \"MA_THE\",\"GIOI_TINH\",\"HO_TEN\",\"MA_DKBD\",\"T_TONGCHI\",\"T_BNCCT\",\"T_BNTT\",\"T_BHTT\",\"MA_CSKCB\",\"MA_LOAI_KCB\",\"LOAI_BN\"]].copy()"
   ]
  },
  {
   "cell_type": "code",
   "execution_count": 23,
   "metadata": {
    "scrolled": true
   },
   "outputs": [],
   "source": [
    "#result.describe()"
   ]
  },
  {
   "cell_type": "code",
   "execution_count": 24,
   "metadata": {},
   "outputs": [],
   "source": [
    "# gom nhóm các CSKCB theo mã cha\n",
    "result.loc[result['MA_CSKCB'].astype(str) == '93001', 'MA_CHA'] = '93001'\n",
    "result.loc[(result['MA_CSKCB'].astype(str) == '93002') | (result['MA_CSKCB'].astype(str) == '93048') | (result['MA_CSKCB'].astype(str) == '93049') | (result['MA_CSKCB'].astype(str) == '93050') | (result['MA_CSKCB'].astype(str) == '93051') | (result['MA_CSKCB'].astype(str) == '93052')| (result['MA_CSKCB'].astype(str) == '93053') | (result['MA_CSKCB'].astype(str) == '93054') | (result['MA_CSKCB'].astype(str) == '93055') | (result['MA_CSKCB'].astype(str) == '93057')  | (result['MA_CSKCB'].astype(str) == '93080'), 'MA_CHA'] = '93002'\n",
    "result.loc[(result['MA_CSKCB'].astype(str) == '93003') | (result['MA_CSKCB'].astype(str) == '93019') | (result['MA_CSKCB'].astype(str) == '93058') | (result['MA_CSKCB'].astype(str) == '93059') | (result['MA_CSKCB'].astype(str) == '93060') | (result['MA_CSKCB'].astype(str) == '93061')| (result['MA_CSKCB'].astype(str) == '93092') | (result['MA_CSKCB'].astype(str) == '93094') | (result['MA_CSKCB'].astype(str) == '93097')  | (result['MA_CSKCB'].astype(str) == '93104'), 'MA_CHA'] = '93003'\n",
    "result.loc[(result['MA_CSKCB'].astype(str) == '93004') | (result['MA_CSKCB'].astype(str) == '93035') | (result['MA_CSKCB'].astype(str) == '93036') | (result['MA_CSKCB'].astype(str) == '93037') | (result['MA_CSKCB'].astype(str) == '93038') | (result['MA_CSKCB'].astype(str) == '93039')| (result['MA_CSKCB'].astype(str) == '93040') | (result['MA_CSKCB'].astype(str) == '93041') | (result['MA_CSKCB'].astype(str) == '93042')  | (result['MA_CSKCB'].astype(str) == '93043') | (result['MA_CSKCB'].astype(str) == '93044') | (result['MA_CSKCB'].astype(str) == '93045') | (result['MA_CSKCB'].astype(str) == '93046') | (result['MA_CSKCB'].astype(str) == '93047') | (result['MA_CSKCB'].astype(str) == '93089') | (result['MA_CSKCB'].astype(str) == '93090'), 'MA_CHA'] = '93004'\n",
    "result.loc[(result['MA_CSKCB'].astype(str) == '93005') | (result['MA_CSKCB'].astype(str) == '93026') | (result['MA_CSKCB'].astype(str) == '93027') | (result['MA_CSKCB'].astype(str) == '93028') | (result['MA_CSKCB'].astype(str) == '93029') | (result['MA_CSKCB'].astype(str) == '93030')| (result['MA_CSKCB'].astype(str) == '93031') | (result['MA_CSKCB'].astype(str) == '93032') | (result['MA_CSKCB'].astype(str) == '93033')  | (result['MA_CSKCB'].astype(str) == '93087'), 'MA_CHA'] = '93005'\n",
    "result.loc[(result['MA_CSKCB'].astype(str) == '93006') | (result['MA_CSKCB'].astype(str) == '93018') | (result['MA_CSKCB'].astype(str) == '93020') | (result['MA_CSKCB'].astype(str) == '93022') | (result['MA_CSKCB'].astype(str) == '93023') | (result['MA_CSKCB'].astype(str) == '93024')| (result['MA_CSKCB'].astype(str) == '93025') | (result['MA_CSKCB'].astype(str) == '93073') | (result['MA_CSKCB'].astype(str) == '93083')  | (result['MA_CSKCB'].astype(str) == '93084') | (result['MA_CSKCB'].astype(str) == '93086'), 'MA_CHA'] = '93006'\n",
    "result.loc[(result['MA_CSKCB'].astype(str) == '93109') | (result['MA_CSKCB'].astype(str) == '93009') | (result['MA_CSKCB'].astype(str) == '93010') | (result['MA_CSKCB'].astype(str) == '93011') | (result['MA_CSKCB'].astype(str) == '93012') | (result['MA_CSKCB'].astype(str) == '93013')| (result['MA_CSKCB'].astype(str) == '93014') | (result['MA_CSKCB'].astype(str) == '93015') | (result['MA_CSKCB'].astype(str) == '93017')  | (result['MA_CSKCB'].astype(str) == '93082'), 'MA_CHA'] = '93109'\n",
    "result.loc[(result['MA_CSKCB'].astype(str) == '93016') | (result['MA_CSKCB'].astype(str) == '93067') | (result['MA_CSKCB'].astype(str) == '93068') | (result['MA_CSKCB'].astype(str) == '93069') | (result['MA_CSKCB'].astype(str) == '93070') | (result['MA_CSKCB'].astype(str) == '93071')| (result['MA_CSKCB'].astype(str) == '93072'), 'MA_CHA'] = '93016'\n",
    "result.loc[(result['MA_CSKCB'].astype(str) == '93078') | (result['MA_CSKCB'].astype(str) == '93062') | (result['MA_CSKCB'].astype(str) == '93063') | (result['MA_CSKCB'].astype(str) == '93064') | (result['MA_CSKCB'].astype(str) == '93065') | (result['MA_CSKCB'].astype(str) == '93066')| (result['MA_CSKCB'].astype(str) == '93095')| (result['MA_CSKCB'].astype(str) == '93096')| (result['MA_CSKCB'].astype(str) == '93098'), 'MA_CHA'] = '93078'\n",
    "result.loc[result['MA_CSKCB'].astype(str) == '93007', 'MA_CHA'] = '93007'\n",
    "result.loc[result['MA_CSKCB'].astype(str) == '93008', 'MA_CHA'] = '93008'\n",
    "result.loc[result['MA_CSKCB'].astype(str) == '93100', 'MA_CHA'] = '93100'\n",
    "result.loc[result['MA_CSKCB'].astype(str) == '93101', 'MA_CHA'] = '93101'\n",
    "result.loc[result['MA_CSKCB'].astype(str) == '93102', 'MA_CHA'] = '93102'\n",
    "result.loc[result['MA_CSKCB'].astype(str) == '93103', 'MA_CHA'] = '93103'\n",
    "result.loc[result['MA_CSKCB'].astype(str) == '93105', 'MA_CHA'] = '93105'\n",
    "result.loc[result['MA_CSKCB'].astype(str) == '93106', 'MA_CHA'] = '93106'\n",
    "result.loc[result['MA_CSKCB'].astype(str) == '93107', 'MA_CHA'] = '93107'\n",
    "result.loc[result['MA_CSKCB'].astype(str) == '93110', 'MA_CHA'] = '93110'"
   ]
  },
  {
   "cell_type": "code",
   "execution_count": 25,
   "metadata": {
    "scrolled": true
   },
   "outputs": [],
   "source": [
    "# Tổn hợp dữ liệu theo từng mã cha và loại KCB\n",
    "table = pd.pivot_table(result,index=['MA_CHA'],columns=['MA_LOAI_KCB'],values=['T_BHTT'],aggfunc=['count','sum'], margins = True)\n",
    "table = table.replace(np.nan, 0) # xử lý các trường hợp k có dữ liệu"
   ]
  },
  {
   "cell_type": "code",
   "execution_count": 26,
   "metadata": {},
   "outputs": [],
   "source": [
    "# Export Data to Excel\n",
    "DataOutput = table\n",
    "DataOutput.to_excel(r'C:\\Users\\Lenovo\\Desktop\\Excel\\Output\\TONGHOPSOLIEUDATUYEN.xlsx')"
   ]
  },
  {
   "cell_type": "code",
   "execution_count": 27,
   "metadata": {},
   "outputs": [
    {
     "name": "stderr",
     "output_type": "stream",
     "text": [
      "C:\\Python\\Python39\\lib\\site-packages\\openpyxl\\styles\\stylesheet.py:221: UserWarning: Workbook contains no default style, apply openpyxl's default\n",
      "  warn(\"Workbook contains no default style, apply openpyxl's default\")\n"
     ]
    }
   ],
   "source": [
    "result_ref = pd.read_excel(r'C:\\Users\\Lenovo\\Desktop\\Excel\\DATA\\93_Q22021_trong_ky_2021_chapnhan_tbao_den_0.xlsx')"
   ]
  },
  {
   "cell_type": "code",
   "execution_count": 28,
   "metadata": {
    "scrolled": true
   },
   "outputs": [],
   "source": [
    "df_all = pd.merge(result, result_ref, left_on=['XML1_ID'] , right_on= ['ID_XML'] , how='left', indicator=True)"
   ]
  },
  {
   "cell_type": "code",
   "execution_count": 29,
   "metadata": {},
   "outputs": [],
   "source": [
    "df_all = df_all[(df_all['_merge'] != \"both\")]"
   ]
  },
  {
   "cell_type": "code",
   "execution_count": 30,
   "metadata": {
    "scrolled": true
   },
   "outputs": [],
   "source": [
    "finish = df_all[[\"XML1_ID\", \"MA_THE_x\",\"HO_TEN_x\",\"GIOI_TINH_x\",\"MA_DKBD_x\",\"T_TONGCHI_x\",\"T_BNCCT_x\",\"T_BNTT_x\",\"T_BHTT_x\",\"MA_CSKCB_x\",\"MA_LOAI_KCB_x\",\"LOAI_BN\"]]"
   ]
  },
  {
   "cell_type": "code",
   "execution_count": 31,
   "metadata": {},
   "outputs": [
    {
     "name": "stdout",
     "output_type": "stream",
     "text": [
      "Tổng chi phí BHTT giám định hàng quý 17,245,315,851.60 và Tổng chi phí BHTT thông báo 17,245,026,272.52\n",
      "Chi phí chênh lệch cần kiểm tra: 289,579.08\n",
      "Chi phí chưa được thông báo : 289,579.08\n"
     ]
    }
   ],
   "source": [
    "SO_GIAM_DINH = result['T_BHTT'].sum()  \n",
    "SO_GIAM_DINH \n",
    "SO_THONGBAO = result_ref['T_DATUYEN'].sum()  \n",
    "pd.options.display.float_format = '{:,.2f}'.format\n",
    "print('Tổng chi phí BHTT giám định hàng quý {} và Tổng chi phí BHTT thông báo {}'.format('{0:,.2f}'.format(SO_GIAM_DINH), '{0:,.2f}'.format(SO_THONGBAO)))\n",
    "\n",
    "print('Chi phí chênh lệch cần kiểm tra:','{0:,.2f}'.format(SO_GIAM_DINH - SO_THONGBAO))\n",
    "\n",
    "TIEN_CHUATHONGBAO = finish[\"T_BHTT_x\"].sum()\n",
    "print('Chi phí chưa được thông báo :','{0:,.2f}'.format(TIEN_CHUATHONGBAO))"
   ]
  },
  {
   "cell_type": "code",
   "execution_count": 32,
   "metadata": {},
   "outputs": [
    {
     "data": {
      "text/html": [
       "<div>\n",
       "<style scoped>\n",
       "    .dataframe tbody tr th:only-of-type {\n",
       "        vertical-align: middle;\n",
       "    }\n",
       "\n",
       "    .dataframe tbody tr th {\n",
       "        vertical-align: top;\n",
       "    }\n",
       "\n",
       "    .dataframe thead th {\n",
       "        text-align: right;\n",
       "    }\n",
       "</style>\n",
       "<table border=\"1\" class=\"dataframe\">\n",
       "  <thead>\n",
       "    <tr style=\"text-align: right;\">\n",
       "      <th></th>\n",
       "      <th>XML1_ID</th>\n",
       "      <th>MA_THE_x</th>\n",
       "      <th>HO_TEN_x</th>\n",
       "      <th>GIOI_TINH_x</th>\n",
       "      <th>MA_DKBD_x</th>\n",
       "      <th>T_TONGCHI_x</th>\n",
       "      <th>T_BNCCT_x</th>\n",
       "      <th>T_BNTT_x</th>\n",
       "      <th>T_BHTT_x</th>\n",
       "      <th>MA_CSKCB_x</th>\n",
       "      <th>MA_LOAI_KCB_x</th>\n",
       "      <th>LOAI_BN</th>\n",
       "    </tr>\n",
       "  </thead>\n",
       "  <tbody>\n",
       "    <tr>\n",
       "      <th>3504</th>\n",
       "      <td>1681987164</td>\n",
       "      <td>TE160KT00000021</td>\n",
       "      <td>CB:TRƯƠNG THỊ KIM PHƯỢNG</td>\n",
       "      <td>1</td>\n",
       "      <td>60000</td>\n",
       "      <td>79,914.77</td>\n",
       "      <td>0.00</td>\n",
       "      <td>0.00</td>\n",
       "      <td>79,914.77</td>\n",
       "      <td>93002</td>\n",
       "      <td>1</td>\n",
       "      <td>3</td>\n",
       "    </tr>\n",
       "    <tr>\n",
       "      <th>10313</th>\n",
       "      <td>1638884579</td>\n",
       "      <td>TE191KT00048675</td>\n",
       "      <td>LA TỰ HÀO</td>\n",
       "      <td>1</td>\n",
       "      <td>91001</td>\n",
       "      <td>103,097.77</td>\n",
       "      <td>0.00</td>\n",
       "      <td>0.00</td>\n",
       "      <td>103,097.77</td>\n",
       "      <td>93006</td>\n",
       "      <td>1</td>\n",
       "      <td>3</td>\n",
       "    </tr>\n",
       "    <tr>\n",
       "      <th>12078</th>\n",
       "      <td>1674827382</td>\n",
       "      <td>TE191KT00048675</td>\n",
       "      <td>LA TỰ HÀO</td>\n",
       "      <td>1</td>\n",
       "      <td>91001</td>\n",
       "      <td>106,566.54</td>\n",
       "      <td>0.00</td>\n",
       "      <td>0.00</td>\n",
       "      <td>106,566.54</td>\n",
       "      <td>93006</td>\n",
       "      <td>1</td>\n",
       "      <td>3</td>\n",
       "    </tr>\n",
       "  </tbody>\n",
       "</table>\n",
       "</div>"
      ],
      "text/plain": [
       "          XML1_ID         MA_THE_x                  HO_TEN_x  GIOI_TINH_x  \\\n",
       "3504   1681987164  TE160KT00000021  CB:TRƯƠNG THỊ KIM PHƯỢNG            1   \n",
       "10313  1638884579  TE191KT00048675                 LA TỰ HÀO            1   \n",
       "12078  1674827382  TE191KT00048675                 LA TỰ HÀO            1   \n",
       "\n",
       "       MA_DKBD_x  T_TONGCHI_x  T_BNCCT_x  T_BNTT_x   T_BHTT_x  MA_CSKCB_x  \\\n",
       "3504       60000    79,914.77       0.00      0.00  79,914.77       93002   \n",
       "10313      91001   103,097.77       0.00      0.00 103,097.77       93006   \n",
       "12078      91001   106,566.54       0.00      0.00 106,566.54       93006   \n",
       "\n",
       "       MA_LOAI_KCB_x  LOAI_BN  \n",
       "3504               1        3  \n",
       "10313              1        3  \n",
       "12078              1        3  "
      ]
     },
     "execution_count": 32,
     "metadata": {},
     "output_type": "execute_result"
    }
   ],
   "source": [
    "finish"
   ]
  }
 ],
 "metadata": {
  "kernelspec": {
   "display_name": "Python 3.9.4 64-bit",
   "language": "python",
   "name": "python3"
  },
  "language_info": {
   "codemirror_mode": {
    "name": "ipython",
    "version": 3
   },
   "file_extension": ".py",
   "mimetype": "text/x-python",
   "name": "python",
   "nbconvert_exporter": "python",
   "pygments_lexer": "ipython3",
   "version": "3.9.4"
  },
  "vscode": {
   "interpreter": {
    "hash": "52634da84371cba311ea128a5ea7cdc41ff074b781779e754b270ff9f8153cee"
   }
  }
 },
 "nbformat": 4,
 "nbformat_minor": 5
}
