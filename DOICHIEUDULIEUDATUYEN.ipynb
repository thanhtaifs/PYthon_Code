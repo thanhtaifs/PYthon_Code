{
 "cells": [
  {
   "cell_type": "code",
   "execution_count": 1,
   "source": [
    "import pandas as pd\r\n",
    "import glob\r\n",
    "import matplotlib.pyplot as plt\r\n",
    "import numpy as np\r\n",
    "import seaborn as sns"
   ],
   "outputs": [],
   "metadata": {
    "scrolled": true
   }
  },
  {
   "cell_type": "code",
   "execution_count": 2,
   "source": [
    "# Read All File Excel in Directory and merge all sheet in file excel to one Sheet\r\n",
    "file_list = glob.glob(r'D:\\SOLIEU\\DATUYENDEN2021\\QUY2\\DATA\\*.xlsx')\r\n",
    "files = []"
   ],
   "outputs": [],
   "metadata": {}
  },
  {
   "cell_type": "code",
   "execution_count": 148,
   "source": [
    "for filename in file_list:\r\n",
    "    df = pd.concat(pd.read_excel(filename, sheet_name=None), ignore_index=True)\r\n",
    "    files.append(df)\r\n",
    "frame = pd.concat(files, axis=0, ignore_index=True)"
   ],
   "outputs": [],
   "metadata": {}
  },
  {
   "cell_type": "code",
   "execution_count": 150,
   "source": [
    "data = frame[(frame['GIAM_DINH'] != 3) & (frame['LOAI_BN'] == 3)]"
   ],
   "outputs": [],
   "metadata": {
    "scrolled": true
   }
  },
  {
   "cell_type": "code",
   "execution_count": 154,
   "source": [
    "result = data[[\"XML1_ID\", \"MA_THE\",\"GIOI_TINH\",\"HO_TEN\",\"MA_DKBD\",\"T_TONGCHI\",\"T_BNCCT\",\"T_BNTT\",\"T_BHTT\",\"MA_CSKCB\",\"MA_LOAIKCB\",\"LOAI_BN\",\"T_DATUYEN\"]].copy()"
   ],
   "outputs": [],
   "metadata": {
    "scrolled": true
   }
  },
  {
   "cell_type": "code",
   "execution_count": 155,
   "source": [
    "result.describe()"
   ],
   "outputs": [
    {
     "output_type": "execute_result",
     "data": {
      "text/html": [
       "<div>\n",
       "<style scoped>\n",
       "    .dataframe tbody tr th:only-of-type {\n",
       "        vertical-align: middle;\n",
       "    }\n",
       "\n",
       "    .dataframe tbody tr th {\n",
       "        vertical-align: top;\n",
       "    }\n",
       "\n",
       "    .dataframe thead th {\n",
       "        text-align: right;\n",
       "    }\n",
       "</style>\n",
       "<table border=\"1\" class=\"dataframe\">\n",
       "  <thead>\n",
       "    <tr style=\"text-align: right;\">\n",
       "      <th></th>\n",
       "      <th>XML1_ID</th>\n",
       "      <th>GIOI_TINH</th>\n",
       "      <th>MA_DKBD</th>\n",
       "      <th>T_TONGCHI</th>\n",
       "      <th>T_BNCCT</th>\n",
       "      <th>T_BNTT</th>\n",
       "      <th>T_BHTT</th>\n",
       "      <th>MA_CSKCB</th>\n",
       "      <th>MA_LOAIKCB</th>\n",
       "      <th>LOAI_BN</th>\n",
       "      <th>T_DATUYEN</th>\n",
       "    </tr>\n",
       "  </thead>\n",
       "  <tbody>\n",
       "    <tr>\n",
       "      <th>count</th>\n",
       "      <td>37,611.00</td>\n",
       "      <td>37,611.00</td>\n",
       "      <td>37,611.00</td>\n",
       "      <td>37,611.00</td>\n",
       "      <td>37,611.00</td>\n",
       "      <td>37,611.00</td>\n",
       "      <td>37,611.00</td>\n",
       "      <td>37,611.00</td>\n",
       "      <td>37,611.00</td>\n",
       "      <td>37,611.00</td>\n",
       "      <td>37,611.00</td>\n",
       "    </tr>\n",
       "    <tr>\n",
       "      <th>mean</th>\n",
       "      <td>1,667,174,984.67</td>\n",
       "      <td>1.59</td>\n",
       "      <td>91,439.05</td>\n",
       "      <td>499,551.70</td>\n",
       "      <td>39,716.80</td>\n",
       "      <td>1,317.02</td>\n",
       "      <td>458,517.88</td>\n",
       "      <td>93,040.51</td>\n",
       "      <td>1.27</td>\n",
       "      <td>3.00</td>\n",
       "      <td>0.00</td>\n",
       "    </tr>\n",
       "    <tr>\n",
       "      <th>std</th>\n",
       "      <td>16,831,011.42</td>\n",
       "      <td>0.49</td>\n",
       "      <td>5,350.75</td>\n",
       "      <td>1,470,159.93</td>\n",
       "      <td>191,511.04</td>\n",
       "      <td>41,464.83</td>\n",
       "      <td>1,349,547.80</td>\n",
       "      <td>43.48</td>\n",
       "      <td>0.67</td>\n",
       "      <td>0.00</td>\n",
       "      <td>0.00</td>\n",
       "    </tr>\n",
       "    <tr>\n",
       "      <th>min</th>\n",
       "      <td>1,636,215,354.00</td>\n",
       "      <td>1.00</td>\n",
       "      <td>1,006.00</td>\n",
       "      <td>9,139.21</td>\n",
       "      <td>0.00</td>\n",
       "      <td>0.00</td>\n",
       "      <td>9,139.21</td>\n",
       "      <td>93,001.00</td>\n",
       "      <td>1.00</td>\n",
       "      <td>3.00</td>\n",
       "      <td>0.00</td>\n",
       "    </tr>\n",
       "    <tr>\n",
       "      <th>25%</th>\n",
       "      <td>1,653,198,913.00</td>\n",
       "      <td>1.00</td>\n",
       "      <td>91,710.00</td>\n",
       "      <td>74,496.49</td>\n",
       "      <td>0.00</td>\n",
       "      <td>0.00</td>\n",
       "      <td>74,496.49</td>\n",
       "      <td>93,005.00</td>\n",
       "      <td>1.00</td>\n",
       "      <td>3.00</td>\n",
       "      <td>0.00</td>\n",
       "    </tr>\n",
       "    <tr>\n",
       "      <th>50%</th>\n",
       "      <td>1,667,295,533.00</td>\n",
       "      <td>2.00</td>\n",
       "      <td>92,088.00</td>\n",
       "      <td>121,164.00</td>\n",
       "      <td>0.00</td>\n",
       "      <td>0.00</td>\n",
       "      <td>121,164.00</td>\n",
       "      <td>93,016.00</td>\n",
       "      <td>1.00</td>\n",
       "      <td>3.00</td>\n",
       "      <td>0.00</td>\n",
       "    </tr>\n",
       "    <tr>\n",
       "      <th>75%</th>\n",
       "      <td>1,681,809,604.50</td>\n",
       "      <td>2.00</td>\n",
       "      <td>94,075.00</td>\n",
       "      <td>220,690.33</td>\n",
       "      <td>0.00</td>\n",
       "      <td>0.00</td>\n",
       "      <td>210,985.00</td>\n",
       "      <td>93,102.00</td>\n",
       "      <td>1.00</td>\n",
       "      <td>3.00</td>\n",
       "      <td>0.00</td>\n",
       "    </tr>\n",
       "    <tr>\n",
       "      <th>max</th>\n",
       "      <td>1,703,411,717.00</td>\n",
       "      <td>2.00</td>\n",
       "      <td>98,489.00</td>\n",
       "      <td>79,185,071.00</td>\n",
       "      <td>8,181,925.53</td>\n",
       "      <td>4,797,000.00</td>\n",
       "      <td>79,185,071.00</td>\n",
       "      <td>93,107.00</td>\n",
       "      <td>3.00</td>\n",
       "      <td>3.00</td>\n",
       "      <td>0.00</td>\n",
       "    </tr>\n",
       "  </tbody>\n",
       "</table>\n",
       "</div>"
      ],
      "text/plain": [
       "               XML1_ID  GIOI_TINH   MA_DKBD     T_TONGCHI      T_BNCCT  \\\n",
       "count        37,611.00  37,611.00 37,611.00     37,611.00    37,611.00   \n",
       "mean  1,667,174,984.67       1.59 91,439.05    499,551.70    39,716.80   \n",
       "std      16,831,011.42       0.49  5,350.75  1,470,159.93   191,511.04   \n",
       "min   1,636,215,354.00       1.00  1,006.00      9,139.21         0.00   \n",
       "25%   1,653,198,913.00       1.00 91,710.00     74,496.49         0.00   \n",
       "50%   1,667,295,533.00       2.00 92,088.00    121,164.00         0.00   \n",
       "75%   1,681,809,604.50       2.00 94,075.00    220,690.33         0.00   \n",
       "max   1,703,411,717.00       2.00 98,489.00 79,185,071.00 8,181,925.53   \n",
       "\n",
       "            T_BNTT        T_BHTT  MA_CSKCB  MA_LOAIKCB   LOAI_BN  T_DATUYEN  \n",
       "count    37,611.00     37,611.00 37,611.00   37,611.00 37,611.00  37,611.00  \n",
       "mean      1,317.02    458,517.88 93,040.51        1.27      3.00       0.00  \n",
       "std      41,464.83  1,349,547.80     43.48        0.67      0.00       0.00  \n",
       "min           0.00      9,139.21 93,001.00        1.00      3.00       0.00  \n",
       "25%           0.00     74,496.49 93,005.00        1.00      3.00       0.00  \n",
       "50%           0.00    121,164.00 93,016.00        1.00      3.00       0.00  \n",
       "75%           0.00    210,985.00 93,102.00        1.00      3.00       0.00  \n",
       "max   4,797,000.00 79,185,071.00 93,107.00        3.00      3.00       0.00  "
      ]
     },
     "metadata": {},
     "execution_count": 155
    }
   ],
   "metadata": {
    "scrolled": true
   }
  },
  {
   "cell_type": "code",
   "execution_count": 156,
   "source": [
    "result.loc[result['MA_CSKCB'].astype(str) == '93001', 'MA_CHA'] = '93001'\r\n",
    "result.loc[(result['MA_CSKCB'].astype(str) == '93002') | (result['MA_CSKCB'].astype(str) == '93048') | (result['MA_CSKCB'].astype(str) == '93049') | (result['MA_CSKCB'].astype(str) == '93050') | (result['MA_CSKCB'].astype(str) == '93051') | (result['MA_CSKCB'].astype(str) == '93052')| (result['MA_CSKCB'].astype(str) == '93053') | (result['MA_CSKCB'].astype(str) == '93054') | (result['MA_CSKCB'].astype(str) == '93055') | (result['MA_CSKCB'].astype(str) == '93057')  | (result['MA_CSKCB'].astype(str) == '93080'), 'MA_CHA'] = '93002'\r\n",
    "result.loc[(result['MA_CSKCB'].astype(str) == '93003') | (result['MA_CSKCB'].astype(str) == '93019') | (result['MA_CSKCB'].astype(str) == '93058') | (result['MA_CSKCB'].astype(str) == '93059') | (result['MA_CSKCB'].astype(str) == '93060') | (result['MA_CSKCB'].astype(str) == '93061')| (result['MA_CSKCB'].astype(str) == '93092') | (result['MA_CSKCB'].astype(str) == '93094') | (result['MA_CSKCB'].astype(str) == '93097')  | (result['MA_CSKCB'].astype(str) == '93104'), 'MA_CHA'] = '93003'\r\n",
    "result.loc[(result['MA_CSKCB'].astype(str) == '93004') | (result['MA_CSKCB'].astype(str) == '93035') | (result['MA_CSKCB'].astype(str) == '93036') | (result['MA_CSKCB'].astype(str) == '93037') | (result['MA_CSKCB'].astype(str) == '93038') | (result['MA_CSKCB'].astype(str) == '93039')| (result['MA_CSKCB'].astype(str) == '93040') | (result['MA_CSKCB'].astype(str) == '93041') | (result['MA_CSKCB'].astype(str) == '93042')  | (result['MA_CSKCB'].astype(str) == '93043') | (result['MA_CSKCB'].astype(str) == '93044') | (result['MA_CSKCB'].astype(str) == '93045') | (result['MA_CSKCB'].astype(str) == '93046') | (result['MA_CSKCB'].astype(str) == '93047') | (result['MA_CSKCB'].astype(str) == '93089') | (result['MA_CSKCB'].astype(str) == '93090'), 'MA_CHA'] = '93004'\r\n",
    "result.loc[(result['MA_CSKCB'].astype(str) == '93005') | (result['MA_CSKCB'].astype(str) == '93026') | (result['MA_CSKCB'].astype(str) == '93027') | (result['MA_CSKCB'].astype(str) == '93028') | (result['MA_CSKCB'].astype(str) == '93029') | (result['MA_CSKCB'].astype(str) == '93030')| (result['MA_CSKCB'].astype(str) == '93031') | (result['MA_CSKCB'].astype(str) == '93032') | (result['MA_CSKCB'].astype(str) == '93033')  | (result['MA_CSKCB'].astype(str) == '93087'), 'MA_CHA'] = '93005'\r\n",
    "result.loc[(result['MA_CSKCB'].astype(str) == '93006') | (result['MA_CSKCB'].astype(str) == '93018') | (result['MA_CSKCB'].astype(str) == '93020') | (result['MA_CSKCB'].astype(str) == '93022') | (result['MA_CSKCB'].astype(str) == '93023') | (result['MA_CSKCB'].astype(str) == '93024')| (result['MA_CSKCB'].astype(str) == '93025') | (result['MA_CSKCB'].astype(str) == '93073') | (result['MA_CSKCB'].astype(str) == '93083')  | (result['MA_CSKCB'].astype(str) == '93084') | (result['MA_CSKCB'].astype(str) == '93086'), 'MA_CHA'] = '93006'\r\n",
    "result.loc[(result['MA_CSKCB'].astype(str) == '93109') | (result['MA_CSKCB'].astype(str) == '93009') | (result['MA_CSKCB'].astype(str) == '93010') | (result['MA_CSKCB'].astype(str) == '93011') | (result['MA_CSKCB'].astype(str) == '93012') | (result['MA_CSKCB'].astype(str) == '93013')| (result['MA_CSKCB'].astype(str) == '93014') | (result['MA_CSKCB'].astype(str) == '93015') | (result['MA_CSKCB'].astype(str) == '93017')  | (result['MA_CSKCB'].astype(str) == '93082'), 'MA_CHA'] = '93109'\r\n",
    "result.loc[(result['MA_CSKCB'].astype(str) == '93016') | (result['MA_CSKCB'].astype(str) == '93067') | (result['MA_CSKCB'].astype(str) == '93068') | (result['MA_CSKCB'].astype(str) == '93069') | (result['MA_CSKCB'].astype(str) == '93070') | (result['MA_CSKCB'].astype(str) == '93071')| (result['MA_CSKCB'].astype(str) == '93072'), 'MA_CHA'] = '93016'\r\n",
    "result.loc[(result['MA_CSKCB'].astype(str) == '93078') | (result['MA_CSKCB'].astype(str) == '93062') | (result['MA_CSKCB'].astype(str) == '93063') | (result['MA_CSKCB'].astype(str) == '93064') | (result['MA_CSKCB'].astype(str) == '93065') | (result['MA_CSKCB'].astype(str) == '93066')| (result['MA_CSKCB'].astype(str) == '93095')| (result['MA_CSKCB'].astype(str) == '93096')| (result['MA_CSKCB'].astype(str) == '93098'), 'MA_CHA'] = '93078'\r\n",
    "result.loc[result['MA_CSKCB'].astype(str) == '93007', 'MA_CHA'] = '93007'\r\n",
    "result.loc[result['MA_CSKCB'].astype(str) == '93008', 'MA_CHA'] = '93008'\r\n",
    "result.loc[result['MA_CSKCB'].astype(str) == '93100', 'MA_CHA'] = '93100'\r\n",
    "result.loc[result['MA_CSKCB'].astype(str) == '93101', 'MA_CHA'] = '93101'\r\n",
    "result.loc[result['MA_CSKCB'].astype(str) == '93102', 'MA_CHA'] = '93102'\r\n",
    "result.loc[result['MA_CSKCB'].astype(str) == '93103', 'MA_CHA'] = '93103'\r\n",
    "result.loc[result['MA_CSKCB'].astype(str) == '93105', 'MA_CHA'] = '93105'\r\n",
    "result.loc[result['MA_CSKCB'].astype(str) == '93106', 'MA_CHA'] = '93106'\r\n",
    "result.loc[result['MA_CSKCB'].astype(str) == '93107', 'MA_CHA'] = '93107'\r\n",
    "result.loc[result['MA_CSKCB'].astype(str) == '93110', 'MA_CHA'] = '93110'"
   ],
   "outputs": [],
   "metadata": {}
  },
  {
   "cell_type": "code",
   "execution_count": 131,
   "source": [
    "table = pd.pivot_table(result,index=['MA_CHA'],columns=['MA_LOAIKCB'],values=['T_BHTT'],aggfunc=['count','sum'], margins = True)"
   ],
   "outputs": [],
   "metadata": {
    "scrolled": true
   }
  },
  {
   "cell_type": "code",
   "execution_count": 132,
   "source": [
    "table = table.replace(np.nan, 0)"
   ],
   "outputs": [],
   "metadata": {}
  },
  {
   "cell_type": "code",
   "execution_count": 133,
   "source": [
    "# Export Data to Excel\r\n",
    "DataOutput = table\r\n",
    "DataOutput.to_excel(r'D:\\SOLIEU\\TONGHOPSOLIEUDATUYEN.xlsx')"
   ],
   "outputs": [],
   "metadata": {}
  },
  {
   "cell_type": "code",
   "execution_count": 134,
   "source": [
    "result_ref = pd.read_excel(r'D:\\SOLIEU\\DATUYENDEN2021\\QUY2\\QUYII2021-16082021\\93_Q22021_trong_ky_2021_chapnhan_tbao_den_0.xlsx')"
   ],
   "outputs": [],
   "metadata": {}
  },
  {
   "cell_type": "code",
   "execution_count": 135,
   "source": [
    "df_all = pd.merge(result, result_ref, left_on=['XML1_ID'] , right_on= ['ID_XML'] , how='left', indicator=True)"
   ],
   "outputs": [],
   "metadata": {
    "scrolled": true
   }
  },
  {
   "cell_type": "code",
   "execution_count": 136,
   "source": [
    "df_all = df_all[(df_all['_merge'] != \"both\")]"
   ],
   "outputs": [],
   "metadata": {}
  },
  {
   "cell_type": "code",
   "execution_count": 144,
   "source": [
    "finish = df_all[[\"XML1_ID\", \"MA_THE_x\",\"HO_TEN_x\",\"GIOI_TINH_x\",\"MA_DKBD_x\",\"T_TONGCHI_x\",\"T_BNCCT_x\",\"T_BNTT_x\",\"T_BHTT_x\",\"MA_CSKCB_x\",\"MA_LOAIKCB\",\"LOAI_BN\",\"T_DATUYEN_x\"]]"
   ],
   "outputs": [],
   "metadata": {
    "scrolled": true
   }
  },
  {
   "cell_type": "code",
   "execution_count": 145,
   "source": [
    "finish"
   ],
   "outputs": [
    {
     "output_type": "execute_result",
     "data": {
      "text/html": [
       "<div>\n",
       "<style scoped>\n",
       "    .dataframe tbody tr th:only-of-type {\n",
       "        vertical-align: middle;\n",
       "    }\n",
       "\n",
       "    .dataframe tbody tr th {\n",
       "        vertical-align: top;\n",
       "    }\n",
       "\n",
       "    .dataframe thead th {\n",
       "        text-align: right;\n",
       "    }\n",
       "</style>\n",
       "<table border=\"1\" class=\"dataframe\">\n",
       "  <thead>\n",
       "    <tr style=\"text-align: right;\">\n",
       "      <th></th>\n",
       "      <th>XML1_ID</th>\n",
       "      <th>MA_THE_x</th>\n",
       "      <th>HO_TEN_x</th>\n",
       "      <th>GIOI_TINH_x</th>\n",
       "      <th>MA_DKBD_x</th>\n",
       "      <th>MA_DKBD_x</th>\n",
       "      <th>T_TONGCHI_x</th>\n",
       "      <th>T_BNCCT_x</th>\n",
       "      <th>T_BNTT_x</th>\n",
       "      <th>T_BHTT_x</th>\n",
       "      <th>MA_CSKCB_x</th>\n",
       "      <th>MA_LOAIKCB</th>\n",
       "      <th>LOAI_BN</th>\n",
       "      <th>T_DATUYEN_x</th>\n",
       "    </tr>\n",
       "  </thead>\n",
       "  <tbody>\n",
       "    <tr>\n",
       "      <th>1542</th>\n",
       "      <td>1681987164</td>\n",
       "      <td>TE160KT00000021</td>\n",
       "      <td>CB:TRƯƠNG THỊ KIM PHƯỢNG</td>\n",
       "      <td>1</td>\n",
       "      <td>60000</td>\n",
       "      <td>60000</td>\n",
       "      <td>79,914.77</td>\n",
       "      <td>0.00</td>\n",
       "      <td>0.00</td>\n",
       "      <td>79,914.77</td>\n",
       "      <td>93002</td>\n",
       "      <td>1</td>\n",
       "      <td>3</td>\n",
       "      <td>0</td>\n",
       "    </tr>\n",
       "    <tr>\n",
       "      <th>8182</th>\n",
       "      <td>1638884579</td>\n",
       "      <td>TE191KT00048675</td>\n",
       "      <td>LA TỰ HÀO</td>\n",
       "      <td>1</td>\n",
       "      <td>91001</td>\n",
       "      <td>91001</td>\n",
       "      <td>103,097.77</td>\n",
       "      <td>0.00</td>\n",
       "      <td>0.00</td>\n",
       "      <td>103,097.77</td>\n",
       "      <td>93006</td>\n",
       "      <td>1</td>\n",
       "      <td>3</td>\n",
       "      <td>0</td>\n",
       "    </tr>\n",
       "    <tr>\n",
       "      <th>9822</th>\n",
       "      <td>1674827382</td>\n",
       "      <td>TE191KT00048675</td>\n",
       "      <td>LA TỰ HÀO</td>\n",
       "      <td>1</td>\n",
       "      <td>91001</td>\n",
       "      <td>91001</td>\n",
       "      <td>106,566.54</td>\n",
       "      <td>0.00</td>\n",
       "      <td>0.00</td>\n",
       "      <td>106,566.54</td>\n",
       "      <td>93006</td>\n",
       "      <td>1</td>\n",
       "      <td>3</td>\n",
       "      <td>0</td>\n",
       "    </tr>\n",
       "  </tbody>\n",
       "</table>\n",
       "</div>"
      ],
      "text/plain": [
       "         XML1_ID         MA_THE_x                  HO_TEN_x  GIOI_TINH_x  \\\n",
       "1542  1681987164  TE160KT00000021  CB:TRƯƠNG THỊ KIM PHƯỢNG            1   \n",
       "8182  1638884579  TE191KT00048675                 LA TỰ HÀO            1   \n",
       "9822  1674827382  TE191KT00048675                 LA TỰ HÀO            1   \n",
       "\n",
       "      MA_DKBD_x  MA_DKBD_x  T_TONGCHI_x  T_BNCCT_x  T_BNTT_x   T_BHTT_x  \\\n",
       "1542      60000      60000    79,914.77       0.00      0.00  79,914.77   \n",
       "8182      91001      91001   103,097.77       0.00      0.00 103,097.77   \n",
       "9822      91001      91001   106,566.54       0.00      0.00 106,566.54   \n",
       "\n",
       "      MA_CSKCB_x  MA_LOAIKCB  LOAI_BN  T_DATUYEN_x  \n",
       "1542       93002           1        3            0  \n",
       "8182       93006           1        3            0  \n",
       "9822       93006           1        3            0  "
      ]
     },
     "metadata": {},
     "execution_count": 145
    }
   ],
   "metadata": {}
  }
 ],
 "metadata": {
  "kernelspec": {
   "name": "python3",
   "display_name": "Python 3.9.4 64-bit"
  },
  "language_info": {
   "codemirror_mode": {
    "name": "ipython",
    "version": 3
   },
   "file_extension": ".py",
   "mimetype": "text/x-python",
   "name": "python",
   "nbconvert_exporter": "python",
   "pygments_lexer": "ipython3",
   "version": "3.9.4"
  },
  "interpreter": {
   "hash": "ee5cc6fef2d70a7e71ee3826687cbd150f18158e0b1eef11d4f4f92bb920e304"
  }
 },
 "nbformat": 4,
 "nbformat_minor": 5
}