{
 "cells": [
  {
   "cell_type": "code",
   "execution_count": null,
   "metadata": {},
   "outputs": [],
   "source": [
    "import pandas as pd\n",
    "import glob\n",
    "import matplotlib.pyplot as plt\n",
    "import numpy as np\n",
    "folder_excel = r'C:\\Users\\PC\\Desktop\\TAI_TANG_GIAM\\KET_QUA'\n",
    "FileName_Excel = \"KETQUA_XYLY_TANGGIAM_23092023.xlsx\"\n",
    "# Đọc file excel từ pandas\n",
    "result = pd.read_excel(folder_excel + \"\\\\\" + FileName_Excel , dtype=str) \n"
   ]
  },
  {
   "cell_type": "code",
   "execution_count": null,
   "metadata": {},
   "outputs": [],
   "source": [
    "list_colunms_name = ['STT', 'MA_NV','HOTEN', 'NGAY_VAO', 'LUYKE']\n",
    "for i in range(1, 32):\n",
    "   list_colunms_name.append(str(i))\n",
    "#list_colunms_name   "
   ]
  },
  {
   "cell_type": "code",
   "execution_count": null,
   "metadata": {},
   "outputs": [],
   "source": [
    "# Đổi tên cột theo vị trí\n",
    "# result.columns.values[2] = 'HO_TEN'\n",
    "# lấy ra 10 dòng đầu tren dataframe\n",
    "result.head(10)\n",
    "# cài đặt vị trí cho các cột\n",
    "index_colunms = [0,1,2,3,4,5,6,7,8,9,10,11,12,13,14,15,16,17,18,19,20,21,22,23,24,25,26,27,28,29,30,31,32,33,34,35]       \n",
    "# khử các cột giữ lại các cột theo vị trí index cho trước         \n",
    "df =  result.iloc[:,index_colunms] \n",
    "# đặt tên cho các cột trong dataframe theo vị trí\n",
    "df.columns = list_colunms_name"
   ]
  },
  {
   "cell_type": "code",
   "execution_count": null,
   "metadata": {},
   "outputs": [],
   "source": [
    "# bỏ các giá trị N/A trong 1 cột bất kỳ\n",
    "df.dropna(subset = ['STT'], inplace=True)"
   ]
  },
  {
   "cell_type": "code",
   "execution_count": null,
   "metadata": {},
   "outputs": [],
   "source": [
    "# Kỹ thuật chuyển đổi dữ liệu Unpivot table .........................................................\n",
    "finished_data = pd.melt(df, id_vars=['STT','MA_NV','HOTEN','NGAY_VAO','LUYKE'], var_name='NGAY_CONG', value_name='GIA_TRI')"
   ]
  },
  {
   "cell_type": "code",
   "execution_count": null,
   "metadata": {},
   "outputs": [],
   "source": [
    "# Xuất dữ liệu file excel từ pandas\n",
    "finished_data.to_excel(r'C:\\Users\\PC\\Desktop\\CHAMCONG_T3_2023\\KET_QUA.xlsx', index = False)"
   ]
  },
  {
   "cell_type": "code",
   "execution_count": null,
   "metadata": {},
   "outputs": [],
   "source": [
    "from datetime import timedelta\n",
    "# Kỹ thuật tăng giá trị chi tiết cho các dòng theo ngày từ dữ liệu từ ngày đến ngày.\n",
    "for index, row in result.iterrows():\n",
    "    #print(result.loc[index , 'SO_NGAY'])  \n",
    "    for i in range(0 , result.loc[index ,'SO_NGAY']): \n",
    "        if i > 0:\n",
    "            result.loc[index,'TU_NGAY'] = pd.to_datetime(result.loc[index,'TU_NGAY']) + timedelta(days = 1) \n",
    "        else:\n",
    "            result.loc[index,'TU_NGAY'] = pd.to_datetime(result.loc[index,'TU_NGAY'])\n",
    "        data = {'NHOM_HUONG': result.loc[index,'NHOM_HUONG'],\n",
    "                'MASO_BHXH': result.loc[index,'MASO_BHXH'],\n",
    "                'THE_BHYT': result.loc[index,'THE_BHYT'],\n",
    "                'HO_TEN': result.loc[index,'HO_TEN'],\n",
    "                'NGAY_SINH': result.loc[index,'NGAY_SINH'],\n",
    "                'TU_NGAY': result.loc[index,'TU_NGAY'],\n",
    "                'DEN_NGAY': result.loc[index,'DEN_NGAY'],\n",
    "                'SO_NGAY': result.loc[index,'SO_NGAY']\n",
    "                }\n",
    "        data_df = pd.DataFrame(data , index = False)\n",
    "        finish_data = finish_data.append(data_df)\n",
    "finish_data.to_excel(r'C:\\Users\\taitt.haugiang.VSS\\Desktop\\LACTY_TACH_NGAY\\KET_QUA.xlsx')\n"
   ]
  },
  {
   "cell_type": "code",
   "execution_count": null,
   "metadata": {},
   "outputs": [],
   "source": [
    "# hiển thị dữ liệu thống kê\n",
    "result.describe(include='all')"
   ]
  },
  {
   "cell_type": "code",
   "execution_count": 19,
   "metadata": {},
   "outputs": [],
   "source": [
    "import pandas as pd\n",
    "import glob\n",
    "import matplotlib.pyplot as plt\n",
    "import numpy as np\n",
    "folder_excel = r'D:\\DULIEU_DEMO_DF'\n",
    "FileName_Excel = \"DEMO.xlsx\"\n",
    "# Đọc file excel từ pandas\n",
    "result = pd.read_excel(folder_excel + \"\\\\\" + FileName_Excel , dtype=str) \n",
    "#print(result)\n",
    "# Sắp xếp dữ liệu của một dataframe with two colunm \n",
    "result.sort_values(by=['STT', 'NGAY'], ascending = False, inplace=True)\n",
    "# Xóa trùng với điều kiện chỉ định 1 cột bất kỳ với tên\n",
    "result = result.drop_duplicates(subset=['STT'], keep ='first')  \n"
   ]
  },
  {
   "cell_type": "code",
   "execution_count": null,
   "metadata": {},
   "outputs": [],
   "source": [
    "# Đọc toàn bộ file excel trong thư mục và nối dữ liệu xử lý\n",
    "import os\n",
    "folder_path = 'D:\\DULIEU_DEMO_DF'\n",
    "files = os.listdir(folder_path)    \n",
    "excel_files = [file for file in files if file.endswith('.xlsx') or file.endswith('.xls')]\n",
    "dfs = {}\n",
    "for file in excel_files:\n",
    "    file_path = os.path.join(folder_path, file)\n",
    "    df = pd.read_excel(file_path , dtype='str')\n",
    "    dfs[file] = df\n",
    "result_df = pd.concat(dfs, ignore_index=True)\n",
    "result_df"
   ]
  },
  {
   "cell_type": "code",
   "execution_count": null,
   "metadata": {},
   "outputs": [],
   "source": [
    "import pandas as pd\n",
    "import glob\n",
    "import matplotlib.pyplot as plt\n",
    "import numpy as np\n",
    "folder_excel = r'D:\\DULIEU_DEMO_DF'\n",
    "FileName_Excel = \"DEMO.xlsx\"\n",
    "# Đọc file excel từ pandas và ghép tất cả dữ liệu của sheet vào cùng 1 dữ liệu\n",
    "all_sheets = pd.read_excel(folder_excel + \"\\\\\" + FileName_Excel, sheet_name=None)\n",
    "combined_data = pd.concat(all_sheets.values(), ignore_index=True)\n",
    "combined_data"
   ]
  },
  {
   "cell_type": "code",
   "execution_count": 18,
   "metadata": {},
   "outputs": [],
   "source": [
    "# Xuất dữ liệu Dataframe ra thư mục\n",
    "output_file_path = r'D:\\DULIEU_DEMO_DF.xlsx'\n",
    "combined_data.to_excel(output_file_path ,  index =False)"
   ]
  },
  {
   "cell_type": "code",
   "execution_count": 20,
   "metadata": {},
   "outputs": [
    {
     "data": {
      "text/html": [
       "<div>\n",
       "<style scoped>\n",
       "    .dataframe tbody tr th:only-of-type {\n",
       "        vertical-align: middle;\n",
       "    }\n",
       "\n",
       "    .dataframe tbody tr th {\n",
       "        vertical-align: top;\n",
       "    }\n",
       "\n",
       "    .dataframe thead th {\n",
       "        text-align: right;\n",
       "    }\n",
       "</style>\n",
       "<table border=\"1\" class=\"dataframe\">\n",
       "  <thead>\n",
       "    <tr style=\"text-align: right;\">\n",
       "      <th></th>\n",
       "      <th>STT</th>\n",
       "      <th>HO_TEN</th>\n",
       "      <th>NGAY</th>\n",
       "    </tr>\n",
       "  </thead>\n",
       "  <tbody>\n",
       "    <tr>\n",
       "      <th>9</th>\n",
       "      <td>9</td>\n",
       "      <td>Nguyễn văn A3</td>\n",
       "      <td>01-01-1998</td>\n",
       "    </tr>\n",
       "    <tr>\n",
       "      <th>8</th>\n",
       "      <td>8</td>\n",
       "      <td>Nguyễn văn A2</td>\n",
       "      <td>01-01-1997</td>\n",
       "    </tr>\n",
       "    <tr>\n",
       "      <th>7</th>\n",
       "      <td>7</td>\n",
       "      <td>Nguyễn văn A1</td>\n",
       "      <td>01-01-1996</td>\n",
       "    </tr>\n",
       "    <tr>\n",
       "      <th>6</th>\n",
       "      <td>6</td>\n",
       "      <td>Nguyễn văn G</td>\n",
       "      <td>01-01-1995</td>\n",
       "    </tr>\n",
       "    <tr>\n",
       "      <th>5</th>\n",
       "      <td>5</td>\n",
       "      <td>Nguyễn văn F</td>\n",
       "      <td>01-01-1994</td>\n",
       "    </tr>\n",
       "    <tr>\n",
       "      <th>4</th>\n",
       "      <td>4</td>\n",
       "      <td>Nguyễn văn D</td>\n",
       "      <td>01-01-1993</td>\n",
       "    </tr>\n",
       "    <tr>\n",
       "      <th>3</th>\n",
       "      <td>3</td>\n",
       "      <td>Nguyễn văn C</td>\n",
       "      <td>01-01-1992</td>\n",
       "    </tr>\n",
       "    <tr>\n",
       "      <th>2</th>\n",
       "      <td>2</td>\n",
       "      <td>Nguyễn văn B</td>\n",
       "      <td>01-01-1991</td>\n",
       "    </tr>\n",
       "    <tr>\n",
       "      <th>10</th>\n",
       "      <td>10</td>\n",
       "      <td>Nguyễn văn A4</td>\n",
       "      <td>01-01-1999</td>\n",
       "    </tr>\n",
       "    <tr>\n",
       "      <th>0</th>\n",
       "      <td>1</td>\n",
       "      <td>Nguyễn văn A</td>\n",
       "      <td>01-01-1992</td>\n",
       "    </tr>\n",
       "  </tbody>\n",
       "</table>\n",
       "</div>"
      ],
      "text/plain": [
       "   STT         HO_TEN        NGAY\n",
       "9    9  Nguyễn văn A3  01-01-1998\n",
       "8    8  Nguyễn văn A2  01-01-1997\n",
       "7    7  Nguyễn văn A1  01-01-1996\n",
       "6    6   Nguyễn văn G  01-01-1995\n",
       "5    5   Nguyễn văn F  01-01-1994\n",
       "4    4   Nguyễn văn D  01-01-1993\n",
       "3    3   Nguyễn văn C  01-01-1992\n",
       "2    2   Nguyễn văn B  01-01-1991\n",
       "10  10  Nguyễn văn A4  01-01-1999\n",
       "0    1   Nguyễn văn A  01-01-1992"
      ]
     },
     "execution_count": 20,
     "metadata": {},
     "output_type": "execute_result"
    }
   ],
   "source": [
    "result"
   ]
  },
  {
   "cell_type": "code",
   "execution_count": null,
   "metadata": {},
   "outputs": [],
   "source": [
    "# Lọc dữ liệu trong Dataframe\n",
    "# data = result[(result['HO_TEN'] != 'Nguyễn văn A3')]"
   ]
  }
 ],
 "metadata": {
  "kernelspec": {
   "display_name": "Python 3",
   "language": "python",
   "name": "python3"
  },
  "language_info": {
   "codemirror_mode": {
    "name": "ipython",
    "version": 3
   },
   "file_extension": ".py",
   "mimetype": "text/x-python",
   "name": "python",
   "nbconvert_exporter": "python",
   "pygments_lexer": "ipython3",
   "version": "3.9.4"
  }
 },
 "nbformat": 4,
 "nbformat_minor": 2
}
