{
 "cells": [
  {
   "cell_type": "code",
   "execution_count": 1,
   "id": "3aae2c3e",
   "metadata": {},
   "outputs": [],
   "source": [
    "import pandas as pd\n",
    "import glob\n",
    "import matplotlib.pyplot as plt\n",
    "import numpy as np\n",
    "from datetime import datetime"
   ]
  },
  {
   "cell_type": "code",
   "execution_count": 2,
   "id": "9c7e3ea5",
   "metadata": {},
   "outputs": [],
   "source": [
    "def write_exception_to_file(exception):\n",
    "    error_message = datetime.now().strftime(\"%d/%m/%Y\")\n",
    "    error_message += f\" Type: {type(exception).__name__}\\n\"\n",
    "    error_message += f\" Value: {exception}\\n\"\n",
    "    error_message += \" Traceback:\\n\" \n",
    "    \n",
    "    with open('D\\error_log.txt', 'a') as file:\n",
    "        file.write(error_message)"
   ]
  },
  {
   "cell_type": "code",
   "execution_count": 3,
   "id": "6f5aaf4c",
   "metadata": {},
   "outputs": [],
   "source": [
    "try:\n",
    "    result = pd.read_excel(r\"D:\\SOLIEU\\CUOCTHIVSSID\\Data_Final_TRUONG\\DANHSACH_DUTHI_TINHDEN17102022_CHO1T.xlsx\")\n",
    "    data = result[['MATRUONG','EMAIL']]\n",
    "    data['GHEP'] = data.groupby(['MATRUONG'])['EMAIL'].transform(lambda x: ';'.join(x))\n",
    "    data.to_excel(r'D:\\SOLIEU\\CUOCTHIVSSID\\Data_Final_TRUONG\\DANHSACH_DUTHI_TINHDEN17102022_OK.xlsx',index = False ) # xuất dữ liệu ra tập tin Excel \n",
    "except Exception as e:\n",
    "    write_exception_to_file(e)"
   ]
  },
  {
   "cell_type": "code",
   "execution_count": 7,
   "id": "1ae5c35e",
   "metadata": {},
   "outputs": [
    {
     "name": "stdout",
     "output_type": "stream",
     "text": [
      "3\n"
     ]
    }
   ],
   "source": [
    "numbers = [1, 2, 3, 4, 5]\n",
    "tongcong = 0\n",
    "for num in numbers:    \n",
    "    if num > 2:\n",
    "        tongcong+=num   \n",
    "        \n",
    "print(tongcong)"
   ]
  },
  {
   "cell_type": "code",
   "execution_count": 7,
   "id": "76154942",
   "metadata": {},
   "outputs": [],
   "source": [
    "import sqlite3\n",
    "import pandas as pd\n",
    "db_path = r'E:\\Project\\TT_Application\\DB\\DOCUMENT_DB.db'         \n",
    "conn = sqlite3.connect(db_path)\n",
    "data = {\n",
    "    \"MA_HO_SO\": [\"04483/2023/093\", \"04483/2023/093\"],\n",
    "    \"MASO_BHXH\": [\"932086692\", \"932086699\"],\n",
    "    \"HO_TEN\": [\"932086692\", \"932086699\"],\n",
    "    \"MUC_LUONG\": [1, 1],\n",
    "    \"SO_THANG\": [1, 1],\n",
    "    \"TY_LE\": [1, 1],\n",
    "    \"TONG_TIEN_NOP\": [1, 1],\n",
    "    \"SO_BIEN_LAI\": [1, 1],\n",
    "    \"DON_VI\": [1, 1],\n",
    "    \"TRANG_THAI\": [1, 1],\n",
    "    \"LOG\": [1, 1],\n",
    "    \"NGAY_BIEN_LAI\": [1, 1],\n",
    "    \"NGAY_NHAN\": [1, 1],\n",
    "    \"MA_QT\": [1, 1],\n",
    "    \"NGAY_TAO\": [1, 1]\n",
    "}\n",
    "deltails_value_out = pd.DataFrame(data)\n",
    "\n",
    "# Insert the DataFrame into the database, ignoring UNIQUE constraint violations\n",
    "for _, row in deltails_value_out.iterrows():\n",
    "    try:\n",
    "        row.to_frame().T.to_sql('HO_SO_TNHS', conn, if_exists='append', index=False)\n",
    "    except sqlite3.IntegrityError:\n",
    "        pass\n",
    "\n"
   ]
  }
 ],
 "metadata": {
  "kernelspec": {
   "display_name": "Python 3.8.1 64-bit",
   "language": "python",
   "name": "python3"
  },
  "language_info": {
   "codemirror_mode": {
    "name": "ipython",
    "version": 3
   },
   "file_extension": ".py",
   "mimetype": "text/x-python",
   "name": "python",
   "nbconvert_exporter": "python",
   "pygments_lexer": "ipython3",
   "version": "3.9.4"
  },
  "vscode": {
   "interpreter": {
    "hash": "7f36d96b16a80fe67a5bd5bd0b1969df9712b396977a3dcf3499eedc03b10903"
   }
  }
 },
 "nbformat": 4,
 "nbformat_minor": 5
}
