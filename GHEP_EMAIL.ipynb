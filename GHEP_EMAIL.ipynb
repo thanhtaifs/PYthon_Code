{
 "cells": [
  {
   "cell_type": "code",
   "execution_count": 1,
   "id": "3aae2c3e",
   "metadata": {},
   "outputs": [],
   "source": [
    "import pandas as pd\n",
    "import glob\n",
    "import matplotlib.pyplot as plt\n",
    "import numpy as np"
   ]
  },
  {
   "cell_type": "code",
   "execution_count": 2,
   "id": "6f5aaf4c",
   "metadata": {},
   "outputs": [
    {
     "name": "stderr",
     "output_type": "stream",
     "text": [
      "C:\\Users\\TAITTH~1.VSS\\AppData\\Local\\Temp/ipykernel_12200/757893244.py:3: SettingWithCopyWarning: \n",
      "A value is trying to be set on a copy of a slice from a DataFrame.\n",
      "Try using .loc[row_indexer,col_indexer] = value instead\n",
      "\n",
      "See the caveats in the documentation: https://pandas.pydata.org/pandas-docs/stable/user_guide/indexing.html#returning-a-view-versus-a-copy\n",
      "  data['GHEP'] = data.groupby(['MATRUONG'])['EMAIL'].transform(lambda x: ';'.join(x))\n"
     ]
    }
   ],
   "source": [
    "result = pd.read_excel(r\"D:\\SOLIEU\\CUOCTHIVSSID\\Data_Final_TRUONG\\DANHSACH_DUTHI_TINHDEN17102022_CHOT.xlsx\")\n",
    "data = result[['MATRUONG','EMAIL']]\n",
    "data['GHEP'] = data.groupby(['MATRUONG'])['EMAIL'].transform(lambda x: ';'.join(x))\n",
    "data.to_excel(r'D:\\SOLIEU\\CUOCTHIVSSID\\Data_Final_TRUONG\\DANHSACH_DUTHI_TINHDEN17102022_OK.xlsx',index = False ) # xuất dữ liệu ra tập tin Excel "
   ]
  }
 ],
 "metadata": {
  "kernelspec": {
   "display_name": "Python 3.8.1 64-bit",
   "language": "python",
   "name": "python3"
  },
  "language_info": {
   "codemirror_mode": {
    "name": "ipython",
    "version": 3
   },
   "file_extension": ".py",
   "mimetype": "text/x-python",
   "name": "python",
   "nbconvert_exporter": "python",
   "pygments_lexer": "ipython3",
   "version": "3.8.1"
  },
  "vscode": {
   "interpreter": {
    "hash": "7f36d96b16a80fe67a5bd5bd0b1969df9712b396977a3dcf3499eedc03b10903"
   }
  }
 },
 "nbformat": 4,
 "nbformat_minor": 5
}
