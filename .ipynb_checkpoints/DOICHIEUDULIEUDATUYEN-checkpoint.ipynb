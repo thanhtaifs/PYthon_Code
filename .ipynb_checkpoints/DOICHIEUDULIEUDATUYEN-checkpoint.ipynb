{
 "cells": [
  {
   "cell_type": "code",
   "execution_count": 68,
   "id": "9200961a",
   "metadata": {
    "scrolled": true,
    "tags": []
   },
   "outputs": [],
   "source": [
    "import pandas as pd\n",
    "import glob\n",
    "import numpy as np\n",
    "\n",
    "# Read All File Excel in Directory and merge all sheet in file excel to one Sheet\n",
    "file_list = glob.glob(r'C:\\Users\\Lenovo\\Desktop\\Excel\\*.xlsx')\n",
    "files = []\n",
    "for filename in file_list:\n",
    "    df = pd.concat(pd.read_excel(filename, sheet_name=None), ignore_index=True)\n",
    "    files.append(df)\n",
    "frame = pd.concat(files, axis=0, ignore_index=True)"
   ]
  },
  {
   "cell_type": "code",
   "execution_count": 69,
   "id": "5fc08e10",
   "metadata": {
    "scrolled": true
   },
   "outputs": [],
   "source": [
    "data = frame.where((frame['GIAM_DINH'] != 3) & (frame['LOAI_BN'] == 3))"
   ]
  },
  {
   "cell_type": "code",
   "execution_count": 70,
   "id": "c18191e2-d7a3-4d54-bc01-eb613076a3d4",
   "metadata": {},
   "outputs": [
    {
     "name": "stdout",
     "output_type": "stream",
     "text": [
      "   STT  MA_CSKCB     SL  GIAM_DINH  LOAI_BN    T_BHTT  MA_LOAIKCB\n",
      "0    1     93001      1          1        3     50000           3\n",
      "1    2     93002      4          2        3   4234253           3\n",
      "2    3     93003      5          2        3    654765           3\n",
      "3    4     93102   2000          1        3   3243242           1\n",
      "4    5     93004   3000          2        3  54353432           1\n",
      "5    6     93007  40000          2        3  13111312           3\n",
      "6    7     93001     11          1        3     50000           3\n",
      "7    8     93002      2          0        3   4234253           3\n",
      "8    9     93003      4          1        3    654765           3\n"
     ]
    }
   ],
   "source": [
    "print(data)"
   ]
  },
  {
   "cell_type": "code",
   "execution_count": 71,
   "id": "eb9b203c",
   "metadata": {},
   "outputs": [],
   "source": [
    "data.loc[data['MA_CSKCB'] == 93001, 'MA_CHA'] = '93001'\n",
    "data.loc[(data['MA_CSKCB'] == 93002) | (data['MA_CSKCB'] == 93048) | (data['MA_CSKCB'] == 93049) | (data['MA_CSKCB'] == 93050) | (data['MA_CSKCB'] == 93051) | (data['MA_CSKCB'] == 93052)| (data['MA_CSKCB'] == 93053) | (data['MA_CSKCB'] == 93054) | (data['MA_CSKCB'] == 93055) | (data['MA_CSKCB'] == 93057)  | (data['MA_CSKCB'] == 93080), 'MA_CHA'] = '93002'\n",
    "data.loc[(data['MA_CSKCB'] == 93003) | (data['MA_CSKCB'] == 93019) | (data['MA_CSKCB'] == 93058) | (data['MA_CSKCB'] == 93059) | (data['MA_CSKCB'] == 93060) | (data['MA_CSKCB'] == 93061)| (data['MA_CSKCB'] == 93092) | (data['MA_CSKCB'] == 93094) | (data['MA_CSKCB'] == 93097)  | (data['MA_CSKCB'] == 93104), 'MA_CHA'] = '93003'\n",
    "data.loc[(data['MA_CSKCB'] == 93004) | (data['MA_CSKCB'] == 93035) | (data['MA_CSKCB'] == 93036) | (data['MA_CSKCB'] == 93037) | (data['MA_CSKCB'] == 93038) | (data['MA_CSKCB'] == 93039)| (data['MA_CSKCB'] == 93040) | (data['MA_CSKCB'] == 93041) | (data['MA_CSKCB'] == 93042)  | (data['MA_CSKCB'] == 93043) | (data['MA_CSKCB'] == 93044) | (data['MA_CSKCB'] == 93045) | (data['MA_CSKCB'] == 93046) | (data['MA_CSKCB'] == 93047) | (data['MA_CSKCB'] == 93089) | (data['MA_CSKCB'] == 93090), 'MA_CHA'] = '93004'\n",
    "data.loc[(data['MA_CSKCB'] == 93005) | (data['MA_CSKCB'] == 93026) | (data['MA_CSKCB'] == 93027) | (data['MA_CSKCB'] == 93028) | (data['MA_CSKCB'] == 93029) | (data['MA_CSKCB'] == 93030)| (data['MA_CSKCB'] == 93031) | (data['MA_CSKCB'] == 93032) | (data['MA_CSKCB'] == 93033)  | (data['MA_CSKCB'] == 93087), 'MA_CHA'] = '93005'\n",
    "data.loc[(data['MA_CSKCB'] == 93006) | (data['MA_CSKCB'] == 93018) | (data['MA_CSKCB'] == 93020) | (data['MA_CSKCB'] == 93022) | (data['MA_CSKCB'] == 93023) | (data['MA_CSKCB'] == 93024)| (data['MA_CSKCB'] == 93025) | (data['MA_CSKCB'] == 93073) | (data['MA_CSKCB'] == 93083)  | (data['MA_CSKCB'] == 93084) | (data['MA_CSKCB'] == 93086), 'MA_CHA'] = '93006'\n",
    "data.loc[(data['MA_CSKCB'] == 93007) | (data['MA_CSKCB'] == 93009) | (data['MA_CSKCB'] == 93010) | (data['MA_CSKCB'] == 93011) | (data['MA_CSKCB'] == 93012) | (data['MA_CSKCB'] == 93013)| (data['MA_CSKCB'] == 93014) | (data['MA_CSKCB'] == 93015) | (data['MA_CSKCB'] == 93017)  | (data['MA_CSKCB'] == 93082), 'MA_CHA'] = '93007'\n",
    "data.loc[(data['MA_CSKCB'] == 93016) | (data['MA_CSKCB'] == 93067) | (data['MA_CSKCB'] == 93068) | (data['MA_CSKCB'] == 93069) | (data['MA_CSKCB'] == 93070) | (data['MA_CSKCB'] == 93071)| (data['MA_CSKCB'] == 93072), 'MA_CHA'] = '93016'\n",
    "data.loc[(data['MA_CSKCB'] == 93078) | (data['MA_CSKCB'] == 93062) | (data['MA_CSKCB'] == 93063) | (data['MA_CSKCB'] == 93064) | (data['MA_CSKCB'] == 93065) | (data['MA_CSKCB'] == 93066)| (data['MA_CSKCB'] == 93095)| (data['MA_CSKCB'] == 93096)| (data['MA_CSKCB'] == 93098), 'MA_CHA'] = '93078'\n",
    "data.loc[data['MA_CSKCB'] == 93008, 'MA_CHA'] = '93008'\n",
    "data.loc[data['MA_CSKCB'] == 93100, 'MA_CHA'] = '93100'\n",
    "data.loc[data['MA_CSKCB'] == 93101, 'MA_CHA'] = '93101'\n",
    "data.loc[data['MA_CSKCB'] == 93102, 'MA_CHA'] = '93102'\n",
    "data.loc[data['MA_CSKCB'] == 93103, 'MA_CHA'] = '93103'\n",
    "data.loc[data['MA_CSKCB'] == 93105, 'MA_CHA'] = '93105'\n",
    "data.loc[data['MA_CSKCB'] == 93106, 'MA_CHA'] = '93106'\n",
    "data.loc[data['MA_CSKCB'] == 93107, 'MA_CHA'] = '93107'"
   ]
  },
  {
   "cell_type": "code",
   "execution_count": 72,
   "id": "98e38bad",
   "metadata": {
    "tags": []
   },
   "outputs": [],
   "source": [
    "table = pd.pivot_table(data,index=['MA_CHA'],columns=['MA_LOAIKCB'],values=['T_BHTT'],aggfunc=['count','sum'])\n"
   ]
  },
  {
   "cell_type": "code",
   "execution_count": 73,
   "id": "e5bf62da",
   "metadata": {},
   "outputs": [
    {
     "name": "stdout",
     "output_type": "stream",
     "text": [
      "            count              sum            \n",
      "           T_BHTT           T_BHTT            \n",
      "MA_LOAIKCB      1    3           1           3\n",
      "MA_CHA                                        \n",
      "93001         NaN  2.0         NaN    100000.0\n",
      "93002         NaN  2.0         NaN   8468506.0\n",
      "93003         NaN  2.0         NaN   1309530.0\n",
      "93004         1.0  NaN  54353432.0         NaN\n",
      "93007         NaN  1.0         NaN  13111312.0\n",
      "93102         1.0  NaN   3243242.0         NaN\n"
     ]
    }
   ],
   "source": [
    "print(table)"
   ]
  },
  {
   "cell_type": "code",
   "execution_count": 65,
   "id": "91077264",
   "metadata": {},
   "outputs": [],
   "source": [
    "# Export Data to Excel\n",
    "DataOutput = table.replace(np.nan,0)\n",
    "DataOutput.to_excel(r'C:\\Users\\Lenovo\\Desktop\\Excel\\Output\\Output1.xlsx',sheet_name='FileOutput')"
   ]
  }
 ],
 "metadata": {
  "kernelspec": {
   "display_name": "Python 3",
   "language": "python",
   "name": "python3"
  },
  "language_info": {
   "codemirror_mode": {
    "name": "ipython",
    "version": 3
   },
   "file_extension": ".py",
   "mimetype": "text/x-python",
   "name": "python",
   "nbconvert_exporter": "python",
   "pygments_lexer": "ipython3",
   "version": "3.9.4"
  }
 },
 "nbformat": 4,
 "nbformat_minor": 5
}
