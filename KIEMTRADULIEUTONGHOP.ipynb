{
 "cells": [
  {
   "cell_type": "code",
   "execution_count": 46,
   "metadata": {},
   "outputs": [],
   "source": [
    "import pandas as pd\n",
    "import glob\n",
    "import sqlite3\n",
    "\n",
    "# Read sqlite query results into a pandas DataFrame\n",
    "con = sqlite3.connect(r'D:\\DATACSDL\\CSDL\\2021\\bhyt7980a.db')\n",
    "# kiểm tra mã đăng ký ban đầu đối với bệnh viện chuyên khoa do hiện tại chưa có thẻ đăng ký ban đầu tại 2 CSCKB trên địa bàn tỉnh\n",
    "df = pd.read_sql_query(r'select MA_CSKCB,KY_QT,MA_BN,HO_TEN,NGAY_SINH,GIOI_TINH,MA_THE,MA_DKBD,GT_THE_TU,GT_THE_DEN,MA_BENH,TEN_BENH,MA_LYDO_VVIEN,NGAY_VAO,NGAY_RA,SO_NGAY_DTRI,T_TONGCHI,T_XN,T_CDHA,T_THUOC,T_MAU,T_TTPT,T_VTYT,T_DVKT_TYLE,T_THUOC_TYLE,T_VTYT_TYLE,T_KHAM,T_GIUONG,T_VCHUYEN,T_BNTT,T_BHTT,T_BNCCT,MA_KHOA,NAM_QT,QUY_QT,MA_LOAI_KCB' \n",
    "                       + ' from bhyt7980a' \n",
    "                       + ' WHERE KY_QT BETWEEN 202104 and 202104 and (MA_DKBD = \"93008\" OR MA_DKBD = \"93100\")', con)"
   ]
  },
  {
   "cell_type": "code",
   "execution_count": 47,
   "metadata": {},
   "outputs": [],
   "source": [
    "DataOutput = df"
   ]
  },
  {
   "cell_type": "code",
   "execution_count": 48,
   "metadata": {},
   "outputs": [],
   "source": [
    "# Export Data to Excel Error01\n",
    "DataOutput.to_excel(r'D:\\SOLIEU\\DataOutput\\DKBDSAI.xlsx',sheet_name='DKBDSAI')"
   ]
  },
  {
   "cell_type": "code",
   "execution_count": 49,
   "metadata": {},
   "outputs": [],
   "source": [
    "# Thanh toán chi phí vận chuyển không đúng quy định tại điều 26 của NĐ 146\n",
    "df = pd.read_sql_query(r'select MA_CSKCB,KY_QT,MA_BN,HO_TEN,NGAY_SINH,GIOI_TINH,MA_THE,MA_DKBD,GT_THE_TU,GT_THE_DEN,MA_BENH,TEN_BENH,MA_LYDO_VVIEN,NGAY_VAO,NGAY_RA,SO_NGAY_DTRI,T_TONGCHI,T_XN,T_CDHA,T_THUOC,T_MAU,T_TTPT,T_VTYT,T_DVKT_TYLE,T_THUOC_TYLE,T_VTYT_TYLE,T_KHAM,T_GIUONG,T_VCHUYEN,T_BNTT,T_BHTT,T_BNCCT,MA_KHOA,NAM_QT,QUY_QT,MA_LOAI_KCB' \n",
    "                       + ' from bhyt7980a' \n",
    "                       + ' WHERE KY_QT BETWEEN 202104 and 202104 and T_VCHUYEN > 0'\n",
    "                       + ' and (MA_CSKCB in (93001,93008,93100,93007) or (MA_LYDO_VVIEN != 2 AND MA_LOAI_KCB IN (1,2)))', con)"
   ]
  },
  {
   "cell_type": "code",
   "execution_count": 50,
   "metadata": {},
   "outputs": [],
   "source": [
    "DataOutput = df"
   ]
  },
  {
   "cell_type": "code",
   "execution_count": 51,
   "metadata": {},
   "outputs": [],
   "source": [
    "# Export Data to Excel Error02 \n",
    "DataOutput.to_excel(r'D:\\SOLIEU\\DataOutput\\TIENVCKHONGDUNGQUYDINH.xlsx',sheet_name='TIENVCKHONGDUNGQUYDINH')"
   ]
  },
  {
   "cell_type": "code",
   "execution_count": 52,
   "metadata": {},
   "outputs": [],
   "source": [
    "# Đăng ký KCB ban đầu tuyến tỉnh KCB (không cấp cứu) tại tuyến xã và PKĐK KV không phù hợp với khoản 4 điều 22 của Luật BHYT sửa đổi bổ sung\n",
    "df = pd.read_sql_query(r'select MA_CSKCB,KY_QT,MA_BN,HO_TEN,NGAY_SINH,GIOI_TINH,MA_THE,MA_DKBD,GT_THE_TU,GT_THE_DEN,MA_BENH,TEN_BENH,MA_LYDO_VVIEN,NGAY_VAO,NGAY_RA,SO_NGAY_DTRI,T_TONGCHI,T_XN,T_CDHA,T_THUOC,T_MAU,T_TTPT,T_VTYT,T_DVKT_TYLE,T_THUOC_TYLE,T_VTYT_TYLE,T_KHAM,T_GIUONG,T_VCHUYEN,T_BNTT,T_BHTT,T_BNCCT,MA_KHOA,NAM_QT,QUY_QT,MA_LOAI_KCB' \n",
    "                       + ' from bhyt7980a' \n",
    "                       + ' WHERE KY_QT BETWEEN 202104 and 202104'\n",
    "                       + ' and MA_CSKCB not in (93001,93002,93003,93004,93005,93006,93007,93008,93100,93102,93103,93016,93078)'\n",
    "                       + ' and MA_DKBD in (93001,93007) and MA_LYDO_VVIEN != 2', con)"
   ]
  },
  {
   "cell_type": "code",
   "execution_count": 53,
   "metadata": {},
   "outputs": [],
   "source": [
    "DataOutput = df"
   ]
  },
  {
   "cell_type": "code",
   "execution_count": 54,
   "metadata": {},
   "outputs": [],
   "source": [
    "# Export Data to Excel Error03\n",
    "DataOutput.to_excel(r'D:\\SOLIEU\\DataOutput\\TUYENTINHKCBTUYENXAKCC.xlsx',sheet_name='TUYENTINHKCBTUYENXAKCC')"
   ]
  },
  {
   "cell_type": "code",
   "execution_count": 55,
   "metadata": {},
   "outputs": [],
   "source": [
    "# Trùng ngoại trú với ngoại trú cùng 1 CSCKB có đợt KCB trùng chi phí\n",
    "df = pd.read_sql_query(r'WITH data_ngoai_tru AS ('\n",
    "                       + ' SELECT ID, MA_CSKCB,KY_QT,MA_BN,HO_TEN,NGAY_SINH,GIOI_TINH,MA_THE,MA_DKBD,GT_THE_TU,GT_THE_DEN,MA_BENH,TEN_BENH,MA_LYDO_VVIEN,NGAY_VAO,NGAY_RA,SO_NGAY_DTRI,T_TONGCHI,T_XN,T_CDHA,T_THUOC,T_MAU,T_TTPT,T_VTYT,T_DVKT_TYLE,T_THUOC_TYLE,T_VTYT_TYLE,T_KHAM,T_GIUONG,T_VCHUYEN,T_BNTT,T_BHTT,T_BNCCT,MA_KHOA,NAM_QT,QUY_QT,MA_LOAI_KCB'\n",
    "                       + ' FROM bhyt7980a'\n",
    "                       + ' WHERE MA_LOAI_KCB = 1 and KY_QT BETWEEN 202104 and 202104 ) ,'\n",
    "                       + ' data_noi_tru AS ('\n",
    "                       + ' SELECT  ID, MA_CSKCB,KY_QT,MA_BN,HO_TEN,NGAY_SINH,GIOI_TINH,MA_THE,MA_DKBD,GT_THE_TU,GT_THE_DEN,MA_BENH,TEN_BENH,MA_LYDO_VVIEN,NGAY_VAO,NGAY_RA,SO_NGAY_DTRI,T_TONGCHI,T_XN,T_CDHA,T_THUOC,T_MAU,T_TTPT,T_VTYT,T_DVKT_TYLE,T_THUOC_TYLE,T_VTYT_TYLE,T_KHAM,T_GIUONG,T_VCHUYEN,T_BNTT,T_BHTT,T_BNCCT,MA_KHOA,NAM_QT,QUY_QT,MA_LOAI_KCB'\n",
    "                       + ' FROM bhyt7980a'\n",
    "                       + ' WHERE MA_LOAI_KCB = 1 and KY_QT BETWEEN 202104 and 202104 )'\n",
    "                       + ' SELECT a.MA_CSKCB,a.KY_QT,a.MA_BN,a.HO_TEN,a.NGAY_SINH,a.GIOI_TINH,a.MA_THE,a.MA_DKBD,a.GT_THE_TU,a.GT_THE_DEN,a.MA_BENH,a.TEN_BENH,a.MA_LYDO_VVIEN,a.NGAY_VAO,a.NGAY_RA,a.SO_NGAY_DTRI,a.T_TONGCHI,a.T_BNTT,a.T_BHTT,a.T_BNCCT,a.MA_KHOA,a.NAM_QT,a.QUY_QT,a.MA_LOAI_KCB'\n",
    "                       + ' FROM data_ngoai_tru a'\n",
    "                       + ' INNER JOIN data_noi_tru b'\n",
    "                       + ' ON a.MA_THE = b.MA_THE AND a.MA_CSKCB = b.MA_CSKCB and Round(a.T_BHTT) = Round(b.T_BHTT)'\n",
    "                       + ' AND julianday(date(a.NGAY_VAO)) - julianday(date(b.NGAY_VAO)) = 0 and a.ID <> b.ID'\n",
    "                       + ' Order By a.MA_THE', con)"
   ]
  },
  {
   "cell_type": "code",
   "execution_count": 56,
   "metadata": {},
   "outputs": [],
   "source": [
    "DataOutput = df"
   ]
  },
  {
   "cell_type": "code",
   "execution_count": 57,
   "metadata": {},
   "outputs": [],
   "source": [
    "# Export Data to Excel\n",
    "DataOutput.to_excel(r'D:\\SOLIEU\\DataOutput\\TRUNGNGOAI-NGOAI.xlsx',sheet_name='TRUNGNGOAI-NGOAI')"
   ]
  },
  {
   "cell_type": "code",
   "execution_count": 58,
   "metadata": {},
   "outputs": [],
   "source": [
    "# Trùng ngoại trú với đợt đang điều trị nội trú cùng 1 CSCKB có đợt KCB trùng chi phí\n",
    "df = pd.read_sql_query(r'WITH data_ngoai_tru AS ('\n",
    "                       + ' SELECT ID, MA_CSKCB,KY_QT,MA_BN,HO_TEN,NGAY_SINH,GIOI_TINH,MA_THE,MA_DKBD,GT_THE_TU,GT_THE_DEN,MA_BENH,TEN_BENH,MA_LYDO_VVIEN,NGAY_VAO,NGAY_RA,SO_NGAY_DTRI,T_TONGCHI,T_XN,T_CDHA,T_THUOC,T_MAU,T_TTPT,T_VTYT,T_DVKT_TYLE,T_THUOC_TYLE,T_VTYT_TYLE,T_KHAM,T_GIUONG,T_VCHUYEN,T_BNTT,T_BHTT,T_BNCCT,MA_KHOA,NAM_QT,QUY_QT,MA_LOAI_KCB'\n",
    "                       + ' FROM bhyt7980a'\n",
    "                       + ' WHERE MA_LOAI_KCB = 1 and KY_QT BETWEEN 202104 and 202104 ) ,'\n",
    "                       + ' data_noi_tru AS ('\n",
    "                       + ' SELECT  ID, MA_CSKCB,KY_QT,MA_BN,HO_TEN,NGAY_SINH,GIOI_TINH,MA_THE,MA_DKBD,GT_THE_TU,GT_THE_DEN,MA_BENH,TEN_BENH,MA_LYDO_VVIEN,NGAY_VAO,NGAY_RA,SO_NGAY_DTRI,T_TONGCHI,T_XN,T_CDHA,T_THUOC,T_MAU,T_TTPT,T_VTYT,T_DVKT_TYLE,T_THUOC_TYLE,T_VTYT_TYLE,T_KHAM,T_GIUONG,T_VCHUYEN,T_BNTT,T_BHTT,T_BNCCT,MA_KHOA,NAM_QT,QUY_QT,MA_LOAI_KCB'\n",
    "                       + ' FROM bhyt7980a'\n",
    "                       + ' WHERE MA_LOAI_KCB = 3 and KY_QT BETWEEN 202104 and 202104 )'\n",
    "                       + ' SELECT a.MA_CSKCB as DTriNgoai,b.MA_CSKCB as DTriNoi,a.KY_QT,a.MA_BN,a.HO_TEN,a.NGAY_SINH,a.GIOI_TINH,a.MA_THE,a.MA_DKBD,a.GT_THE_TU,a.GT_THE_DEN,a.MA_BENH,b.MA_BENH,a.TEN_BENH,a.MA_LYDO_VVIEN,a.NGAY_VAO as NGAY_VAO_Kham_ngoai,a.NGAY_RA as NGAY_RA_Kham_ngoai,b.NGAY_VAO as NGAY_VAO_Kham_Noi,b.NGAY_RA as NGAY_RA_Kham_Noi,a.SO_NGAY_DTRI,a.T_TONGCHI,a.T_BNTT,a.T_BHTT,a.T_BNCCT,a.MA_KHOA,a.NAM_QT,a.QUY_QT,a.MA_LOAI_KCB'\n",
    "                       + ' FROM data_ngoai_tru a'\n",
    "                       + ' INNER JOIN data_noi_tru b'\n",
    "                       + ' ON a.MA_THE = b.MA_THE AND date(a.NGAY_VAO) > date(b.NGAY_VAO) and date(a.NGAY_RA) < date(b.NGAY_RA)'\n",
    "                       + ' Order By a.MA_THE', con)"
   ]
  },
  {
   "cell_type": "code",
   "execution_count": 59,
   "metadata": {},
   "outputs": [],
   "source": [
    "DataOutput = df"
   ]
  },
  {
   "cell_type": "code",
   "execution_count": 60,
   "metadata": {},
   "outputs": [],
   "source": [
    "# Export Data to Excel Error04\n",
    "DataOutput.to_excel(r'D:\\SOLIEU\\DataOutput\\TRUNGNGOAI-NOI.xlsx',sheet_name='TRUNGNGOAI-NOI')"
   ]
  },
  {
   "cell_type": "code",
   "execution_count": 61,
   "metadata": {},
   "outputs": [],
   "source": [
    "# Trùng liên viện cùng 1 CSCKB có đợt KCB trùng chi phí\n",
    "df = pd.read_sql_query(r'SELECT a.MA_CSKCB as CSKCB_A,b.MA_CSKCB as CSKCB_B,a.KY_QT,a.MA_BN,a.HO_TEN,a.NGAY_SINH,a.GIOI_TINH,a.MA_THE,a.MA_DKBD,a.GT_THE_TU,a.GT_THE_DEN,a.MA_BENH,b.MA_BENH,a.TEN_BENH,a.MA_LYDO_VVIEN,a.NGAY_VAO as NGAY_VAO_A,a.NGAY_RA as NGAY_RA_A,b.NGAY_VAO as NGAY_VAO_B,b.NGAY_RA as NGAY_RA_B,a.SO_NGAY_DTRI,a.T_TONGCHI,a.T_BNTT,a.T_BHTT,a.T_BNCCT,a.MA_KHOA,a.NAM_QT,a.QUY_QT,a.MA_LOAI_KCB'\n",
    "                       + ' FROM bhyt7980a a'\n",
    "                       + ' INNER JOIN bhyt7980a b'\n",
    "                       + ' ON a.MA_THE = b.MA_THE AND a.ID <> b.ID'\n",
    "                       + ' AND min(date(a.ngay_ra), date(b.ngay_ra)) > max(date(a.ngay_vao), date(b.ngay_vao))'\n",
    "                       + ' AND a.NAM_QT = b.NAM_QT WHERE a.KY_QT BETWEEN 202104 and 202104'\n",
    "                       + ' Order By a.MA_THE', con)"
   ]
  },
  {
   "cell_type": "code",
   "execution_count": 62,
   "metadata": {},
   "outputs": [],
   "source": [
    "DataOutput = df"
   ]
  },
  {
   "cell_type": "code",
   "execution_count": 63,
   "metadata": {},
   "outputs": [],
   "source": [
    "# Export Data to Excel Error05\n",
    "DataOutput.to_excel(r'D:\\SOLIEU\\DataOutput\\TRUNGLIENVIEN.xlsx',sheet_name='TRUNGLIENVIEN')"
   ]
  },
  {
   "cell_type": "code",
   "execution_count": 64,
   "metadata": {
    "scrolled": true
   },
   "outputs": [],
   "source": [
    "# Mã thẻ ngoài tỉnh tạo sai ĐKBĐ\n",
    "df = pd.read_sql_query(r'SELECT MA_CSKCB,KY_QT,MA_BN,HO_TEN,NGAY_SINH,GIOI_TINH,MA_THE,MA_DKBD,GT_THE_TU,GT_THE_DEN,MA_BENH,TEN_BENH,MA_LYDO_VVIEN,NGAY_VAO,NGAY_RA,SO_NGAY_DTRI,T_TONGCHI,T_XN,T_CDHA,T_THUOC,T_MAU,T_TTPT,T_VTYT,T_DVKT_TYLE,T_THUOC_TYLE,T_VTYT_TYLE,T_KHAM,T_GIUONG,T_VCHUYEN,T_BNTT,T_BHTT,T_BNCCT,MA_KHOA,NAM_QT,QUY_QT,MA_LOAI_KCB'\n",
    "                       + ' FROM bhyt7980a'                     \n",
    "                       + ' WHERE SUBSTR(MA_DKBD,3,3) =\"000\" and LOAI_BN = 3 and SUBSTR(MA_DKBD,1,2) = \"93\"'\n",
    "                       + ' AND KY_QT BETWEEN 202104 and 202104'\n",
    "                       + ' Order By MA_THE', con)"
   ]
  },
  {
   "cell_type": "code",
   "execution_count": 65,
   "metadata": {},
   "outputs": [],
   "source": [
    "DataOutput = df"
   ]
  },
  {
   "cell_type": "code",
   "execution_count": 66,
   "metadata": {},
   "outputs": [],
   "source": [
    "# Export Data to Excel Error06\n",
    "DataOutput.to_excel(r'D:\\SOLIEU\\DataOutput\\THENGOAITINHSAIDKBD.xlsx',sheet_name='THENGOAITINHSAIDKBD')"
   ]
  },
  {
   "cell_type": "code",
   "execution_count": 67,
   "metadata": {},
   "outputs": [],
   "source": [
    "df = pd.read_sql_query(r'select MA_CSKCB,KY_QT,MA_BN,HO_TEN,NGAY_SINH,GIOI_TINH,MA_THE,MA_DKBD,GT_THE_TU,GT_THE_DEN,MA_BENH,TEN_BENH,MA_LYDO_VVIEN,NGAY_VAO,NGAY_RA,SO_NGAY_DTRI,T_TONGCHI,T_XN,T_CDHA,T_THUOC,T_MAU,T_TTPT,T_VTYT,T_DVKT_TYLE,T_THUOC_TYLE,T_VTYT_TYLE,T_KHAM,T_GIUONG,T_VCHUYEN,T_BNTT,T_BHTT,T_BNCCT,MA_KHOA,NAM_QT,QUY_QT,MA_LOAI_KCB' \n",
    "                       + ' from bhyt7980a' \n",
    "                       + ' WHERE LOAI_BN = 3 AND MA_LYDO_VVIEN != 2'\n",
    "                       + ' AND MA_CSKCB not in (93001,93002,93003,93004,93005,93006,93007,93008,93100,93016,93078,93102,93103)'\n",
    "                       + ' AND SUBSTR(MA_DKBD ,1,2) != \"93\"'\n",
    "                       + ' AND KY_QT BETWEEN 202104 AND 202104', con)"
   ]
  },
  {
   "cell_type": "code",
   "execution_count": 68,
   "metadata": {},
   "outputs": [],
   "source": [
    "DataOutput = df"
   ]
  },
  {
   "cell_type": "code",
   "execution_count": 69,
   "metadata": {},
   "outputs": [],
   "source": [
    "def set_status(DataOutput):\n",
    "    if (DataOutput[\"MA_DKBD\"] == \"91707\") & (DataOutput[\"MA_CSKCB\"] == \"93013\") & (DataOutput[\"T_TONGCHI\"] < (1490000 * 0.15)):\n",
    "        return 'TRUE'\n",
    "    elif ((DataOutput[\"MA_DKBD\"] == \"91604\") | (DataOutput[\"MA_DKBD\"] == \"91606\") | (DataOutput[\"MA_DKBD\"] == \"91706\") | (DataOutput[\"MA_DKBD\"] == \"91707\"))  & (DataOutput[\"MA_CSKCB\"] == \"93014\") & (DataOutput[\"T_TONGCHI\"] < (1490000 * 0.15)):\n",
    "        return 'TRUE'\n",
    "    elif ((DataOutput[\"MA_DKBD\"] == \"91707\") | (DataOutput[\"MA_DKBD\"] == \"91709\"))  & (DataOutput[\"MA_CSKCB\"] == \"93017\") & (DataOutput[\"T_TONGCHI\"] < (1490000 * 0.15)):\n",
    "        return 'TRUE'\n",
    "    elif (DataOutput[\"MA_DKBD\"] == \"92084\")  & (DataOutput[\"MA_CSKCB\"] == \"93023\") & (DataOutput[\"T_TONGCHI\"] < (1490000 * 0.15)):\n",
    "        return 'TRUE'\n",
    "    elif (DataOutput[\"MA_DKBD\"] == \"92044\")  & (DataOutput[\"MA_CSKCB\"] == \"93025\") & (DataOutput[\"T_TONGCHI\"] < (1490000 * 0.15)):\n",
    "        return 'TRUE'\n",
    "    elif (DataOutput[\"MA_DKBD\"] == \"92045\")  & (DataOutput[\"MA_CSKCB\"] == \"93027\") & (DataOutput[\"T_TONGCHI\"] < (1490000 * 0.15)):\n",
    "        return 'TRUE'\n",
    "    elif (DataOutput[\"MA_DKBD\"] == \"92046\")  & (DataOutput[\"MA_CSKCB\"] == \"93028\") & (DataOutput[\"T_TONGCHI\"] < (1490000 * 0.15)):\n",
    "        return 'TRUE'\n",
    "    elif (DataOutput[\"MA_DKBD\"] == \"92047\")  & (DataOutput[\"MA_CSKCB\"] == \"93029\") & (DataOutput[\"T_TONGCHI\"] < (1490000 * 0.15)):\n",
    "        return 'TRUE'\n",
    "    elif ((DataOutput[\"MA_DKBD\"] == \"94081\") | (DataOutput[\"MA_DKBD\"] == \"94087\") | (DataOutput[\"MA_DKBD\"] == \"94100\") | (DataOutput[\"MA_DKBD\"] == \"94095\"))  & (DataOutput[\"MA_CSKCB\"] == \"93045\") & (DataOutput[\"T_TONGCHI\"] < (1490000 * 0.15)):\n",
    "        return 'TRUE'\n",
    "    elif ((DataOutput[\"MA_DKBD\"] == \"94081\") | (DataOutput[\"MA_DKBD\"] == \"94087\") | (DataOutput[\"MA_DKBD\"] == \"94100\") | (DataOutput[\"MA_DKBD\"] == \"94095\"))  & (DataOutput[\"MA_CSKCB\"] == \"93046\") & (DataOutput[\"T_TONGCHI\"] < (1490000 * 0.15)):\n",
    "        return 'TRUE'\n",
    "    elif (DataOutput[\"MA_DKBD\"] == \"91604\")  & (DataOutput[\"MA_CSKCB\"] == \"93055\") & (DataOutput[\"T_TONGCHI\"] < (1490000 * 0.15)):\n",
    "        return 'TRUE'\n",
    "    elif (DataOutput[\"MA_DKBD\"] == \"91605\")  & (DataOutput[\"MA_CSKCB\"] == \"93057\") & (DataOutput[\"T_TONGCHI\"] < (1490000 * 0.15)):\n",
    "        return 'TRUE'\n",
    "    elif (DataOutput[\"MA_DKBD\"] == \"94165\")  & (DataOutput[\"MA_CSKCB\"] == \"93061\") & (DataOutput[\"T_TONGCHI\"] < (1490000 * 0.15)):\n",
    "        return 'TRUE'\n",
    "    elif ((DataOutput[\"MA_DKBD\"] == \"95055\") | (DataOutput[\"MA_DKBD\"] == \"95054\"))  & (DataOutput[\"MA_CSKCB\"] == \"93065\") & (DataOutput[\"T_TONGCHI\"] < (1490000 * 0.15)):\n",
    "        return 'TRUE'\n",
    "    elif ((DataOutput[\"MA_DKBD\"] == \"94077\") | (DataOutput[\"MA_DKBD\"] == \"94081\"))  & (DataOutput[\"MA_CSKCB\"] == \"93069\") & (DataOutput[\"T_TONGCHI\"] < (1490000 * 0.15)):\n",
    "        return 'TRUE'\n",
    "    elif ((DataOutput[\"MA_DKBD\"] == \"94077\") | (DataOutput[\"MA_DKBD\"] == \"94081\"))  & (DataOutput[\"MA_CSKCB\"] == \"93071\") & (DataOutput[\"T_TONGCHI\"] < (1490000 * 0.15)):\n",
    "        return 'TRUE'\n",
    "    elif ((DataOutput[\"MA_DKBD\"] == \"94077\") | (DataOutput[\"MA_DKBD\"] == \"94078\"))  & (DataOutput[\"MA_CSKCB\"] == \"93072\") & (DataOutput[\"T_TONGCHI\"] < (1490000 * 0.15)):\n",
    "        return 'TRUE'\n",
    "    elif (DataOutput[\"MA_DKBD\"] == \"91707\")  & (DataOutput[\"MA_CSKCB\"] == \"93082\") & (DataOutput[\"T_TONGCHI\"] < (1490000 * 0.15)):\n",
    "        return 'TRUE'\n",
    "    elif (DataOutput[\"MA_DKBD\"] == \"92082\")  & (DataOutput[\"MA_CSKCB\"] == \"93086\") & (DataOutput[\"T_TONGCHI\"] < (1490000 * 0.15)):\n",
    "        return 'TRUE'\n",
    "    elif (DataOutput[\"MA_DKBD\"] == \"94078\")  & (DataOutput[\"MA_CSKCB\"] == \"93087\") & (DataOutput[\"T_TONGCHI\"] < (1490000 * 0.15)):\n",
    "        return 'TRUE'\n",
    "    elif (DataOutput[\"MA_DKBD\"] == \"94165\")  & (DataOutput[\"MA_CSKCB\"] == \"93094\") & (DataOutput[\"T_TONGCHI\"] < (1490000 * 0.15)):\n",
    "        return 'TRUE'\n",
    "    elif ((DataOutput[\"MA_DKBD\"] == \"95020\") | (DataOutput[\"MA_DKBD\"] == \"94166\"))  & (DataOutput[\"MA_CSKCB\"] == \"93095\") & (DataOutput[\"T_TONGCHI\"] < (1490000 * 0.15)):\n",
    "        return 'TRUE'\n",
    "    elif ((DataOutput[\"MA_DKBD\"] == \"91710\") | (DataOutput[\"MA_DKBD\"] == \"91711\"))  & (DataOutput[\"MA_CSKCB\"] == \"93096\") & (DataOutput[\"T_TONGCHI\"] < (1490000 * 0.15)):\n",
    "        return 'TRUE'\n",
    "    elif ((DataOutput[\"MA_DKBD\"] == \"95032\") | (DataOutput[\"MA_DKBD\"] == \"91710\"))  & (DataOutput[\"MA_CSKCB\"] == \"93098\") & (DataOutput[\"T_TONGCHI\"] < (1490000 * 0.15)):\n",
    "        return 'TRUE'\n",
    "    else:\n",
    "        return 'FALSE'\n",
    "\n",
    "DataOutput['GHICHU'] = DataOutput.apply(set_status, axis=1)\n",
    "# Tạo điều kiện lọc hồ sơ\n",
    "index_names = DataOutput[DataOutput['GHICHU'] == 'TRUE' ].index \n",
    "# thực hiện xoá các hồ sơ cso điều kiện là đúng\n",
    "DataOutput.drop(index_names, inplace = True)"
   ]
  },
  {
   "cell_type": "code",
   "execution_count": 70,
   "metadata": {},
   "outputs": [],
   "source": [
    "# Export Data to Excel Error07\n",
    "DataOutput.to_excel(r'D:\\SOLIEU\\DataOutput\\GIAPRANHKCC.xlsx',sheet_name='GIAPRANHKCC')"
   ]
  },
  {
   "cell_type": "code",
   "execution_count": 71,
   "metadata": {},
   "outputs": [],
   "source": [
    "# Trùng nội trú với ngoại trú cùng 1 CSCKB có đợt KCB liên tiếp trong cùng 1 ngày\n",
    "df = pd.read_sql_query(r'WITH data_ngoai_tru AS ('\n",
    "                       + ' SELECT ID, MA_CSKCB,KY_QT,MA_BN,HO_TEN,NGAY_SINH,GIOI_TINH,MA_THE,MA_DKBD,GT_THE_TU,GT_THE_DEN,MA_BENH,TEN_BENH,MA_LYDO_VVIEN,NGAY_VAO,NGAY_RA,SO_NGAY_DTRI,T_TONGCHI,T_XN,T_CDHA,T_THUOC,T_MAU,T_TTPT,T_VTYT,T_DVKT_TYLE,T_THUOC_TYLE,T_VTYT_TYLE,T_KHAM,T_GIUONG,T_VCHUYEN,T_BNTT,T_BHTT,T_BNCCT,MA_KHOA,NAM_QT,QUY_QT,MA_LOAI_KCB'\n",
    "                       + ' FROM bhyt7980a'\n",
    "                       + ' WHERE MA_LOAI_KCB = 3 and KY_QT BETWEEN 202104 and 202104 ) ,'\n",
    "                       + ' data_noi_tru AS ('\n",
    "                       + ' SELECT  ID, MA_CSKCB,KY_QT,MA_BN,HO_TEN,NGAY_SINH,GIOI_TINH,MA_THE,MA_DKBD,GT_THE_TU,GT_THE_DEN,MA_BENH,TEN_BENH,MA_LYDO_VVIEN,NGAY_VAO,NGAY_RA,SO_NGAY_DTRI,T_TONGCHI,T_XN,T_CDHA,T_THUOC,T_MAU,T_TTPT,T_VTYT,T_DVKT_TYLE,T_THUOC_TYLE,T_VTYT_TYLE,T_KHAM,T_GIUONG,T_VCHUYEN,T_BNTT,T_BHTT,T_BNCCT,MA_KHOA,NAM_QT,QUY_QT,MA_LOAI_KCB'\n",
    "                       + ' FROM bhyt7980a'\n",
    "                       + ' WHERE MA_LOAI_KCB = 1 and KY_QT BETWEEN 202104 and 202104 )'\n",
    "                       + ' SELECT a.MA_CSKCB as CSKCBA,b.MA_CSKCB as CSKCBB ,a.KY_QT,a.MA_BN,a.HO_TEN,a.NGAY_SINH,a.GIOI_TINH,a.MA_THE,a.MA_DKBD,a.GT_THE_TU,a.GT_THE_DEN,a.MA_BENH,b.MA_BENH as MA_BENH_B,a.TEN_BENH,a.MA_LYDO_VVIEN,a.NGAY_VAO,a.NGAY_RA,b.NGAY_VAO as NGAY_VAO_B,b.NGAY_RA as NGAY_RA_B,a.SO_NGAY_DTRI,a.T_TONGCHI,a.T_BNTT,a.T_BHTT,a.T_BNCCT,b.T_TONGCHI,b.T_BNTT,b.T_BHTT,a.T_BNCCT,a.MA_KHOA,a.NAM_QT,a.QUY_QT,a.MA_LOAI_KCB'\n",
    "                       + ' FROM data_ngoai_tru a'\n",
    "                       + ' INNER JOIN data_noi_tru b'\n",
    "                       + ' ON a.MA_THE = b.MA_THE AND a.MA_CSKCB = b.MA_CSKCB and SUBSTR(a.MA_BENH, 1, 1) == SUBSTR(b.MA_BENH, 1, 1)'\n",
    "                       + ' AND julianday(date(b.ngay_vao)) - julianday(date(a.ngay_ra)) = 0' \n",
    "                       + ' Order By a.MA_THE', con)"
   ]
  },
  {
   "cell_type": "code",
   "execution_count": 72,
   "metadata": {},
   "outputs": [],
   "source": [
    "DataOutput = df"
   ]
  },
  {
   "cell_type": "code",
   "execution_count": 73,
   "metadata": {},
   "outputs": [],
   "source": [
    "# Export Data to Excel Error08\n",
    "DataOutput.to_excel(r'D:\\SOLIEU\\DataOutput\\NOITRUNGOAITRULIENTIEP.xlsx',sheet_name='NOITRUNGOAITRULIENTIEP')"
   ]
  },
  {
   "cell_type": "code",
   "execution_count": 74,
   "metadata": {},
   "outputs": [],
   "source": [
    "# Trùng ngoại trú liên tiếp đợt sau là nội trú cùng 1 bệnh không đúng quy định tại khoản b điều 1 của CV627/BYT-BH\n",
    "df = pd.read_sql_query(r'WITH data_ngoai_tru AS ('\n",
    "                       + ' SELECT ID, MA_CSKCB,KY_QT,MA_BN,HO_TEN,NGAY_SINH,GIOI_TINH,MA_THE,MA_DKBD,GT_THE_TU,GT_THE_DEN,MA_BENH,TEN_BENH,MA_LYDO_VVIEN,NGAY_VAO,NGAY_RA,SO_NGAY_DTRI,T_TONGCHI,T_XN,T_CDHA,T_THUOC,T_MAU,T_TTPT,T_VTYT,T_DVKT_TYLE,T_THUOC_TYLE,T_VTYT_TYLE,T_KHAM,T_GIUONG,T_VCHUYEN,T_BNTT,T_BHTT,T_BNCCT,MA_KHOA,NAM_QT,QUY_QT,MA_LOAI_KCB'\n",
    "                       + ' FROM bhyt7980a'\n",
    "                       + ' WHERE MA_LOAI_KCB = 1 and KY_QT BETWEEN 202104 and 202104 ) ,'\n",
    "                       + ' data_noi_tru AS ('\n",
    "                       + ' SELECT  ID, MA_CSKCB,KY_QT,MA_BN,HO_TEN,NGAY_SINH,GIOI_TINH,MA_THE,MA_DKBD,GT_THE_TU,GT_THE_DEN,MA_BENH,TEN_BENH,MA_LYDO_VVIEN,NGAY_VAO,NGAY_RA,SO_NGAY_DTRI,T_TONGCHI,T_XN,T_CDHA,T_THUOC,T_MAU,T_TTPT,T_VTYT,T_DVKT_TYLE,T_THUOC_TYLE,T_VTYT_TYLE,T_KHAM,T_GIUONG,T_VCHUYEN,T_BNTT,T_BHTT,T_BNCCT,MA_KHOA,NAM_QT,QUY_QT,MA_LOAI_KCB'\n",
    "                       + ' FROM bhyt7980a'\n",
    "                       + ' WHERE MA_LOAI_KCB = 3 and KY_QT BETWEEN 202104 and 202104 )'\n",
    "                       + ' SELECT a.MA_CSKCB as CSKCBA,b.MA_CSKCB as CSKCBB ,a.KY_QT,a.MA_BN,a.HO_TEN,a.NGAY_SINH,a.GIOI_TINH,a.MA_THE,a.MA_DKBD,a.GT_THE_TU,a.GT_THE_DEN,a.MA_BENH,b.MA_BENH as MA_BENH_B,a.TEN_BENH,a.MA_LYDO_VVIEN,a.NGAY_VAO,a.NGAY_RA,b.NGAY_VAO as NGAY_VAO_B,b.NGAY_RA as NGAY_RA_B,a.SO_NGAY_DTRI,a.T_TONGCHI,a.T_BNTT,a.T_BHTT,a.T_BNCCT,b.T_TONGCHI,b.T_BNTT,b.T_BHTT,a.T_BNCCT,a.MA_KHOA,a.NAM_QT,a.QUY_QT,a.MA_LOAI_KCB'\n",
    "                       + ' FROM data_ngoai_tru a'\n",
    "                       + ' INNER JOIN data_noi_tru b'\n",
    "                       + ' ON a.MA_THE = b.MA_THE AND a.MA_CSKCB = b.MA_CSKCB and SUBSTR(a.MA_BENH, 1, 3) == SUBSTR(b.MA_BENH, 1, 3)'\n",
    "                       + ' AND julianday(date(b.ngay_vao)) - julianday(date(a.ngay_ra)) = 0' \n",
    "                       + ' Order By a.MA_THE', con)"
   ]
  },
  {
   "cell_type": "code",
   "execution_count": 75,
   "metadata": {},
   "outputs": [],
   "source": [
    "DataOutput = df"
   ]
  },
  {
   "cell_type": "code",
   "execution_count": 76,
   "metadata": {},
   "outputs": [],
   "source": [
    "# Export Data to Excel Error09\n",
    "DataOutput.to_excel(r'D:\\SOLIEU\\DataOutput\\NGOAITRUNOITRULIENTIEPCUNGBENH.xlsx',sheet_name='NGOAITRUNOITRULIENTIEPCUNGBENH')"
   ]
  },
  {
   "cell_type": "code",
   "execution_count": 77,
   "metadata": {},
   "outputs": [],
   "source": [
    "# Mã thẻ đa tuyến đến KCB tạo sai theo địa chỉ\n",
    "df = pd.read_sql_query(r'SELECT MA_CSKCB,KY_QT,MA_BN,HO_TEN,NGAY_SINH,GIOI_TINH,MA_THE,MA_DKBD,GT_THE_TU,GT_THE_DEN,MA_BENH,TEN_BENH,MA_LYDO_VVIEN,NGAY_VAO,NGAY_RA,SO_NGAY_DTRI,T_TONGCHI,T_XN,T_CDHA,T_THUOC,T_MAU,T_TTPT,T_VTYT,T_DVKT_TYLE,T_THUOC_TYLE,T_VTYT_TYLE,T_KHAM,T_GIUONG,T_VCHUYEN,T_BNTT,T_BHTT,T_BNCCT,MA_KHOA,NAM_QT,QUY_QT,MA_LOAI_KCB'\n",
    "                       + ' FROM bhyt7980a'                     \n",
    "                       + ' WHERE LOAI_BN = 3 and SUBSTR(MA_DKBD,1,2) != SUBSTR(MA_THE,4,2) '\n",
    "                       + ' AND SUBSTR(MA_THE,1,2) = \"TE\" AND SUBSTR(MA_THE,8,3) = \"000\" AND KY_QT BETWEEN 202104 and 202104'\n",
    "                       + ' Order By MA_THE', con)"
   ]
  },
  {
   "cell_type": "code",
   "execution_count": 78,
   "metadata": {},
   "outputs": [],
   "source": [
    "DataOutput = df"
   ]
  },
  {
   "cell_type": "code",
   "execution_count": 79,
   "metadata": {},
   "outputs": [],
   "source": [
    "# Export Data to Excel Error10\n",
    "DataOutput.to_excel(r'D:\\SOLIEU\\DataOutput\\THEDATUYENSAIDIACHI.xlsx',sheet_name='THEDATUYENSAIDIACHI')"
   ]
  },
  {
   "cell_type": "code",
   "execution_count": 80,
   "metadata": {},
   "outputs": [],
   "source": [
    "# Phát sinh chi phí sau đợt điều trị đã mã hóa dữ liệu là tử vong\n",
    "df = pd.read_sql_query(r'WITH data_nghingo AS ('\n",
    "                       + ' SELECT Ma_CSKCB,MA_THE,KET_QUA_DTRI,NGAY_VAO,NGAY_RA'\n",
    "                       + ' FROM bhyt7980a'\n",
    "                       + ' WHERE KET_QUA_DTRI = 5 )'                    \n",
    "                       + ' SELECT a.MA_CSKCB as CSKCBA,b.MA_CSKCB as CSKCBB,a.KET_QUA_DTRI as KET_QUA_DTRI_A, b.KET_QUA_DTRI as KET_QUA_DTRI_B, b.KY_QT,b.MA_BN,b.HO_TEN,b.NGAY_SINH,b.GIOI_TINH,b.MA_THE,b.MA_DKBD,b.GT_THE_TU,b.GT_THE_DEN,b.MA_BENH,b.MA_LYDO_VVIEN,a.NGAY_VAO,a.NGAY_RA,b.NGAY_VAO as NGAY_VAO_B,b.NGAY_RA as NGAY_RA_B,b.SO_NGAY_DTRI,b.T_TONGCHI,b.T_BNTT,b.T_BHTT,b.T_BNCCT,b.MA_KHOA,b.NAM_QT,b.QUY_QT,b.MA_LOAI_KCB'\n",
    "                       + ' FROM data_nghingo a'\n",
    "                       + ' INNER JOIN bhyt7980a b'\n",
    "                       + ' ON a.MA_THE = b.MA_THE AND a.NGAY_VAO < b.NGAY_VAO'\n",
    "                         ' WHERE KY_QT BETWEEN 202104 and 202104'  \n",
    "                       + ' Order By a.MA_THE', con)"
   ]
  },
  {
   "cell_type": "code",
   "execution_count": 81,
   "metadata": {},
   "outputs": [],
   "source": [
    "DataOutput = df"
   ]
  },
  {
   "cell_type": "code",
   "execution_count": 82,
   "metadata": {},
   "outputs": [],
   "source": [
    "# Export Data to Excel Error11\n",
    "DataOutput.to_excel(r'D:\\SOLIEU\\DataOutput\\CHIPHISAUDOTDIEUTRITUVONG.xlsx',sheet_name='CHIPHISAUDOTDIEUTRITUVONG')"
   ]
  },
  {
   "cell_type": "code",
   "execution_count": 83,
   "metadata": {},
   "outputs": [],
   "source": [
    "# Lọc điều kiện đăng ký ban đầu theo quy tắc đúng tuyến , trái tuyến , thông tuyến \n",
    "df = pd.read_sql_query(r'Select Case'\n",
    "                       + ' WHEN MA_CSKCB in (93001) THEN 93001'\n",
    "                       + ' WHEN MA_CSKCB in (93002,93048,93049,93050,93051,93052,93053,93054,93055,93057,93080) THEN 93002'\n",
    "                       + ' WHEN MA_CSKCB in (93003,93019,93058,93059,93060,93061,93092,93094,93097,93104) THEN 93003'\n",
    "                       + ' WHEN MA_CSKCB in (93004,93035,93036,93037,93038,93039,93040,93041,93042,93043,93044,93045,93046,93047,93089,93090) THEN 93004' \n",
    "                       + ' WHEN MA_CSKCB in (93005,93026,93027,93028,93029,93030,93031,93032,93033,93087) THEN 93005'\n",
    "                       + ' WHEN MA_CSKCB in (93006,93018,93020,93022,93023,93024,93025,93073,93083,93084,93086) THEN 93006'\n",
    "                       + ' WHEN MA_CSKCB in (93007,93009,93010,93011,93012,93013,93014,93015,93017,93082) THEN 93007'\n",
    "                       + ' WHEN MA_CSKCB in (93016,93067,93068,93069,93070,93071,93072) THEN 93016'\n",
    "                       + ' WHEN MA_CSKCB in (93078,93062,93063,93064,93065,93066,93095,93096,93098) THEN 93078'\n",
    "                       + ' WHEN MA_CSKCB in (93008) THEN 93008'\n",
    "                       + ' WHEN MA_CSKCB in (93100) THEN 93100'\n",
    "                       + ' WHEN MA_CSKCB in (93101) THEN 93101'\n",
    "                       + ' WHEN MA_CSKCB in (93102) THEN 93102'\n",
    "                       + ' WHEN MA_CSKCB in (93103) THEN 93103'\n",
    "                       + ' WHEN MA_CSKCB in (93105) THEN 93105'\n",
    "                       + ' WHEN MA_CSKCB in (93106) THEN 93106'\n",
    "                       + ' ELSE 93107'\n",
    "                       + ' END As \"Ma_Cha_KCB\",'\n",
    "                       + ' Case WHEN MA_DKBD in (93001) THEN 93001'\n",
    "                       + ' WHEN MA_DKBD in (93002,93048,93049,93050,93051,93052,93053,93054,93055,93057,93080) THEN 93002'\n",
    "                       + ' WHEN MA_DKBD in (93003,93019,93058,93059,93060,93061,93092,93094,93097,93104) THEN 93003'\n",
    "                       + ' WHEN MA_DKBD in (93004,93035,93036,93037,93038,93039,93040,93041,93042,93043,93044,93045,93046,93047,93089,93090) THEN 93004'\n",
    "                       + ' WHEN MA_DKBD in (93005,93026,93027,93028,93029,93030,93031,93032,93033,93087) THEN 93005'\n",
    "                       + ' WHEN MA_DKBD in (93006,93018,93020,93022,93023,93024,93025,93073,93083,93084,93086) THEN 93006'\n",
    "                       + ' WHEN MA_CSKCB in (93007,93009,93010,93011,93012,93013,93014,93015,93017,93082) THEN 93007'\n",
    "                       + ' WHEN MA_DKBD in (93016,93067,93068,93069,93070,93071,93072) THEN 93016'\n",
    "                       + ' WHEN MA_DKBD in (93078,93062,93063,93064,93065,93066,93095,93096,93098) THEN 93078'\n",
    "                       + ' WHEN MA_DKBD in (93008) THEN 93008'\n",
    "                       + ' WHEN MA_DKBD in (93100) THEN 93100'\n",
    "                       + ' WHEN MA_DKBD in (93101) THEN 93101'\n",
    "                       + ' WHEN MA_DKBD in (93102) THEN 93102'\n",
    "                       + ' WHEN MA_DKBD in (93103) THEN 93103'\n",
    "                       + ' WHEN MA_DKBD in (93105) THEN 93105'\n",
    "                       + ' WHEN MA_DKBD in (93106) THEN 93106'\n",
    "                       + ' WHEN MA_DKBD in (93107) THEN 93107'\n",
    "                       + ' ELSE MA_DKBD END As \"Ma_Cha_DKBD\",'\n",
    "                       + ' SUBSTR(MA_DKBD,1,2) as \"DKBD_KT\",'\n",
    "                       + ' MA_CSKCB,MA_DKBD,KY_QT,MA_BN,HO_TEN,NGAY_SINH,GIOI_TINH,MA_THE,GT_THE_TU,GT_THE_DEN,MA_NOI_CHUYEN,'\n",
    "                       + ' MA_BENH,TEN_BENH,MA_LYDO_VVIEN,NGAY_VAO,NGAY_RA,SO_NGAY_DTRI,T_TONGCHI,T_XN,T_CDHA,T_THUOC,T_MAU,T_TTPT,'\n",
    "                       + ' T_VTYT,T_DVKT_TYLE,T_THUOC_TYLE,T_VTYT_TYLE,T_KHAM,T_GIUONG,T_VCHUYEN,T_BNTT,T_BHTT,T_BNCCT,MA_KHOA,NAM_QT,'\n",
    "                       + ' QUY_QT,MA_LOAI_KCB'\n",
    "                       + ' from bhyt7980a'\n",
    "                       + ' WHERE MA_LYDO_VVIEN not in (2,3) AND MA_NOI_CHUYEN IS NULL AND KY_QT BETWEEN 202104 and 202104', con)"
   ]
  },
  {
   "cell_type": "code",
   "execution_count": 84,
   "metadata": {},
   "outputs": [],
   "source": [
    "DataOutput = df"
   ]
  },
  {
   "cell_type": "code",
   "execution_count": 85,
   "metadata": {},
   "outputs": [
    {
     "data": {
      "text/plain": [
       "30        94\n",
       "33        68\n",
       "48        86\n",
       "51        93\n",
       "58        79\n",
       "          ..\n",
       "115522    93\n",
       "115523    93\n",
       "115524    93\n",
       "115525    93\n",
       "115526    93\n",
       "Name: DKBD_KT, Length: 24031, dtype: object"
      ]
     },
     "execution_count": 85,
     "metadata": {},
     "output_type": "execute_result"
    }
   ],
   "source": [
    "def set_lydovv(DataOutput):\n",
    "    if ((DataOutput[\"MA_CSKCB\"] == DataOutput[\"MA_DKBD\"]) & (DataOutput[\"MA_LYDO_VVIEN\"] == 1)):\n",
    "        return 'TRUE'\n",
    "    elif ((DataOutput[\"DKBD_KT\"] == \"93\") & (DataOutput[\"MA_DKBD\"] != \"93001\") & (DataOutput[\"MA_DKBD\"] != \"93007\") & (DataOutput[\"MA_LYDO_VVIEN\"] == 4)):\n",
    "        return 'TRUE'\n",
    "    elif ((DataOutput[\"DKBD_KT\"] == \"93\") & ((DataOutput[\"MA_DKBD\"] == \"93001\") | (DataOutput[\"MA_DKBD\"] == \"93007\"))  & (DataOutput[\"MA_LYDO_VVIEN\"] == 3)):\n",
    "        return 'TRUE'\n",
    "    elif ((DataOutput[\"DKBD_KT\"] != \"93\") & (DataOutput[\"MA_LYDO_VVIEN\"] == 3)):\n",
    "        return 'TRUE'\n",
    "    else:\n",
    "        return 'FALSE'\n",
    "    \n",
    "\n",
    "DataOutput['GHICHU'] = DataOutput.apply(set_lydovv, axis=1)\n",
    "\n",
    "\n",
    "# Tạo điều kiện lọc hồ sơ\n",
    "index_names = DataOutput[DataOutput['GHICHU'] == 'TRUE'].index \n",
    "\n",
    "# thực hiện xoá các hồ sơ cso điều kiện là đúng\n",
    "DataOutput.drop(index_names, inplace = True)\n",
    "DataOutput.pop(\"Ma_Cha_KCB\")\n",
    "DataOutput.pop(\"Ma_Cha_DKBD\")\n",
    "DataOutput.pop(\"DKBD_KT\")"
   ]
  },
  {
   "cell_type": "code",
   "execution_count": 86,
   "metadata": {},
   "outputs": [],
   "source": [
    "# Export Data to Excel Error12\n",
    "DataOutput.to_excel(r'D:\\SOLIEU\\DataOutput\\CANHBAOLYDOVVSAI.xlsx',sheet_name='CANHBAOLYDOVVSAI')"
   ]
  }
 ],
 "metadata": {
  "kernelspec": {
   "display_name": "Python 3.9.4 64-bit",
   "language": "python",
   "name": "python3"
  },
  "language_info": {
   "codemirror_mode": {
    "name": "ipython",
    "version": 3
   },
   "file_extension": ".py",
   "mimetype": "text/x-python",
   "name": "python",
   "nbconvert_exporter": "python",
   "pygments_lexer": "ipython3",
   "version": "3.9.4"
  },
  "vscode": {
   "interpreter": {
    "hash": "52634da84371cba311ea128a5ea7cdc41ff074b781779e754b270ff9f8153cee"
   }
  }
 },
 "nbformat": 4,
 "nbformat_minor": 5
}
