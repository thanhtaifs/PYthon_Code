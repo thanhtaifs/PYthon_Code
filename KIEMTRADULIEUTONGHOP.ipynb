{
 "cells": [
  {
   "cell_type": "code",
   "execution_count": 46,
   "source": [
    "import pandas as pd\r\n",
    "import glob\r\n",
    "import sqlite3\r\n",
    "\r\n",
    "# Read sqlite query results into a pandas DataFrame\r\n",
    "con = sqlite3.connect(r'D:\\DATACSDL\\CSDL\\2021\\bhyt7980a.db')\r\n",
    "# kiểm tra mã đăng ký ban đầu đối với bệnh viện chuyên khoa do hiện tại chưa có thẻ đăng ký ban đầu tại 2 CSCKB trên địa bàn tỉnh\r\n",
    "df = pd.read_sql_query(r'select MA_CSKCB,KY_QT,MA_BN,HO_TEN,NGAY_SINH,GIOI_TINH,MA_THE,MA_DKBD,GT_THE_TU,GT_THE_DEN,MA_BENH,TEN_BENH,MA_LYDO_VVIEN,NGAY_VAO,NGAY_RA,SO_NGAY_DTRI,T_TONGCHI,T_XN,T_CDHA,T_THUOC,T_MAU,T_TTPT,T_VTYT,T_DVKT_TYLE,T_THUOC_TYLE,T_VTYT_TYLE,T_KHAM,T_GIUONG,T_VCHUYEN,T_BNTT,T_BHTT,T_BNCCT,MA_KHOA,NAM_QT,QUY_QT,MA_LOAI_KCB' \r\n",
    "                       + ' from bhyt7980a' \r\n",
    "                       + ' WHERE KY_QT BETWEEN 202104 and 202104 and (MA_DKBD = \"93008\" OR MA_DKBD = \"93100\")', con)"
   ],
   "outputs": [],
   "metadata": {}
  },
  {
   "cell_type": "code",
   "execution_count": 47,
   "source": [
    "DataOutput = df"
   ],
   "outputs": [],
   "metadata": {}
  },
  {
   "cell_type": "code",
   "execution_count": 48,
   "source": [
    "# Export Data to Excel Error01\r\n",
    "DataOutput.to_excel(r'D:\\SOLIEU\\DataOutput\\DKBDSAI.xlsx',sheet_name='DKBDSAI')"
   ],
   "outputs": [],
   "metadata": {}
  },
  {
   "cell_type": "code",
   "execution_count": 49,
   "source": [
    "# Thanh toán chi phí vận chuyển không đúng quy định tại điều 26 của NĐ 146\r\n",
    "df = pd.read_sql_query(r'select MA_CSKCB,KY_QT,MA_BN,HO_TEN,NGAY_SINH,GIOI_TINH,MA_THE,MA_DKBD,GT_THE_TU,GT_THE_DEN,MA_BENH,TEN_BENH,MA_LYDO_VVIEN,NGAY_VAO,NGAY_RA,SO_NGAY_DTRI,T_TONGCHI,T_XN,T_CDHA,T_THUOC,T_MAU,T_TTPT,T_VTYT,T_DVKT_TYLE,T_THUOC_TYLE,T_VTYT_TYLE,T_KHAM,T_GIUONG,T_VCHUYEN,T_BNTT,T_BHTT,T_BNCCT,MA_KHOA,NAM_QT,QUY_QT,MA_LOAI_KCB' \r\n",
    "                       + ' from bhyt7980a' \r\n",
    "                       + ' WHERE KY_QT BETWEEN 202104 and 202104 and T_VCHUYEN > 0'\r\n",
    "                       + ' and (MA_CSKCB in (93001,93008,93100,93007) or (MA_LYDO_VVIEN != 2 AND MA_LOAI_KCB IN (1,2)))', con)"
   ],
   "outputs": [],
   "metadata": {}
  },
  {
   "cell_type": "code",
   "execution_count": 50,
   "source": [
    "DataOutput = df"
   ],
   "outputs": [],
   "metadata": {}
  },
  {
   "cell_type": "code",
   "execution_count": 51,
   "source": [
    "# Export Data to Excel Error02 \r\n",
    "DataOutput.to_excel(r'D:\\SOLIEU\\DataOutput\\TIENVCKHONGDUNGQUYDINH.xlsx',sheet_name='TIENVCKHONGDUNGQUYDINH')"
   ],
   "outputs": [],
   "metadata": {}
  },
  {
   "cell_type": "code",
   "execution_count": 52,
   "source": [
    "# Đăng ký KCB ban đầu tuyến tỉnh KCB (không cấp cứu) tại tuyến xã và PKĐK KV không phù hợp với khoản 4 điều 22 của Luật BHYT sửa đổi bổ sung\r\n",
    "df = pd.read_sql_query(r'select MA_CSKCB,KY_QT,MA_BN,HO_TEN,NGAY_SINH,GIOI_TINH,MA_THE,MA_DKBD,GT_THE_TU,GT_THE_DEN,MA_BENH,TEN_BENH,MA_LYDO_VVIEN,NGAY_VAO,NGAY_RA,SO_NGAY_DTRI,T_TONGCHI,T_XN,T_CDHA,T_THUOC,T_MAU,T_TTPT,T_VTYT,T_DVKT_TYLE,T_THUOC_TYLE,T_VTYT_TYLE,T_KHAM,T_GIUONG,T_VCHUYEN,T_BNTT,T_BHTT,T_BNCCT,MA_KHOA,NAM_QT,QUY_QT,MA_LOAI_KCB' \r\n",
    "                       + ' from bhyt7980a' \r\n",
    "                       + ' WHERE KY_QT BETWEEN 202104 and 202104'\r\n",
    "                       + ' and MA_CSKCB not in (93001,93002,93003,93004,93005,93006,93007,93008,93100,93102,93103,93016,93078)'\r\n",
    "                       + ' and MA_DKBD in (93001,93007) and MA_LYDO_VVIEN != 2', con)"
   ],
   "outputs": [],
   "metadata": {}
  },
  {
   "cell_type": "code",
   "execution_count": 53,
   "source": [
    "DataOutput = df"
   ],
   "outputs": [],
   "metadata": {}
  },
  {
   "cell_type": "code",
   "execution_count": 54,
   "source": [
    "# Export Data to Excel Error03\r\n",
    "DataOutput.to_excel(r'D:\\SOLIEU\\DataOutput\\TUYENTINHKCBTUYENXAKCC.xlsx',sheet_name='TUYENTINHKCBTUYENXAKCC')"
   ],
   "outputs": [],
   "metadata": {}
  },
  {
   "cell_type": "code",
   "execution_count": 55,
   "source": [
    "# Trùng ngoại trú với ngoại trú cùng 1 CSCKB có đợt KCB trùng chi phí\r\n",
    "df = pd.read_sql_query(r'WITH data_ngoai_tru AS ('\r\n",
    "                       + ' SELECT ID, MA_CSKCB,KY_QT,MA_BN,HO_TEN,NGAY_SINH,GIOI_TINH,MA_THE,MA_DKBD,GT_THE_TU,GT_THE_DEN,MA_BENH,TEN_BENH,MA_LYDO_VVIEN,NGAY_VAO,NGAY_RA,SO_NGAY_DTRI,T_TONGCHI,T_XN,T_CDHA,T_THUOC,T_MAU,T_TTPT,T_VTYT,T_DVKT_TYLE,T_THUOC_TYLE,T_VTYT_TYLE,T_KHAM,T_GIUONG,T_VCHUYEN,T_BNTT,T_BHTT,T_BNCCT,MA_KHOA,NAM_QT,QUY_QT,MA_LOAI_KCB'\r\n",
    "                       + ' FROM bhyt7980a'\r\n",
    "                       + ' WHERE MA_LOAI_KCB = 1 and KY_QT BETWEEN 202104 and 202104 ) ,'\r\n",
    "                       + ' data_noi_tru AS ('\r\n",
    "                       + ' SELECT  ID, MA_CSKCB,KY_QT,MA_BN,HO_TEN,NGAY_SINH,GIOI_TINH,MA_THE,MA_DKBD,GT_THE_TU,GT_THE_DEN,MA_BENH,TEN_BENH,MA_LYDO_VVIEN,NGAY_VAO,NGAY_RA,SO_NGAY_DTRI,T_TONGCHI,T_XN,T_CDHA,T_THUOC,T_MAU,T_TTPT,T_VTYT,T_DVKT_TYLE,T_THUOC_TYLE,T_VTYT_TYLE,T_KHAM,T_GIUONG,T_VCHUYEN,T_BNTT,T_BHTT,T_BNCCT,MA_KHOA,NAM_QT,QUY_QT,MA_LOAI_KCB'\r\n",
    "                       + ' FROM bhyt7980a'\r\n",
    "                       + ' WHERE MA_LOAI_KCB = 1 and KY_QT BETWEEN 202104 and 202104 )'\r\n",
    "                       + ' SELECT a.MA_CSKCB,a.KY_QT,a.MA_BN,a.HO_TEN,a.NGAY_SINH,a.GIOI_TINH,a.MA_THE,a.MA_DKBD,a.GT_THE_TU,a.GT_THE_DEN,a.MA_BENH,a.TEN_BENH,a.MA_LYDO_VVIEN,a.NGAY_VAO,a.NGAY_RA,a.SO_NGAY_DTRI,a.T_TONGCHI,a.T_BNTT,a.T_BHTT,a.T_BNCCT,a.MA_KHOA,a.NAM_QT,a.QUY_QT,a.MA_LOAI_KCB'\r\n",
    "                       + ' FROM data_ngoai_tru a'\r\n",
    "                       + ' INNER JOIN data_noi_tru b'\r\n",
    "                       + ' ON a.MA_THE = b.MA_THE AND a.MA_CSKCB = b.MA_CSKCB and Round(a.T_BHTT) = Round(b.T_BHTT)'\r\n",
    "                       + ' AND julianday(date(a.NGAY_VAO)) - julianday(date(b.NGAY_VAO)) = 0 and a.ID <> b.ID'\r\n",
    "                       + ' Order By a.MA_THE', con)"
   ],
   "outputs": [],
   "metadata": {}
  },
  {
   "cell_type": "code",
   "execution_count": 56,
   "source": [
    "DataOutput = df"
   ],
   "outputs": [],
   "metadata": {}
  },
  {
   "cell_type": "code",
   "execution_count": 57,
   "source": [
    "# Export Data to Excel\r\n",
    "DataOutput.to_excel(r'D:\\SOLIEU\\DataOutput\\TRUNGNGOAI-NGOAI.xlsx',sheet_name='TRUNGNGOAI-NGOAI')"
   ],
   "outputs": [],
   "metadata": {}
  },
  {
   "cell_type": "code",
   "execution_count": 58,
   "source": [
    "# Trùng ngoại trú với đợt đang điều trị nội trú cùng 1 CSCKB có đợt KCB trùng chi phí\r\n",
    "df = pd.read_sql_query(r'WITH data_ngoai_tru AS ('\r\n",
    "                       + ' SELECT ID, MA_CSKCB,KY_QT,MA_BN,HO_TEN,NGAY_SINH,GIOI_TINH,MA_THE,MA_DKBD,GT_THE_TU,GT_THE_DEN,MA_BENH,TEN_BENH,MA_LYDO_VVIEN,NGAY_VAO,NGAY_RA,SO_NGAY_DTRI,T_TONGCHI,T_XN,T_CDHA,T_THUOC,T_MAU,T_TTPT,T_VTYT,T_DVKT_TYLE,T_THUOC_TYLE,T_VTYT_TYLE,T_KHAM,T_GIUONG,T_VCHUYEN,T_BNTT,T_BHTT,T_BNCCT,MA_KHOA,NAM_QT,QUY_QT,MA_LOAI_KCB'\r\n",
    "                       + ' FROM bhyt7980a'\r\n",
    "                       + ' WHERE MA_LOAI_KCB = 1 and KY_QT BETWEEN 202104 and 202104 ) ,'\r\n",
    "                       + ' data_noi_tru AS ('\r\n",
    "                       + ' SELECT  ID, MA_CSKCB,KY_QT,MA_BN,HO_TEN,NGAY_SINH,GIOI_TINH,MA_THE,MA_DKBD,GT_THE_TU,GT_THE_DEN,MA_BENH,TEN_BENH,MA_LYDO_VVIEN,NGAY_VAO,NGAY_RA,SO_NGAY_DTRI,T_TONGCHI,T_XN,T_CDHA,T_THUOC,T_MAU,T_TTPT,T_VTYT,T_DVKT_TYLE,T_THUOC_TYLE,T_VTYT_TYLE,T_KHAM,T_GIUONG,T_VCHUYEN,T_BNTT,T_BHTT,T_BNCCT,MA_KHOA,NAM_QT,QUY_QT,MA_LOAI_KCB'\r\n",
    "                       + ' FROM bhyt7980a'\r\n",
    "                       + ' WHERE MA_LOAI_KCB = 3 and KY_QT BETWEEN 202104 and 202104 )'\r\n",
    "                       + ' SELECT a.MA_CSKCB as DTriNgoai,b.MA_CSKCB as DTriNoi,a.KY_QT,a.MA_BN,a.HO_TEN,a.NGAY_SINH,a.GIOI_TINH,a.MA_THE,a.MA_DKBD,a.GT_THE_TU,a.GT_THE_DEN,a.MA_BENH,b.MA_BENH,a.TEN_BENH,a.MA_LYDO_VVIEN,a.NGAY_VAO as NGAY_VAO_Kham_ngoai,a.NGAY_RA as NGAY_RA_Kham_ngoai,b.NGAY_VAO as NGAY_VAO_Kham_Noi,b.NGAY_RA as NGAY_RA_Kham_Noi,a.SO_NGAY_DTRI,a.T_TONGCHI,a.T_BNTT,a.T_BHTT,a.T_BNCCT,a.MA_KHOA,a.NAM_QT,a.QUY_QT,a.MA_LOAI_KCB'\r\n",
    "                       + ' FROM data_ngoai_tru a'\r\n",
    "                       + ' INNER JOIN data_noi_tru b'\r\n",
    "                       + ' ON a.MA_THE = b.MA_THE AND date(a.NGAY_VAO) > date(b.NGAY_VAO) and date(a.NGAY_RA) < date(b.NGAY_RA)'\r\n",
    "                       + ' Order By a.MA_THE', con)"
   ],
   "outputs": [],
   "metadata": {}
  },
  {
   "cell_type": "code",
   "execution_count": 59,
   "source": [
    "DataOutput = df"
   ],
   "outputs": [],
   "metadata": {}
  },
  {
   "cell_type": "code",
   "execution_count": 60,
   "source": [
    "# Export Data to Excel Error04\r\n",
    "DataOutput.to_excel(r'D:\\SOLIEU\\DataOutput\\TRUNGNGOAI-NOI.xlsx',sheet_name='TRUNGNGOAI-NOI')"
   ],
   "outputs": [],
   "metadata": {}
  },
  {
   "cell_type": "code",
   "execution_count": 61,
   "source": [
    "# Trùng liên viện cùng 1 CSCKB có đợt KCB trùng chi phí\r\n",
    "df = pd.read_sql_query(r'SELECT a.MA_CSKCB as CSKCB_A,b.MA_CSKCB as CSKCB_B,a.KY_QT,a.MA_BN,a.HO_TEN,a.NGAY_SINH,a.GIOI_TINH,a.MA_THE,a.MA_DKBD,a.GT_THE_TU,a.GT_THE_DEN,a.MA_BENH,b.MA_BENH,a.TEN_BENH,a.MA_LYDO_VVIEN,a.NGAY_VAO as NGAY_VAO_A,a.NGAY_RA as NGAY_RA_A,b.NGAY_VAO as NGAY_VAO_B,b.NGAY_RA as NGAY_RA_B,a.SO_NGAY_DTRI,a.T_TONGCHI,a.T_BNTT,a.T_BHTT,a.T_BNCCT,a.MA_KHOA,a.NAM_QT,a.QUY_QT,a.MA_LOAI_KCB'\r\n",
    "                       + ' FROM bhyt7980a a'\r\n",
    "                       + ' INNER JOIN bhyt7980a b'\r\n",
    "                       + ' ON a.MA_THE = b.MA_THE AND a.ID <> b.ID'\r\n",
    "                       + ' AND min(date(a.ngay_ra), date(b.ngay_ra)) > max(date(a.ngay_vao), date(b.ngay_vao))'\r\n",
    "                       + ' AND a.NAM_QT = b.NAM_QT WHERE a.KY_QT BETWEEN 202104 and 202104'\r\n",
    "                       + ' Order By a.MA_THE', con)"
   ],
   "outputs": [],
   "metadata": {}
  },
  {
   "cell_type": "code",
   "execution_count": 62,
   "source": [
    "DataOutput = df"
   ],
   "outputs": [],
   "metadata": {}
  },
  {
   "cell_type": "code",
   "execution_count": 63,
   "source": [
    "# Export Data to Excel Error05\r\n",
    "DataOutput.to_excel(r'D:\\SOLIEU\\DataOutput\\TRUNGLIENVIEN.xlsx',sheet_name='TRUNGLIENVIEN')"
   ],
   "outputs": [],
   "metadata": {}
  },
  {
   "cell_type": "code",
   "execution_count": 64,
   "source": [
    "# Mã thẻ ngoài tỉnh tạo sai ĐKBĐ\r\n",
    "df = pd.read_sql_query(r'SELECT MA_CSKCB,KY_QT,MA_BN,HO_TEN,NGAY_SINH,GIOI_TINH,MA_THE,MA_DKBD,GT_THE_TU,GT_THE_DEN,MA_BENH,TEN_BENH,MA_LYDO_VVIEN,NGAY_VAO,NGAY_RA,SO_NGAY_DTRI,T_TONGCHI,T_XN,T_CDHA,T_THUOC,T_MAU,T_TTPT,T_VTYT,T_DVKT_TYLE,T_THUOC_TYLE,T_VTYT_TYLE,T_KHAM,T_GIUONG,T_VCHUYEN,T_BNTT,T_BHTT,T_BNCCT,MA_KHOA,NAM_QT,QUY_QT,MA_LOAI_KCB'\r\n",
    "                       + ' FROM bhyt7980a'                     \r\n",
    "                       + ' WHERE SUBSTR(MA_DKBD,3,3) =\"000\" and LOAI_BN = 3 and SUBSTR(MA_DKBD,1,2) = \"93\"'\r\n",
    "                       + ' AND KY_QT BETWEEN 202104 and 202104'\r\n",
    "                       + ' Order By MA_THE', con)"
   ],
   "outputs": [],
   "metadata": {
    "scrolled": true
   }
  },
  {
   "cell_type": "code",
   "execution_count": 65,
   "source": [
    "DataOutput = df"
   ],
   "outputs": [],
   "metadata": {}
  },
  {
   "cell_type": "code",
   "execution_count": 66,
   "source": [
    "# Export Data to Excel Error06\r\n",
    "DataOutput.to_excel(r'D:\\SOLIEU\\DataOutput\\THENGOAITINHSAIDKBD.xlsx',sheet_name='THENGOAITINHSAIDKBD')"
   ],
   "outputs": [],
   "metadata": {}
  },
  {
   "cell_type": "code",
   "execution_count": 67,
   "source": [
    "df = pd.read_sql_query(r'select MA_CSKCB,KY_QT,MA_BN,HO_TEN,NGAY_SINH,GIOI_TINH,MA_THE,MA_DKBD,GT_THE_TU,GT_THE_DEN,MA_BENH,TEN_BENH,MA_LYDO_VVIEN,NGAY_VAO,NGAY_RA,SO_NGAY_DTRI,T_TONGCHI,T_XN,T_CDHA,T_THUOC,T_MAU,T_TTPT,T_VTYT,T_DVKT_TYLE,T_THUOC_TYLE,T_VTYT_TYLE,T_KHAM,T_GIUONG,T_VCHUYEN,T_BNTT,T_BHTT,T_BNCCT,MA_KHOA,NAM_QT,QUY_QT,MA_LOAI_KCB' \r\n",
    "                       + ' from bhyt7980a' \r\n",
    "                       + ' WHERE LOAI_BN = 3 AND MA_LYDO_VVIEN != 2'\r\n",
    "                       + ' AND MA_CSKCB not in (93001,93002,93003,93004,93005,93006,93007,93008,93100,93016,93078,93102,93103)'\r\n",
    "                       + ' AND SUBSTR(MA_DKBD ,1,2) != \"93\"'\r\n",
    "                       + ' AND KY_QT BETWEEN 202104 AND 202104', con)"
   ],
   "outputs": [],
   "metadata": {}
  },
  {
   "cell_type": "code",
   "execution_count": 68,
   "source": [
    "DataOutput = df"
   ],
   "outputs": [],
   "metadata": {}
  },
  {
   "cell_type": "code",
   "execution_count": 69,
   "source": [
    "def set_status(DataOutput):\r\n",
    "    if (DataOutput[\"MA_DKBD\"] == \"91707\") & (DataOutput[\"MA_CSKCB\"] == \"93013\") & (DataOutput[\"T_TONGCHI\"] < (1490000 * 0.15)):\r\n",
    "        return 'TRUE'\r\n",
    "    elif ((DataOutput[\"MA_DKBD\"] == \"91604\") | (DataOutput[\"MA_DKBD\"] == \"91606\") | (DataOutput[\"MA_DKBD\"] == \"91706\") | (DataOutput[\"MA_DKBD\"] == \"91707\"))  & (DataOutput[\"MA_CSKCB\"] == \"93014\") & (DataOutput[\"T_TONGCHI\"] < (1490000 * 0.15)):\r\n",
    "        return 'TRUE'\r\n",
    "    elif ((DataOutput[\"MA_DKBD\"] == \"91707\") | (DataOutput[\"MA_DKBD\"] == \"91709\"))  & (DataOutput[\"MA_CSKCB\"] == \"93017\") & (DataOutput[\"T_TONGCHI\"] < (1490000 * 0.15)):\r\n",
    "        return 'TRUE'\r\n",
    "    elif (DataOutput[\"MA_DKBD\"] == \"92084\")  & (DataOutput[\"MA_CSKCB\"] == \"93023\") & (DataOutput[\"T_TONGCHI\"] < (1490000 * 0.15)):\r\n",
    "        return 'TRUE'\r\n",
    "    elif (DataOutput[\"MA_DKBD\"] == \"92044\")  & (DataOutput[\"MA_CSKCB\"] == \"93025\") & (DataOutput[\"T_TONGCHI\"] < (1490000 * 0.15)):\r\n",
    "        return 'TRUE'\r\n",
    "    elif (DataOutput[\"MA_DKBD\"] == \"92045\")  & (DataOutput[\"MA_CSKCB\"] == \"93027\") & (DataOutput[\"T_TONGCHI\"] < (1490000 * 0.15)):\r\n",
    "        return 'TRUE'\r\n",
    "    elif (DataOutput[\"MA_DKBD\"] == \"92046\")  & (DataOutput[\"MA_CSKCB\"] == \"93028\") & (DataOutput[\"T_TONGCHI\"] < (1490000 * 0.15)):\r\n",
    "        return 'TRUE'\r\n",
    "    elif (DataOutput[\"MA_DKBD\"] == \"92047\")  & (DataOutput[\"MA_CSKCB\"] == \"93029\") & (DataOutput[\"T_TONGCHI\"] < (1490000 * 0.15)):\r\n",
    "        return 'TRUE'\r\n",
    "    elif ((DataOutput[\"MA_DKBD\"] == \"94081\") | (DataOutput[\"MA_DKBD\"] == \"94087\") | (DataOutput[\"MA_DKBD\"] == \"94100\") | (DataOutput[\"MA_DKBD\"] == \"94095\"))  & (DataOutput[\"MA_CSKCB\"] == \"93045\") & (DataOutput[\"T_TONGCHI\"] < (1490000 * 0.15)):\r\n",
    "        return 'TRUE'\r\n",
    "    elif ((DataOutput[\"MA_DKBD\"] == \"94081\") | (DataOutput[\"MA_DKBD\"] == \"94087\") | (DataOutput[\"MA_DKBD\"] == \"94100\") | (DataOutput[\"MA_DKBD\"] == \"94095\"))  & (DataOutput[\"MA_CSKCB\"] == \"93046\") & (DataOutput[\"T_TONGCHI\"] < (1490000 * 0.15)):\r\n",
    "        return 'TRUE'\r\n",
    "    elif (DataOutput[\"MA_DKBD\"] == \"91604\")  & (DataOutput[\"MA_CSKCB\"] == \"93055\") & (DataOutput[\"T_TONGCHI\"] < (1490000 * 0.15)):\r\n",
    "        return 'TRUE'\r\n",
    "    elif (DataOutput[\"MA_DKBD\"] == \"91605\")  & (DataOutput[\"MA_CSKCB\"] == \"93057\") & (DataOutput[\"T_TONGCHI\"] < (1490000 * 0.15)):\r\n",
    "        return 'TRUE'\r\n",
    "    elif (DataOutput[\"MA_DKBD\"] == \"94165\")  & (DataOutput[\"MA_CSKCB\"] == \"93061\") & (DataOutput[\"T_TONGCHI\"] < (1490000 * 0.15)):\r\n",
    "        return 'TRUE'\r\n",
    "    elif ((DataOutput[\"MA_DKBD\"] == \"95055\") | (DataOutput[\"MA_DKBD\"] == \"95054\"))  & (DataOutput[\"MA_CSKCB\"] == \"93065\") & (DataOutput[\"T_TONGCHI\"] < (1490000 * 0.15)):\r\n",
    "        return 'TRUE'\r\n",
    "    elif ((DataOutput[\"MA_DKBD\"] == \"94077\") | (DataOutput[\"MA_DKBD\"] == \"94081\"))  & (DataOutput[\"MA_CSKCB\"] == \"93069\") & (DataOutput[\"T_TONGCHI\"] < (1490000 * 0.15)):\r\n",
    "        return 'TRUE'\r\n",
    "    elif ((DataOutput[\"MA_DKBD\"] == \"94077\") | (DataOutput[\"MA_DKBD\"] == \"94081\"))  & (DataOutput[\"MA_CSKCB\"] == \"93071\") & (DataOutput[\"T_TONGCHI\"] < (1490000 * 0.15)):\r\n",
    "        return 'TRUE'\r\n",
    "    elif ((DataOutput[\"MA_DKBD\"] == \"94077\") | (DataOutput[\"MA_DKBD\"] == \"94078\"))  & (DataOutput[\"MA_CSKCB\"] == \"93072\") & (DataOutput[\"T_TONGCHI\"] < (1490000 * 0.15)):\r\n",
    "        return 'TRUE'\r\n",
    "    elif (DataOutput[\"MA_DKBD\"] == \"91707\")  & (DataOutput[\"MA_CSKCB\"] == \"93082\") & (DataOutput[\"T_TONGCHI\"] < (1490000 * 0.15)):\r\n",
    "        return 'TRUE'\r\n",
    "    elif (DataOutput[\"MA_DKBD\"] == \"92082\")  & (DataOutput[\"MA_CSKCB\"] == \"93086\") & (DataOutput[\"T_TONGCHI\"] < (1490000 * 0.15)):\r\n",
    "        return 'TRUE'\r\n",
    "    elif (DataOutput[\"MA_DKBD\"] == \"94078\")  & (DataOutput[\"MA_CSKCB\"] == \"93087\") & (DataOutput[\"T_TONGCHI\"] < (1490000 * 0.15)):\r\n",
    "        return 'TRUE'\r\n",
    "    elif (DataOutput[\"MA_DKBD\"] == \"94165\")  & (DataOutput[\"MA_CSKCB\"] == \"93094\") & (DataOutput[\"T_TONGCHI\"] < (1490000 * 0.15)):\r\n",
    "        return 'TRUE'\r\n",
    "    elif ((DataOutput[\"MA_DKBD\"] == \"95020\") | (DataOutput[\"MA_DKBD\"] == \"94166\"))  & (DataOutput[\"MA_CSKCB\"] == \"93095\") & (DataOutput[\"T_TONGCHI\"] < (1490000 * 0.15)):\r\n",
    "        return 'TRUE'\r\n",
    "    elif ((DataOutput[\"MA_DKBD\"] == \"91710\") | (DataOutput[\"MA_DKBD\"] == \"91711\"))  & (DataOutput[\"MA_CSKCB\"] == \"93096\") & (DataOutput[\"T_TONGCHI\"] < (1490000 * 0.15)):\r\n",
    "        return 'TRUE'\r\n",
    "    elif ((DataOutput[\"MA_DKBD\"] == \"95032\") | (DataOutput[\"MA_DKBD\"] == \"91710\"))  & (DataOutput[\"MA_CSKCB\"] == \"93098\") & (DataOutput[\"T_TONGCHI\"] < (1490000 * 0.15)):\r\n",
    "        return 'TRUE'\r\n",
    "    else:\r\n",
    "        return 'FALSE'\r\n",
    "\r\n",
    "DataOutput['GHICHU'] = DataOutput.apply(set_status, axis=1)\r\n",
    "# Tạo điều kiện lọc hồ sơ\r\n",
    "index_names = DataOutput[DataOutput['GHICHU'] == 'TRUE' ].index \r\n",
    "# thực hiện xoá các hồ sơ cso điều kiện là đúng\r\n",
    "DataOutput.drop(index_names, inplace = True)"
   ],
   "outputs": [],
   "metadata": {}
  },
  {
   "cell_type": "code",
   "execution_count": 70,
   "source": [
    "# Export Data to Excel Error07\r\n",
    "DataOutput.to_excel(r'D:\\SOLIEU\\DataOutput\\GIAPRANHKCC.xlsx',sheet_name='GIAPRANHKCC')"
   ],
   "outputs": [],
   "metadata": {}
  },
  {
   "cell_type": "code",
   "execution_count": 71,
   "source": [
    "# Trùng nội trú với ngoại trú cùng 1 CSCKB có đợt KCB liên tiếp trong cùng 1 ngày\r\n",
    "df = pd.read_sql_query(r'WITH data_ngoai_tru AS ('\r\n",
    "                       + ' SELECT ID, MA_CSKCB,KY_QT,MA_BN,HO_TEN,NGAY_SINH,GIOI_TINH,MA_THE,MA_DKBD,GT_THE_TU,GT_THE_DEN,MA_BENH,TEN_BENH,MA_LYDO_VVIEN,NGAY_VAO,NGAY_RA,SO_NGAY_DTRI,T_TONGCHI,T_XN,T_CDHA,T_THUOC,T_MAU,T_TTPT,T_VTYT,T_DVKT_TYLE,T_THUOC_TYLE,T_VTYT_TYLE,T_KHAM,T_GIUONG,T_VCHUYEN,T_BNTT,T_BHTT,T_BNCCT,MA_KHOA,NAM_QT,QUY_QT,MA_LOAI_KCB'\r\n",
    "                       + ' FROM bhyt7980a'\r\n",
    "                       + ' WHERE MA_LOAI_KCB = 3 and KY_QT BETWEEN 202104 and 202104 ) ,'\r\n",
    "                       + ' data_noi_tru AS ('\r\n",
    "                       + ' SELECT  ID, MA_CSKCB,KY_QT,MA_BN,HO_TEN,NGAY_SINH,GIOI_TINH,MA_THE,MA_DKBD,GT_THE_TU,GT_THE_DEN,MA_BENH,TEN_BENH,MA_LYDO_VVIEN,NGAY_VAO,NGAY_RA,SO_NGAY_DTRI,T_TONGCHI,T_XN,T_CDHA,T_THUOC,T_MAU,T_TTPT,T_VTYT,T_DVKT_TYLE,T_THUOC_TYLE,T_VTYT_TYLE,T_KHAM,T_GIUONG,T_VCHUYEN,T_BNTT,T_BHTT,T_BNCCT,MA_KHOA,NAM_QT,QUY_QT,MA_LOAI_KCB'\r\n",
    "                       + ' FROM bhyt7980a'\r\n",
    "                       + ' WHERE MA_LOAI_KCB = 1 and KY_QT BETWEEN 202104 and 202104 )'\r\n",
    "                       + ' SELECT a.MA_CSKCB as CSKCBA,b.MA_CSKCB as CSKCBB ,a.KY_QT,a.MA_BN,a.HO_TEN,a.NGAY_SINH,a.GIOI_TINH,a.MA_THE,a.MA_DKBD,a.GT_THE_TU,a.GT_THE_DEN,a.MA_BENH,b.MA_BENH as MA_BENH_B,a.TEN_BENH,a.MA_LYDO_VVIEN,a.NGAY_VAO,a.NGAY_RA,b.NGAY_VAO as NGAY_VAO_B,b.NGAY_RA as NGAY_RA_B,a.SO_NGAY_DTRI,a.T_TONGCHI,a.T_BNTT,a.T_BHTT,a.T_BNCCT,b.T_TONGCHI,b.T_BNTT,b.T_BHTT,a.T_BNCCT,a.MA_KHOA,a.NAM_QT,a.QUY_QT,a.MA_LOAI_KCB'\r\n",
    "                       + ' FROM data_ngoai_tru a'\r\n",
    "                       + ' INNER JOIN data_noi_tru b'\r\n",
    "                       + ' ON a.MA_THE = b.MA_THE AND a.MA_CSKCB = b.MA_CSKCB and SUBSTR(a.MA_BENH, 1, 1) == SUBSTR(b.MA_BENH, 1, 1)'\r\n",
    "                       + ' AND julianday(date(b.ngay_vao)) - julianday(date(a.ngay_ra)) = 0' \r\n",
    "                       + ' Order By a.MA_THE', con)"
   ],
   "outputs": [],
   "metadata": {}
  },
  {
   "cell_type": "code",
   "execution_count": 72,
   "source": [
    "DataOutput = df"
   ],
   "outputs": [],
   "metadata": {}
  },
  {
   "cell_type": "code",
   "execution_count": 73,
   "source": [
    "# Export Data to Excel Error08\r\n",
    "DataOutput.to_excel(r'D:\\SOLIEU\\DataOutput\\NOITRUNGOAITRULIENTIEP.xlsx',sheet_name='NOITRUNGOAITRULIENTIEP')"
   ],
   "outputs": [],
   "metadata": {}
  },
  {
   "cell_type": "code",
   "execution_count": 74,
   "source": [
    "# Trùng ngoại trú liên tiếp đợt sau là nội trú cùng 1 bệnh không đúng quy định tại khoản b điều 1 của CV627/BYT-BH\r\n",
    "df = pd.read_sql_query(r'WITH data_ngoai_tru AS ('\r\n",
    "                       + ' SELECT ID, MA_CSKCB,KY_QT,MA_BN,HO_TEN,NGAY_SINH,GIOI_TINH,MA_THE,MA_DKBD,GT_THE_TU,GT_THE_DEN,MA_BENH,TEN_BENH,MA_LYDO_VVIEN,NGAY_VAO,NGAY_RA,SO_NGAY_DTRI,T_TONGCHI,T_XN,T_CDHA,T_THUOC,T_MAU,T_TTPT,T_VTYT,T_DVKT_TYLE,T_THUOC_TYLE,T_VTYT_TYLE,T_KHAM,T_GIUONG,T_VCHUYEN,T_BNTT,T_BHTT,T_BNCCT,MA_KHOA,NAM_QT,QUY_QT,MA_LOAI_KCB'\r\n",
    "                       + ' FROM bhyt7980a'\r\n",
    "                       + ' WHERE MA_LOAI_KCB = 1 and KY_QT BETWEEN 202104 and 202104 ) ,'\r\n",
    "                       + ' data_noi_tru AS ('\r\n",
    "                       + ' SELECT  ID, MA_CSKCB,KY_QT,MA_BN,HO_TEN,NGAY_SINH,GIOI_TINH,MA_THE,MA_DKBD,GT_THE_TU,GT_THE_DEN,MA_BENH,TEN_BENH,MA_LYDO_VVIEN,NGAY_VAO,NGAY_RA,SO_NGAY_DTRI,T_TONGCHI,T_XN,T_CDHA,T_THUOC,T_MAU,T_TTPT,T_VTYT,T_DVKT_TYLE,T_THUOC_TYLE,T_VTYT_TYLE,T_KHAM,T_GIUONG,T_VCHUYEN,T_BNTT,T_BHTT,T_BNCCT,MA_KHOA,NAM_QT,QUY_QT,MA_LOAI_KCB'\r\n",
    "                       + ' FROM bhyt7980a'\r\n",
    "                       + ' WHERE MA_LOAI_KCB = 3 and KY_QT BETWEEN 202104 and 202104 )'\r\n",
    "                       + ' SELECT a.MA_CSKCB as CSKCBA,b.MA_CSKCB as CSKCBB ,a.KY_QT,a.MA_BN,a.HO_TEN,a.NGAY_SINH,a.GIOI_TINH,a.MA_THE,a.MA_DKBD,a.GT_THE_TU,a.GT_THE_DEN,a.MA_BENH,b.MA_BENH as MA_BENH_B,a.TEN_BENH,a.MA_LYDO_VVIEN,a.NGAY_VAO,a.NGAY_RA,b.NGAY_VAO as NGAY_VAO_B,b.NGAY_RA as NGAY_RA_B,a.SO_NGAY_DTRI,a.T_TONGCHI,a.T_BNTT,a.T_BHTT,a.T_BNCCT,b.T_TONGCHI,b.T_BNTT,b.T_BHTT,a.T_BNCCT,a.MA_KHOA,a.NAM_QT,a.QUY_QT,a.MA_LOAI_KCB'\r\n",
    "                       + ' FROM data_ngoai_tru a'\r\n",
    "                       + ' INNER JOIN data_noi_tru b'\r\n",
    "                       + ' ON a.MA_THE = b.MA_THE AND a.MA_CSKCB = b.MA_CSKCB and SUBSTR(a.MA_BENH, 1, 3) == SUBSTR(b.MA_BENH, 1, 3)'\r\n",
    "                       + ' AND julianday(date(b.ngay_vao)) - julianday(date(a.ngay_ra)) = 0' \r\n",
    "                       + ' Order By a.MA_THE', con)"
   ],
   "outputs": [],
   "metadata": {}
  },
  {
   "cell_type": "code",
   "execution_count": 75,
   "source": [
    "DataOutput = df"
   ],
   "outputs": [],
   "metadata": {}
  },
  {
   "cell_type": "code",
   "execution_count": 76,
   "source": [
    "# Export Data to Excel Error09\r\n",
    "DataOutput.to_excel(r'D:\\SOLIEU\\DataOutput\\NGOAITRUNOITRULIENTIEPCUNGBENH.xlsx',sheet_name='NGOAITRUNOITRULIENTIEPCUNGBENH')"
   ],
   "outputs": [],
   "metadata": {}
  },
  {
   "cell_type": "code",
   "execution_count": 77,
   "source": [
    "# Mã thẻ đa tuyến đến KCB tạo sai theo địa chỉ\r\n",
    "df = pd.read_sql_query(r'SELECT MA_CSKCB,KY_QT,MA_BN,HO_TEN,NGAY_SINH,GIOI_TINH,MA_THE,MA_DKBD,GT_THE_TU,GT_THE_DEN,MA_BENH,TEN_BENH,MA_LYDO_VVIEN,NGAY_VAO,NGAY_RA,SO_NGAY_DTRI,T_TONGCHI,T_XN,T_CDHA,T_THUOC,T_MAU,T_TTPT,T_VTYT,T_DVKT_TYLE,T_THUOC_TYLE,T_VTYT_TYLE,T_KHAM,T_GIUONG,T_VCHUYEN,T_BNTT,T_BHTT,T_BNCCT,MA_KHOA,NAM_QT,QUY_QT,MA_LOAI_KCB'\r\n",
    "                       + ' FROM bhyt7980a'                     \r\n",
    "                       + ' WHERE LOAI_BN = 3 and SUBSTR(MA_DKBD,1,2) != SUBSTR(MA_THE,4,2) '\r\n",
    "                       + ' AND SUBSTR(MA_THE,1,2) = \"TE\" AND SUBSTR(MA_THE,8,3) = \"000\" AND KY_QT BETWEEN 202104 and 202104'\r\n",
    "                       + ' Order By MA_THE', con)"
   ],
   "outputs": [],
   "metadata": {}
  },
  {
   "cell_type": "code",
   "execution_count": 78,
   "source": [
    "DataOutput = df"
   ],
   "outputs": [],
   "metadata": {}
  },
  {
   "cell_type": "code",
   "execution_count": 79,
   "source": [
    "# Export Data to Excel Error10\r\n",
    "DataOutput.to_excel(r'D:\\SOLIEU\\DataOutput\\THEDATUYENSAIDIACHI.xlsx',sheet_name='THEDATUYENSAIDIACHI')"
   ],
   "outputs": [],
   "metadata": {}
  },
  {
   "cell_type": "code",
   "execution_count": 80,
   "source": [
    "# Phát sinh chi phí sau đợt điều trị đã mã hóa dữ liệu là tử vong\r\n",
    "df = pd.read_sql_query(r'WITH data_nghingo AS ('\r\n",
    "                       + ' SELECT Ma_CSKCB,MA_THE,KET_QUA_DTRI,NGAY_VAO,NGAY_RA'\r\n",
    "                       + ' FROM bhyt7980a'\r\n",
    "                       + ' WHERE KET_QUA_DTRI = 5 )'                    \r\n",
    "                       + ' SELECT a.MA_CSKCB as CSKCBA,b.MA_CSKCB as CSKCBB,a.KET_QUA_DTRI as KET_QUA_DTRI_A, b.KET_QUA_DTRI as KET_QUA_DTRI_B, b.KY_QT,b.MA_BN,b.HO_TEN,b.NGAY_SINH,b.GIOI_TINH,b.MA_THE,b.MA_DKBD,b.GT_THE_TU,b.GT_THE_DEN,b.MA_BENH,b.MA_LYDO_VVIEN,a.NGAY_VAO,a.NGAY_RA,b.NGAY_VAO as NGAY_VAO_B,b.NGAY_RA as NGAY_RA_B,b.SO_NGAY_DTRI,b.T_TONGCHI,b.T_BNTT,b.T_BHTT,b.T_BNCCT,b.MA_KHOA,b.NAM_QT,b.QUY_QT,b.MA_LOAI_KCB'\r\n",
    "                       + ' FROM data_nghingo a'\r\n",
    "                       + ' INNER JOIN bhyt7980a b'\r\n",
    "                       + ' ON a.MA_THE = b.MA_THE AND a.NGAY_VAO < b.NGAY_VAO'\r\n",
    "                         ' WHERE KY_QT BETWEEN 202104 and 202104'  \r\n",
    "                       + ' Order By a.MA_THE', con)"
   ],
   "outputs": [],
   "metadata": {}
  },
  {
   "cell_type": "code",
   "execution_count": 81,
   "source": [
    "DataOutput = df"
   ],
   "outputs": [],
   "metadata": {}
  },
  {
   "cell_type": "code",
   "execution_count": 82,
   "source": [
    "# Export Data to Excel Error11\r\n",
    "DataOutput.to_excel(r'D:\\SOLIEU\\DataOutput\\CHIPHISAUDOTDIEUTRITUVONG.xlsx',sheet_name='CHIPHISAUDOTDIEUTRITUVONG')"
   ],
   "outputs": [],
   "metadata": {}
  },
  {
   "cell_type": "code",
   "execution_count": 83,
   "source": [
    "# Lọc điều kiện đăng ký ban đầu theo quy tắc đúng tuyến , trái tuyến , thông tuyến \r\n",
    "df = pd.read_sql_query(r'Select Case'\r\n",
    "                       + ' WHEN MA_CSKCB in (93001) THEN 93001'\r\n",
    "                       + ' WHEN MA_CSKCB in (93002,93048,93049,93050,93051,93052,93053,93054,93055,93057,93080) THEN 93002'\r\n",
    "                       + ' WHEN MA_CSKCB in (93003,93019,93058,93059,93060,93061,93092,93094,93097,93104) THEN 93003'\r\n",
    "                       + ' WHEN MA_CSKCB in (93004,93035,93036,93037,93038,93039,93040,93041,93042,93043,93044,93045,93046,93047,93089,93090) THEN 93004' \r\n",
    "                       + ' WHEN MA_CSKCB in (93005,93026,93027,93028,93029,93030,93031,93032,93033,93087) THEN 93005'\r\n",
    "                       + ' WHEN MA_CSKCB in (93006,93018,93020,93022,93023,93024,93025,93073,93083,93084,93086) THEN 93006'\r\n",
    "                       + ' WHEN MA_CSKCB in (93007,93009,93010,93011,93012,93013,93014,93015,93017,93082) THEN 93007'\r\n",
    "                       + ' WHEN MA_CSKCB in (93016,93067,93068,93069,93070,93071,93072) THEN 93016'\r\n",
    "                       + ' WHEN MA_CSKCB in (93078,93062,93063,93064,93065,93066,93095,93096,93098) THEN 93078'\r\n",
    "                       + ' WHEN MA_CSKCB in (93008) THEN 93008'\r\n",
    "                       + ' WHEN MA_CSKCB in (93100) THEN 93100'\r\n",
    "                       + ' WHEN MA_CSKCB in (93101) THEN 93101'\r\n",
    "                       + ' WHEN MA_CSKCB in (93102) THEN 93102'\r\n",
    "                       + ' WHEN MA_CSKCB in (93103) THEN 93103'\r\n",
    "                       + ' WHEN MA_CSKCB in (93105) THEN 93105'\r\n",
    "                       + ' WHEN MA_CSKCB in (93106) THEN 93106'\r\n",
    "                       + ' ELSE 93107'\r\n",
    "                       + ' END As \"Ma_Cha_KCB\",'\r\n",
    "                       + ' Case WHEN MA_DKBD in (93001) THEN 93001'\r\n",
    "                       + ' WHEN MA_DKBD in (93002,93048,93049,93050,93051,93052,93053,93054,93055,93057,93080) THEN 93002'\r\n",
    "                       + ' WHEN MA_DKBD in (93003,93019,93058,93059,93060,93061,93092,93094,93097,93104) THEN 93003'\r\n",
    "                       + ' WHEN MA_DKBD in (93004,93035,93036,93037,93038,93039,93040,93041,93042,93043,93044,93045,93046,93047,93089,93090) THEN 93004'\r\n",
    "                       + ' WHEN MA_DKBD in (93005,93026,93027,93028,93029,93030,93031,93032,93033,93087) THEN 93005'\r\n",
    "                       + ' WHEN MA_DKBD in (93006,93018,93020,93022,93023,93024,93025,93073,93083,93084,93086) THEN 93006'\r\n",
    "                       + ' WHEN MA_CSKCB in (93007,93009,93010,93011,93012,93013,93014,93015,93017,93082) THEN 93007'\r\n",
    "                       + ' WHEN MA_DKBD in (93016,93067,93068,93069,93070,93071,93072) THEN 93016'\r\n",
    "                       + ' WHEN MA_DKBD in (93078,93062,93063,93064,93065,93066,93095,93096,93098) THEN 93078'\r\n",
    "                       + ' WHEN MA_DKBD in (93008) THEN 93008'\r\n",
    "                       + ' WHEN MA_DKBD in (93100) THEN 93100'\r\n",
    "                       + ' WHEN MA_DKBD in (93101) THEN 93101'\r\n",
    "                       + ' WHEN MA_DKBD in (93102) THEN 93102'\r\n",
    "                       + ' WHEN MA_DKBD in (93103) THEN 93103'\r\n",
    "                       + ' WHEN MA_DKBD in (93105) THEN 93105'\r\n",
    "                       + ' WHEN MA_DKBD in (93106) THEN 93106'\r\n",
    "                       + ' WHEN MA_DKBD in (93107) THEN 93107'\r\n",
    "                       + ' ELSE MA_DKBD END As \"Ma_Cha_DKBD\",'\r\n",
    "                       + ' SUBSTR(MA_DKBD,1,2) as \"DKBD_KT\",'\r\n",
    "                       + ' MA_CSKCB,MA_DKBD,KY_QT,MA_BN,HO_TEN,NGAY_SINH,GIOI_TINH,MA_THE,GT_THE_TU,GT_THE_DEN,MA_NOI_CHUYEN,'\r\n",
    "                       + ' MA_BENH,TEN_BENH,MA_LYDO_VVIEN,NGAY_VAO,NGAY_RA,SO_NGAY_DTRI,T_TONGCHI,T_XN,T_CDHA,T_THUOC,T_MAU,T_TTPT,'\r\n",
    "                       + ' T_VTYT,T_DVKT_TYLE,T_THUOC_TYLE,T_VTYT_TYLE,T_KHAM,T_GIUONG,T_VCHUYEN,T_BNTT,T_BHTT,T_BNCCT,MA_KHOA,NAM_QT,'\r\n",
    "                       + ' QUY_QT,MA_LOAI_KCB'\r\n",
    "                       + ' from bhyt7980a'\r\n",
    "                       + ' WHERE MA_LYDO_VVIEN not in (2,3) AND MA_NOI_CHUYEN IS NULL AND KY_QT BETWEEN 202104 and 202104', con)"
   ],
   "outputs": [],
   "metadata": {}
  },
  {
   "cell_type": "code",
   "execution_count": 84,
   "source": [
    "DataOutput = df"
   ],
   "outputs": [],
   "metadata": {}
  },
  {
   "cell_type": "code",
   "execution_count": 85,
   "source": [
    "def set_lydovv(DataOutput):\r\n",
    "    if ((DataOutput[\"MA_CSKCB\"] == DataOutput[\"MA_DKBD\"]) & (DataOutput[\"MA_LYDO_VVIEN\"] == 1)):\r\n",
    "        return 'TRUE'\r\n",
    "    elif ((DataOutput[\"DKBD_KT\"] == \"93\") & (DataOutput[\"MA_DKBD\"] != \"93001\") & (DataOutput[\"MA_DKBD\"] != \"93007\") & (DataOutput[\"MA_LYDO_VVIEN\"] == 4)):\r\n",
    "        return 'TRUE'\r\n",
    "    elif ((DataOutput[\"DKBD_KT\"] == \"93\") & ((DataOutput[\"MA_DKBD\"] == \"93001\") | (DataOutput[\"MA_DKBD\"] == \"93007\"))  & (DataOutput[\"MA_LYDO_VVIEN\"] == 3)):\r\n",
    "        return 'TRUE'\r\n",
    "    elif ((DataOutput[\"DKBD_KT\"] != \"93\") & (DataOutput[\"MA_LYDO_VVIEN\"] == 3)):\r\n",
    "        return 'TRUE'\r\n",
    "    else:\r\n",
    "        return 'FALSE'\r\n",
    "    \r\n",
    "\r\n",
    "DataOutput['GHICHU'] = DataOutput.apply(set_lydovv, axis=1)\r\n",
    "\r\n",
    "\r\n",
    "# Tạo điều kiện lọc hồ sơ\r\n",
    "index_names = DataOutput[DataOutput['GHICHU'] == 'TRUE'].index \r\n",
    "\r\n",
    "# thực hiện xoá các hồ sơ cso điều kiện là đúng\r\n",
    "DataOutput.drop(index_names, inplace = True)\r\n",
    "DataOutput.pop(\"Ma_Cha_KCB\")\r\n",
    "DataOutput.pop(\"Ma_Cha_DKBD\")\r\n",
    "DataOutput.pop(\"DKBD_KT\")"
   ],
   "outputs": [
    {
     "output_type": "execute_result",
     "data": {
      "text/plain": [
       "30        94\n",
       "33        68\n",
       "48        86\n",
       "51        93\n",
       "58        79\n",
       "          ..\n",
       "115522    93\n",
       "115523    93\n",
       "115524    93\n",
       "115525    93\n",
       "115526    93\n",
       "Name: DKBD_KT, Length: 24031, dtype: object"
      ]
     },
     "metadata": {},
     "execution_count": 85
    }
   ],
   "metadata": {}
  },
  {
   "cell_type": "code",
   "execution_count": 86,
   "source": [
    "# Export Data to Excel Error12\r\n",
    "DataOutput.to_excel(r'D:\\SOLIEU\\DataOutput\\CANHBAOLYDOVVSAI.xlsx',sheet_name='CANHBAOLYDOVVSAI')"
   ],
   "outputs": [],
   "metadata": {}
  }
 ],
 "metadata": {
  "kernelspec": {
   "display_name": "Python 3",
   "language": "python",
   "name": "python3"
  },
  "language_info": {
   "codemirror_mode": {
    "name": "ipython",
    "version": 3
   },
   "file_extension": ".py",
   "mimetype": "text/x-python",
   "name": "python",
   "nbconvert_exporter": "python",
   "pygments_lexer": "ipython3",
   "version": "3.8.8"
  }
 },
 "nbformat": 4,
 "nbformat_minor": 5
}