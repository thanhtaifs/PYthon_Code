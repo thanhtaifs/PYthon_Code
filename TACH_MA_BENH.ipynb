{
 "cells": [
  {
   "cell_type": "code",
   "execution_count": 1,
   "id": "3aae2c3e",
   "metadata": {},
   "outputs": [],
   "source": [
    "import pandas as pd\n",
    "import glob\n",
    "import matplotlib.pyplot as plt\n",
    "import numpy as np\n",
    "import sqlite3 "
   ]
  },
  {
   "cell_type": "code",
   "execution_count": 3,
   "id": "d1b94724",
   "metadata": {},
   "outputs": [],
   "source": [
    "link = r'D:\\SOLIEU\\THAMDINHCn\\CSKCB93078\\TAI'\n",
    "FileName = r'\\CSKCB93102_C7KCB_2.xlsx'\n",
    "MA_CSKCB = '93102'\n",
    "TABLE_CSKCB = \"CSKCB_93078_2\"\n",
    "con = sqlite3.connect(r'D:\\DATACSDL\\CSDL\\DataCn\\NAM2020-2021\\93_20220329_202001_202112_bao_cao_gsgd_bhyt7980b_final.db')\n",
    "ConnectString = link + FileName"
   ]
  },
  {
   "cell_type": "code",
   "execution_count": null,
   "id": "9ecd1f15",
   "metadata": {},
   "outputs": [],
   "source": [
    "result = pd.read_excel(ConnectString)"
   ]
  },
  {
   "cell_type": "code",
   "execution_count": null,
   "id": "92dc5d8e",
   "metadata": {},
   "outputs": [],
   "source": [
    "condition = \"(\"\n",
    "for i in range(len(result)):   \n",
    "    if (len(result) - i - 1 == 0) :\n",
    "        condition += \"'\" + str(result.loc[i, \"MA_BENH\"]) + \"')\"\n",
    "    else :\n",
    "        condition += \"'\" + str(result.loc[i, \"MA_BENH\"]) + \"',\"\n",
    "   "
   ]
  },
  {
   "cell_type": "code",
   "execution_count": null,
   "id": "244a515e",
   "metadata": {},
   "outputs": [],
   "source": [
    "sql_query_condition1 = (r' WHERE MA_CSKCB = ' + MA_CSKCB + ' AND MA_LOAIKCB = 3 AND SUBSTR(MA_BENH,1,3) IN ')\n"
   ]
  },
  {
   "cell_type": "code",
   "execution_count": null,
   "id": "a0bdfe6e",
   "metadata": {},
   "outputs": [],
   "source": [
    "# dữ liệu cần lấy khi thực thi câu lệnh SQL.\n",
    "sql_query = (r''\n",
    "            + 'SELECT XML1_ID,MA_CSKCB,MA_LOAI_KCB_CN,MA_BENH,MA_BENHKHAC,T_BHTT_SAU_CCG,LOAI_BN'        \n",
    "            +' from ')"
   ]
  },
  {
   "cell_type": "code",
   "execution_count": null,
   "id": "a8239481",
   "metadata": {},
   "outputs": [],
   "source": [
    "Link = sql_query + TABLE_CSKCB + sql_query_condition1 + condition\n"
   ]
  },
  {
   "cell_type": "code",
   "execution_count": null,
   "id": "8a127e22",
   "metadata": {},
   "outputs": [],
   "source": [
    "# Begin kiểm tra mã đăng ký ban đầu đối với bệnh viện chuyên khoa do hiện tại chưa có thẻ đăng ký ban đầu tại 2 CSCKB trên địa bàn tỉnh\n",
    "df = pd.read_sql_query(Link, con)"
   ]
  },
  {
   "cell_type": "code",
   "execution_count": null,
   "id": "5ad5f16d",
   "metadata": {},
   "outputs": [],
   "source": [
    "df[\"CHITIET\"] = df[\"MA_BENHKHAC\"].str.split(\";\")"
   ]
  },
  {
   "cell_type": "code",
   "execution_count": null,
   "id": "183f6244",
   "metadata": {},
   "outputs": [],
   "source": [
    "df = df.explode('CHITIET')"
   ]
  },
  {
   "cell_type": "code",
   "execution_count": null,
   "id": "d65ec852",
   "metadata": {},
   "outputs": [],
   "source": [
    "#data = result[(result['CHITIET'] == 'M60') | (result['CHITIET'] == 'E58')]\n",
    "data = df\n",
    "data.to_excel(r'D:\\SOLIEU\\THAMDINHCn\\CSKCB93078\\TAI\\Data_DETECT.xlsx')"
   ]
  },
  {
   "cell_type": "code",
   "execution_count": null,
   "id": "1d237792",
   "metadata": {},
   "outputs": [],
   "source": [
    "# dữ liệu cần lấy khi thực thi câu lệnh SQL.\n",
    "sql_query = (r''\n",
    "            + 'SELECT XML1_ID,MA_CSKCB,MA_LOAI_KCB_CN,MA_BENH,MA_BENHKHAC,T_BHTT_SAU_CCG,LOAI_BN'           \n",
    "            +' from ')\n",
    "            \n",
    "sql_query_condition1 = (r' WHERE T_TONGCHI != T_KHAM AND MA_CSKCB = ' + MA_CSKCB + ' AND MA_LOAIKCB = 1 AND SUBSTR(BENH_DUNG,1,3) = \"M25\"'\n",
    "                        # + ' AND (MA_BENHKHAC LIKE \"%E11\" or MA_BENHKHAC LIKE \"%E11%\" or MA_BENHKHAC LIKE \"E11%\")')\n",
    "                        + ' AND MA_BENHKHAC NOTNULL AND NAM_QT = 2021')\n",
    "Link = sql_query + TABLE_CSKCB + sql_query_condition1\n"
   ]
  },
  {
   "cell_type": "code",
   "execution_count": null,
   "id": "8e3b08ec",
   "metadata": {},
   "outputs": [],
   "source": [
    "df = pd.read_sql_query(Link, con)\n",
    "df[\"CHITIET\"] = df[\"MA_BENHKHAC\"].str.split(\";\")\n",
    "df = df.explode('CHITIET')\n",
    "#data = result[(result['CHITIET'] == 'M60') | (result['CHITIET'] == 'E58') ]\n",
    "data = df\n",
    "data.to_excel(r'D:\\SOLIEU\\THAMDINHCn\\CSCKB93016\\TAI\\Data_Change_Temp.xlsx')"
   ]
  },
  {
   "cell_type": "code",
   "execution_count": 8,
   "id": "31dc99cd",
   "metadata": {},
   "outputs": [],
   "source": [
    "#df = pd.read_sql_query(Link, con)\n",
    "df = pd.read_sql_query('SELECT XML1_ID,MA_CSKCB,MA_LOAI_KCB_CN,MA_BENH,MA_BENHKHAC,T_BHTT_SAU_CCG,LOAI_BN from CSKCB_93005_2  WHERE T_TONGCHI != T_KHAM AND MA_CSKCB = 93005 AND MA_LOAIKCB = 1 and MA_BENHKHAC NOTNULL and NAM_QT = 2021', con)\n",
    "df[\"CHITIET\"] = df[\"MA_BENHKHAC\"].str.split(\";\")\n",
    "df = df.explode('CHITIET')\n",
    "#data = result[(result['CHITIET'] == 'M60') | (result['CHITIET'] == 'E58') ]\n",
    "data = df\n",
    "data.to_excel(r'D:\\SOLIEU\\THAMDINHCn\\CSCKB93005\\TAI\\Data_Change_Temp.xlsx')"
   ]
  }
 ],
 "metadata": {
  "interpreter": {
   "hash": "7f36d96b16a80fe67a5bd5bd0b1969df9712b396977a3dcf3499eedc03b10903"
  },
  "kernelspec": {
   "display_name": "Python 3.8.1 64-bit",
   "language": "python",
   "name": "python3"
  },
  "language_info": {
   "codemirror_mode": {
    "name": "ipython",
    "version": 3
   },
   "file_extension": ".py",
   "mimetype": "text/x-python",
   "name": "python",
   "nbconvert_exporter": "python",
   "pygments_lexer": "ipython3",
   "version": "3.8.1"
  }
 },
 "nbformat": 4,
 "nbformat_minor": 5
}
