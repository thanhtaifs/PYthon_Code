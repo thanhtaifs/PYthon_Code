{
 "cells": [
  {
   "cell_type": "code",
   "execution_count": 1,
   "id": "3aae2c3e",
   "metadata": {},
   "outputs": [],
   "source": [
    "import pandas as pd\n",
    "import glob\n",
    "import matplotlib.pyplot as plt\n",
    "import numpy as np"
   ]
  },
  {
   "cell_type": "code",
   "execution_count": 2,
   "id": "6f5aaf4c",
   "metadata": {},
   "outputs": [],
   "source": [
    "result = pd.read_excel(r\"D:\\SOLIEU\\CUOCTHIVSSID\\Data_Final_TRUONG\\THONGHOP_TRUONG_17102022.xlsx\")"
   ]
  },
  {
   "cell_type": "code",
   "execution_count": 3,
   "id": "83d95a60",
   "metadata": {},
   "outputs": [],
   "source": [
    "data = result[['MA_TRUONG','TEN_TRUONG']]"
   ]
  },
  {
   "cell_type": "code",
   "execution_count": 4,
   "id": "95e3fd3f",
   "metadata": {},
   "outputs": [
    {
     "data": {
      "text/html": [
       "<div>\n",
       "<style scoped>\n",
       "    .dataframe tbody tr th:only-of-type {\n",
       "        vertical-align: middle;\n",
       "    }\n",
       "\n",
       "    .dataframe tbody tr th {\n",
       "        vertical-align: top;\n",
       "    }\n",
       "\n",
       "    .dataframe thead th {\n",
       "        text-align: right;\n",
       "    }\n",
       "</style>\n",
       "<table border=\"1\" class=\"dataframe\">\n",
       "  <thead>\n",
       "    <tr style=\"text-align: right;\">\n",
       "      <th></th>\n",
       "      <th>MA_TRUONG</th>\n",
       "      <th>TEN_TRUONG</th>\n",
       "    </tr>\n",
       "  </thead>\n",
       "  <tbody>\n",
       "    <tr>\n",
       "      <th>0</th>\n",
       "      <td>24</td>\n",
       "      <td>THCS Đông Phú CT</td>\n",
       "    </tr>\n",
       "    <tr>\n",
       "      <th>554</th>\n",
       "      <td>27</td>\n",
       "      <td>THCS Đông Phước A CT</td>\n",
       "    </tr>\n",
       "    <tr>\n",
       "      <th>1107</th>\n",
       "      <td>87</td>\n",
       "      <td>THCS Lê Hồng Phong CT</td>\n",
       "    </tr>\n",
       "    <tr>\n",
       "      <th>1919</th>\n",
       "      <td>22</td>\n",
       "      <td>THCS Nam Kỳ Khởi Nghĩa  CT</td>\n",
       "    </tr>\n",
       "    <tr>\n",
       "      <th>2419</th>\n",
       "      <td>21</td>\n",
       "      <td>THCS Ngô Hữu Hạnh CT</td>\n",
       "    </tr>\n",
       "    <tr>\n",
       "      <th>...</th>\n",
       "      <td>...</td>\n",
       "      <td>...</td>\n",
       "    </tr>\n",
       "    <tr>\n",
       "      <th>60942</th>\n",
       "      <td>77</td>\n",
       "      <td>THCS Trà Lồng TXLMY</td>\n",
       "    </tr>\n",
       "    <tr>\n",
       "      <th>61437</th>\n",
       "      <td>78</td>\n",
       "      <td>THCS Trịnh Văn Thì TXLMY</td>\n",
       "    </tr>\n",
       "    <tr>\n",
       "      <th>61980</th>\n",
       "      <td>82</td>\n",
       "      <td>THCS Tân Phú TXLMY</td>\n",
       "    </tr>\n",
       "    <tr>\n",
       "      <th>62359</th>\n",
       "      <td>83</td>\n",
       "      <td>THPT Long Mỹ TXLMY</td>\n",
       "    </tr>\n",
       "    <tr>\n",
       "      <th>64328</th>\n",
       "      <td>84</td>\n",
       "      <td>THPT Tân Phú TXLMY</td>\n",
       "    </tr>\n",
       "  </tbody>\n",
       "</table>\n",
       "<p>85 rows × 2 columns</p>\n",
       "</div>"
      ],
      "text/plain": [
       "       MA_TRUONG                  TEN_TRUONG\n",
       "0             24            THCS Đông Phú CT\n",
       "554           27        THCS Đông Phước A CT\n",
       "1107          87       THCS Lê Hồng Phong CT\n",
       "1919          22  THCS Nam Kỳ Khởi Nghĩa  CT\n",
       "2419          21        THCS Ngô Hữu Hạnh CT\n",
       "...          ...                         ...\n",
       "60942         77         THCS Trà Lồng TXLMY\n",
       "61437         78    THCS Trịnh Văn Thì TXLMY\n",
       "61980         82          THCS Tân Phú TXLMY\n",
       "62359         83          THPT Long Mỹ TXLMY\n",
       "64328         84          THPT Tân Phú TXLMY\n",
       "\n",
       "[85 rows x 2 columns]"
      ]
     },
     "execution_count": 4,
     "metadata": {},
     "output_type": "execute_result"
    }
   ],
   "source": [
    "data = data.drop_duplicates()\n",
    "data"
   ]
  },
  {
   "cell_type": "code",
   "execution_count": 5,
   "id": "9eaf7983",
   "metadata": {},
   "outputs": [],
   "source": [
    "for index, row in data.iterrows():\n",
    "    filter_data = result.loc[result['MA_TRUONG'] == row['MA_TRUONG']]\n",
    "    link = \"TRUONG_\" + str(row['TEN_TRUONG'])\n",
    "    filter_data.to_excel(r'D:\\SOLIEU\\CUOCTHIVSSID\\Data_Final_TRUONG\\CHITIET' + \"\\\\\" + link + \".xlsx\",index = False ) # xuất dữ liệu ra tập tin Excel \n"
   ]
  }
 ],
 "metadata": {
  "kernelspec": {
   "display_name": "Python 3.8.1 64-bit",
   "language": "python",
   "name": "python3"
  },
  "language_info": {
   "codemirror_mode": {
    "name": "ipython",
    "version": 3
   },
   "file_extension": ".py",
   "mimetype": "text/x-python",
   "name": "python",
   "nbconvert_exporter": "python",
   "pygments_lexer": "ipython3",
   "version": "3.8.1"
  },
  "vscode": {
   "interpreter": {
    "hash": "7f36d96b16a80fe67a5bd5bd0b1969df9712b396977a3dcf3499eedc03b10903"
   }
  }
 },
 "nbformat": 4,
 "nbformat_minor": 5
}
