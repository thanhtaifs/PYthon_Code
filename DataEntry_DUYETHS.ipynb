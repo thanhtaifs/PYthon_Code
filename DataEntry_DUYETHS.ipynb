{
 "cells": [
  {
   "cell_type": "code",
   "execution_count": 1,
   "id": "40cfa2a2",
   "metadata": {},
   "outputs": [],
   "source": [
    "from selenium import webdriver\n",
    "from selenium.webdriver.chrome.options import Options\n",
    "import time\n",
    "from selenium.webdriver.common.keys import Keys\n",
    "from selenium.webdriver.common.action_chains import ActionChains\n",
    "from selenium.webdriver.support import expected_conditions as EC\n",
    "from selenium.webdriver.common.by import By\n",
    "from selenium.webdriver import ActionChains\n",
    "from selenium.webdriver.support.ui import WebDriverWait\n",
    "import pandas as pd\n",
    "import matplotlib.pyplot as plt\n",
    "from PIL import Image\n",
    "from selenium.common.exceptions import NoSuchElementException"
   ]
  },
  {
   "cell_type": "code",
   "execution_count": 2,
   "id": "0542253d",
   "metadata": {},
   "outputs": [
    {
     "name": "stderr",
     "output_type": "stream",
     "text": [
      "C:\\Users\\TAITTH~1.VSS\\AppData\\Local\\Temp/ipykernel_15540/681038369.py:3: DeprecationWarning: executable_path has been deprecated, please pass in a Service object\n",
      "  driver = webdriver.Chrome(options=chrome_options, executable_path= Path_Chrome_Driver)\n"
     ]
    }
   ],
   "source": [
    "chrome_options = Options()\n",
    "Path_Chrome_Driver = r\"C:\\Users\\taitt.haugiang.VSS\\Desktop\\Chrome\\chromedriver.exe\"\n",
    "driver = webdriver.Chrome(options=chrome_options, executable_path= Path_Chrome_Driver)\n"
   ]
  },
  {
   "cell_type": "code",
   "execution_count": 3,
   "id": "9bd74f2e",
   "metadata": {},
   "outputs": [],
   "source": [
    "baseUrl = r'https://tnhs.bhxh.gov.vn/#/home'\n",
    "driver.get(baseUrl)"
   ]
  },
  {
   "cell_type": "code",
   "execution_count": 4,
   "id": "8df0b651",
   "metadata": {},
   "outputs": [],
   "source": [
    "#img_dir =r\"C:\\Users\\Lenovo\\Desktop\\VSSID\\ANHXULY\"\n",
    "# img_dir =r\"C:\\Users\\taitt.haugiang.VSS\\Desktop\\VSSID\\HINHANH\"\n",
    "folder_excel = r\"C:\\Users\\taitt.haugiang.VSS\\Desktop\\HN\\NGAY02102022\"\n",
    "# Tên file excel cần xử lý\n",
    "FileName_Excel = \"DULIEU HCSN-DN 02102022_CAIVSSID_TAI_2_XONG.xlsx\"\n",
    "result = pd.read_excel(folder_excel + \"\\\\\" + FileName_Excel, dtype=str)\n"
   ]
  },
  {
   "cell_type": "code",
   "execution_count": null,
   "id": "f9084a69",
   "metadata": {},
   "outputs": [],
   "source": [
    "actions = ActionChains(driver)\n",
    "i = 0\n",
    "while i < 1:\n",
    "        \n",
    "        Ma_BHXH = result.loc[i,\"soBhxh\"]       \n",
    "        driver.find_element_by_name('MaSoBhxh').send_keys(Ma_BHXH)    \n",
    "        WebDriverWait(driver,10).until(EC.element_to_be_clickable((By.XPATH,\"//button[contains(., 'Tra cứu')]\"))).click()\n",
    "        rows= WebDriverWait(driver, 20).until(EC.visibility_of_all_elements_located((By.XPATH, \"//table[@class='alternate tbl-home md-table ng-isolate-scope']/tbody//tr\")))  \n",
    "        for row in rows:               \n",
    "                stt = row.find_element_by_xpath('./td[1]').text\n",
    "                if stt == '1' :\n",
    "                        actions.double_click(row).perform()                   \n",
    "                        email = driver.find_element_by_xpath(\"//div[contains(text(),'@mailnesia.com')]\").text  \n",
    "                        #print(email)                     \n",
    "                        if email.split(\"@\")[1] == 'mailnesia.com' :\n",
    "                                print(\"item have true email\") \n",
    "                                check = driver.find_element_by_xpath(\"//button[contains(., ' Ghi nhận')]\")\n",
    "                                if check.is_enabled() == True :\n",
    "                                        check.click()\n",
    "                                        driver.find_element_by_xpath(\"//button[contains(., 'Thoát')]\").click()                                \n",
    "        i = i + 1       \n",
    "            \n",
    "  \n"
   ]
  }
 ],
 "metadata": {
  "kernelspec": {
   "display_name": "Python 3.8.1 64-bit",
   "language": "python",
   "name": "python3"
  },
  "language_info": {
   "codemirror_mode": {
    "name": "ipython",
    "version": 3
   },
   "file_extension": ".py",
   "mimetype": "text/x-python",
   "name": "python",
   "nbconvert_exporter": "python",
   "pygments_lexer": "ipython3",
   "version": "3.8.1"
  },
  "vscode": {
   "interpreter": {
    "hash": "7f36d96b16a80fe67a5bd5bd0b1969df9712b396977a3dcf3499eedc03b10903"
   }
  }
 },
 "nbformat": 4,
 "nbformat_minor": 5
}
