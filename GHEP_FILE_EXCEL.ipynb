{
 "cells": [
  {
   "cell_type": "code",
   "execution_count": 1,
   "id": "2178808d",
   "metadata": {},
   "outputs": [],
   "source": [
    "import pandas as pd\n",
    "import glob\n",
    "import matplotlib.pyplot as plt\n",
    "import numpy as np"
   ]
  },
  {
   "attachments": {},
   "cell_type": "markdown",
   "id": "e0ebe57f",
   "metadata": {},
   "source": [
    "Tổng hợp số liệu báo cáo giám định hàng tháng"
   ]
  },
  {
   "cell_type": "code",
   "execution_count": 2,
   "id": "cb3d6b3f",
   "metadata": {},
   "outputs": [],
   "source": [
    "files = [] # Biến chứa các dữ liệu file Excel sau khi tải vào dataframe\n",
    "file_list = glob.glob(r'C:\\Users\\Lenovo\\Desktop\\GOMFILe\\*.xlsx')"
   ]
  },
  {
   "cell_type": "code",
   "execution_count": 3,
   "id": "7772ae76",
   "metadata": {},
   "outputs": [],
   "source": [
    "for filename in file_list:\n",
    "    df = pd.concat(pd.read_excel(filename, sheet_name=None  ,dtype=str), ignore_index=True)\n",
    "    files.append(df)\n",
    "frame = pd.concat(files, axis=0, ignore_index=True)"
   ]
  },
  {
   "cell_type": "code",
   "execution_count": 4,
   "id": "124d3313",
   "metadata": {},
   "outputs": [],
   "source": [
    "data = frame"
   ]
  },
  {
   "cell_type": "code",
   "execution_count": 5,
   "id": "a701bcc3",
   "metadata": {},
   "outputs": [],
   "source": [
    "data.to_excel(r'C:\\Users\\Lenovo\\Desktop\\VSSID\\Excel\\GOMFILE.xlsx',index = False ) # xuất dữ liệu ra tập tin Excel"
   ]
  },
  {
   "cell_type": "code",
   "execution_count": null,
   "id": "643e482a",
   "metadata": {},
   "outputs": [],
   "source": [
    "files = []\n",
    "file_list = glob.glob(r'C:\\\\Users\\\\PC\\\\Desktop\\\\C7\\\\*.xlsx')\n",
    "for filename in file_list:\n",
    "    df = pd.concat(pd.read_excel(filename, sheet_name=None), ignore_index=True)\n",
    "    files.append(df)\n",
    "frame = pd.concat(files, axis=0, ignore_index=True)\n",
    "frame"
   ]
  },
  {
   "cell_type": "code",
   "execution_count": null,
   "id": "a5081f36",
   "metadata": {},
   "outputs": [],
   "source": [
    "folder_excel = r'C:\\Users\\PC\\Desktop\\C7'\n",
    "FileName_Excel = \"NGOAI_TONG_MUC.xlsx\"\n",
    "ignore_result = pd.read_excel(folder_excel + \"\\\\\" + FileName_Excel , dtype=str)\n",
    "\n",
    "\n",
    "\n",
    "folder_excel = r'C:\\Users\\PC\\Desktop\\DOI'\n",
    "FileName_Excel = \"LUOT_CHUYEN.xlsx\"\n",
    "result = pd.read_excel(folder_excel + \"\\\\\" + FileName_Excel , dtype=str)\n",
    "\n",
    "\n",
    "\n",
    "merged_df = pd.merge(ignore_result, result, on='XML_ID', how='inner')\n",
    "key_list = list(merged_df['XML_ID'].unique())\n",
    "key_list"
   ]
  },
  {
   "cell_type": "code",
   "execution_count": null,
   "id": "10fb28da",
   "metadata": {},
   "outputs": [],
   "source": [
    "folder_excel = r'C:\\Users\\PC\\Desktop\\DOI'\n",
    "FileName_Excel = \"DOI_MA_LOAI_KCB.xlsx\"\n",
    "result = pd.read_excel(folder_excel + \"\\\\\" + FileName_Excel , dtype=str)\n",
    "CHUYEN_MA_LOAI_KCB = result.shape[0]\n",
    "duplicate_rows = result[result.duplicated(subset=['KEY'])]\n",
    "value_map = result.set_index('KEY')['MA_LOAI_DOI'].to_dict()\n",
    "frame['MA_LOAI_KCB_CN'] = frame['KEY'].map(value_map).fillna(frame['MA_LOAI_KCB_CN'].astype(int))\n",
    "frame"
   ]
  },
  {
   "cell_type": "code",
   "execution_count": null,
   "id": "3b2987ef",
   "metadata": {},
   "outputs": [],
   "source": [
    "#folder_excel = r'C:\\Users\\PC\\Desktop\\DOI'\n",
    "FileName_Excel = \"DOI_MA_BENH.xlsx\"\n",
    "result = pd.read_excel(folder_excel + \"\\\\\" + FileName_Excel , dtype=str)\n",
    "CHUYEN_MA_BENH= result.shape[0]\n",
    "duplicate_rows_mb = result[result.duplicated(subset=['KEY'])]\n",
    "value_map = result.set_index('KEY')['MA_BENH'].to_dict()\n",
    "frame['MA_BENH'] = frame['KEY'].map(value_map).fillna(frame['MA_BENH'])\n",
    "frame"
   ]
  },
  {
   "cell_type": "code",
   "execution_count": null,
   "id": "274cb121",
   "metadata": {},
   "outputs": [],
   "source": [
    "#folder_excel = r'C:\\Users\\PC\\Desktop\\DOI'\n",
    "FileName_Excel = \"GHEP_LUOT.xlsx\"\n",
    "result = pd.read_excel(folder_excel + \"\\\\\" + FileName_Excel , dtype=str)\n",
    "duplicate_rows_ghep = result[result.duplicated(subset=['KEY'])]\n",
    "merged_df = frame.merge(result, on='KEY', how='left')\n",
    "TACH_LUOT = str(merged_df['TACH_LUOT'].notna().sum())\n",
    "frame.loc[merged_df['TACH_LUOT'].notna(), 'TINH_LUOT'] = 0\n",
    "frame"
   ]
  },
  {
   "cell_type": "code",
   "execution_count": null,
   "id": "35877a8b",
   "metadata": {},
   "outputs": [],
   "source": [
    "print(\"Danh sách trùng chuyển mã loại KCB\")\n",
    "print(duplicate_rows)\n",
    "print(\"Danh sách trùng chuyển mã bệnh\")\n",
    "print(duplicate_rows_mb)\n",
    "print(\"Danh sách trùng ghép lượt\")\n",
    "print(duplicate_rows_ghep)\n",
    "\n",
    "print(\"------------------------------------------------------\")\n",
    "print(\"Tổng số lượt chuyển mã loại KCB : \" + str(CHUYEN_MA_LOAI_KCB))\n",
    "print(\"------------------------------------------------------\")\n",
    "print(\"Tổng số lượt ghép : \" + TACH_LUOT)\n",
    "print(\"------------------------------------------------------\")\n",
    "print(\"Tổng số lượt chuyển mã bệnh : \" + CHUYEN_MA_BENH)\n",
    "print(\"------------------------------------------------------\")"
   ]
  }
 ],
 "metadata": {
  "interpreter": {
   "hash": "ee5cc6fef2d70a7e71ee3826687cbd150f18158e0b1eef11d4f4f92bb920e304"
  },
  "kernelspec": {
   "display_name": "Python 3.9.4 64-bit",
   "name": "python3"
  },
  "language_info": {
   "codemirror_mode": {
    "name": "ipython",
    "version": 3
   },
   "file_extension": ".py",
   "mimetype": "text/x-python",
   "name": "python",
   "nbconvert_exporter": "python",
   "pygments_lexer": "ipython3",
   "version": "3.9.4"
  }
 },
 "nbformat": 4,
 "nbformat_minor": 5
}
