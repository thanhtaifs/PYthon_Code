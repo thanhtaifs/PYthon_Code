{
 "cells": [
  {
   "cell_type": "code",
   "execution_count": 1,
   "id": "creative-disclosure",
   "metadata": {},
   "outputs": [],
   "source": [
    "import pandas as pd\n",
    "import glob\n",
    "import matplotlib.pyplot as plt\n",
    "import numpy as np\n",
    "import sqlite3"
   ]
  },
  {
   "cell_type": "markdown",
   "id": "5264c14d",
   "metadata": {},
   "source": [
    "#  Tổng hợp số liệu đa tuyến đi từ năm 2017 - 8 tháng năm 2021"
   ]
  },
  {
   "cell_type": "code",
   "execution_count": 19,
   "id": "635efb19",
   "metadata": {},
   "outputs": [],
   "source": [
    "# Read sqlite query results into a pandas DataFrame\n",
    "con = sqlite3.connect(r'D:\\DATACSDL\\CSDL\\2017\\93_20181114_201701_201712__bao_cao_bhyt7980a_dtdi.db')"
   ]
  },
  {
   "cell_type": "code",
   "execution_count": 20,
   "id": "39e8624f",
   "metadata": {},
   "outputs": [],
   "source": [
    "# Begin kiểm tra mã đăng ký ban đầu đối với bệnh viện chuyên khoa do hiện tại chưa có thẻ đăng ký ban đầu tại 2 CSCKB trên địa bàn tỉnh\n",
    "df = pd.read_sql_query(r'select MA_THE,sum(T_BHTT) from bhyt7980a_dtdi GROUP BY MA_THE', con)"
   ]
  },
  {
   "cell_type": "code",
   "execution_count": 21,
   "id": "f1d15ccc",
   "metadata": {},
   "outputs": [],
   "source": [
    "files = []"
   ]
  },
  {
   "cell_type": "code",
   "execution_count": 22,
   "id": "df945927",
   "metadata": {},
   "outputs": [],
   "source": [
    "files.append(df)"
   ]
  },
  {
   "cell_type": "code",
   "execution_count": 23,
   "id": "50f99aac",
   "metadata": {},
   "outputs": [],
   "source": [
    "# Read sqlite query results into a pandas DataFrame\n",
    "con = sqlite3.connect(r'D:\\DATACSDL\\CSDL\\2018\\93_20190114_201801_201812__bao_cao_bhyt7980a_dtdi.db')"
   ]
  },
  {
   "cell_type": "code",
   "execution_count": 24,
   "id": "41f0b225",
   "metadata": {},
   "outputs": [],
   "source": [
    "# Begin kiểm tra mã đăng ký ban đầu đối với bệnh viện chuyên khoa do hiện tại chưa có thẻ đăng ký ban đầu tại 2 CSCKB trên địa bàn tỉnh\n",
    "df = pd.read_sql_query(r'select MA_THE,sum(T_BHTT) from bhyt7980a_dtdi GROUP BY MA_THE', con)"
   ]
  },
  {
   "cell_type": "code",
   "execution_count": 25,
   "id": "4444e58e",
   "metadata": {},
   "outputs": [],
   "source": [
    "files.append(df)"
   ]
  },
  {
   "cell_type": "code",
   "execution_count": 26,
   "id": "20009090",
   "metadata": {},
   "outputs": [],
   "source": [
    "# Read sqlite query results into a pandas DataFrame\n",
    "con = sqlite3.connect(r'D:\\DATACSDL\\CSDL\\2019\\93_20200109_201901_201912__bao_cao_bhyt7980a_dtdi.db')"
   ]
  },
  {
   "cell_type": "code",
   "execution_count": 27,
   "id": "301798e8",
   "metadata": {},
   "outputs": [],
   "source": [
    "# Begin kiểm tra mã đăng ký ban đầu đối với bệnh viện chuyên khoa do hiện tại chưa có thẻ đăng ký ban đầu tại 2 CSCKB trên địa bàn tỉnh\n",
    "df = pd.read_sql_query(r'select MA_THE,sum(T_BHTT) from bhyt7980a_dtdi GROUP BY MA_THE', con)"
   ]
  },
  {
   "cell_type": "code",
   "execution_count": 28,
   "id": "8751b32d",
   "metadata": {},
   "outputs": [],
   "source": [
    "files.append(df)"
   ]
  },
  {
   "cell_type": "code",
   "execution_count": 29,
   "id": "830b963a",
   "metadata": {},
   "outputs": [],
   "source": [
    "# Read sqlite query results into a pandas DataFrame\n",
    "con = sqlite3.connect(r'D:\\DATACSDL\\CSDL\\2020\\93_20210110_202001_202012_bao_cao_bhyt7980a_dtdi.db')"
   ]
  },
  {
   "cell_type": "code",
   "execution_count": 30,
   "id": "ee1166da",
   "metadata": {},
   "outputs": [],
   "source": [
    "# Begin kiểm tra mã đăng ký ban đầu đối với bệnh viện chuyên khoa do hiện tại chưa có thẻ đăng ký ban đầu tại 2 CSCKB trên địa bàn tỉnh\n",
    "df = pd.read_sql_query(r'select MA_THE,sum(T_BHTT) from bhyt7980a_dtdi GROUP BY MA_THE', con)"
   ]
  },
  {
   "cell_type": "code",
   "execution_count": 31,
   "id": "1a0e40c4",
   "metadata": {},
   "outputs": [],
   "source": [
    "files.append(df)"
   ]
  },
  {
   "cell_type": "code",
   "execution_count": 32,
   "id": "7a0bc96a",
   "metadata": {},
   "outputs": [],
   "source": [
    "# Read sqlite query results into a pandas DataFrame\n",
    "con = sqlite3.connect(r'D:\\DATACSDL\\CSDL\\2021\\93_20210912_202101_202108_bao_cao_bhyt7980a_dtdi.db')"
   ]
  },
  {
   "cell_type": "code",
   "execution_count": 33,
   "id": "d7b0361d",
   "metadata": {},
   "outputs": [],
   "source": [
    "# Begin kiểm tra mã đăng ký ban đầu đối với bệnh viện chuyên khoa do hiện tại chưa có thẻ đăng ký ban đầu tại 2 CSCKB trên địa bàn tỉnh\n",
    "df = pd.read_sql_query(r'select MA_THE,sum(T_BHTT) from bhyt7980a_dtdi GROUP BY MA_THE', con)"
   ]
  },
  {
   "cell_type": "code",
   "execution_count": 34,
   "id": "87e0788b",
   "metadata": {},
   "outputs": [],
   "source": [
    "files.append(df)"
   ]
  },
  {
   "cell_type": "code",
   "execution_count": 35,
   "id": "bfd601fa",
   "metadata": {},
   "outputs": [],
   "source": [
    "frame = pd.concat(files, axis=0, ignore_index=True)\n",
    "DataOutput = frame\n",
    "DataOutput.to_excel(r'D:\\SOLIEU\\TONGHOPSOLIEUDATUYEN.xlsx')"
   ]
  },
  {
   "cell_type": "markdown",
   "id": "37fba9e0",
   "metadata": {},
   "source": [
    "# Tổng hợp số liệu năm 2016 "
   ]
  },
  {
   "cell_type": "code",
   "execution_count": 136,
   "id": "2e987ba8",
   "metadata": {},
   "outputs": [],
   "source": [
    "result = pd.read_excel(r'D:\\SOLIEU\\KHODULIEU\\DULIEUMABENH\\UNGTHU.xlsx')"
   ]
  },
  {
   "cell_type": "code",
   "execution_count": 137,
   "id": "3dec0298",
   "metadata": {},
   "outputs": [],
   "source": [
    "#result.head()"
   ]
  },
  {
   "cell_type": "code",
   "execution_count": 138,
   "id": "1ec9276b",
   "metadata": {},
   "outputs": [],
   "source": [
    "# Read All File Excel in Directory and merge all sheet in file excel to one Sheet\n",
    "file_list = glob.glob(r'D:\\SOLIEU\\2012\\DATA2012\\*.xlsx')\n",
    "# create list file excel\n",
    "files = []"
   ]
  },
  {
   "cell_type": "code",
   "execution_count": 139,
   "id": "70a38e77",
   "metadata": {},
   "outputs": [],
   "source": [
    "for filename in file_list:\n",
    "    df = pd.concat(pd.read_excel(filename, sheet_name=None), ignore_index=True)\n",
    "    files.append(df)\n",
    "frame = pd.concat(files, axis=0, ignore_index=True)"
   ]
  },
  {
   "cell_type": "code",
   "execution_count": 140,
   "id": "9fe23c48",
   "metadata": {},
   "outputs": [],
   "source": [
    "data = frame"
   ]
  },
  {
   "cell_type": "code",
   "execution_count": 141,
   "id": "44967c55",
   "metadata": {
    "scrolled": true
   },
   "outputs": [],
   "source": [
    "#data.head()\n",
    "#data.info()"
   ]
  },
  {
   "cell_type": "code",
   "execution_count": 142,
   "id": "e7d47d6f",
   "metadata": {},
   "outputs": [],
   "source": [
    "df_all = pd.merge(data, result, left_on=['mabenh'] , right_on= ['MA_BENH'] , how='left', indicator=True)"
   ]
  },
  {
   "cell_type": "code",
   "execution_count": 143,
   "id": "6b94db0c",
   "metadata": {},
   "outputs": [],
   "source": [
    "df_all = df_all[(df_all['_merge'] == \"both\")]"
   ]
  },
  {
   "cell_type": "code",
   "execution_count": 144,
   "id": "f481dd5a",
   "metadata": {
    "collapsed": true
   },
   "outputs": [
    {
     "data": {
      "text/html": [
       "<div>\n",
       "<style scoped>\n",
       "    .dataframe tbody tr th:only-of-type {\n",
       "        vertical-align: middle;\n",
       "    }\n",
       "\n",
       "    .dataframe tbody tr th {\n",
       "        vertical-align: top;\n",
       "    }\n",
       "\n",
       "    .dataframe thead th {\n",
       "        text-align: right;\n",
       "    }\n",
       "</style>\n",
       "<table border=\"1\" class=\"dataframe\">\n",
       "  <thead>\n",
       "    <tr style=\"text-align: right;\">\n",
       "      <th></th>\n",
       "      <th>stt</th>\n",
       "      <th>hoten</th>\n",
       "      <th>namsinh</th>\n",
       "      <th>gioitinh</th>\n",
       "      <th>mathe</th>\n",
       "      <th>ma_dkbd</th>\n",
       "      <th>mabenh</th>\n",
       "      <th>ngay_vao</th>\n",
       "      <th>ngay_ra</th>\n",
       "      <th>ngaydtr</th>\n",
       "      <th>...</th>\n",
       "      <th>gt_tu</th>\n",
       "      <th>gt_den</th>\n",
       "      <th>diachi</th>\n",
       "      <th>tuyen</th>\n",
       "      <th>tuyen_xa</th>\n",
       "      <th>matinh</th>\n",
       "      <th>madtcu</th>\n",
       "      <th>quy_qt</th>\n",
       "      <th>MA_BENH</th>\n",
       "      <th>_merge</th>\n",
       "    </tr>\n",
       "  </thead>\n",
       "  <tbody>\n",
       "    <tr>\n",
       "      <th>61</th>\n",
       "      <td>62</td>\n",
       "      <td>V­¬ng V¨n Thanh</td>\n",
       "      <td>1945</td>\n",
       "      <td>1</td>\n",
       "      <td>CK2930000800072</td>\n",
       "      <td>93001</td>\n",
       "      <td>C18</td>\n",
       "      <td>2012-06-27 00:00:00</td>\n",
       "      <td>-   -</td>\n",
       "      <td>0</td>\n",
       "      <td>...</td>\n",
       "      <td>-   -</td>\n",
       "      <td>-   -</td>\n",
       "      <td>NaN</td>\n",
       "      <td>1</td>\n",
       "      <td>NaN</td>\n",
       "      <td>93</td>\n",
       "      <td>NaN</td>\n",
       "      <td>3</td>\n",
       "      <td>C18</td>\n",
       "      <td>both</td>\n",
       "    </tr>\n",
       "    <tr>\n",
       "      <th>879</th>\n",
       "      <td>880</td>\n",
       "      <td>NguyÔn V¨n Trang</td>\n",
       "      <td>1929</td>\n",
       "      <td>1</td>\n",
       "      <td>BT4930100500165</td>\n",
       "      <td>93001</td>\n",
       "      <td>C18</td>\n",
       "      <td>2012-07-19 00:00:00</td>\n",
       "      <td>-   -</td>\n",
       "      <td>0</td>\n",
       "      <td>...</td>\n",
       "      <td>-   -</td>\n",
       "      <td>-   -</td>\n",
       "      <td>NaN</td>\n",
       "      <td>1</td>\n",
       "      <td>NaN</td>\n",
       "      <td>93</td>\n",
       "      <td>NaN</td>\n",
       "      <td>3</td>\n",
       "      <td>C18</td>\n",
       "      <td>both</td>\n",
       "    </tr>\n",
       "    <tr>\n",
       "      <th>1472</th>\n",
       "      <td>1473</td>\n",
       "      <td>NguyÔn Thanh S¬n</td>\n",
       "      <td>1980</td>\n",
       "      <td>1</td>\n",
       "      <td>CH7930011800011</td>\n",
       "      <td>93001</td>\n",
       "      <td>C76</td>\n",
       "      <td>2012-06-26 00:00:00</td>\n",
       "      <td>-   -</td>\n",
       "      <td>0</td>\n",
       "      <td>...</td>\n",
       "      <td>-   -</td>\n",
       "      <td>-   -</td>\n",
       "      <td>NaN</td>\n",
       "      <td>1</td>\n",
       "      <td>NaN</td>\n",
       "      <td>93</td>\n",
       "      <td>NaN</td>\n",
       "      <td>3</td>\n",
       "      <td>C76</td>\n",
       "      <td>both</td>\n",
       "    </tr>\n",
       "    <tr>\n",
       "      <th>1811</th>\n",
       "      <td>1812</td>\n",
       "      <td>Mai T Thanh Th¶o</td>\n",
       "      <td>1983</td>\n",
       "      <td>2</td>\n",
       "      <td>CH7930008100257</td>\n",
       "      <td>93001</td>\n",
       "      <td>C18</td>\n",
       "      <td>2012-07-03 00:00:00</td>\n",
       "      <td>-   -</td>\n",
       "      <td>0</td>\n",
       "      <td>...</td>\n",
       "      <td>-   -</td>\n",
       "      <td>-   -</td>\n",
       "      <td>NaN</td>\n",
       "      <td>1</td>\n",
       "      <td>NaN</td>\n",
       "      <td>93</td>\n",
       "      <td>NaN</td>\n",
       "      <td>3</td>\n",
       "      <td>C18</td>\n",
       "      <td>both</td>\n",
       "    </tr>\n",
       "    <tr>\n",
       "      <th>3018</th>\n",
       "      <td>3019</td>\n",
       "      <td>Huúnh Vò Thiªn Hµo</td>\n",
       "      <td>2011</td>\n",
       "      <td>1</td>\n",
       "      <td>TE1930004301067</td>\n",
       "      <td>93001</td>\n",
       "      <td>C76</td>\n",
       "      <td>2012-07-24 00:00:00</td>\n",
       "      <td>-   -</td>\n",
       "      <td>0</td>\n",
       "      <td>...</td>\n",
       "      <td>-   -</td>\n",
       "      <td>-   -</td>\n",
       "      <td>NaN</td>\n",
       "      <td>1</td>\n",
       "      <td>NaN</td>\n",
       "      <td>93</td>\n",
       "      <td>NaN</td>\n",
       "      <td>3</td>\n",
       "      <td>C76</td>\n",
       "      <td>both</td>\n",
       "    </tr>\n",
       "  </tbody>\n",
       "</table>\n",
       "<p>5 rows × 41 columns</p>\n",
       "</div>"
      ],
      "text/plain": [
       "       stt               hoten  namsinh  gioitinh            mathe ma_dkbd  \\\n",
       "61      62     V­¬ng V¨n Thanh     1945         1  CK2930000800072   93001   \n",
       "879    880    NguyÔn V¨n Trang     1929         1  BT4930100500165   93001   \n",
       "1472  1473    NguyÔn Thanh S¬n     1980         1  CH7930011800011   93001   \n",
       "1811  1812    Mai T Thanh Th¶o     1983         2  CH7930008100257   93001   \n",
       "3018  3019  Huúnh Vò Thiªn Hµo     2011         1  TE1930004301067   93001   \n",
       "\n",
       "     mabenh             ngay_vao  ngay_ra  ngaydtr  ...    gt_tu   gt_den  \\\n",
       "61      C18  2012-06-27 00:00:00    -   -        0  ...    -   -    -   -   \n",
       "879     C18  2012-07-19 00:00:00    -   -        0  ...    -   -    -   -   \n",
       "1472    C76  2012-06-26 00:00:00    -   -        0  ...    -   -    -   -   \n",
       "1811    C18  2012-07-03 00:00:00    -   -        0  ...    -   -    -   -   \n",
       "3018    C76  2012-07-24 00:00:00    -   -        0  ...    -   -    -   -   \n",
       "\n",
       "      diachi  tuyen  tuyen_xa  matinh  madtcu  quy_qt  MA_BENH  _merge  \n",
       "61       NaN      1       NaN      93     NaN       3      C18    both  \n",
       "879      NaN      1       NaN      93     NaN       3      C18    both  \n",
       "1472     NaN      1       NaN      93     NaN       3      C76    both  \n",
       "1811     NaN      1       NaN      93     NaN       3      C18    both  \n",
       "3018     NaN      1       NaN      93     NaN       3      C76    both  \n",
       "\n",
       "[5 rows x 41 columns]"
      ]
     },
     "execution_count": 144,
     "metadata": {},
     "output_type": "execute_result"
    }
   ],
   "source": [
    "df_all.head()"
   ]
  },
  {
   "cell_type": "markdown",
   "id": "5d7ebfaf",
   "metadata": {},
   "source": [
    "# Danh sách ung thư năm 2016"
   ]
  },
  {
   "cell_type": "code",
   "execution_count": 145,
   "id": "a3eef5f6",
   "metadata": {},
   "outputs": [],
   "source": [
    "DataOutput = df_all\n",
    "DataOutput.to_excel(r'D:\\SOLIEU\\2012\\OUTPUT\\UNGTHU.xlsx')"
   ]
  },
  {
   "cell_type": "code",
   "execution_count": 146,
   "id": "3475971e",
   "metadata": {},
   "outputs": [],
   "source": [
    "data = frame"
   ]
  },
  {
   "cell_type": "code",
   "execution_count": 147,
   "id": "f430a51a",
   "metadata": {},
   "outputs": [],
   "source": [
    "result = pd.read_excel(r'D:\\SOLIEU\\KHODULIEU\\DULIEUMABENH\\LOCTHAN.xlsx')"
   ]
  },
  {
   "cell_type": "code",
   "execution_count": 148,
   "id": "cc50f1db",
   "metadata": {},
   "outputs": [],
   "source": [
    "df_all = pd.merge(data, result, left_on=['mabenh'] , right_on= ['MA_BENH'] , how='left', indicator=True)"
   ]
  },
  {
   "cell_type": "code",
   "execution_count": 149,
   "id": "dccf7414",
   "metadata": {},
   "outputs": [],
   "source": [
    "df_all = df_all[(df_all['_merge'] == \"both\")  & (df_all['t_pttt'] > 0)]"
   ]
  },
  {
   "cell_type": "markdown",
   "id": "bcaf0168",
   "metadata": {},
   "source": [
    "# Danh sách lọc thận năm 2016"
   ]
  },
  {
   "cell_type": "code",
   "execution_count": 150,
   "id": "25b044c4",
   "metadata": {},
   "outputs": [],
   "source": [
    "# Export Data to Excel\n",
    "DataOutput = df_all\n",
    "DataOutput.to_excel(r'D:\\SOLIEU\\2012\\OUTPUT\\LOCTHAN.xlsx')"
   ]
  },
  {
   "cell_type": "markdown",
   "id": "879f69a5",
   "metadata": {},
   "source": [
    "# Danh sách bệnh tim năm 2016"
   ]
  },
  {
   "cell_type": "code",
   "execution_count": 151,
   "id": "bba02fe9",
   "metadata": {},
   "outputs": [],
   "source": [
    "data = frame"
   ]
  },
  {
   "cell_type": "code",
   "execution_count": 152,
   "id": "ef96c952",
   "metadata": {},
   "outputs": [],
   "source": [
    "result = pd.read_excel(r'D:\\SOLIEU\\KHODULIEU\\DULIEUMABENH\\TIM.xlsx')"
   ]
  },
  {
   "cell_type": "code",
   "execution_count": 153,
   "id": "714b96c2",
   "metadata": {},
   "outputs": [],
   "source": [
    "df_all = pd.merge(data, result, left_on=['mabenh'] , right_on= ['MA_BENH'] , how='left', indicator=True)"
   ]
  },
  {
   "cell_type": "code",
   "execution_count": 154,
   "id": "36d048e4",
   "metadata": {},
   "outputs": [],
   "source": [
    "df_all = df_all[(df_all['_merge'] == \"both\")  & (df_all['t_pttt'] > 0)]"
   ]
  },
  {
   "cell_type": "code",
   "execution_count": 155,
   "id": "a25863c7",
   "metadata": {},
   "outputs": [],
   "source": [
    "# Export Data to Excel\n",
    "DataOutput = df_all\n",
    "DataOutput.to_excel(r'D:\\SOLIEU\\2012\\OUTPUT\\TIM.xlsx')"
   ]
  },
  {
   "cell_type": "markdown",
   "id": "b4964b11",
   "metadata": {},
   "source": [
    "# Danh sách ngoại khoa năm 2016"
   ]
  },
  {
   "cell_type": "code",
   "execution_count": 156,
   "id": "91bcde48",
   "metadata": {},
   "outputs": [],
   "source": [
    "data = frame"
   ]
  },
  {
   "cell_type": "code",
   "execution_count": 157,
   "id": "1762e3c4",
   "metadata": {},
   "outputs": [],
   "source": [
    "df_all =  data[(data['t_pttt'] > 400000)]"
   ]
  },
  {
   "cell_type": "code",
   "execution_count": 158,
   "id": "5054a481",
   "metadata": {},
   "outputs": [],
   "source": [
    "# Export Data to Excel\n",
    "DataOutput = df_all\n",
    "DataOutput.to_excel(r'D:\\SOLIEU\\2012\\OUTPUT\\NGOAIKHOA.xlsx')"
   ]
  },
  {
   "cell_type": "markdown",
   "id": "85ac04ee",
   "metadata": {},
   "source": [
    "# Ghép dữ liệu từ năm 2012 - 2016"
   ]
  },
  {
   "cell_type": "code",
   "execution_count": 2,
   "id": "4ee276bb",
   "metadata": {},
   "outputs": [],
   "source": [
    "# Read All File Excel in Directory and merge all sheet in file excel to one Sheet\n",
    "file_list = glob.glob(r'D:\\SOLIEU\\2016\\DULIEUBHXHVN\\DATA\\*.xlsx')\n",
    "# create list file excel\n",
    "files = []"
   ]
  },
  {
   "cell_type": "code",
   "execution_count": 3,
   "id": "64d364a4",
   "metadata": {
    "scrolled": true
   },
   "outputs": [],
   "source": [
    "for filename in file_list:\n",
    "    df = pd.concat(pd.read_excel(filename, sheet_name=None), ignore_index=True)\n",
    "    files.append(df)\n",
    "frame = pd.concat(files, axis=0, ignore_index=True)"
   ]
  },
  {
   "cell_type": "code",
   "execution_count": 13,
   "id": "47e60b19",
   "metadata": {
    "scrolled": true
   },
   "outputs": [],
   "source": [
    "List2016 = frame[\"ma_the\", \"t_bhtt\"]"
   ]
  },
  {
   "cell_type": "code",
   "execution_count": 7,
   "id": "39279ebe",
   "metadata": {
    "collapsed": true
   },
   "outputs": [
    {
     "data": {
      "text/html": [
       "<div>\n",
       "<style scoped>\n",
       "    .dataframe tbody tr th:only-of-type {\n",
       "        vertical-align: middle;\n",
       "    }\n",
       "\n",
       "    .dataframe tbody tr th {\n",
       "        vertical-align: top;\n",
       "    }\n",
       "\n",
       "    .dataframe thead th {\n",
       "        text-align: right;\n",
       "    }\n",
       "</style>\n",
       "<table border=\"1\" class=\"dataframe\">\n",
       "  <thead>\n",
       "    <tr style=\"text-align: right;\">\n",
       "      <th></th>\n",
       "      <th>ma_the</th>\n",
       "      <th>t_bhtt</th>\n",
       "    </tr>\n",
       "  </thead>\n",
       "  <tbody>\n",
       "    <tr>\n",
       "      <th>0</th>\n",
       "      <td>BT1930100800317</td>\n",
       "      <td>23980</td>\n",
       "    </tr>\n",
       "    <tr>\n",
       "      <th>1</th>\n",
       "      <td>BT1930203600023</td>\n",
       "      <td>11470</td>\n",
       "    </tr>\n",
       "    <tr>\n",
       "      <th>2</th>\n",
       "      <td>BT2910700313467</td>\n",
       "      <td>10000</td>\n",
       "    </tr>\n",
       "    <tr>\n",
       "      <th>3</th>\n",
       "      <td>BT2910700313511</td>\n",
       "      <td>7000</td>\n",
       "    </tr>\n",
       "    <tr>\n",
       "      <th>4</th>\n",
       "      <td>BT2910700313511</td>\n",
       "      <td>100200</td>\n",
       "    </tr>\n",
       "    <tr>\n",
       "      <th>...</th>\n",
       "      <td>...</td>\n",
       "      <td>...</td>\n",
       "    </tr>\n",
       "    <tr>\n",
       "      <th>1632393</th>\n",
       "      <td>GD4910701516719</td>\n",
       "      <td>290813</td>\n",
       "    </tr>\n",
       "    <tr>\n",
       "      <th>1632394</th>\n",
       "      <td>GD4910100509871</td>\n",
       "      <td>219840</td>\n",
       "    </tr>\n",
       "    <tr>\n",
       "      <th>1632395</th>\n",
       "      <td>BT2910700407288</td>\n",
       "      <td>1025848</td>\n",
       "    </tr>\n",
       "    <tr>\n",
       "      <th>1632396</th>\n",
       "      <td>GD4910100321327</td>\n",
       "      <td>160650</td>\n",
       "    </tr>\n",
       "    <tr>\n",
       "      <th>1632397</th>\n",
       "      <td>GD4910800405686</td>\n",
       "      <td>465502</td>\n",
       "    </tr>\n",
       "  </tbody>\n",
       "</table>\n",
       "<p>1632398 rows × 2 columns</p>\n",
       "</div>"
      ],
      "text/plain": [
       "                  ma_the   t_bhtt\n",
       "0        BT1930100800317    23980\n",
       "1        BT1930203600023    11470\n",
       "2        BT2910700313467    10000\n",
       "3        BT2910700313511     7000\n",
       "4        BT2910700313511   100200\n",
       "...                  ...      ...\n",
       "1632393  GD4910701516719   290813\n",
       "1632394  GD4910100509871   219840\n",
       "1632395  BT2910700407288  1025848\n",
       "1632396  GD4910100321327   160650\n",
       "1632397  GD4910800405686   465502\n",
       "\n",
       "[1632398 rows x 2 columns]"
      ]
     },
     "execution_count": 7,
     "metadata": {},
     "output_type": "execute_result"
    }
   ],
   "source": [
    "List2016"
   ]
  },
  {
   "cell_type": "code",
   "execution_count": 14,
   "id": "f2c57cab",
   "metadata": {},
   "outputs": [],
   "source": [
    "DataOutput = List2016.sort_values(by='t_bhtt', ascending=False)"
   ]
  },
  {
   "cell_type": "code",
   "execution_count": 16,
   "id": "1d666a25",
   "metadata": {},
   "outputs": [],
   "source": [
    "DataOutput.head(10).to_excel(r'D:\\SOLIEU\\2016\\DULIEUBHXHVN\\CHIPHICAO.xlsx')"
   ]
  },
  {
   "cell_type": "markdown",
   "id": "6a96341f",
   "metadata": {},
   "source": [
    "# Chi phí cao trong và ngoài tỉnh"
   ]
  },
  {
   "cell_type": "code",
   "execution_count": null,
   "id": "70429faa",
   "metadata": {},
   "outputs": [],
   "source": [
    "# lưu trữ các dữ liệu sau khi kết xuất\n",
    "files = []"
   ]
  },
  {
   "cell_type": "code",
   "execution_count": 2,
   "id": "c46e427b",
   "metadata": {},
   "outputs": [],
   "source": [
    "# Năm 2020 đa tuyến đi\n",
    "con = sqlite3.connect(r'D:\\DATACSDL\\CSDL\\2020\\93_20210110_202001_202012_bao_cao_bhyt7980a_dtdi.db')"
   ]
  },
  {
   "cell_type": "code",
   "execution_count": 3,
   "id": "38d09d60",
   "metadata": {},
   "outputs": [],
   "source": [
    "df = pd.read_sql_query(r'select MA_THE,sum(T_BHTT) from bhyt7980a_dtdi WHERE SUBSTR(MA_THE,1,2) IN (\"HS\",\"SV\") GROUP BY MA_THE', con)"
   ]
  },
  {
   "cell_type": "code",
   "execution_count": 5,
   "id": "f23e2127",
   "metadata": {},
   "outputs": [],
   "source": [
    "files.append(df)"
   ]
  },
  {
   "cell_type": "code",
   "execution_count": 6,
   "id": "af3b941b",
   "metadata": {},
   "outputs": [],
   "source": [
    "# năm 2019 và năm 2020 trong tỉnh\n",
    "con = sqlite3.connect(r'D:\\DATACSDL\\CSDL\\SL2019-2002Final_GIAMSAT\\93_20210907_201901_202012_bao_cao_gsgd_bhyt7980b_final.db')"
   ]
  },
  {
   "cell_type": "code",
   "execution_count": 7,
   "id": "152119c6",
   "metadata": {},
   "outputs": [],
   "source": [
    "df = pd.read_sql_query(r'select MA_THE,sum(T_BHTT) from gsgd_bhyt7980b_final WHERE SUBSTR(MA_THE,1,2) IN (\"HS\",\"SV\") AND NAM_QT = 2020 GROUP BY MA_THE', con)"
   ]
  },
  {
   "cell_type": "code",
   "execution_count": 8,
   "id": "057ffcf6",
   "metadata": {},
   "outputs": [],
   "source": [
    "files.append(df)"
   ]
  },
  {
   "cell_type": "code",
   "execution_count": 9,
   "id": "bab68ce9",
   "metadata": {},
   "outputs": [],
   "source": [
    "# 8 tháng đầu năm 2021 trong tỉnh\n",
    "con = sqlite3.connect(r'D:\\DATACSDL\\CSDL\\2021\\93_20210912_202101_202108_bao_cao_bhyt7980a.db')"
   ]
  },
  {
   "cell_type": "code",
   "execution_count": 10,
   "id": "5e5f4728",
   "metadata": {},
   "outputs": [],
   "source": [
    "df = pd.read_sql_query(r'select MA_THE,sum(T_BHTT) from bhyt7980a WHERE SUBSTR(MA_THE,1,2) IN (\"HS\",\"SV\") AND KY_QT BETWEEN 202101 AND 202107 GROUP BY MA_THE', con)"
   ]
  },
  {
   "cell_type": "code",
   "execution_count": 11,
   "id": "16c34b01",
   "metadata": {},
   "outputs": [],
   "source": [
    "files.append(df)"
   ]
  },
  {
   "cell_type": "code",
   "execution_count": 12,
   "id": "87fd0e06",
   "metadata": {},
   "outputs": [],
   "source": [
    "# 8 tháng đầu năm 2021 đa tuyến đi\n",
    "con = sqlite3.connect(r'D:\\DATACSDL\\CSDL\\2021\\93_20210912_202101_202108_bao_cao_bhyt7980a_dtdi.db')"
   ]
  },
  {
   "cell_type": "code",
   "execution_count": 13,
   "id": "0e1e3b67",
   "metadata": {},
   "outputs": [],
   "source": [
    "df = pd.read_sql_query(r'select MA_THE,sum(T_BHTT) from bhyt7980a_dtdi WHERE SUBSTR(MA_THE,1,2) IN (\"HS\",\"SV\") AND KY_QT BETWEEN 202101 AND 202107 GROUP BY MA_THE', con)"
   ]
  },
  {
   "cell_type": "code",
   "execution_count": 14,
   "id": "2bf2da5e",
   "metadata": {},
   "outputs": [],
   "source": [
    "files.append(df)"
   ]
  },
  {
   "cell_type": "code",
   "execution_count": 16,
   "id": "3f0c33c9",
   "metadata": {},
   "outputs": [],
   "source": [
    "result = frame.groupby(['MA_THE']).sum()"
   ]
  },
  {
   "cell_type": "code",
   "execution_count": 17,
   "id": "8d337751",
   "metadata": {
    "collapsed": true
   },
   "outputs": [
    {
     "data": {
      "text/html": [
       "<div>\n",
       "<style scoped>\n",
       "    .dataframe tbody tr th:only-of-type {\n",
       "        vertical-align: middle;\n",
       "    }\n",
       "\n",
       "    .dataframe tbody tr th {\n",
       "        vertical-align: top;\n",
       "    }\n",
       "\n",
       "    .dataframe thead th {\n",
       "        text-align: right;\n",
       "    }\n",
       "</style>\n",
       "<table border=\"1\" class=\"dataframe\">\n",
       "  <thead>\n",
       "    <tr style=\"text-align: right;\">\n",
       "      <th></th>\n",
       "      <th>sum(T_BHTT)</th>\n",
       "    </tr>\n",
       "    <tr>\n",
       "      <th>MA_THE</th>\n",
       "      <th></th>\n",
       "    </tr>\n",
       "  </thead>\n",
       "  <tbody>\n",
       "    <tr>\n",
       "      <th>HS4939321648485</th>\n",
       "      <td>348,510,455.92</td>\n",
       "    </tr>\n",
       "    <tr>\n",
       "      <th>HS4939321099516</th>\n",
       "      <td>332,144,439.18</td>\n",
       "    </tr>\n",
       "    <tr>\n",
       "      <th>HS4939122656701</th>\n",
       "      <td>312,340,503.18</td>\n",
       "    </tr>\n",
       "    <tr>\n",
       "      <th>HS4939320980249</th>\n",
       "      <td>253,022,958.55</td>\n",
       "    </tr>\n",
       "    <tr>\n",
       "      <th>HS4939321800853</th>\n",
       "      <td>199,096,078.12</td>\n",
       "    </tr>\n",
       "    <tr>\n",
       "      <th>HS4939320940629</th>\n",
       "      <td>171,349,760.82</td>\n",
       "    </tr>\n",
       "    <tr>\n",
       "      <th>HS4939321681470</th>\n",
       "      <td>98,320,866.71</td>\n",
       "    </tr>\n",
       "    <tr>\n",
       "      <th>HS4939321704832</th>\n",
       "      <td>94,863,842.74</td>\n",
       "    </tr>\n",
       "    <tr>\n",
       "      <th>HS4939321823304</th>\n",
       "      <td>92,474,346.00</td>\n",
       "    </tr>\n",
       "    <tr>\n",
       "      <th>HS4939320838144</th>\n",
       "      <td>85,605,728.68</td>\n",
       "    </tr>\n",
       "  </tbody>\n",
       "</table>\n",
       "</div>"
      ],
      "text/plain": [
       "                   sum(T_BHTT)\n",
       "MA_THE                        \n",
       "HS4939321648485 348,510,455.92\n",
       "HS4939321099516 332,144,439.18\n",
       "HS4939122656701 312,340,503.18\n",
       "HS4939320980249 253,022,958.55\n",
       "HS4939321800853 199,096,078.12\n",
       "HS4939320940629 171,349,760.82\n",
       "HS4939321681470  98,320,866.71\n",
       "HS4939321704832  94,863,842.74\n",
       "HS4939321823304  92,474,346.00\n",
       "HS4939320838144  85,605,728.68"
      ]
     },
     "execution_count": 17,
     "metadata": {},
     "output_type": "execute_result"
    }
   ],
   "source": [
    "# sắp xếp theo giá trị giảm dần\n",
    "DataOutput = result.sort_values(by='sum(T_BHTT)', ascending=False)\n",
    "# định dạng lại kiểu phân cách\n",
    "pd.options.display.float_format = '{:,.2f}'.format"
   ]
  },
  {
   "cell_type": "code",
   "execution_count": 18,
   "id": "7fb524b4",
   "metadata": {},
   "outputs": [],
   "source": [
    "# Xuất ra danh sách 10 người đầu tiên\n",
    "DataOutput.head(10).to_excel(r'D:\\SOLIEU\\CHIPHICAO200-7THANG2021.xlsx')"
   ]
  }
 ],
 "metadata": {
  "kernelspec": {
   "display_name": "Python 3",
   "language": "python",
   "name": "python3"
  },
  "language_info": {
   "codemirror_mode": {
    "name": "ipython",
    "version": 3
   },
   "file_extension": ".py",
   "mimetype": "text/x-python",
   "name": "python",
   "nbconvert_exporter": "python",
   "pygments_lexer": "ipython3",
   "version": "3.8.8"
  }
 },
 "nbformat": 4,
 "nbformat_minor": 5
}
