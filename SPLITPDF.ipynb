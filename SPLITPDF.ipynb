{
 "cells": [
  {
   "cell_type": "code",
   "execution_count": 8,
   "id": "3aae2c3e",
   "metadata": {},
   "outputs": [
    {
     "name": "stdout",
     "output_type": "stream",
     "text": [
      "[0, 1, 2, 3, 4, 5, 6]\n",
      "pdf file has been split\n"
     ]
    }
   ],
   "source": [
    "import os\n",
    "from PyPDF2 import PdfFileReader, PdfFileWriter\n",
    "\n",
    "path = r\"C:\\Users\\taitt.haugiang.VSS\\Desktop\\PDF\\33546_1996.TTr-BHXH.pdf\"\n",
    "\n",
    "pdf = PdfFileReader(path, \"rb\")\n",
    "pdflist = []\n",
    "pdf_writer = PdfFileWriter()\n",
    "\n",
    "for page in range(0,7):\n",
    "    pdflist.append(page)\n",
    "    pdf_writer.addPage(pdf.getPage(page))\n",
    "\n",
    "print(pdflist)\n",
    "\n",
    "output_filename = r\"C:\\Users\\taitt.haugiang.VSS\\Desktop\\New folder\\split.pdf\"\n",
    "\n",
    "with open(output_filename, 'wb') as out:\n",
    "    pdf_writer.write(out)\n",
    "\n",
    "print (\"pdf file has been split\")"
   ]
  }
 ],
 "metadata": {
  "kernelspec": {
   "display_name": "Python 3.8.1 64-bit",
   "language": "python",
   "name": "python3"
  },
  "language_info": {
   "codemirror_mode": {
    "name": "ipython",
    "version": 3
   },
   "file_extension": ".py",
   "mimetype": "text/x-python",
   "name": "python",
   "nbconvert_exporter": "python",
   "pygments_lexer": "ipython3",
   "version": "3.8.1"
  },
  "vscode": {
   "interpreter": {
    "hash": "7f36d96b16a80fe67a5bd5bd0b1969df9712b396977a3dcf3499eedc03b10903"
   }
  }
 },
 "nbformat": 4,
 "nbformat_minor": 5
}
