{
 "cells": [
  {
   "cell_type": "code",
   "execution_count": 6,
   "metadata": {},
   "outputs": [],
   "source": [
    "import pandas as pd\n",
    "import unicodedata\n",
    "#result = pd.read_excel(r'C:\\Users\\Lenovo\\Desktop\\VSSID\\Excel\\DANHSACHKHONGTIMTHAY_REF.xlsx', dtype=str)\n"
   ]
  },
  {
   "cell_type": "code",
   "execution_count": 124,
   "id": "fb440f67",
   "metadata": {},
   "outputs": [],
   "source": [
    "from pathlib import Path\n",
    "new_path = r'C:\\Users\\Lenovo\\Desktop\\VSSID\\PDF'\n",
    "for index, row in result.iterrows():\n",
    "    file_name = row['LINKFILE']\n",
    "    Desktop = Path(r'C:\\Users\\Lenovo\\Desktop\\Data\\TTDVVL\\2019' + '\\\\' + row['folder'] + \"\\\\\" + file_name + \".pdf\")\n",
    "    #print(file_name)\n",
    "    Desktop_new = Path(r'C:\\Users\\Lenovo\\Desktop\\VSSID\\PDF' + \"\\\\\" + file_name + \".pdf\")\n",
    "    shutil.copy(Desktop,Desktop_new)\n",
    "    "
   ]
  },
  {
   "cell_type": "code",
   "execution_count": 2,
   "id": "9b6547e3",
   "metadata": {},
   "outputs": [],
   "source": [
    "from cryptography.fernet import Fernet\n",
    "import pandas as pd"
   ]
  },
  {
   "cell_type": "code",
   "execution_count": 38,
   "metadata": {},
   "outputs": [
    {
     "data": {
      "text/html": [
       "<div>\n",
       "<style scoped>\n",
       "    .dataframe tbody tr th:only-of-type {\n",
       "        vertical-align: middle;\n",
       "    }\n",
       "\n",
       "    .dataframe tbody tr th {\n",
       "        vertical-align: top;\n",
       "    }\n",
       "\n",
       "    .dataframe thead th {\n",
       "        text-align: right;\n",
       "    }\n",
       "</style>\n",
       "<table border=\"1\" class=\"dataframe\">\n",
       "  <thead>\n",
       "    <tr style=\"text-align: right;\">\n",
       "      <th></th>\n",
       "      <th>Name</th>\n",
       "      <th>Age</th>\n",
       "      <th>Salary</th>\n",
       "    </tr>\n",
       "  </thead>\n",
       "  <tbody>\n",
       "    <tr>\n",
       "      <th>0</th>\n",
       "      <td>Alice</td>\n",
       "      <td>25</td>\n",
       "      <td>b'gAAAAABlBlT-o1dYO2sBBjGvikUaVpetnae2Uyo4befF...</td>\n",
       "    </tr>\n",
       "    <tr>\n",
       "      <th>1</th>\n",
       "      <td>Bob</td>\n",
       "      <td>30</td>\n",
       "      <td>b'gAAAAABlBlT-HAztnTaTNisZ7-2zGtf_1MlOjJ2Stf_g...</td>\n",
       "    </tr>\n",
       "    <tr>\n",
       "      <th>2</th>\n",
       "      <td>Charlie</td>\n",
       "      <td>35</td>\n",
       "      <td>b'gAAAAABlBlT-QEQqAkJEdHxR6TqrDLmDDOR66CknKxoO...</td>\n",
       "    </tr>\n",
       "  </tbody>\n",
       "</table>\n",
       "</div>"
      ],
      "text/plain": [
       "      Name  Age                                             Salary\n",
       "0    Alice   25  b'gAAAAABlBlT-o1dYO2sBBjGvikUaVpetnae2Uyo4befF...\n",
       "1      Bob   30  b'gAAAAABlBlT-HAztnTaTNisZ7-2zGtf_1MlOjJ2Stf_g...\n",
       "2  Charlie   35  b'gAAAAABlBlT-QEQqAkJEdHxR6TqrDLmDDOR66CknKxoO..."
      ]
     },
     "execution_count": 38,
     "metadata": {},
     "output_type": "execute_result"
    }
   ],
   "source": [
    "key = b'A5hhEj9WQKL1Vqvs8p3cfnBlr3T-6RiwP0X4e7z33DA='\n",
    "#key = Fernet.generate_key()       \n",
    "cipher_suite = Fernet(key)\n",
    "data = {'Name': ['Alice', 'Bob', 'Charlie'],\n",
    "                'Age': [25, 30, 35],\n",
    "                'Salary': [50000, 60000, 0]\n",
    "        }\n",
    "df = pd.DataFrame(data)\n",
    "encrypted_data = df.iloc[:, 2:].apply(lambda x: x.map(lambda val: cipher_suite.encrypt(str(val).encode())))     \n",
    "result_df = pd.concat([df[['Name','Age']], encrypted_data], axis=1)\n",
    "result_df     \n",
    " \n"
   ]
  },
  {
   "cell_type": "code",
   "execution_count": 19,
   "id": "c5584b3e",
   "metadata": {},
   "outputs": [],
   "source": [
    "result_df.to_excel(r'C:\\Users\\PC\\Desktop\\EN\\encrypted_data.xlsx',index = False)     "
   ]
  },
  {
   "cell_type": "code",
   "execution_count": 20,
   "id": "d54947b0",
   "metadata": {},
   "outputs": [],
   "source": [
    "import ast\n",
    "def convert_to_bytes(byte_string):\n",
    "    try:\n",
    "        return ast.literal_eval(byte_string)\n",
    "    except (ValueError, SyntaxError):\n",
    "        return None"
   ]
  },
  {
   "cell_type": "code",
   "execution_count": 25,
   "id": "e2527784",
   "metadata": {},
   "outputs": [
    {
     "data": {
      "text/html": [
       "<div>\n",
       "<style scoped>\n",
       "    .dataframe tbody tr th:only-of-type {\n",
       "        vertical-align: middle;\n",
       "    }\n",
       "\n",
       "    .dataframe tbody tr th {\n",
       "        vertical-align: top;\n",
       "    }\n",
       "\n",
       "    .dataframe thead th {\n",
       "        text-align: right;\n",
       "    }\n",
       "</style>\n",
       "<table border=\"1\" class=\"dataframe\">\n",
       "  <thead>\n",
       "    <tr style=\"text-align: right;\">\n",
       "      <th></th>\n",
       "      <th>Name</th>\n",
       "      <th>Age</th>\n",
       "      <th>Salary</th>\n",
       "    </tr>\n",
       "  </thead>\n",
       "  <tbody>\n",
       "    <tr>\n",
       "      <th>0</th>\n",
       "      <td>Alice</td>\n",
       "      <td>b'gAAAAABlBlLP86ylkRxandkiNM8Z-dKMKhwHjw0_wGYA...</td>\n",
       "      <td>b'gAAAAABlBlLPWSD8c1c5fdeErsP69wTbYuycjXZ02UHw...</td>\n",
       "    </tr>\n",
       "    <tr>\n",
       "      <th>1</th>\n",
       "      <td>Bob</td>\n",
       "      <td>b'gAAAAABlBlLPyiv_gUpsqRS7RieUbk7yiDQdy3QHY2Tc...</td>\n",
       "      <td>b'gAAAAABlBlLP4YqkgdjTgANFUfvD-XpGeZbHP0ie4EcQ...</td>\n",
       "    </tr>\n",
       "    <tr>\n",
       "      <th>2</th>\n",
       "      <td>Charlie</td>\n",
       "      <td>b'gAAAAABlBlLPkA2FTA18vZS6tZViVNCnVk2ALussM1-y...</td>\n",
       "      <td>b'gAAAAABlBlLPmQlMGCQ09byrNbhCxRI2H2Ayfm5O5IXq...</td>\n",
       "    </tr>\n",
       "  </tbody>\n",
       "</table>\n",
       "</div>"
      ],
      "text/plain": [
       "      Name                                                Age  \\\n",
       "0    Alice  b'gAAAAABlBlLP86ylkRxandkiNM8Z-dKMKhwHjw0_wGYA...   \n",
       "1      Bob  b'gAAAAABlBlLPyiv_gUpsqRS7RieUbk7yiDQdy3QHY2Tc...   \n",
       "2  Charlie  b'gAAAAABlBlLPkA2FTA18vZS6tZViVNCnVk2ALussM1-y...   \n",
       "\n",
       "                                              Salary  \n",
       "0  b'gAAAAABlBlLPWSD8c1c5fdeErsP69wTbYuycjXZ02UHw...  \n",
       "1  b'gAAAAABlBlLP4YqkgdjTgANFUfvD-XpGeZbHP0ie4EcQ...  \n",
       "2  b'gAAAAABlBlLPmQlMGCQ09byrNbhCxRI2H2Ayfm5O5IXq...  "
      ]
     },
     "execution_count": 25,
     "metadata": {},
     "output_type": "execute_result"
    }
   ],
   "source": [
    "key = b'A5hhEj9WQKL1Vqvs8p3cfnBlr3T-6RiwP0X4e7z33DA='\n",
    "cipher_suite = Fernet(key)  \n",
    "encrypted_data_excel = pd.read_excel(r'C:\\Users\\PC\\Desktop\\EN\\encrypted_data.xlsx')  \n",
    "for column in encrypted_data_excel.columns[1:]:\n",
    "    encrypted_data_excel[column] = encrypted_data_excel[column].apply(convert_to_bytes)\n",
    "encrypted_data_excel\n"
   ]
  },
  {
   "cell_type": "code",
   "execution_count": 27,
   "id": "3f8ed252",
   "metadata": {},
   "outputs": [
    {
     "data": {
      "text/html": [
       "<div>\n",
       "<style scoped>\n",
       "    .dataframe tbody tr th:only-of-type {\n",
       "        vertical-align: middle;\n",
       "    }\n",
       "\n",
       "    .dataframe tbody tr th {\n",
       "        vertical-align: top;\n",
       "    }\n",
       "\n",
       "    .dataframe thead th {\n",
       "        text-align: right;\n",
       "    }\n",
       "</style>\n",
       "<table border=\"1\" class=\"dataframe\">\n",
       "  <thead>\n",
       "    <tr style=\"text-align: right;\">\n",
       "      <th></th>\n",
       "      <th>Name</th>\n",
       "      <th>Age</th>\n",
       "      <th>Salary</th>\n",
       "    </tr>\n",
       "  </thead>\n",
       "  <tbody>\n",
       "    <tr>\n",
       "      <th>0</th>\n",
       "      <td>Alice</td>\n",
       "      <td>25</td>\n",
       "      <td>50000</td>\n",
       "    </tr>\n",
       "    <tr>\n",
       "      <th>1</th>\n",
       "      <td>Bob</td>\n",
       "      <td>30</td>\n",
       "      <td>60000</td>\n",
       "    </tr>\n",
       "    <tr>\n",
       "      <th>2</th>\n",
       "      <td>Charlie</td>\n",
       "      <td>35</td>\n",
       "      <td>75000</td>\n",
       "    </tr>\n",
       "  </tbody>\n",
       "</table>\n",
       "</div>"
      ],
      "text/plain": [
       "      Name Age Salary\n",
       "0    Alice  25  50000\n",
       "1      Bob  30  60000\n",
       "2  Charlie  35  75000"
      ]
     },
     "execution_count": 27,
     "metadata": {},
     "output_type": "execute_result"
    }
   ],
   "source": [
    "# decrypted_data = encrypted_data_excel.applymap(lambda x: cipher_suite.decrypt(x).decode('utf-8'))   \n",
    "# decrypted_data\n",
    "decrypted_data = encrypted_data_excel.iloc[:, 1:].applymap(lambda x: cipher_suite.decrypt(x).decode('utf-8'))  \n",
    "result_df_DE = pd.concat([encrypted_data_excel['Name'], decrypted_data], axis=1) \n",
    "result_df_DE\n"
   ]
  },
  {
   "cell_type": "code",
   "execution_count": 32,
   "id": "89101c13",
   "metadata": {},
   "outputs": [],
   "source": [
    "decrypted_data.to_excel(r'C:\\Users\\PC\\Desktop\\EN\\decrypted_data.xlsx',index = False)  "
   ]
  },
  {
   "cell_type": "code",
   "execution_count": null,
   "id": "bf9124c3",
   "metadata": {},
   "outputs": [],
   "source": [
    "import sqlite3\n",
    "db_path = r'E:\\Project\\APP_BHXH_HG\\DB\\APP_BHXH_HG_DB.db'       \n",
    "\n",
    "check_item = ['DOT_PHAT_SINH_2' , 'DOT_PHAT_SINH_1']\n",
    "placeholders = \",\".join([\"?\"] * len(check_item))\n",
    "conn = sqlite3.connect(db_path)\n",
    "cur = conn.cursor()  \n",
    "query = f\"SELECT ID,MASO_BHXH,HO_TEN,NGAY_SINH,DIA_CHI,GIOI_TINH,CCCD,MA_DKBD,SO_BIEN_LAI,NGAY_BIEN_LAI,SO_THANG,TY_LE,SO_TIEN,HAN_THE_TU_NGAY,DOT_PHAT_SINH,GHI_CHU FROM RECEIPTS WHERE  NGAY_BIEN_LAI BETWEEN ? AND ? AND DOT_PHAT_SINH IN ({placeholders})\"\n",
    "print(query)\n",
    "cur.execute(query, ( ['05/10/2023', '06/10/2023' ] +  check_item))    \n",
    "result = cur.fetchall()\n",
    "for row in result:\n",
    "    print(\"ID:\", row[0], \"A:\", row[1], \"NGAY_BIEN_LAI:\", row[2])\n",
    "\n"
   ]
  },
  {
   "cell_type": "code",
   "execution_count": 2,
   "id": "be44e5d8",
   "metadata": {},
   "outputs": [
    {
     "name": "stdout",
     "output_type": "stream",
     "text": [
      "07102023_090954\n"
     ]
    }
   ],
   "source": [
    "from datetime import datetime\n",
    "current_datetime = datetime.now()\n",
    "formatted_datetime = current_datetime.strftime('%d%m%Y_%H%M%S')\n",
    "\n",
    "# Print the formatted date and time\n",
    "print(formatted_datetime)"
   ]
  }
 ],
 "metadata": {
  "interpreter": {
   "hash": "ee5cc6fef2d70a7e71ee3826687cbd150f18158e0b1eef11d4f4f92bb920e304"
  },
  "kernelspec": {
   "display_name": "Python 3.9.4 64-bit",
   "name": "python3"
  },
  "language_info": {
   "codemirror_mode": {
    "name": "ipython",
    "version": 3
   },
   "file_extension": ".py",
   "mimetype": "text/x-python",
   "name": "python",
   "nbconvert_exporter": "python",
   "pygments_lexer": "ipython3",
   "version": "3.9.4"
  }
 },
 "nbformat": 4,
 "nbformat_minor": 5
}
