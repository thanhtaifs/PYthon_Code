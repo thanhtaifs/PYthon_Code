{
 "cells": [
  {
   "cell_type": "code",
   "execution_count": 109,
   "metadata": {},
   "outputs": [],
   "source": [
    "import pandas as pd\n",
    "import unicodedata\n",
    "result = pd.read_excel(r'C:\\Users\\Lenovo\\Desktop\\VSSID\\Excel\\DANHSACHKHONGTIMTHAY_REF.xlsx', dtype=str)\n"
   ]
  },
  {
   "cell_type": "code",
   "execution_count": 124,
   "id": "fb440f67",
   "metadata": {},
   "outputs": [],
   "source": [
    "from pathlib import Path\n",
    "new_path = r'C:\\Users\\Lenovo\\Desktop\\VSSID\\PDF'\n",
    "for index, row in result.iterrows():\n",
    "    file_name = row['LINKFILE']\n",
    "    Desktop = Path(r'C:\\Users\\Lenovo\\Desktop\\Data\\TTDVVL\\2019' + '\\\\' + row['folder'] + \"\\\\\" + file_name + \".pdf\")\n",
    "    #print(file_name)\n",
    "    Desktop_new = Path(r'C:\\Users\\Lenovo\\Desktop\\VSSID\\PDF' + \"\\\\\" + file_name + \".pdf\")\n",
    "    shutil.copy(Desktop,Desktop_new)\n",
    "    "
   ]
  }
 ],
 "metadata": {
  "interpreter": {
   "hash": "ee5cc6fef2d70a7e71ee3826687cbd150f18158e0b1eef11d4f4f92bb920e304"
  },
  "kernelspec": {
   "display_name": "Python 3.9.4 64-bit",
   "name": "python3"
  },
  "language_info": {
   "codemirror_mode": {
    "name": "ipython",
    "version": 3
   },
   "file_extension": ".py",
   "mimetype": "text/x-python",
   "name": "python",
   "nbconvert_exporter": "python",
   "pygments_lexer": "ipython3",
   "version": "3.9.4"
  }
 },
 "nbformat": 4,
 "nbformat_minor": 5
}
