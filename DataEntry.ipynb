{
 "cells": [
  {
   "cell_type": "code",
   "execution_count": 1,
   "id": "51feb412",
   "metadata": {},
   "outputs": [
    {
     "name": "stderr",
     "output_type": "stream",
     "text": [
      "<ipython-input-1-ee49090f90df>:16: DeprecationWarning: executable_path has been deprecated, please pass in a Service object\n",
      "  driver = webdriver.Chrome(options=chrome_options, executable_path= Path_Chrome_Driver)\n"
     ]
    }
   ],
   "source": [
    "from selenium import webdriver\n",
    "from selenium.webdriver.chrome.options import Options\n",
    "import time\n",
    "from selenium.webdriver.common.keys import Keys\n",
    "from selenium.webdriver.common.action_chains import ActionChains\n",
    "from selenium.webdriver.support import expected_conditions as EC\n",
    "from selenium.webdriver.common.by import By\n",
    "from selenium.webdriver.support.ui import WebDriverWait\n",
    "import pandas as pd\n",
    "import matplotlib.pyplot as plt\n",
    "from PIL import Image\n",
    "from selenium.common.exceptions import NoSuchElementException\n",
    "\n",
    "chrome_options = Options()\n",
    "Path_Chrome_Driver = r\"C:\\Users\\Lenovo\\Desktop\\Chrome\\chromedriver.exe\"\n",
    "driver = webdriver.Chrome(options=chrome_options, executable_path= Path_Chrome_Driver)"
   ]
  },
  {
   "cell_type": "code",
   "execution_count": 2,
   "id": "423ab038",
   "metadata": {},
   "outputs": [],
   "source": [
    "baseUrl = r'https://dichvucong.baohiemxahoi.gov.vn/#/dang-ky'\n",
    "driver.get(baseUrl)"
   ]
  },
  {
   "cell_type": "code",
   "execution_count": 3,
   "id": "1faa8e3a",
   "metadata": {},
   "outputs": [],
   "source": [
    "time.sleep(2)\n",
    "driver.find_element(By.CLASS_NAME, 'mat-flat-button').click()"
   ]
  },
  {
   "cell_type": "code",
   "execution_count": 4,
   "id": "a4dd276f",
   "metadata": {},
   "outputs": [],
   "source": [
    "#img_dir =r\"C:\\Users\\Lenovo\\Desktop\\VSSID\\ANHXULY\"\n",
    "img_dir =r\"C:\\Users\\Lenovo\\Desktop\\VSSID\\ANHXULY\"\n",
    "folder_excel = r\"C:\\Users\\Lenovo\\Desktop\\VSSID\\Excel\"\n",
    "# Tên file excel cần xử lý\n",
    "FileName_Excel = \"CHILIEM_3_REF.xlsx\"\n",
    "result = pd.read_excel(folder_excel + \"\\\\\" + FileName_Excel, dtype=str)"
   ]
  },
  {
   "cell_type": "markdown",
   "id": "2fcb9c78",
   "metadata": {},
   "source": [
    "Thay đổi vị trí trường i để ứng với vị trí trong dữ liệu Excel"
   ]
  },
  {
   "cell_type": "code",
   "execution_count": 194,
   "id": "5b7d3dc3",
   "metadata": {},
   "outputs": [
    {
     "ename": "KeyError",
     "evalue": "26",
     "output_type": "error",
     "traceback": [
      "\u001b[1;31m---------------------------------------------------------------------------\u001b[0m",
      "\u001b[1;31mValueError\u001b[0m                                Traceback (most recent call last)",
      "\u001b[1;32mC:\\Python\\Python39\\lib\\site-packages\\pandas\\core\\indexes\\range.py\u001b[0m in \u001b[0;36mget_loc\u001b[1;34m(self, key, method, tolerance)\u001b[0m\n\u001b[0;32m    350\u001b[0m                 \u001b[1;32mtry\u001b[0m\u001b[1;33m:\u001b[0m\u001b[1;33m\u001b[0m\u001b[1;33m\u001b[0m\u001b[0m\n\u001b[1;32m--> 351\u001b[1;33m                     \u001b[1;32mreturn\u001b[0m \u001b[0mself\u001b[0m\u001b[1;33m.\u001b[0m\u001b[0m_range\u001b[0m\u001b[1;33m.\u001b[0m\u001b[0mindex\u001b[0m\u001b[1;33m(\u001b[0m\u001b[0mnew_key\u001b[0m\u001b[1;33m)\u001b[0m\u001b[1;33m\u001b[0m\u001b[1;33m\u001b[0m\u001b[0m\n\u001b[0m\u001b[0;32m    352\u001b[0m                 \u001b[1;32mexcept\u001b[0m \u001b[0mValueError\u001b[0m \u001b[1;32mas\u001b[0m \u001b[0merr\u001b[0m\u001b[1;33m:\u001b[0m\u001b[1;33m\u001b[0m\u001b[1;33m\u001b[0m\u001b[0m\n",
      "\u001b[1;31mValueError\u001b[0m: 26 is not in range",
      "\nThe above exception was the direct cause of the following exception:\n",
      "\u001b[1;31mKeyError\u001b[0m                                  Traceback (most recent call last)",
      "\u001b[1;32m<ipython-input-194-e5586cde31c0>\u001b[0m in \u001b[0;36m<module>\u001b[1;34m\u001b[0m\n\u001b[0;32m      2\u001b[0m \u001b[1;33m\u001b[0m\u001b[0m\n\u001b[0;32m      3\u001b[0m \u001b[1;33m\u001b[0m\u001b[0m\n\u001b[1;32m----> 4\u001b[1;33m \u001b[0mhoten\u001b[0m \u001b[1;33m=\u001b[0m \u001b[0mresult\u001b[0m\u001b[1;33m.\u001b[0m\u001b[0mloc\u001b[0m\u001b[1;33m[\u001b[0m\u001b[0mi\u001b[0m\u001b[1;33m,\u001b[0m\u001b[1;34m\"hoTen\"\u001b[0m\u001b[1;33m]\u001b[0m\u001b[1;33m\u001b[0m\u001b[1;33m\u001b[0m\u001b[0m\n\u001b[0m\u001b[0;32m      5\u001b[0m \u001b[0mEMAIL\u001b[0m \u001b[1;33m=\u001b[0m \u001b[0mresult\u001b[0m\u001b[1;33m.\u001b[0m\u001b[0mloc\u001b[0m\u001b[1;33m[\u001b[0m\u001b[0mi\u001b[0m\u001b[1;33m,\u001b[0m\u001b[1;34m\"Email\"\u001b[0m\u001b[1;33m]\u001b[0m\u001b[1;33m\u001b[0m\u001b[1;33m\u001b[0m\u001b[0m\n\u001b[0;32m      6\u001b[0m \u001b[1;31m#EMAIL = result.loc[i,\"Email_3\"]\u001b[0m\u001b[1;33m\u001b[0m\u001b[1;33m\u001b[0m\u001b[1;33m\u001b[0m\u001b[0m\n",
      "\u001b[1;32mC:\\Python\\Python39\\lib\\site-packages\\pandas\\core\\indexing.py\u001b[0m in \u001b[0;36m__getitem__\u001b[1;34m(self, key)\u001b[0m\n\u001b[0;32m    887\u001b[0m                     \u001b[1;31m# AttributeError for IntervalTree get_value\u001b[0m\u001b[1;33m\u001b[0m\u001b[1;33m\u001b[0m\u001b[1;33m\u001b[0m\u001b[0m\n\u001b[0;32m    888\u001b[0m                     \u001b[1;32mreturn\u001b[0m \u001b[0mself\u001b[0m\u001b[1;33m.\u001b[0m\u001b[0mobj\u001b[0m\u001b[1;33m.\u001b[0m\u001b[0m_get_value\u001b[0m\u001b[1;33m(\u001b[0m\u001b[1;33m*\u001b[0m\u001b[0mkey\u001b[0m\u001b[1;33m,\u001b[0m \u001b[0mtakeable\u001b[0m\u001b[1;33m=\u001b[0m\u001b[0mself\u001b[0m\u001b[1;33m.\u001b[0m\u001b[0m_takeable\u001b[0m\u001b[1;33m)\u001b[0m\u001b[1;33m\u001b[0m\u001b[1;33m\u001b[0m\u001b[0m\n\u001b[1;32m--> 889\u001b[1;33m             \u001b[1;32mreturn\u001b[0m \u001b[0mself\u001b[0m\u001b[1;33m.\u001b[0m\u001b[0m_getitem_tuple\u001b[0m\u001b[1;33m(\u001b[0m\u001b[0mkey\u001b[0m\u001b[1;33m)\u001b[0m\u001b[1;33m\u001b[0m\u001b[1;33m\u001b[0m\u001b[0m\n\u001b[0m\u001b[0;32m    890\u001b[0m         \u001b[1;32melse\u001b[0m\u001b[1;33m:\u001b[0m\u001b[1;33m\u001b[0m\u001b[1;33m\u001b[0m\u001b[0m\n\u001b[0;32m    891\u001b[0m             \u001b[1;31m# we by definition only have the 0th axis\u001b[0m\u001b[1;33m\u001b[0m\u001b[1;33m\u001b[0m\u001b[1;33m\u001b[0m\u001b[0m\n",
      "\u001b[1;32mC:\\Python\\Python39\\lib\\site-packages\\pandas\\core\\indexing.py\u001b[0m in \u001b[0;36m_getitem_tuple\u001b[1;34m(self, tup)\u001b[0m\n\u001b[0;32m   1058\u001b[0m     \u001b[1;32mdef\u001b[0m \u001b[0m_getitem_tuple\u001b[0m\u001b[1;33m(\u001b[0m\u001b[0mself\u001b[0m\u001b[1;33m,\u001b[0m \u001b[0mtup\u001b[0m\u001b[1;33m:\u001b[0m \u001b[0mTuple\u001b[0m\u001b[1;33m)\u001b[0m\u001b[1;33m:\u001b[0m\u001b[1;33m\u001b[0m\u001b[1;33m\u001b[0m\u001b[0m\n\u001b[0;32m   1059\u001b[0m         \u001b[1;32mwith\u001b[0m \u001b[0msuppress\u001b[0m\u001b[1;33m(\u001b[0m\u001b[0mIndexingError\u001b[0m\u001b[1;33m)\u001b[0m\u001b[1;33m:\u001b[0m\u001b[1;33m\u001b[0m\u001b[1;33m\u001b[0m\u001b[0m\n\u001b[1;32m-> 1060\u001b[1;33m             \u001b[1;32mreturn\u001b[0m \u001b[0mself\u001b[0m\u001b[1;33m.\u001b[0m\u001b[0m_getitem_lowerdim\u001b[0m\u001b[1;33m(\u001b[0m\u001b[0mtup\u001b[0m\u001b[1;33m)\u001b[0m\u001b[1;33m\u001b[0m\u001b[1;33m\u001b[0m\u001b[0m\n\u001b[0m\u001b[0;32m   1061\u001b[0m \u001b[1;33m\u001b[0m\u001b[0m\n\u001b[0;32m   1062\u001b[0m         \u001b[1;31m# no multi-index, so validate all of the indexers\u001b[0m\u001b[1;33m\u001b[0m\u001b[1;33m\u001b[0m\u001b[1;33m\u001b[0m\u001b[0m\n",
      "\u001b[1;32mC:\\Python\\Python39\\lib\\site-packages\\pandas\\core\\indexing.py\u001b[0m in \u001b[0;36m_getitem_lowerdim\u001b[1;34m(self, tup)\u001b[0m\n\u001b[0;32m    805\u001b[0m                 \u001b[1;31m# We don't need to check for tuples here because those are\u001b[0m\u001b[1;33m\u001b[0m\u001b[1;33m\u001b[0m\u001b[1;33m\u001b[0m\u001b[0m\n\u001b[0;32m    806\u001b[0m                 \u001b[1;31m#  caught by the _is_nested_tuple_indexer check above.\u001b[0m\u001b[1;33m\u001b[0m\u001b[1;33m\u001b[0m\u001b[1;33m\u001b[0m\u001b[0m\n\u001b[1;32m--> 807\u001b[1;33m                 \u001b[0msection\u001b[0m \u001b[1;33m=\u001b[0m \u001b[0mself\u001b[0m\u001b[1;33m.\u001b[0m\u001b[0m_getitem_axis\u001b[0m\u001b[1;33m(\u001b[0m\u001b[0mkey\u001b[0m\u001b[1;33m,\u001b[0m \u001b[0maxis\u001b[0m\u001b[1;33m=\u001b[0m\u001b[0mi\u001b[0m\u001b[1;33m)\u001b[0m\u001b[1;33m\u001b[0m\u001b[1;33m\u001b[0m\u001b[0m\n\u001b[0m\u001b[0;32m    808\u001b[0m \u001b[1;33m\u001b[0m\u001b[0m\n\u001b[0;32m    809\u001b[0m                 \u001b[1;31m# We should never have a scalar section here, because\u001b[0m\u001b[1;33m\u001b[0m\u001b[1;33m\u001b[0m\u001b[1;33m\u001b[0m\u001b[0m\n",
      "\u001b[1;32mC:\\Python\\Python39\\lib\\site-packages\\pandas\\core\\indexing.py\u001b[0m in \u001b[0;36m_getitem_axis\u001b[1;34m(self, key, axis)\u001b[0m\n\u001b[0;32m   1122\u001b[0m         \u001b[1;31m# fall thru to straight lookup\u001b[0m\u001b[1;33m\u001b[0m\u001b[1;33m\u001b[0m\u001b[1;33m\u001b[0m\u001b[0m\n\u001b[0;32m   1123\u001b[0m         \u001b[0mself\u001b[0m\u001b[1;33m.\u001b[0m\u001b[0m_validate_key\u001b[0m\u001b[1;33m(\u001b[0m\u001b[0mkey\u001b[0m\u001b[1;33m,\u001b[0m \u001b[0maxis\u001b[0m\u001b[1;33m)\u001b[0m\u001b[1;33m\u001b[0m\u001b[1;33m\u001b[0m\u001b[0m\n\u001b[1;32m-> 1124\u001b[1;33m         \u001b[1;32mreturn\u001b[0m \u001b[0mself\u001b[0m\u001b[1;33m.\u001b[0m\u001b[0m_get_label\u001b[0m\u001b[1;33m(\u001b[0m\u001b[0mkey\u001b[0m\u001b[1;33m,\u001b[0m \u001b[0maxis\u001b[0m\u001b[1;33m=\u001b[0m\u001b[0maxis\u001b[0m\u001b[1;33m)\u001b[0m\u001b[1;33m\u001b[0m\u001b[1;33m\u001b[0m\u001b[0m\n\u001b[0m\u001b[0;32m   1125\u001b[0m \u001b[1;33m\u001b[0m\u001b[0m\n\u001b[0;32m   1126\u001b[0m     \u001b[1;32mdef\u001b[0m \u001b[0m_get_slice_axis\u001b[0m\u001b[1;33m(\u001b[0m\u001b[0mself\u001b[0m\u001b[1;33m,\u001b[0m \u001b[0mslice_obj\u001b[0m\u001b[1;33m:\u001b[0m \u001b[0mslice\u001b[0m\u001b[1;33m,\u001b[0m \u001b[0maxis\u001b[0m\u001b[1;33m:\u001b[0m \u001b[0mint\u001b[0m\u001b[1;33m)\u001b[0m\u001b[1;33m:\u001b[0m\u001b[1;33m\u001b[0m\u001b[1;33m\u001b[0m\u001b[0m\n",
      "\u001b[1;32mC:\\Python\\Python39\\lib\\site-packages\\pandas\\core\\indexing.py\u001b[0m in \u001b[0;36m_get_label\u001b[1;34m(self, label, axis)\u001b[0m\n\u001b[0;32m   1071\u001b[0m     \u001b[1;32mdef\u001b[0m \u001b[0m_get_label\u001b[0m\u001b[1;33m(\u001b[0m\u001b[0mself\u001b[0m\u001b[1;33m,\u001b[0m \u001b[0mlabel\u001b[0m\u001b[1;33m,\u001b[0m \u001b[0maxis\u001b[0m\u001b[1;33m:\u001b[0m \u001b[0mint\u001b[0m\u001b[1;33m)\u001b[0m\u001b[1;33m:\u001b[0m\u001b[1;33m\u001b[0m\u001b[1;33m\u001b[0m\u001b[0m\n\u001b[0;32m   1072\u001b[0m         \u001b[1;31m# GH#5667 this will fail if the label is not present in the axis.\u001b[0m\u001b[1;33m\u001b[0m\u001b[1;33m\u001b[0m\u001b[1;33m\u001b[0m\u001b[0m\n\u001b[1;32m-> 1073\u001b[1;33m         \u001b[1;32mreturn\u001b[0m \u001b[0mself\u001b[0m\u001b[1;33m.\u001b[0m\u001b[0mobj\u001b[0m\u001b[1;33m.\u001b[0m\u001b[0mxs\u001b[0m\u001b[1;33m(\u001b[0m\u001b[0mlabel\u001b[0m\u001b[1;33m,\u001b[0m \u001b[0maxis\u001b[0m\u001b[1;33m=\u001b[0m\u001b[0maxis\u001b[0m\u001b[1;33m)\u001b[0m\u001b[1;33m\u001b[0m\u001b[1;33m\u001b[0m\u001b[0m\n\u001b[0m\u001b[0;32m   1074\u001b[0m \u001b[1;33m\u001b[0m\u001b[0m\n\u001b[0;32m   1075\u001b[0m     \u001b[1;32mdef\u001b[0m \u001b[0m_handle_lowerdim_multi_index_axis0\u001b[0m\u001b[1;33m(\u001b[0m\u001b[0mself\u001b[0m\u001b[1;33m,\u001b[0m \u001b[0mtup\u001b[0m\u001b[1;33m:\u001b[0m \u001b[0mTuple\u001b[0m\u001b[1;33m)\u001b[0m\u001b[1;33m:\u001b[0m\u001b[1;33m\u001b[0m\u001b[1;33m\u001b[0m\u001b[0m\n",
      "\u001b[1;32mC:\\Python\\Python39\\lib\\site-packages\\pandas\\core\\generic.py\u001b[0m in \u001b[0;36mxs\u001b[1;34m(self, key, axis, level, drop_level)\u001b[0m\n\u001b[0;32m   3737\u001b[0m                 \u001b[1;32mraise\u001b[0m \u001b[0mTypeError\u001b[0m\u001b[1;33m(\u001b[0m\u001b[1;34mf\"Expected label or tuple of labels, got {key}\"\u001b[0m\u001b[1;33m)\u001b[0m \u001b[1;32mfrom\u001b[0m \u001b[0me\u001b[0m\u001b[1;33m\u001b[0m\u001b[1;33m\u001b[0m\u001b[0m\n\u001b[0;32m   3738\u001b[0m         \u001b[1;32melse\u001b[0m\u001b[1;33m:\u001b[0m\u001b[1;33m\u001b[0m\u001b[1;33m\u001b[0m\u001b[0m\n\u001b[1;32m-> 3739\u001b[1;33m             \u001b[0mloc\u001b[0m \u001b[1;33m=\u001b[0m \u001b[0mindex\u001b[0m\u001b[1;33m.\u001b[0m\u001b[0mget_loc\u001b[0m\u001b[1;33m(\u001b[0m\u001b[0mkey\u001b[0m\u001b[1;33m)\u001b[0m\u001b[1;33m\u001b[0m\u001b[1;33m\u001b[0m\u001b[0m\n\u001b[0m\u001b[0;32m   3740\u001b[0m \u001b[1;33m\u001b[0m\u001b[0m\n\u001b[0;32m   3741\u001b[0m             \u001b[1;32mif\u001b[0m \u001b[0misinstance\u001b[0m\u001b[1;33m(\u001b[0m\u001b[0mloc\u001b[0m\u001b[1;33m,\u001b[0m \u001b[0mnp\u001b[0m\u001b[1;33m.\u001b[0m\u001b[0mndarray\u001b[0m\u001b[1;33m)\u001b[0m\u001b[1;33m:\u001b[0m\u001b[1;33m\u001b[0m\u001b[1;33m\u001b[0m\u001b[0m\n",
      "\u001b[1;32mC:\\Python\\Python39\\lib\\site-packages\\pandas\\core\\indexes\\range.py\u001b[0m in \u001b[0;36mget_loc\u001b[1;34m(self, key, method, tolerance)\u001b[0m\n\u001b[0;32m    351\u001b[0m                     \u001b[1;32mreturn\u001b[0m \u001b[0mself\u001b[0m\u001b[1;33m.\u001b[0m\u001b[0m_range\u001b[0m\u001b[1;33m.\u001b[0m\u001b[0mindex\u001b[0m\u001b[1;33m(\u001b[0m\u001b[0mnew_key\u001b[0m\u001b[1;33m)\u001b[0m\u001b[1;33m\u001b[0m\u001b[1;33m\u001b[0m\u001b[0m\n\u001b[0;32m    352\u001b[0m                 \u001b[1;32mexcept\u001b[0m \u001b[0mValueError\u001b[0m \u001b[1;32mas\u001b[0m \u001b[0merr\u001b[0m\u001b[1;33m:\u001b[0m\u001b[1;33m\u001b[0m\u001b[1;33m\u001b[0m\u001b[0m\n\u001b[1;32m--> 353\u001b[1;33m                     \u001b[1;32mraise\u001b[0m \u001b[0mKeyError\u001b[0m\u001b[1;33m(\u001b[0m\u001b[0mkey\u001b[0m\u001b[1;33m)\u001b[0m \u001b[1;32mfrom\u001b[0m \u001b[0merr\u001b[0m\u001b[1;33m\u001b[0m\u001b[1;33m\u001b[0m\u001b[0m\n\u001b[0m\u001b[0;32m    354\u001b[0m             \u001b[1;32mraise\u001b[0m \u001b[0mKeyError\u001b[0m\u001b[1;33m(\u001b[0m\u001b[0mkey\u001b[0m\u001b[1;33m)\u001b[0m\u001b[1;33m\u001b[0m\u001b[1;33m\u001b[0m\u001b[0m\n\u001b[0;32m    355\u001b[0m         \u001b[1;32mreturn\u001b[0m \u001b[0msuper\u001b[0m\u001b[1;33m(\u001b[0m\u001b[1;33m)\u001b[0m\u001b[1;33m.\u001b[0m\u001b[0mget_loc\u001b[0m\u001b[1;33m(\u001b[0m\u001b[0mkey\u001b[0m\u001b[1;33m,\u001b[0m \u001b[0mmethod\u001b[0m\u001b[1;33m=\u001b[0m\u001b[0mmethod\u001b[0m\u001b[1;33m,\u001b[0m \u001b[0mtolerance\u001b[0m\u001b[1;33m=\u001b[0m\u001b[0mtolerance\u001b[0m\u001b[1;33m)\u001b[0m\u001b[1;33m\u001b[0m\u001b[1;33m\u001b[0m\u001b[0m\n",
      "\u001b[1;31mKeyError\u001b[0m: 26"
     ]
    }
   ],
   "source": [
    "i = 26\n",
    "\n",
    "\n",
    "hoten = result.loc[i,\"hoTen\"]\n",
    "EMAIL = result.loc[i,\"Email\"]\n",
    "#EMAIL = result.loc[i,\"Email_3\"]\n",
    "Name_Email = EMAIL.split(\"@\")[0]\n",
    "print(\"Địa chỉ Email: \" + Name_Email)\n",
    "print(\"Họ tên: \" + hoten)\n",
    "print(\"Mẫu hình ảnh tham chiếu MT: \" + str(i+1) + \"A.jpg\")\n",
    "img  = Image.open(img_dir + \"\\\\\" +str(i+1) + \"A.jpg\")\n",
    "# img = img.resize((800, 600))\n",
    "implot = plt.imshow(img)\n",
    "plt.show()"
   ]
  },
  {
   "cell_type": "code",
   "execution_count": null,
   "id": "6f47eb58",
   "metadata": {},
   "outputs": [],
   "source": [
    "Ma_BHXH = result.loc[i,\"soBhxh\"]\n",
    "CMND = result.loc[i,\"soCmnd\"]\n",
    "DC =  result.loc[i,\"DC\"]\n",
    "XA = result.loc[i,\"maXaLh\"]\n",
    "TINH =  result.loc[i,\"maTinhLh\"]\n",
    "HUYEN =  result.loc[i,\"maHuyenLh\"]\n",
    "SDT = result.loc[i,\"soDienThoai\"]"
   ]
  },
  {
   "cell_type": "code",
   "execution_count": null,
   "id": "d71ad709",
   "metadata": {},
   "outputs": [],
   "source": [
    "# Xử lý hình ảnh\n",
    "#link = (r'C:\\Users\\Lenovo\\Desktop\\ANHXULY')\n",
    "# value_truoc = \"\\\\\" + str(i) + \"A\"\n",
    "# value_sau = \"\\\\\" + str(i) + \"B\"\n",
    "value_truoc = \"\\\\\" +  str(i+1) + \"A\"\n",
    "value_sau = \"\\\\\" + str(i+1) + \"B\"\n",
    "extendtion = \".jpg\"\n",
    "CMNDTRUOC = img_dir + value_truoc +  extendtion\n",
    "CMNDSAU = img_dir + value_sau +  extendtion"
   ]
  },
  {
   "cell_type": "code",
   "execution_count": null,
   "id": "5ed65d3e",
   "metadata": {},
   "outputs": [],
   "source": [
    "#driver.find_element_by_id('fileAnhCmndMatTruoc').send_keys(CMNDTRUOC)\n",
    "driver.find_element(By.ID, 'fileAnhCmndMatTruoc').send_keys(CMNDTRUOC)\n",
    "time.sleep(2)\n",
    "WebDriverWait(driver,5).until(EC.element_to_be_clickable((By.XPATH,\"//button[./span[text()='Xác nhận']]\"))).click()\n",
    "driver.find_element(By.ID, 'fileAnhCmndMatSau').send_keys(CMNDSAU)\n",
    "time.sleep(2)\n",
    "WebDriverWait(driver,5).until(EC.element_to_be_clickable((By.XPATH,\"//button[./span[text()='Xác nhận']]\"))).click()"
   ]
  },
  {
   "cell_type": "code",
   "execution_count": null,
   "id": "dcb0427c",
   "metadata": {},
   "outputs": [],
   "source": [
    "#driver.find_element_by_id('mat-input-7').send_keys(hoten)\n",
    "driver.find_element(By.ID, 'mat-input-7').send_keys(hoten)\n",
    "driver.find_element(By.ID, 'mat-input-4').send_keys(Ma_BHXH)\n",
    "driver.find_element(By.ID, 'mat-input-5').send_keys(CMND)\n",
    "# time.sleep(1)\n",
    "# driver.find_element(By.ID, 'mat-input-8').send_keys(TINH)\n",
    " \n",
    "WebDriverWait(driver,3).until(EC.element_to_be_clickable((By.ID,\"mat-input-8\"))).send_keys(TINH)\n",
    "actions = ActionChains(driver)\n",
    "actions.send_keys(Keys.TAB)\n",
    "actions.perform()\n",
    "time.sleep(0.5)\n",
    "# driver.find_element(By.ID, 'mat-input-9').send_keys(HUYEN)\n",
    "WebDriverWait(driver,3).until(EC.element_to_be_clickable((By.ID,\"mat-input-9\"))).send_keys(HUYEN)\n",
    "actions = ActionChains(driver) \n",
    "actions.send_keys(Keys.TAB)\n",
    "actions.perform()\n",
    "time.sleep(0.5)\n",
    "# driver.find_element(By.ID, 'mat-input-10').send_keys(XA)\n",
    "WebDriverWait(driver,3).until(EC.element_to_be_clickable((By.ID,\"mat-input-10\"))).send_keys(XA)\n",
    "actions = ActionChains(driver) \n",
    "actions.send_keys(Keys.TAB)\n",
    "actions.perform()\n",
    "\n",
    "driver.find_element(By.ID, 'mat-input-11').send_keys(DC)\n",
    "driver.find_element(By.ID, 'mat-input-2').send_keys(EMAIL)\n",
    "driver.find_element(By.ID, 'mat-input-3').send_keys(SDT)\n",
    "WebDriverWait(driver,10).until(EC.element_to_be_clickable((By.XPATH,\"//button[./span[text()='Chọn']]\"))).click()\n",
    "WebDriverWait(driver,10).until(EC.element_to_be_clickable((By.XPATH,\"//strong[contains(text(),'[093]')]\"))).click()\n",
    "driver.find_element(By.CLASS_NAME, 'mat-raised-button').click()\n",
    "# select_city = driver.find_element_by_class_name('mat-raised-button')\n",
    "# select_city.click()\n",
    "time.sleep(0.5)\n",
    "driver.find_element(By.ID, 'mat-input-6').send_keys('')"
   ]
  },
  {
   "cell_type": "code",
   "execution_count": null,
   "id": "420077a3",
   "metadata": {},
   "outputs": [
    {
     "name": "stdout",
     "output_type": "stream",
     "text": [
      "Kết thúc hồ sơ thứ 26\n"
     ]
    }
   ],
   "source": [
    "OTPVALUE = input(\"Nhập giá trị OTP vào đây\")    \n",
    "if(len(OTPVALUE) == 6): \n",
    "    WebDriverWait(driver,1).until(EC.element_to_be_clickable((By.XPATH,\"//*[starts-with(@id, 'otp_0_')]\"))).send_keys(OTPVALUE[0])\n",
    "    WebDriverWait(driver,1).until(EC.element_to_be_clickable((By.XPATH,\"//*[starts-with(@id, 'otp_1_')]\"))).send_keys(OTPVALUE[1])\n",
    "    WebDriverWait(driver,1).until(EC.element_to_be_clickable((By.XPATH,\"//*[starts-with(@id, 'otp_2_')]\"))).send_keys(OTPVALUE[2])\n",
    "    WebDriverWait(driver,1).until(EC.element_to_be_clickable((By.XPATH,\"//*[starts-with(@id, 'otp_3_')]\"))).send_keys(OTPVALUE[3])\n",
    "    WebDriverWait(driver,1).until(EC.element_to_be_clickable((By.XPATH,\"//*[starts-with(@id, 'otp_4_')]\"))).send_keys(OTPVALUE[4])\n",
    "    WebDriverWait(driver,1).until(EC.element_to_be_clickable((By.XPATH,\"//*[starts-with(@id, 'otp_5_')]\"))).send_keys(OTPVALUE[5])\n",
    "    WebDriverWait(driver,1).until(EC.element_to_be_clickable((By.XPATH,\"//button[./span[text()='Xác nhận']]\"))).click()\n",
    "    print(\"Kết thúc hồ sơ thứ \" + str(i + 1))                         \n",
    "else:\n",
    "    print(\"Kết thúc hồ sơ thứ \" + str(i + 1))           \n",
    "               "
   ]
  },
  {
   "cell_type": "code",
   "execution_count": null,
   "id": "eb435098",
   "metadata": {},
   "outputs": [],
   "source": [
    "# key = False\n",
    "# while(key == False):\n",
    "#     try:\n",
    "#         if driver.find_element(By.ID, 'body-dialog'):\n",
    "#             OTPVALUE = input(\"Nhập giá trị OTP vào đây\")    \n",
    "#             if(len(OTPVALUE) < 6): \n",
    "#                 key = True                  \n",
    "#             else:\n",
    "#                 WebDriverWait(driver,1).until(EC.element_to_be_clickable((By.XPATH,\"//*[starts-with(@id, 'otp_0_')]\"))).send_keys(OTPVALUE[0])\n",
    "#                 WebDriverWait(driver,1).until(EC.element_to_be_clickable((By.XPATH,\"//*[starts-with(@id, 'otp_1_')]\"))).send_keys(OTPVALUE[1])\n",
    "#                 WebDriverWait(driver,1).until(EC.element_to_be_clickable((By.XPATH,\"//*[starts-with(@id, 'otp_2_')]\"))).send_keys(OTPVALUE[2])\n",
    "#                 WebDriverWait(driver,1).until(EC.element_to_be_clickable((By.XPATH,\"//*[starts-with(@id, 'otp_3_')]\"))).send_keys(OTPVALUE[3])\n",
    "#                 WebDriverWait(driver,1).until(EC.element_to_be_clickable((By.XPATH,\"//*[starts-with(@id, 'otp_4_')]\"))).send_keys(OTPVALUE[4])\n",
    "#                 WebDriverWait(driver,1).until(EC.element_to_be_clickable((By.XPATH,\"//*[starts-with(@id, 'otp_5_')]\"))).send_keys(OTPVALUE[5])\n",
    "#                 WebDriverWait(driver,3).until(EC.element_to_be_clickable((By.XPATH,\"//button[./span[text()='Xác nhận']]\"))).click()\n",
    "#                 key = True\n",
    "#         else:\n",
    "#             key = False\n",
    "#     except NoSuchElementException:\n",
    "#             key = False"
   ]
  }
 ],
 "metadata": {
  "interpreter": {
   "hash": "65413db5d18b6e6fc91f4af23253c3dc507c53d0efef2afae1768d332c9921e3"
  },
  "kernelspec": {
   "display_name": "Python 3.8.1 64-bit",
   "name": "python3"
  },
  "language_info": {
   "codemirror_mode": {
    "name": "ipython",
    "version": 3
   },
   "file_extension": ".py",
   "mimetype": "text/x-python",
   "name": "python",
   "nbconvert_exporter": "python",
   "pygments_lexer": "ipython3",
   "version": "3.9.4"
  }
 },
 "nbformat": 4,
 "nbformat_minor": 5
}
