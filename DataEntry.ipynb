{
 "cells": [
  {
   "cell_type": "code",
   "execution_count": 1,
   "id": "51feb412",
   "metadata": {},
   "outputs": [
    {
     "name": "stderr",
     "output_type": "stream",
     "text": [
      "<ipython-input-1-ee49090f90df>:16: DeprecationWarning: executable_path has been deprecated, please pass in a Service object\n",
      "  driver = webdriver.Chrome(options=chrome_options, executable_path= Path_Chrome_Driver)\n"
     ]
    }
   ],
   "source": [
    "from selenium import webdriver\n",
    "from selenium.webdriver.chrome.options import Options\n",
    "import time\n",
    "from selenium.webdriver.common.keys import Keys\n",
    "from selenium.webdriver.common.action_chains import ActionChains\n",
    "from selenium.webdriver.support import expected_conditions as EC\n",
    "from selenium.webdriver.common.by import By\n",
    "from selenium.webdriver.support.ui import WebDriverWait\n",
    "import pandas as pd\n",
    "import matplotlib.pyplot as plt\n",
    "from PIL import Image\n",
    "from selenium.common.exceptions import NoSuchElementException\n",
    "\n",
    "chrome_options = Options()\n",
    "Path_Chrome_Driver = r\"C:\\Users\\Lenovo\\Desktop\\Chrome\\chromedriver.exe\"\n",
    "driver = webdriver.Chrome(options=chrome_options, executable_path= Path_Chrome_Driver)"
   ]
  },
  {
   "cell_type": "code",
   "execution_count": 2,
   "id": "423ab038",
   "metadata": {},
   "outputs": [],
   "source": [
    "baseUrl = r'https://dichvucong.baohiemxahoi.gov.vn/#/dang-ky'\n",
    "driver.get(baseUrl)"
   ]
  },
  {
   "cell_type": "code",
   "execution_count": null,
   "id": "1faa8e3a",
   "metadata": {},
   "outputs": [],
   "source": [
    "time.sleep(2)\n",
    "driver.find_element(By.CLASS_NAME, 'mat-flat-button').click()"
   ]
  },
  {
   "cell_type": "code",
   "execution_count": 3,
   "id": "a4dd276f",
   "metadata": {},
   "outputs": [],
   "source": [
    "#img_dir =r\"C:\\Users\\Lenovo\\Desktop\\VSSID\\ANHXULY\"\n",
    "img_dir =r\"C:\\Users\\Lenovo\\Desktop\\VSSID\\ANHXULY\"\n",
    "folder_excel = r\"C:\\Users\\Lenovo\\Desktop\\VSSID\\Excel\"\n",
    "# Tên file excel cần xử lý\n",
    "FileName_Excel = \"SANG24112021_REF.xlsx\"\n",
    "result = pd.read_excel(folder_excel + \"\\\\\" + FileName_Excel, dtype=str)"
   ]
  },
  {
   "cell_type": "markdown",
   "id": "2fcb9c78",
   "metadata": {},
   "source": [
    "Thay đổi vị trí trường i để ứng với vị trí trong dữ liệu Excel"
   ]
  },
  {
   "cell_type": "code",
   "execution_count": 1003,
   "id": "51b3d659",
   "metadata": {},
   "outputs": [
    {
     "name": "stdout",
     "output_type": "stream",
     "text": [
      "Dữ liệu theo STT: 129\n",
      "Địa chỉ Email: VoThiHang9321276588\n",
      "Họ tên: Võ Thị Hằng\n",
      "Mẫu hình ảnh tham chiếu MT: 129A.jpg\n"
     ]
    }
   ],
   "source": [
    "i = 129\n",
    "\n",
    "hoten = result.loc[i,\"hoTen\"]\n",
    "#EMAIL = result.loc[i,\"Email\"]\n",
    "EMAIL = result.loc[i,\"Email_2\"]\n",
    "Name_Email = EMAIL.split(\"@\")[0]\n",
    "print(\"Dữ liệu theo STT: \" + str(i + 1))\n",
    "print(\"Địa chỉ Email: \" + Name_Email)\n",
    "print(\"Họ tên: \" + hoten)\n",
    "print(\"Mẫu hình ảnh tham chiếu MT: \" + str(i + 1) + \"A.jpg\")\n",
    "# img  = Image.open(img_dir + \"\\\\\" +str(i + 1) + \"A.jpg\")\n",
    "# img = img.rotate(90)\n",
    "# img = img.resize((800, 600))\n",
    "# implot = plt.imshow(img)\n",
    "# plt.show()"
   ]
  },
  {
   "cell_type": "code",
   "execution_count": 1004,
   "id": "6f47eb58",
   "metadata": {},
   "outputs": [],
   "source": [
    "Ma_BHXH = result.loc[i,\"soBhxh\"]\n",
    "CMND = result.loc[i,\"soCmnd\"]\n",
    "DC =  result.loc[i,\"DC\"]\n",
    "XA = result.loc[i,\"maXaLh\"]\n",
    "TINH =  result.loc[i,\"maTinhLh\"]\n",
    "HUYEN =  result.loc[i,\"maHuyenLh\"]\n",
    "SDT = result.loc[i,\"soDienThoai\"]"
   ]
  },
  {
   "cell_type": "code",
   "execution_count": 1005,
   "id": "d71ad709",
   "metadata": {},
   "outputs": [],
   "source": [
    "# Xử lý hình ảnh\n",
    "#link = (r'C:\\Users\\Lenovo\\Desktop\\ANHXULY')\n",
    "# value_truoc = \"\\\\\" + str(i) + \"A\"\n",
    "# value_sau = \"\\\\\" + str(i) + \"B\"\n",
    "value_truoc = \"\\\\\" + str(i+1) + \"A\"\n",
    "value_sau = \"\\\\\" + str(i+1) + \"B\"\n",
    "extendtion = \".jpg\"\n",
    "CMNDTRUOC = img_dir + value_truoc +  extendtion\n",
    "CMNDSAU = img_dir + value_sau +  extendtion"
   ]
  },
  {
   "cell_type": "code",
   "execution_count": 1006,
   "id": "5ed65d3e",
   "metadata": {},
   "outputs": [],
   "source": [
    "#driver.find_element_by_id('fileAnhCmndMatTruoc').send_keys(CMNDTRUOC)\n",
    "driver.find_element(By.ID, 'fileAnhCmndMatTruoc').send_keys(CMNDTRUOC)\n",
    "time.sleep(2)\n",
    "WebDriverWait(driver,5).until(EC.element_to_be_clickable((By.XPATH,\"//button[./span[text()='Xác nhận']]\"))).click()\n",
    "driver.find_element(By.ID, 'fileAnhCmndMatSau').send_keys(CMNDSAU)\n",
    "time.sleep(2)\n",
    "WebDriverWait(driver,5).until(EC.element_to_be_clickable((By.XPATH,\"//button[./span[text()='Xác nhận']]\"))).click()"
   ]
  },
  {
   "cell_type": "code",
   "execution_count": 1007,
   "id": "dcb0427c",
   "metadata": {},
   "outputs": [
    {
     "ename": "ElementClickInterceptedException",
     "evalue": "Message: element click intercepted: Element <button _ngcontent-c44=\"\" color=\"primary\" mat-raised-button=\"\" class=\"mat-raised-button mat-primary\">...</button> is not clickable at point (589, 499). Other element would receive the click: <div _ngcontent-c2=\"\" class=\"backdrop full-screen ng-star-inserted\" style=\"border-radius: 0px; background-color: rgba(0, 0, 0, 0.3);\"></div>\n  (Session info: chrome=96.0.4664.45)\nStacktrace:\nBacktrace:\n\tOrdinal0 [0x00AF6023+2514979]\n\tOrdinal0 [0x00A8F6B1+2094769]\n\tOrdinal0 [0x009926C8+1058504]\n\tOrdinal0 [0x009C3399+1258393]\n\tOrdinal0 [0x009C16F8+1251064]\n\tOrdinal0 [0x009BF4ED+1242349]\n\tOrdinal0 [0x009BE338+1237816]\n\tOrdinal0 [0x009B3EC7+1195719]\n\tOrdinal0 [0x009D6323+1336099]\n\tOrdinal0 [0x009B38A6+1194150]\n\tOrdinal0 [0x009D640A+1336330]\n\tOrdinal0 [0x009E59FF+1399295]\n\tOrdinal0 [0x009D61EB+1335787]\n\tOrdinal0 [0x009B2617+1189399]\n\tOrdinal0 [0x009B3479+1193081]\n\tGetHandleVerifier [0x00C85624+1579748]\n\tGetHandleVerifier [0x00D30417+2279639]\n\tGetHandleVerifier [0x00B8473B+527355]\n\tGetHandleVerifier [0x00B837E9+523433]\n\tOrdinal0 [0x00A94BF9+2116601]\n\tOrdinal0 [0x00A99238+2134584]\n\tOrdinal0 [0x00A99372+2134898]\n\tOrdinal0 [0x00AA2EB1+2174641]\n\tBaseThreadInitThunk [0x768AFA29+25]\n\tRtlGetAppContainerNamedObjectPath [0x77787A9E+286]\n\tRtlGetAppContainerNamedObjectPath [0x77787A6E+238]\n",
     "output_type": "error",
     "traceback": [
      "\u001b[1;31m---------------------------------------------------------------------------\u001b[0m",
      "\u001b[1;31mElementClickInterceptedException\u001b[0m          Traceback (most recent call last)",
      "\u001b[1;32m<ipython-input-1007-89bc14d1b51b>\u001b[0m in \u001b[0;36m<module>\u001b[1;34m\u001b[0m\n\u001b[0;32m     28\u001b[0m \u001b[0mWebDriverWait\u001b[0m\u001b[1;33m(\u001b[0m\u001b[0mdriver\u001b[0m\u001b[1;33m,\u001b[0m\u001b[1;36m10\u001b[0m\u001b[1;33m)\u001b[0m\u001b[1;33m.\u001b[0m\u001b[0muntil\u001b[0m\u001b[1;33m(\u001b[0m\u001b[0mEC\u001b[0m\u001b[1;33m.\u001b[0m\u001b[0melement_to_be_clickable\u001b[0m\u001b[1;33m(\u001b[0m\u001b[1;33m(\u001b[0m\u001b[0mBy\u001b[0m\u001b[1;33m.\u001b[0m\u001b[0mXPATH\u001b[0m\u001b[1;33m,\u001b[0m\u001b[1;34m\"//button[./span[text()='Chọn']]\"\u001b[0m\u001b[1;33m)\u001b[0m\u001b[1;33m)\u001b[0m\u001b[1;33m)\u001b[0m\u001b[1;33m.\u001b[0m\u001b[0mclick\u001b[0m\u001b[1;33m(\u001b[0m\u001b[1;33m)\u001b[0m\u001b[1;33m\u001b[0m\u001b[1;33m\u001b[0m\u001b[0m\n\u001b[0;32m     29\u001b[0m \u001b[0mWebDriverWait\u001b[0m\u001b[1;33m(\u001b[0m\u001b[0mdriver\u001b[0m\u001b[1;33m,\u001b[0m\u001b[1;36m10\u001b[0m\u001b[1;33m)\u001b[0m\u001b[1;33m.\u001b[0m\u001b[0muntil\u001b[0m\u001b[1;33m(\u001b[0m\u001b[0mEC\u001b[0m\u001b[1;33m.\u001b[0m\u001b[0melement_to_be_clickable\u001b[0m\u001b[1;33m(\u001b[0m\u001b[1;33m(\u001b[0m\u001b[0mBy\u001b[0m\u001b[1;33m.\u001b[0m\u001b[0mXPATH\u001b[0m\u001b[1;33m,\u001b[0m\u001b[1;34m\"//strong[contains(text(),'[093]')]\"\u001b[0m\u001b[1;33m)\u001b[0m\u001b[1;33m)\u001b[0m\u001b[1;33m)\u001b[0m\u001b[1;33m.\u001b[0m\u001b[0mclick\u001b[0m\u001b[1;33m(\u001b[0m\u001b[1;33m)\u001b[0m\u001b[1;33m\u001b[0m\u001b[1;33m\u001b[0m\u001b[0m\n\u001b[1;32m---> 30\u001b[1;33m \u001b[0mdriver\u001b[0m\u001b[1;33m.\u001b[0m\u001b[0mfind_element\u001b[0m\u001b[1;33m(\u001b[0m\u001b[0mBy\u001b[0m\u001b[1;33m.\u001b[0m\u001b[0mCLASS_NAME\u001b[0m\u001b[1;33m,\u001b[0m \u001b[1;34m'mat-raised-button'\u001b[0m\u001b[1;33m)\u001b[0m\u001b[1;33m.\u001b[0m\u001b[0mclick\u001b[0m\u001b[1;33m(\u001b[0m\u001b[1;33m)\u001b[0m\u001b[1;33m\u001b[0m\u001b[1;33m\u001b[0m\u001b[0m\n\u001b[0m\u001b[0;32m     31\u001b[0m \u001b[1;31m# select_city = driver.find_element_by_class_name('mat-raised-button')\u001b[0m\u001b[1;33m\u001b[0m\u001b[1;33m\u001b[0m\u001b[1;33m\u001b[0m\u001b[0m\n\u001b[0;32m     32\u001b[0m \u001b[1;31m# select_city.click()\u001b[0m\u001b[1;33m\u001b[0m\u001b[1;33m\u001b[0m\u001b[1;33m\u001b[0m\u001b[0m\n",
      "\u001b[1;32mC:\\Python\\Python39\\lib\\site-packages\\selenium\\webdriver\\remote\\webelement.py\u001b[0m in \u001b[0;36mclick\u001b[1;34m(self)\u001b[0m\n\u001b[0;32m     78\u001b[0m     \u001b[1;32mdef\u001b[0m \u001b[0mclick\u001b[0m\u001b[1;33m(\u001b[0m\u001b[0mself\u001b[0m\u001b[1;33m)\u001b[0m \u001b[1;33m->\u001b[0m \u001b[1;32mNone\u001b[0m\u001b[1;33m:\u001b[0m\u001b[1;33m\u001b[0m\u001b[1;33m\u001b[0m\u001b[0m\n\u001b[0;32m     79\u001b[0m         \u001b[1;34m\"\"\"Clicks the element.\"\"\"\u001b[0m\u001b[1;33m\u001b[0m\u001b[1;33m\u001b[0m\u001b[0m\n\u001b[1;32m---> 80\u001b[1;33m         \u001b[0mself\u001b[0m\u001b[1;33m.\u001b[0m\u001b[0m_execute\u001b[0m\u001b[1;33m(\u001b[0m\u001b[0mCommand\u001b[0m\u001b[1;33m.\u001b[0m\u001b[0mCLICK_ELEMENT\u001b[0m\u001b[1;33m)\u001b[0m\u001b[1;33m\u001b[0m\u001b[1;33m\u001b[0m\u001b[0m\n\u001b[0m\u001b[0;32m     81\u001b[0m \u001b[1;33m\u001b[0m\u001b[0m\n\u001b[0;32m     82\u001b[0m     \u001b[1;32mdef\u001b[0m \u001b[0msubmit\u001b[0m\u001b[1;33m(\u001b[0m\u001b[0mself\u001b[0m\u001b[1;33m)\u001b[0m\u001b[1;33m:\u001b[0m\u001b[1;33m\u001b[0m\u001b[1;33m\u001b[0m\u001b[0m\n",
      "\u001b[1;32mC:\\Python\\Python39\\lib\\site-packages\\selenium\\webdriver\\remote\\webelement.py\u001b[0m in \u001b[0;36m_execute\u001b[1;34m(self, command, params)\u001b[0m\n\u001b[0;32m    691\u001b[0m             \u001b[0mparams\u001b[0m \u001b[1;33m=\u001b[0m \u001b[1;33m{\u001b[0m\u001b[1;33m}\u001b[0m\u001b[1;33m\u001b[0m\u001b[1;33m\u001b[0m\u001b[0m\n\u001b[0;32m    692\u001b[0m         \u001b[0mparams\u001b[0m\u001b[1;33m[\u001b[0m\u001b[1;34m'id'\u001b[0m\u001b[1;33m]\u001b[0m \u001b[1;33m=\u001b[0m \u001b[0mself\u001b[0m\u001b[1;33m.\u001b[0m\u001b[0m_id\u001b[0m\u001b[1;33m\u001b[0m\u001b[1;33m\u001b[0m\u001b[0m\n\u001b[1;32m--> 693\u001b[1;33m         \u001b[1;32mreturn\u001b[0m \u001b[0mself\u001b[0m\u001b[1;33m.\u001b[0m\u001b[0m_parent\u001b[0m\u001b[1;33m.\u001b[0m\u001b[0mexecute\u001b[0m\u001b[1;33m(\u001b[0m\u001b[0mcommand\u001b[0m\u001b[1;33m,\u001b[0m \u001b[0mparams\u001b[0m\u001b[1;33m)\u001b[0m\u001b[1;33m\u001b[0m\u001b[1;33m\u001b[0m\u001b[0m\n\u001b[0m\u001b[0;32m    694\u001b[0m \u001b[1;33m\u001b[0m\u001b[0m\n\u001b[0;32m    695\u001b[0m     \u001b[1;32mdef\u001b[0m \u001b[0mfind_element\u001b[0m\u001b[1;33m(\u001b[0m\u001b[0mself\u001b[0m\u001b[1;33m,\u001b[0m \u001b[0mby\u001b[0m\u001b[1;33m=\u001b[0m\u001b[0mBy\u001b[0m\u001b[1;33m.\u001b[0m\u001b[0mID\u001b[0m\u001b[1;33m,\u001b[0m \u001b[0mvalue\u001b[0m\u001b[1;33m=\u001b[0m\u001b[1;32mNone\u001b[0m\u001b[1;33m)\u001b[0m\u001b[1;33m:\u001b[0m\u001b[1;33m\u001b[0m\u001b[1;33m\u001b[0m\u001b[0m\n",
      "\u001b[1;32mC:\\Python\\Python39\\lib\\site-packages\\selenium\\webdriver\\remote\\webdriver.py\u001b[0m in \u001b[0;36mexecute\u001b[1;34m(self, driver_command, params)\u001b[0m\n\u001b[0;32m    416\u001b[0m         \u001b[0mresponse\u001b[0m \u001b[1;33m=\u001b[0m \u001b[0mself\u001b[0m\u001b[1;33m.\u001b[0m\u001b[0mcommand_executor\u001b[0m\u001b[1;33m.\u001b[0m\u001b[0mexecute\u001b[0m\u001b[1;33m(\u001b[0m\u001b[0mdriver_command\u001b[0m\u001b[1;33m,\u001b[0m \u001b[0mparams\u001b[0m\u001b[1;33m)\u001b[0m\u001b[1;33m\u001b[0m\u001b[1;33m\u001b[0m\u001b[0m\n\u001b[0;32m    417\u001b[0m         \u001b[1;32mif\u001b[0m \u001b[0mresponse\u001b[0m\u001b[1;33m:\u001b[0m\u001b[1;33m\u001b[0m\u001b[1;33m\u001b[0m\u001b[0m\n\u001b[1;32m--> 418\u001b[1;33m             \u001b[0mself\u001b[0m\u001b[1;33m.\u001b[0m\u001b[0merror_handler\u001b[0m\u001b[1;33m.\u001b[0m\u001b[0mcheck_response\u001b[0m\u001b[1;33m(\u001b[0m\u001b[0mresponse\u001b[0m\u001b[1;33m)\u001b[0m\u001b[1;33m\u001b[0m\u001b[1;33m\u001b[0m\u001b[0m\n\u001b[0m\u001b[0;32m    419\u001b[0m             response['value'] = self._unwrap_value(\n\u001b[0;32m    420\u001b[0m                 response.get('value', None))\n",
      "\u001b[1;32mC:\\Python\\Python39\\lib\\site-packages\\selenium\\webdriver\\remote\\errorhandler.py\u001b[0m in \u001b[0;36mcheck_response\u001b[1;34m(self, response)\u001b[0m\n\u001b[0;32m    241\u001b[0m                 \u001b[0malert_text\u001b[0m \u001b[1;33m=\u001b[0m \u001b[0mvalue\u001b[0m\u001b[1;33m[\u001b[0m\u001b[1;34m'alert'\u001b[0m\u001b[1;33m]\u001b[0m\u001b[1;33m.\u001b[0m\u001b[0mget\u001b[0m\u001b[1;33m(\u001b[0m\u001b[1;34m'text'\u001b[0m\u001b[1;33m)\u001b[0m\u001b[1;33m\u001b[0m\u001b[1;33m\u001b[0m\u001b[0m\n\u001b[0;32m    242\u001b[0m             \u001b[1;32mraise\u001b[0m \u001b[0mexception_class\u001b[0m\u001b[1;33m(\u001b[0m\u001b[0mmessage\u001b[0m\u001b[1;33m,\u001b[0m \u001b[0mscreen\u001b[0m\u001b[1;33m,\u001b[0m \u001b[0mstacktrace\u001b[0m\u001b[1;33m,\u001b[0m \u001b[0malert_text\u001b[0m\u001b[1;33m)\u001b[0m  \u001b[1;31m# type: ignore[call-arg]  # mypy is not smart enough here\u001b[0m\u001b[1;33m\u001b[0m\u001b[1;33m\u001b[0m\u001b[0m\n\u001b[1;32m--> 243\u001b[1;33m         \u001b[1;32mraise\u001b[0m \u001b[0mexception_class\u001b[0m\u001b[1;33m(\u001b[0m\u001b[0mmessage\u001b[0m\u001b[1;33m,\u001b[0m \u001b[0mscreen\u001b[0m\u001b[1;33m,\u001b[0m \u001b[0mstacktrace\u001b[0m\u001b[1;33m)\u001b[0m\u001b[1;33m\u001b[0m\u001b[1;33m\u001b[0m\u001b[0m\n\u001b[0m\u001b[0;32m    244\u001b[0m \u001b[1;33m\u001b[0m\u001b[0m\n\u001b[0;32m    245\u001b[0m     \u001b[1;32mdef\u001b[0m \u001b[0m_value_or_default\u001b[0m\u001b[1;33m(\u001b[0m\u001b[0mself\u001b[0m\u001b[1;33m,\u001b[0m \u001b[0mobj\u001b[0m\u001b[1;33m:\u001b[0m \u001b[0mMapping\u001b[0m\u001b[1;33m[\u001b[0m\u001b[0m_KT\u001b[0m\u001b[1;33m,\u001b[0m \u001b[0m_VT\u001b[0m\u001b[1;33m]\u001b[0m\u001b[1;33m,\u001b[0m \u001b[0mkey\u001b[0m\u001b[1;33m:\u001b[0m \u001b[0m_KT\u001b[0m\u001b[1;33m,\u001b[0m \u001b[0mdefault\u001b[0m\u001b[1;33m:\u001b[0m \u001b[0m_VT\u001b[0m\u001b[1;33m)\u001b[0m \u001b[1;33m->\u001b[0m \u001b[0m_VT\u001b[0m\u001b[1;33m:\u001b[0m\u001b[1;33m\u001b[0m\u001b[1;33m\u001b[0m\u001b[0m\n",
      "\u001b[1;31mElementClickInterceptedException\u001b[0m: Message: element click intercepted: Element <button _ngcontent-c44=\"\" color=\"primary\" mat-raised-button=\"\" class=\"mat-raised-button mat-primary\">...</button> is not clickable at point (589, 499). Other element would receive the click: <div _ngcontent-c2=\"\" class=\"backdrop full-screen ng-star-inserted\" style=\"border-radius: 0px; background-color: rgba(0, 0, 0, 0.3);\"></div>\n  (Session info: chrome=96.0.4664.45)\nStacktrace:\nBacktrace:\n\tOrdinal0 [0x00AF6023+2514979]\n\tOrdinal0 [0x00A8F6B1+2094769]\n\tOrdinal0 [0x009926C8+1058504]\n\tOrdinal0 [0x009C3399+1258393]\n\tOrdinal0 [0x009C16F8+1251064]\n\tOrdinal0 [0x009BF4ED+1242349]\n\tOrdinal0 [0x009BE338+1237816]\n\tOrdinal0 [0x009B3EC7+1195719]\n\tOrdinal0 [0x009D6323+1336099]\n\tOrdinal0 [0x009B38A6+1194150]\n\tOrdinal0 [0x009D640A+1336330]\n\tOrdinal0 [0x009E59FF+1399295]\n\tOrdinal0 [0x009D61EB+1335787]\n\tOrdinal0 [0x009B2617+1189399]\n\tOrdinal0 [0x009B3479+1193081]\n\tGetHandleVerifier [0x00C85624+1579748]\n\tGetHandleVerifier [0x00D30417+2279639]\n\tGetHandleVerifier [0x00B8473B+527355]\n\tGetHandleVerifier [0x00B837E9+523433]\n\tOrdinal0 [0x00A94BF9+2116601]\n\tOrdinal0 [0x00A99238+2134584]\n\tOrdinal0 [0x00A99372+2134898]\n\tOrdinal0 [0x00AA2EB1+2174641]\n\tBaseThreadInitThunk [0x768AFA29+25]\n\tRtlGetAppContainerNamedObjectPath [0x77787A9E+286]\n\tRtlGetAppContainerNamedObjectPath [0x77787A6E+238]\n"
     ]
    }
   ],
   "source": [
    "#driver.find_element_by_id('mat-input-7').send_keys(hoten)\n",
    "driver.find_element(By.ID, 'mat-input-7').send_keys(hoten)\n",
    "driver.find_element(By.ID, 'mat-input-4').send_keys(Ma_BHXH)\n",
    "driver.find_element(By.ID, 'mat-input-5').send_keys(CMND)\n",
    "# time.sleep(1)\n",
    "# driver.find_element(By.ID, 'mat-input-8').send_keys(TINH)\n",
    " \n",
    "WebDriverWait(driver,3).until(EC.element_to_be_clickable((By.ID,\"mat-input-8\"))).send_keys(TINH)\n",
    "actions = ActionChains(driver)\n",
    "actions.send_keys(Keys.TAB)\n",
    "actions.perform()\n",
    "time.sleep(0.5)\n",
    "# driver.find_element(By.ID, 'mat-input-9').send_keys(HUYEN)\n",
    "WebDriverWait(driver,3).until(EC.element_to_be_clickable((By.ID,\"mat-input-9\"))).send_keys(HUYEN)\n",
    "actions = ActionChains(driver) \n",
    "actions.send_keys(Keys.TAB)\n",
    "actions.perform()\n",
    "time.sleep(0.5)\n",
    "# driver.find_element(By.ID, 'mat-input-10').send_keys(XA)\n",
    "WebDriverWait(driver,3).until(EC.element_to_be_clickable((By.ID,\"mat-input-10\"))).send_keys(XA)\n",
    "actions = ActionChains(driver) \n",
    "actions.send_keys(Keys.TAB)\n",
    "actions.perform()\n",
    "\n",
    "driver.find_element(By.ID, 'mat-input-11').send_keys(DC)\n",
    "driver.find_element(By.ID, 'mat-input-2').send_keys(EMAIL)\n",
    "driver.find_element(By.ID, 'mat-input-3').send_keys(SDT)\n",
    "WebDriverWait(driver,10).until(EC.element_to_be_clickable((By.XPATH,\"//button[./span[text()='Chọn']]\"))).click()\n",
    "WebDriverWait(driver,10).until(EC.element_to_be_clickable((By.XPATH,\"//strong[contains(text(),'[093]')]\"))).click()\n",
    "driver.find_element(By.CLASS_NAME, 'mat-raised-button').click()\n",
    "# select_city = driver.find_element_by_class_name('mat-raised-button')\n",
    "# select_city.click()\n",
    "time.sleep(0.5)\n",
    "driver.find_element(By.ID, 'mat-input-6').send_keys('')"
   ]
  },
  {
   "cell_type": "code",
   "execution_count": null,
   "id": "420077a3",
   "metadata": {},
   "outputs": [
    {
     "name": "stdout",
     "output_type": "stream",
     "text": [
      "Kết thúc hồ sơ thứ 128\n"
     ]
    }
   ],
   "source": [
    "OTPVALUE = input(\"Nhập giá trị OTP vào đây\")    \n",
    "if(len(OTPVALUE) == 6): \n",
    "    WebDriverWait(driver,1).until(EC.element_to_be_clickable((By.XPATH,\"//*[starts-with(@id, 'otp_0_')]\"))).send_keys(OTPVALUE[0])\n",
    "    WebDriverWait(driver,1).until(EC.element_to_be_clickable((By.XPATH,\"//*[starts-with(@id, 'otp_1_')]\"))).send_keys(OTPVALUE[1])\n",
    "    WebDriverWait(driver,1).until(EC.element_to_be_clickable((By.XPATH,\"//*[starts-with(@id, 'otp_2_')]\"))).send_keys(OTPVALUE[2])\n",
    "    WebDriverWait(driver,1).until(EC.element_to_be_clickable((By.XPATH,\"//*[starts-with(@id, 'otp_3_')]\"))).send_keys(OTPVALUE[3])\n",
    "    WebDriverWait(driver,1).until(EC.element_to_be_clickable((By.XPATH,\"//*[starts-with(@id, 'otp_4_')]\"))).send_keys(OTPVALUE[4])\n",
    "    WebDriverWait(driver,1).until(EC.element_to_be_clickable((By.XPATH,\"//*[starts-with(@id, 'otp_5_')]\"))).send_keys(OTPVALUE[5])\n",
    "    WebDriverWait(driver,1).until(EC.element_to_be_clickable((By.XPATH,\"//button[./span[text()='Xác nhận']]\"))).click()\n",
    "    print(\"Kết thúc hồ sơ thứ \" + str(i + 1))                         \n",
    "else:\n",
    "    print(\"Kết thúc hồ sơ thứ \" + str(i + 1))           \n",
    "               "
   ]
  },
  {
   "cell_type": "code",
   "execution_count": null,
   "id": "eb435098",
   "metadata": {},
   "outputs": [],
   "source": [
    "# key = False\n",
    "# while(key == False):\n",
    "#     try:\n",
    "#         if driver.find_element(By.ID, 'body-dialog'):\n",
    "#             OTPVALUE = input(\"Nhập giá trị OTP vào đây\")    \n",
    "#             if(len(OTPVALUE) < 6): \n",
    "#                 key = True                  \n",
    "#             else:\n",
    "#                 WebDriverWait(driver,1).until(EC.element_to_be_clickable((By.XPATH,\"//*[starts-with(@id, 'otp_0_')]\"))).send_keys(OTPVALUE[0])\n",
    "#                 WebDriverWait(driver,1).until(EC.element_to_be_clickable((By.XPATH,\"//*[starts-with(@id, 'otp_1_')]\"))).send_keys(OTPVALUE[1])\n",
    "#                 WebDriverWait(driver,1).until(EC.element_to_be_clickable((By.XPATH,\"//*[starts-with(@id, 'otp_2_')]\"))).send_keys(OTPVALUE[2])\n",
    "#                 WebDriverWait(driver,1).until(EC.element_to_be_clickable((By.XPATH,\"//*[starts-with(@id, 'otp_3_')]\"))).send_keys(OTPVALUE[3])\n",
    "#                 WebDriverWait(driver,1).until(EC.element_to_be_clickable((By.XPATH,\"//*[starts-with(@id, 'otp_4_')]\"))).send_keys(OTPVALUE[4])\n",
    "#                 WebDriverWait(driver,1).until(EC.element_to_be_clickable((By.XPATH,\"//*[starts-with(@id, 'otp_5_')]\"))).send_keys(OTPVALUE[5])\n",
    "#                 WebDriverWait(driver,3).until(EC.element_to_be_clickable((By.XPATH,\"//button[./span[text()='Xác nhận']]\"))).click()\n",
    "#                 key = True\n",
    "#         else:\n",
    "#             key = False\n",
    "#     except NoSuchElementException:\n",
    "#             key = False"
   ]
  }
 ],
 "metadata": {
  "interpreter": {
   "hash": "65413db5d18b6e6fc91f4af23253c3dc507c53d0efef2afae1768d332c9921e3"
  },
  "kernelspec": {
   "display_name": "Python 3.8.1 64-bit",
   "name": "python3"
  },
  "language_info": {
   "codemirror_mode": {
    "name": "ipython",
    "version": 3
   },
   "file_extension": ".py",
   "mimetype": "text/x-python",
   "name": "python",
   "nbconvert_exporter": "python",
   "pygments_lexer": "ipython3",
   "version": "3.9.4"
  }
 },
 "nbformat": 4,
 "nbformat_minor": 5
}
