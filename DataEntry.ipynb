{
 "cells": [
  {
   "cell_type": "code",
   "execution_count": 7,
   "id": "51feb412",
   "metadata": {},
   "outputs": [
    {
     "name": "stderr",
     "output_type": "stream",
     "text": [
      "<ipython-input-7-602eb0faa4f4>:12: DeprecationWarning: executable_path has been deprecated, please pass in a Service object\n",
      "  driver = webdriver.Chrome(options=chrome_options, executable_path=r\"C:\\Users\\Lenovo\\Desktop\\Chrome\\chromedriver.exe\")\n"
     ]
    }
   ],
   "source": [
    "from selenium import webdriver\n",
    "from selenium.webdriver.chrome.options import Options\n",
    "import time\n",
    "from selenium.webdriver.common.keys import Keys\n",
    "from selenium.webdriver.common.action_chains import ActionChains\n",
    "from selenium.webdriver.support import expected_conditions as EC\n",
    "from selenium.webdriver.common.by import By\n",
    "from selenium.webdriver.support.ui import WebDriverWait\n",
    "\n",
    "chrome_options = Options()\n",
    "# webdriver = Chrome(r\"C:\\Users\\taitt.haugiang.VSS\\Downloads\\chromedriver.exe\")\n",
    "driver = webdriver.Chrome(options=chrome_options, executable_path=r\"C:\\Users\\Lenovo\\Desktop\\Chrome\\chromedriver.exe\")\n",
    "baseUrl = r'https://dichvucong.baohiemxahoi.gov.vn/#/dang-ky';\n",
    "driver.get(baseUrl);\n",
    "time.sleep(3)"
   ]
  },
  {
   "cell_type": "code",
   "execution_count": 6,
   "id": "1faa8e3a",
   "metadata": {},
   "outputs": [],
   "source": [
    "import pandas as pd\n",
    "result = pd.read_excel(r'C:\\Users\\Lenovo\\Desktop\\VSSID\\CMBI0026A2021L2_XONG.xlsx', dtype=str)\n",
    "#result"
   ]
  },
  {
   "cell_type": "code",
   "execution_count": 3,
   "id": "e3953c7c",
   "metadata": {},
   "outputs": [
    {
     "name": "stderr",
     "output_type": "stream",
     "text": [
      "<ipython-input-3-4b664f726389>:1: DeprecationWarning: find_element_by_* commands are deprecated. Please use find_element() instead\n",
      "  dang_ky = driver.find_element_by_class_name('mat-flat-button');\n"
     ]
    }
   ],
   "source": [
    "dang_ky = driver.find_element_by_class_name('mat-flat-button');\n",
    "dang_ky.click()\n",
    "time.sleep(3)"
   ]
  },
  {
   "cell_type": "code",
   "execution_count": 7,
   "id": "23c4622f",
   "metadata": {},
   "outputs": [],
   "source": [
    "# import msvcrt as m\n",
    "i = 11;\n",
    "# while i < len(result.index):\n",
    "#   print(i)\n",
    "#   input(\"Press Enter to continue...\")\n",
    "#   m.getch()\n",
    "#   i = i+1\n",
    " "
   ]
  },
  {
   "cell_type": "code",
   "execution_count": 8,
   "id": "0d64754f",
   "metadata": {},
   "outputs": [],
   "source": [
    "hoten = result.loc[i,\"hoTen\"]\n",
    "Ma_BHXH = result.loc[i,\"soBhxh\"]\n",
    "CMND = result.loc[i,\"soCmnd\"]\n",
    "TINH =  result.loc[i,\"maTinhLh\"]\n",
    "HUYEN =  result.loc[i,\"maHuyenLh\"]\n",
    "XA = result.loc[i,\"maXaLh\"]\n",
    "DC =  result.loc[i,\"DC\"]\n",
    "EMAIL = result.loc[i,\"Email\"]\n",
    "SDT = result.loc[i,\"soDienThoai\"]"
   ]
  },
  {
   "cell_type": "code",
   "execution_count": 9,
   "id": "dcb0427c",
   "metadata": {},
   "outputs": [
    {
     "name": "stderr",
     "output_type": "stream",
     "text": [
      "<ipython-input-9-2b240b431c02>:1: DeprecationWarning: find_element_by_* commands are deprecated. Please use find_element() instead\n",
      "  driver.find_element_by_id('mat-input-7').send_keys(hoten)\n",
      "<ipython-input-9-2b240b431c02>:2: DeprecationWarning: find_element_by_* commands are deprecated. Please use find_element() instead\n",
      "  driver.find_element_by_id('mat-input-4').send_keys(Ma_BHXH)\n",
      "<ipython-input-9-2b240b431c02>:3: DeprecationWarning: find_element_by_* commands are deprecated. Please use find_element() instead\n",
      "  driver.find_element_by_id('mat-input-5').send_keys(CMND)\n",
      "<ipython-input-9-2b240b431c02>:4: DeprecationWarning: find_element_by_* commands are deprecated. Please use find_element() instead\n",
      "  driver.find_element_by_id('mat-input-8').send_keys(TINH)\n",
      "<ipython-input-9-2b240b431c02>:9: DeprecationWarning: find_element_by_* commands are deprecated. Please use find_element() instead\n",
      "  driver.find_element_by_id('mat-input-9').send_keys(HUYEN);\n",
      "<ipython-input-9-2b240b431c02>:14: DeprecationWarning: find_element_by_* commands are deprecated. Please use find_element() instead\n",
      "  driver.find_element_by_id('mat-input-10').send_keys(XA);\n",
      "<ipython-input-9-2b240b431c02>:18: DeprecationWarning: find_element_by_* commands are deprecated. Please use find_element() instead\n",
      "  driver.find_element_by_id('mat-input-11').send_keys(DC);\n",
      "<ipython-input-9-2b240b431c02>:19: DeprecationWarning: find_element_by_* commands are deprecated. Please use find_element() instead\n",
      "  driver.find_element_by_id('mat-input-2').send_keys(EMAIL);\n",
      "<ipython-input-9-2b240b431c02>:20: DeprecationWarning: find_element_by_* commands are deprecated. Please use find_element() instead\n",
      "  driver.find_element_by_id('mat-input-3').send_keys(SDT);\n"
     ]
    }
   ],
   "source": [
    "driver.find_element_by_id('mat-input-7').send_keys(hoten)\n",
    "driver.find_element_by_id('mat-input-4').send_keys(Ma_BHXH)\n",
    "driver.find_element_by_id('mat-input-5').send_keys(CMND)\n",
    "driver.find_element_by_id('mat-input-8').send_keys(TINH)\n",
    "actions = ActionChains(driver) \n",
    "actions.send_keys(Keys.TAB)\n",
    "actions.perform()\n",
    "time.sleep(2)\n",
    "driver.find_element_by_id('mat-input-9').send_keys(HUYEN);\n",
    "actions = ActionChains(driver) \n",
    "actions.send_keys(Keys.TAB)\n",
    "actions.perform()\n",
    "time.sleep(2)\n",
    "driver.find_element_by_id('mat-input-10').send_keys(XA);\n",
    "actions = ActionChains(driver) \n",
    "actions.send_keys(Keys.TAB)\n",
    "actions.perform()\n",
    "driver.find_element_by_id('mat-input-11').send_keys(DC);\n",
    "driver.find_element_by_id('mat-input-2').send_keys(EMAIL);\n",
    "driver.find_element_by_id('mat-input-3').send_keys(SDT);\n",
    "\n",
    "WebDriverWait(driver,10).until(EC.element_to_be_clickable((By.XPATH,\"//button[./span[text()='Chọn']]\"))).click()\n",
    "WebDriverWait(driver,10).until(EC.element_to_be_clickable((By.XPATH,\"//strong[contains(text(),'[093]')]\"))).click()\n",
    "select_city = driver.find_element_by_class_name('mat-raised-button')\n",
    "select_city.click()"
   ]
  }
 ],
 "metadata": {
  "interpreter": {
   "hash": "65413db5d18b6e6fc91f4af23253c3dc507c53d0efef2afae1768d332c9921e3"
  },
  "kernelspec": {
   "display_name": "Python 3.8.1 64-bit",
   "name": "python3"
  },
  "language_info": {
   "codemirror_mode": {
    "name": "ipython",
    "version": 3
   },
   "file_extension": ".py",
   "mimetype": "text/x-python",
   "name": "python",
   "nbconvert_exporter": "python",
   "pygments_lexer": "ipython3",
   "version": "3.9.4"
  }
 },
 "nbformat": 4,
 "nbformat_minor": 5
}
