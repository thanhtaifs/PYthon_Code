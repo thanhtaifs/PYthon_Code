{
 "cells": [
  {
   "cell_type": "code",
   "execution_count": null,
   "id": "51feb412",
   "metadata": {},
   "outputs": [],
   "source": [
    "from selenium import webdriver\n",
    "from selenium.webdriver.chrome.options import Options\n",
    "import time\n",
    "from selenium.webdriver.common.keys import Keys\n",
    "from selenium.webdriver.common.action_chains import ActionChains\n",
    "from selenium.webdriver.support import expected_conditions as EC\n",
    "from selenium.webdriver.common.by import By\n",
    "from selenium.webdriver.support.ui import WebDriverWait\n",
    "import pandas as pd\n",
    "import matplotlib.pyplot as plt\n",
    "from PIL import Image\n",
    "\n",
    "chrome_options = Options()\n",
    "Path_Chrome_Driver = r\"C:\\Users\\Lenovo\\Desktop\\Chrome\\chromedriver.exe\"\n",
    "driver = webdriver.Chrome(options=chrome_options, executable_path= Path_Chrome_Driver)"
   ]
  },
  {
   "cell_type": "code",
   "execution_count": null,
   "id": "423ab038",
   "metadata": {},
   "outputs": [],
   "source": [
    "baseUrl = r'https://dichvucong.baohiemxahoi.gov.vn/#/dang-ky'\n",
    "driver.get(baseUrl)"
   ]
  },
  {
   "cell_type": "code",
   "execution_count": null,
   "id": "1faa8e3a",
   "metadata": {},
   "outputs": [],
   "source": [
    "time.sleep(2)\n",
    "driver.find_element(By.CLASS_NAME, 'mat-flat-button').click()"
   ]
  },
  {
   "cell_type": "code",
   "execution_count": null,
   "id": "a4dd276f",
   "metadata": {},
   "outputs": [],
   "source": [
    "img_dir =r\"C:\\Users\\Lenovo\\Desktop\\VSSID\\ANHXULY\"\n",
    "folder_excel = r\"C:\\Users\\Lenovo\\Desktop\\VSSID\\Excel\"\n",
    "# Tên file excel cần xử lý\n",
    "FileName_Excel = \"CHIKHANHCHIEU1911_REF.xlsx\"\n",
    "result = pd.read_excel(folder_excel + \"\\\\\" + FileName_Excel, dtype=str)"
   ]
  },
  {
   "cell_type": "markdown",
   "id": "2fcb9c78",
   "metadata": {},
   "source": [
    "Thay đổi vị trí trường i để ứng với vị trí trong dữ liệu Excel"
   ]
  },
  {
   "cell_type": "code",
   "execution_count": null,
   "metadata": {},
   "outputs": [
    {
     "name": "stdout",
     "output_type": "stream",
     "text": [
      "Dữ liệu tiếp theo là: 33\n",
      "Mẫu hình ảnh tham chiếu: 33A.jpg\n"
     ]
    }
   ],
   "source": [
    "i = 32\n",
    "\n",
    "hoten = result.loc[i,\"hoTen\"]\n",
    "#EMAIL = result.loc[i,\"Email\"]\n",
    "EMAIL = result.loc[i,\"Email\"]\n",
    "Name_Email = EMAIL.split(\"@\")[0]\n",
    "print(\"Dữ liệu theo STT: \" + str(i + 1))\n",
    "print(\"Địa chỉ Email: \" + Name_Email)\n",
    "print(\"Họ tên: \" + hoten)\n",
    "print(\"Mẫu hình ảnh tham chiếu MT: \" + str(i + 1) + \"A.jpg\")\n",
    "img  = Image.open(img_dir + \"\\\\\" +str(i + 1) + \"A.jpg\")\n",
    "img = img.rotate(90)\n",
    "img = img.resize((800, 600))\n",
    "implot = plt.imshow(img)\n",
    "plt.show()"
   ]
  },
  {
   "cell_type": "code",
   "execution_count": null,
   "id": "6f47eb58",
   "metadata": {},
   "outputs": [],
   "source": [
    "Ma_BHXH = result.loc[i,\"soBhxh\"]\n",
    "CMND = result.loc[i,\"soCmnd\"]\n",
    "DC =  result.loc[i,\"DC\"]\n",
    "XA = result.loc[i,\"maXaLh\"]\n",
    "TINH =  result.loc[i,\"maTinhLh\"]\n",
    "HUYEN =  result.loc[i,\"maHuyenLh\"]\n",
    "SDT = result.loc[i,\"soDienThoai\"]"
   ]
  },
  {
   "cell_type": "code",
   "execution_count": 774,
   "id": "d71ad709",
   "metadata": {},
   "outputs": [],
   "source": [
    "# Xử lý hình ảnh\n",
    "#link = (r'C:\\Users\\Lenovo\\Desktop\\ANHXULY')\n",
    "value_truoc = \"\\\\\" + str(i+1) + \"A\"\n",
    "value_sau = \"\\\\\" + str(i+1) + \"B\"\n",
    "extendtion = \".jpg\"\n",
    "CMNDTRUOC = img_dir + value_truoc +  extendtion\n",
    "CMNDSAU = img_dir + value_sau +  extendtion"
   ]
  },
  {
   "cell_type": "code",
   "execution_count": 775,
   "id": "5ed65d3e",
   "metadata": {},
   "outputs": [],
   "source": [
    "#driver.find_element_by_id('fileAnhCmndMatTruoc').send_keys(CMNDTRUOC)\n",
    "driver.find_element(By.ID, 'fileAnhCmndMatTruoc').send_keys(CMNDTRUOC)\n",
    "time.sleep(2)\n",
    "WebDriverWait(driver,10).until(EC.element_to_be_clickable((By.XPATH,\"//button[./span[text()='Xác nhận']]\"))).click()\n",
    "driver.find_element(By.ID, 'fileAnhCmndMatSau').send_keys(CMNDSAU)\n",
    "time.sleep(2)\n",
    "WebDriverWait(driver,10).until(EC.element_to_be_clickable((By.XPATH,\"//button[./span[text()='Xác nhận']]\"))).click()"
   ]
  },
  {
   "cell_type": "code",
   "execution_count": 777,
   "id": "dcb0427c",
   "metadata": {},
   "outputs": [
    {
     "name": "stderr",
     "output_type": "stream",
     "text": [
      "<ipython-input-777-42ab58798ed9>:35: DeprecationWarning: find_element_by_* commands are deprecated. Please use find_element() instead\n",
      "  select_city = driver.find_element_by_class_name('mat-raised-button')\n"
     ]
    }
   ],
   "source": [
    "#driver.find_element_by_id('mat-input-7').send_keys(hoten)\n",
    "driver.find_element(By.ID, 'mat-input-7').send_keys(hoten)\n",
    "driver.find_element(By.ID, 'mat-input-4').send_keys(Ma_BHXH)\n",
    "driver.find_element(By.ID, 'mat-input-5').send_keys(CMND)\n",
    "driver.find_element(By.ID, 'mat-input-8').send_keys(TINH)\n",
    "actions = ActionChains(driver) \n",
    "actions.send_keys(Keys.TAB)\n",
    "actions.perform()\n",
    "time.sleep(1)\n",
    "driver.find_element(By.ID, 'mat-input-9').send_keys(HUYEN)\n",
    "actions = ActionChains(driver) \n",
    "actions.send_keys(Keys.TAB)\n",
    "actions.perform()\n",
    "time.sleep(1)\n",
    "driver.find_element(By.ID, 'mat-input-10').send_keys(XA)\n",
    "actions = ActionChains(driver) \n",
    "actions.send_keys(Keys.TAB)\n",
    "actions.perform()\n",
    "driver.find_element(By.ID, 'mat-input-11').send_keys(DC)\n",
    "driver.find_element(By.ID, 'mat-input-2').send_keys(EMAIL)\n",
    "driver.find_element(By.ID, 'mat-input-3').send_keys(SDT)\n",
    "WebDriverWait(driver,10).until(EC.element_to_be_clickable((By.XPATH,\"//button[./span[text()='Chọn']]\"))).click()\n",
    "WebDriverWait(driver,10).until(EC.element_to_be_clickable((By.XPATH,\"//strong[contains(text(),'[093]')]\"))).click()\n",
    "driver.find_element(By.CLASS_NAME, 'mat-raised-button').click()\n",
    "# select_city = driver.find_element_by_class_name('mat-raised-button')\n",
    "# select_city.click()\n",
    "time.sleep(1)\n",
    "driver.find_element(By.ID, 'mat-input-6').send_keys('')"
   ]
  }
 ],
 "metadata": {
  "interpreter": {
   "hash": "65413db5d18b6e6fc91f4af23253c3dc507c53d0efef2afae1768d332c9921e3"
  },
  "kernelspec": {
   "display_name": "Python 3.8.1 64-bit",
   "name": "python3"
  },
  "language_info": {
   "codemirror_mode": {
    "name": "ipython",
    "version": 3
   },
   "file_extension": ".py",
   "mimetype": "text/x-python",
   "name": "python",
   "nbconvert_exporter": "python",
   "pygments_lexer": "ipython3",
   "version": "3.9.4"
  }
 },
 "nbformat": 4,
 "nbformat_minor": 5
}
