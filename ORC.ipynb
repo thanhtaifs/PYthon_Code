{
 "cells": [
  {
   "cell_type": "code",
   "execution_count": null,
   "metadata": {},
   "outputs": [],
   "source": [
    "import pytesseract\n",
    "from pdf2image import convert_from_path\n",
    "import glob\n",
    "\n",
    "pdfs = glob.glob(r\"C:\\Users\\Lenovo\\Desktop\\VSSID\\PDF\\*.pdf\")\n",
    "pytesseract.pytesseract.tesseract_cmd = r'C:\\Program Files (x86)\\Tesseract-OCR\\tesseract.exe' \n",
    "for pdf_path in pdfs:\n",
    "    pages = convert_from_path(pdf_path, 500, poppler_path=r'C:\\Users\\Lenovo\\Downloads\\poppler-21.11.0\\Library\\bin')\n",
    "    #print(pages[-1])\n",
    "    text = pytesseract.image_to_string(pages[-1],lang='eng' , config=\"--psm 6\")\n",
    "    if text.find(\"S6 dién thoai\") != -1:  \n",
    "        print(text)\n",
    "        \n",
    "    # for pageNum,imgBlob in enumerate(pages):\n",
    "    #     text = pytesseract.image_to_string(imgBlob,lang='eng')\n",
    "    #     if text.find(\"S6 dién thoai\") != -1:  \n",
    "    #         print(text)\n",
    "        # with open(f'{pdf_path[:-4]}_page{pageNum}.txt', 'w', encoding=\"utf-8\") as the_file:\n",
    "        #     the_file.write(text)"
   ]
  },
  {
   "cell_type": "code",
   "execution_count": null,
   "metadata": {},
   "outputs": [],
   "source": [
    "from PyPDF2 import PdfFileWriter, PdfFileReader\n",
    "import os\n",
    "import pytesseract\n",
    "from pdf2image import convert_from_path\n",
    "import glob\n",
    "\n",
    "pdfs = glob.glob(r\"C:\\Users\\Lenovo\\Desktop\\VSSID\\PDF\\*.pdf\")\n",
    "pytesseract.pytesseract.tesseract_cmd = r'C:\\Program Files (x86)\\Tesseract-OCR\\tesseract.exe' \n",
    "for pdf_path in pdfs:\n",
    "    fileName_absolute = os.path.basename(pdf_path)\n",
    "    #print(fileName_absolute.split(\".\")[0])\n",
    "    inputpdf = PdfFileReader(open(pdf_path, \"rb\"))\n",
    "    # output = PdfFileWriter()\n",
    "    # output.addPage(inputpdf.getPage(inputpdf.numPages - 1))\n",
    "    # with open(r'C:\\Users\\Lenovo\\Desktop\\VSSID' + \"\\document-page%s.pdf\" % inputpdf.numPages, \"wb\") as outputStream:\n",
    "    #     output.write(outputStream)\n",
    "    pages = convert_from_path(pdf_path, 500, first_page = inputpdf.numPages, last_page= inputpdf.numPages ,poppler_path=r'C:\\Users\\Lenovo\\Desktop\\poppler-21.11.0\\Library\\bin')\n",
    "    text = pytesseract.image_to_string(pages[-1],lang='eng' , config=\"--psm 6\")\n",
    "    with open(r'C:\\Users\\Lenovo\\Desktop\\VSSID\\TXT\\\\' + fileName_absolute.split(\".\")[0] + f'.txt', 'w', encoding=\"utf-8\") as the_file:\n",
    "        the_file.write(text)\n",
    "\n",
    "# for i in range(inputpdf.numPages):\n",
    "#     output = PdfFileWriter()\n",
    "#     output.addPage(inputpdf.getPage(i))\n",
    "#     with open(\"document-page%s.pdf\" % i, \"wb\") as outputStream:\n",
    "#         output.write(outputStream)"
   ]
  },
  {
   "cell_type": "code",
   "execution_count": 10,
   "metadata": {},
   "outputs": [],
   "source": [
    "import glob\n",
    "import os\n",
    "# Import pandas library\n",
    "import pandas as pd\n",
    "df = pd.DataFrame()\n",
    "txts = glob.glob(r\"C:\\Users\\Lenovo\\Desktop\\VSSID\\TXT\\*.txt\")\n",
    "for i, filename in enumerate(txts):\n",
    "    sdt = ''\n",
    "    masobhxh = ''\n",
    "    with open(filename ,'r' , encoding=\"utf-8\") as f:\n",
    "        fileName_absolute = os.path.basename(filename)\n",
    "        #print(fileName_absolute.split(\".\")[0])\n",
    "        for line in f:           \n",
    "            if(line.find('S6 dién thoai lién lac:') != -1):\n",
    "                sdt = line.split(\":\")[1].strip()\n",
    "            #print(sdt)         \n",
    "            elif(line.find('s6 s6 BHXH:') != -1):\n",
    "                masobhxh = line.split(\":\")[1].strip()\n",
    "            # else:\n",
    "            #     print(masobhxh)\n",
    "     \n",
    "    df.loc[i, 'SDT'] = sdt\n",
    "    df.loc[i, 'MASOBHXH'] = masobhxh\n",
    "    df.loc[i, 'LINKFILE'] = fileName_absolute.split(\".\")[0]\n"
   ]
  },
  {
   "cell_type": "code",
   "execution_count": 11,
   "metadata": {},
   "outputs": [
    {
     "name": "stdout",
     "output_type": "stream",
     "text": [
      "          SDT    MASOBHXH     LINKFILE\n",
      "0  0386761282  7413010975  2019_0_1_26\n",
      "1                          2019_0_1_94\n"
     ]
    }
   ],
   "source": [
    "print(df)\n"
   ]
  }
 ],
 "metadata": {
  "interpreter": {
   "hash": "ee5cc6fef2d70a7e71ee3826687cbd150f18158e0b1eef11d4f4f92bb920e304"
  },
  "kernelspec": {
   "display_name": "Python 3.9.4 64-bit",
   "name": "python3"
  },
  "language_info": {
   "codemirror_mode": {
    "name": "ipython",
    "version": 3
   },
   "file_extension": ".py",
   "mimetype": "text/x-python",
   "name": "python",
   "nbconvert_exporter": "python",
   "pygments_lexer": "ipython3",
   "version": "3.9.4"
  },
  "orig_nbformat": 4
 },
 "nbformat": 4,
 "nbformat_minor": 2
}
