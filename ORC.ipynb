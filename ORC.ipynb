{
 "cells": [
  {
   "cell_type": "code",
   "execution_count": 2,
   "metadata": {},
   "outputs": [],
   "source": [
    "from PyPDF2 import PdfFileWriter, PdfFileReader\n",
    "import os\n",
    "import pytesseract\n",
    "from pdf2image import convert_from_path\n",
    "import glob\n",
    "\n",
    "pdfs = glob.glob(r\"C:\\Users\\Lenovo\\Desktop\\VSSID\\PDF\\*.pdf\")\n",
    "pytesseract.pytesseract.tesseract_cmd = r'C:\\Program Files\\Tesseract-OCR\\tesseract.exe' \n",
    "for pdf_path in pdfs:\n",
    "    fileName_absolute = os.path.basename(pdf_path)\n",
    "    #print(fileName_absolute.split(\".\")[0])\n",
    "    inputpdf = PdfFileReader(open(pdf_path, \"rb\"))\n",
    "    # output = PdfFileWriter()\n",
    "    # output.addPage(inputpdf.getPage(inputpdf.numPages - 1))\n",
    "    # with open(r'C:\\Users\\Lenovo\\Desktop\\VSSID' + \"\\document-page%s.pdf\" % inputpdf.numPages, \"wb\") as outputStream:\n",
    "    #     output.write(outputStream)\n",
    "    # chỉnh nếu đọc từ vị trí nào\n",
    "    #pages = convert_from_path(pdf_path, 500, first_page = inputpdf.numPages - 3, last_page= inputpdf.numPages ,poppler_path=r'C:\\Users\\Lenovo\\Desktop\\poppler-21.11.0\\Library\\bin')\n",
    "    pages = convert_from_path(pdf_path, 500, first_page = 1, last_page = 1 , poppler_path=r'C:\\Users\\Lenovo\\Desktop\\poppler-21.11.0\\Library\\bin')\n",
    "    text = pytesseract.image_to_string(pages[-1],lang='vie', config='--tessdata-dir \"C:\\\\Program Files\\\\Tesseract-OCR\\\\tessdata\"')\n",
    "    with open(r'C:\\Users\\Lenovo\\Desktop\\VSSID\\TXT\\\\' + fileName_absolute.split(\".\")[0] + f'.txt', 'w', encoding=\"utf-8\") as the_file:\n",
    "        the_file.write(text)\n",
    "\n",
    "# for i in range(inputpdf.numPages):\n",
    "#     output = PdfFileWriter()\n",
    "#     output.addPage(inputpdf.getPage(i))\n",
    "#     with open(\"document-page%s.pdf\" % i, \"wb\") as outputStream:\n",
    "#         output.write(outputStream)"
   ]
  },
  {
   "cell_type": "code",
   "execution_count": null,
   "metadata": {},
   "outputs": [],
   "source": [
    "import glob\n",
    "import os\n",
    "import re\n",
    "# Import pandas library\n",
    "import pandas as pd\n",
    "df = pd.DataFrame()\n",
    "txts = glob.glob(r\"C:\\Users\\Lenovo\\Desktop\\VSSID\\TXT\\*.txt\")\n",
    "for i, filename in enumerate(txts):\n",
    "    sdt = ''\n",
    "    masobhxh = ''\n",
    "    with open(filename ,'r' , encoding=\"utf-8\") as f:\n",
    "        fileName_absolute = os.path.basename(filename)\n",
    "        #print(fileName_absolute.split(\".\")[0])\n",
    "        for line in f:                     \n",
    "            if((line.find('điện thoại') != -1)|    \n",
    "                (line.find('điện thoai') != -1)|   \n",
    "                (line.find('điệnthoại') != -1)|  \n",
    "                (line.find('điện ffloại') != -1)|         \n",
    "                (line.find('điên thoại') != -1)):      \n",
    "                #sdt= str(''.join(filter(str.isdigit,line)))               \n",
    "                try:\n",
    "                    # if(line.find(\":\") != -1):\n",
    "                    #     sdt = line.split(\":\")[1].strip()\n",
    "                    # elif(line.find(\";\") != -1):\n",
    "                    #     sdt = line.split(\";\")[1].strip()\n",
    "                    b = line.replace(\" \", \"\")\n",
    "                    sdt = re.findall('\\d\\d\\d\\d\\d\\d\\d\\d\\d\\d', b)[0]                \n",
    "                except:\n",
    "                    print(\"Error\" + line)               \n",
    "              \n",
    "                #print(sdt) \n",
    "            #print(sdt)         \n",
    "            elif((line.find('Số sô BHXH') != -1)| \n",
    "                (line.find('Số sổ BHXH') != -1)|\n",
    "                (line.find('Số số BHXH') != -1)|\n",
    "                (line.find('Số s BHXH') != -1)| \n",
    "                (line.find('Sốsô BHXH') != -1)| \n",
    "                (line.find('số BHXH') != -1)|  \n",
    "                (line.find('sốô BHXH') != -1)|   \n",
    "                (line.find('số BHXXH') != -1)|   \n",
    "                (line.find('Số s BHXH') != -1)|            \n",
    "                (line.find('S6 s6 BI-IXH') != -1)):\n",
    "                try:\n",
    "                    c = line.replace(\" \", \"\")\n",
    "                    masobhxh = re.findall('\\d\\d\\d\\d\\d\\d\\d\\d\\d\\d', c)[0]\n",
    "                except:\n",
    "                    print(\"Error\" + filename)   \n",
    "            # else:\n",
    "            #     print(masobhxh)\n",
    "     \n",
    "    #df.loc[i, 'SDT'] = sdt\n",
    "    df.loc[i, 'MASOBHXH'] = masobhxh\n",
    "    df.loc[i, 'LINKFILE'] = fileName_absolute.split(\".\")[0]\n",
    "print(df)\n"
   ]
  },
  {
   "cell_type": "code",
   "execution_count": 21,
   "metadata": {},
   "outputs": [],
   "source": [
    "DataOutput = df\n",
    "DataOutput.to_excel(r'C:\\Users\\Lenovo\\Desktop\\VSSID\\Excel\\File_50.xlsx',index = False) # xuất dữ liệu ra tập tin Excel\n"
   ]
  }
 ],
 "metadata": {
  "kernelspec": {
   "display_name": "Python 3.9.4 64-bit",
   "language": "python",
   "name": "python3"
  },
  "language_info": {
   "codemirror_mode": {
    "name": "ipython",
    "version": 3
   },
   "file_extension": ".py",
   "mimetype": "text/x-python",
   "name": "python",
   "nbconvert_exporter": "python",
   "pygments_lexer": "ipython3",
   "version": "3.9.4"
  },
  "orig_nbformat": 4,
  "vscode": {
   "interpreter": {
    "hash": "52634da84371cba311ea128a5ea7cdc41ff074b781779e754b270ff9f8153cee"
   }
  }
 },
 "nbformat": 4,
 "nbformat_minor": 2
}
