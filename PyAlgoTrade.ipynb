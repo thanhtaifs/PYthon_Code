{
 "cells": [
  {
   "cell_type": "markdown",
   "metadata": {},
   "source": [
    "# Developing \"Momentum\" Trading Strategy\n",
    "* Many differnt takes on this strategy\n",
    "* Sometimes referred to as trend following\n",
    "* Whatever you do and call it, you first need to research potential trading signals"
   ]
  },
  {
   "cell_type": "code",
   "execution_count": 7,
   "id": "83d312c6",
   "metadata": {},
   "outputs": [],
   "source": [
    "import numpy as np\n",
    "import pandas as pd\n",
    "import pandas_datareader as pdr\n",
    "import matplotlib.pyplot as plt\n",
    "from pyalgotrade import strategy\n"
   ]
  },
  {
   "cell_type": "code",
   "execution_count": 15,
   "id": "faeb4f3e",
   "metadata": {},
   "outputs": [],
   "source": [
    "result = pd.read_csv(r'E:\\Data_Stock\\excel_gvr.csv')\n",
    "result[\"Date\"] = pd.to_datetime(result[\"<DTYYYYMMDD>\"], format='%Y%m%d')\n",
    "result['Open'] = pd.to_numeric(result['<OpenFixed>'].astype(str)) * 1000\n",
    "result['Close'] = pd.to_numeric(result['<CloseFixed>'].astype(str)) * 1000\n",
    "result['High'] = pd.to_numeric(result['<HighFixed>'].astype(str)) * 1000\n",
    "result['Low'] = pd.to_numeric(result['<LowFixed>'].astype(str)) * 1000\n",
    "result['Volume'] = pd.to_numeric(result['<Volume>'].astype(str))\n",
    "gld = result[['Date','Open','High','Low' ,'Close','Volume']].copy()\n",
    "gld.to_csv(r'E:\\Data_Stock\\excel_gvr_2.csv')"
   ]
  },
  {
   "cell_type": "code",
   "execution_count": 16,
   "id": "2f197000",
   "metadata": {},
   "outputs": [
    {
     "ename": "Exception",
     "evalue": "The barfeed doesn't support adjusted close values",
     "output_type": "error",
     "traceback": [
      "\u001b[1;31m---------------------------------------------------------------------------\u001b[0m",
      "\u001b[1;31mException\u001b[0m                                 Traceback (most recent call last)",
      "\u001b[1;32m~\\AppData\\Local\\Temp/ipykernel_8704/3465283610.py\u001b[0m in \u001b[0;36m<module>\u001b[1;34m\u001b[0m\n\u001b[0;32m     54\u001b[0m     \u001b[0mprint\u001b[0m\u001b[1;33m(\u001b[0m\u001b[1;34m\"Final portfolio value: $%.2f\"\u001b[0m \u001b[1;33m%\u001b[0m \u001b[0mmyStrategy\u001b[0m\u001b[1;33m.\u001b[0m\u001b[0mgetBroker\u001b[0m\u001b[1;33m(\u001b[0m\u001b[1;33m)\u001b[0m\u001b[1;33m.\u001b[0m\u001b[0mgetEquity\u001b[0m\u001b[1;33m(\u001b[0m\u001b[1;33m)\u001b[0m\u001b[1;33m)\u001b[0m\u001b[1;33m\u001b[0m\u001b[1;33m\u001b[0m\u001b[0m\n\u001b[0;32m     55\u001b[0m \u001b[1;33m\u001b[0m\u001b[0m\n\u001b[1;32m---> 56\u001b[1;33m \u001b[0mrun_strategy\u001b[0m\u001b[1;33m(\u001b[0m\u001b[1;36m15\u001b[0m\u001b[1;33m)\u001b[0m\u001b[1;33m\u001b[0m\u001b[1;33m\u001b[0m\u001b[0m\n\u001b[0m",
      "\u001b[1;32m~\\AppData\\Local\\Temp/ipykernel_8704/3465283610.py\u001b[0m in \u001b[0;36mrun_strategy\u001b[1;34m(smaPeriod)\u001b[0m\n\u001b[0;32m     50\u001b[0m     \u001b[0mfeed\u001b[0m\u001b[1;33m.\u001b[0m\u001b[0maddBarsFromCSV\u001b[0m\u001b[1;33m(\u001b[0m\u001b[1;34m\"orcl\"\u001b[0m\u001b[1;33m,\u001b[0m \u001b[1;34m\"E:\\Data_Stock\\excel_gvr_2.csv\"\u001b[0m\u001b[1;33m)\u001b[0m\u001b[1;33m\u001b[0m\u001b[1;33m\u001b[0m\u001b[0m\n\u001b[0;32m     51\u001b[0m     \u001b[1;31m# Evaluate the strategy with the feed.\u001b[0m\u001b[1;33m\u001b[0m\u001b[1;33m\u001b[0m\u001b[1;33m\u001b[0m\u001b[0m\n\u001b[1;32m---> 52\u001b[1;33m     \u001b[0mmyStrategy\u001b[0m \u001b[1;33m=\u001b[0m \u001b[0mMyStrategy\u001b[0m\u001b[1;33m(\u001b[0m\u001b[0mfeed\u001b[0m\u001b[1;33m,\u001b[0m \u001b[1;34m\"orcl\"\u001b[0m\u001b[1;33m,\u001b[0m \u001b[0msmaPeriod\u001b[0m\u001b[1;33m)\u001b[0m\u001b[1;33m\u001b[0m\u001b[1;33m\u001b[0m\u001b[0m\n\u001b[0m\u001b[0;32m     53\u001b[0m     \u001b[0mmyStrategy\u001b[0m\u001b[1;33m.\u001b[0m\u001b[0mrun\u001b[0m\u001b[1;33m(\u001b[0m\u001b[1;33m)\u001b[0m\u001b[1;33m\u001b[0m\u001b[1;33m\u001b[0m\u001b[0m\n\u001b[0;32m     54\u001b[0m     \u001b[0mprint\u001b[0m\u001b[1;33m(\u001b[0m\u001b[1;34m\"Final portfolio value: $%.2f\"\u001b[0m \u001b[1;33m%\u001b[0m \u001b[0mmyStrategy\u001b[0m\u001b[1;33m.\u001b[0m\u001b[0mgetBroker\u001b[0m\u001b[1;33m(\u001b[0m\u001b[1;33m)\u001b[0m\u001b[1;33m.\u001b[0m\u001b[0mgetEquity\u001b[0m\u001b[1;33m(\u001b[0m\u001b[1;33m)\u001b[0m\u001b[1;33m)\u001b[0m\u001b[1;33m\u001b[0m\u001b[1;33m\u001b[0m\u001b[0m\n",
      "\u001b[1;32m~\\AppData\\Local\\Temp/ipykernel_8704/3465283610.py\u001b[0m in \u001b[0;36m__init__\u001b[1;34m(self, feed, instrument, smaPeriod)\u001b[0m\n\u001b[0;32m     10\u001b[0m         \u001b[0mself\u001b[0m\u001b[1;33m.\u001b[0m\u001b[0m__instrument\u001b[0m \u001b[1;33m=\u001b[0m \u001b[0minstrument\u001b[0m\u001b[1;33m\u001b[0m\u001b[1;33m\u001b[0m\u001b[0m\n\u001b[0;32m     11\u001b[0m         \u001b[1;31m# We'll use adjusted close values instead of regular close values.\u001b[0m\u001b[1;33m\u001b[0m\u001b[1;33m\u001b[0m\u001b[1;33m\u001b[0m\u001b[0m\n\u001b[1;32m---> 12\u001b[1;33m         \u001b[0mself\u001b[0m\u001b[1;33m.\u001b[0m\u001b[0msetUseAdjustedValues\u001b[0m\u001b[1;33m(\u001b[0m\u001b[1;32mTrue\u001b[0m\u001b[1;33m)\u001b[0m\u001b[1;33m\u001b[0m\u001b[1;33m\u001b[0m\u001b[0m\n\u001b[0m\u001b[0;32m     13\u001b[0m         \u001b[0mself\u001b[0m\u001b[1;33m.\u001b[0m\u001b[0m__sma\u001b[0m \u001b[1;33m=\u001b[0m \u001b[0mma\u001b[0m\u001b[1;33m.\u001b[0m\u001b[0mSMA\u001b[0m\u001b[1;33m(\u001b[0m\u001b[0mfeed\u001b[0m\u001b[1;33m[\u001b[0m\u001b[0minstrument\u001b[0m\u001b[1;33m]\u001b[0m\u001b[1;33m.\u001b[0m\u001b[0mgetPriceDataSeries\u001b[0m\u001b[1;33m(\u001b[0m\u001b[1;33m)\u001b[0m\u001b[1;33m,\u001b[0m \u001b[0msmaPeriod\u001b[0m\u001b[1;33m)\u001b[0m\u001b[1;33m\u001b[0m\u001b[1;33m\u001b[0m\u001b[0m\n\u001b[0;32m     14\u001b[0m \u001b[1;33m\u001b[0m\u001b[0m\n",
      "\u001b[1;32mc:\\Python\\lib\\site-packages\\pyalgotrade\\strategy\\__init__.py\u001b[0m in \u001b[0;36msetUseAdjustedValues\u001b[1;34m(self, useAdjusted)\u001b[0m\n\u001b[0;32m    595\u001b[0m \u001b[1;33m\u001b[0m\u001b[0m\n\u001b[0;32m    596\u001b[0m     \u001b[1;32mdef\u001b[0m \u001b[0msetUseAdjustedValues\u001b[0m\u001b[1;33m(\u001b[0m\u001b[0mself\u001b[0m\u001b[1;33m,\u001b[0m \u001b[0museAdjusted\u001b[0m\u001b[1;33m)\u001b[0m\u001b[1;33m:\u001b[0m\u001b[1;33m\u001b[0m\u001b[1;33m\u001b[0m\u001b[0m\n\u001b[1;32m--> 597\u001b[1;33m         \u001b[0mself\u001b[0m\u001b[1;33m.\u001b[0m\u001b[0mgetFeed\u001b[0m\u001b[1;33m(\u001b[0m\u001b[1;33m)\u001b[0m\u001b[1;33m.\u001b[0m\u001b[0msetUseAdjustedValues\u001b[0m\u001b[1;33m(\u001b[0m\u001b[0museAdjusted\u001b[0m\u001b[1;33m)\u001b[0m\u001b[1;33m\u001b[0m\u001b[1;33m\u001b[0m\u001b[0m\n\u001b[0m\u001b[0;32m    598\u001b[0m         \u001b[0mself\u001b[0m\u001b[1;33m.\u001b[0m\u001b[0mgetBroker\u001b[0m\u001b[1;33m(\u001b[0m\u001b[1;33m)\u001b[0m\u001b[1;33m.\u001b[0m\u001b[0msetUseAdjustedValues\u001b[0m\u001b[1;33m(\u001b[0m\u001b[0museAdjusted\u001b[0m\u001b[1;33m)\u001b[0m\u001b[1;33m\u001b[0m\u001b[1;33m\u001b[0m\u001b[0m\n\u001b[0;32m    599\u001b[0m         \u001b[0mself\u001b[0m\u001b[1;33m.\u001b[0m\u001b[0m__useAdjustedValues\u001b[0m \u001b[1;33m=\u001b[0m \u001b[0museAdjusted\u001b[0m\u001b[1;33m\u001b[0m\u001b[1;33m\u001b[0m\u001b[0m\n",
      "\u001b[1;32mc:\\Python\\lib\\site-packages\\pyalgotrade\\barfeed\\__init__.py\u001b[0m in \u001b[0;36msetUseAdjustedValues\u001b[1;34m(self, useAdjusted)\u001b[0m\n\u001b[0;32m     59\u001b[0m     \u001b[1;32mdef\u001b[0m \u001b[0msetUseAdjustedValues\u001b[0m\u001b[1;33m(\u001b[0m\u001b[0mself\u001b[0m\u001b[1;33m,\u001b[0m \u001b[0museAdjusted\u001b[0m\u001b[1;33m)\u001b[0m\u001b[1;33m:\u001b[0m\u001b[1;33m\u001b[0m\u001b[1;33m\u001b[0m\u001b[0m\n\u001b[0;32m     60\u001b[0m         \u001b[1;32mif\u001b[0m \u001b[0museAdjusted\u001b[0m \u001b[1;32mand\u001b[0m \u001b[1;32mnot\u001b[0m \u001b[0mself\u001b[0m\u001b[1;33m.\u001b[0m\u001b[0mbarsHaveAdjClose\u001b[0m\u001b[1;33m(\u001b[0m\u001b[1;33m)\u001b[0m\u001b[1;33m:\u001b[0m\u001b[1;33m\u001b[0m\u001b[1;33m\u001b[0m\u001b[0m\n\u001b[1;32m---> 61\u001b[1;33m             \u001b[1;32mraise\u001b[0m \u001b[0mException\u001b[0m\u001b[1;33m(\u001b[0m\u001b[1;34m\"The barfeed doesn't support adjusted close values\"\u001b[0m\u001b[1;33m)\u001b[0m\u001b[1;33m\u001b[0m\u001b[1;33m\u001b[0m\u001b[0m\n\u001b[0m\u001b[0;32m     62\u001b[0m         \u001b[1;31m# This is to affect future dataseries when they get created.\u001b[0m\u001b[1;33m\u001b[0m\u001b[1;33m\u001b[0m\u001b[1;33m\u001b[0m\u001b[0m\n\u001b[0;32m     63\u001b[0m         \u001b[0mself\u001b[0m\u001b[1;33m.\u001b[0m\u001b[0m__useAdjustedValues\u001b[0m \u001b[1;33m=\u001b[0m \u001b[0museAdjusted\u001b[0m\u001b[1;33m\u001b[0m\u001b[1;33m\u001b[0m\u001b[0m\n",
      "\u001b[1;31mException\u001b[0m: The barfeed doesn't support adjusted close values"
     ]
    }
   ],
   "source": [
    "from pyalgotrade import strategy\n",
    "from pyalgotrade.barfeed import quandlfeed\n",
    "from pyalgotrade.technical import ma\n",
    "\n",
    "\n",
    "class MyStrategy(strategy.BacktestingStrategy):\n",
    "    def __init__(self, feed, instrument, smaPeriod):\n",
    "        super(MyStrategy, self).__init__(feed, 1000)\n",
    "        self.__position = None\n",
    "        self.__instrument = instrument\n",
    "        # We'll use adjusted close values instead of regular close values.\n",
    "        self.setUseAdjustedValues(True)\n",
    "        self.__sma = ma.SMA(feed[instrument].getPriceDataSeries(), smaPeriod)\n",
    "\n",
    "    def onEnterOk(self, position):\n",
    "        execInfo = position.getEntryOrder().getExecutionInfo()\n",
    "        self.info(\"BUY at $%.2f\" % (execInfo.getPrice()))\n",
    "\n",
    "    def onEnterCanceled(self, position):\n",
    "        self.__position = None\n",
    "\n",
    "    def onExitOk(self, position):\n",
    "        execInfo = position.getExitOrder().getExecutionInfo()\n",
    "        self.info(\"SELL at $%.2f\" % (execInfo.getPrice()))\n",
    "        self.__position = None\n",
    "\n",
    "    def onExitCanceled(self, position):\n",
    "        # If the exit was canceled, re-submit it.\n",
    "        self.__position.exitMarket()\n",
    "\n",
    "    def onBars(self, bars):\n",
    "        # Wait for enough bars to be available to calculate a SMA.\n",
    "        if self.__sma[-1] is None:\n",
    "            return\n",
    "\n",
    "        bar = bars[self.__instrument]\n",
    "        # If a position was not opened, check if we should enter a long position.\n",
    "        if self.__position is None:\n",
    "            if bar.getPrice() > self.__sma[-1]:\n",
    "                # Enter a buy market order for 10 shares. The order is good till canceled.\n",
    "                self.__position = self.enterLong(self.__instrument, 10, True)\n",
    "        # Check if we have to exit the position.\n",
    "        elif bar.getPrice() < self.__sma[-1] and not self.__position.exitActive():\n",
    "            self.__position.exitMarket()\n",
    "\n",
    "\n",
    "def run_strategy(smaPeriod):\n",
    "    # Load the bar feed from the CSV file\n",
    "    feed = quandlfeed.Feed()    \n",
    "    feed.addBarsFromCSV(\"orcl\", \"E:\\Data_Stock\\excel_gvr_2.csv\")\n",
    "    # Evaluate the strategy with the feed.\n",
    "    myStrategy = MyStrategy(feed, \"orcl\", smaPeriod)\n",
    "    myStrategy.run()\n",
    "    print(\"Final portfolio value: $%.2f\" % myStrategy.getBroker().getEquity())\n",
    "\n",
    "run_strategy(15)"
   ]
  }
 ],
 "metadata": {
  "kernelspec": {
   "display_name": "Python 3.9.4 64-bit",
   "language": "python",
   "name": "python3"
  },
  "language_info": {
   "codemirror_mode": {
    "name": "ipython",
    "version": 3
   },
   "file_extension": ".py",
   "mimetype": "text/x-python",
   "name": "python",
   "nbconvert_exporter": "python",
   "pygments_lexer": "ipython3",
   "version": "3.9.4"
  },
  "vscode": {
   "interpreter": {
    "hash": "52634da84371cba311ea128a5ea7cdc41ff074b781779e754b270ff9f8153cee"
   }
  }
 },
 "nbformat": 4,
 "nbformat_minor": 5
}
