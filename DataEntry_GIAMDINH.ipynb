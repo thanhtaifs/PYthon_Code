{
 "cells": [
  {
   "cell_type": "code",
   "execution_count": 14,
   "id": "40cfa2a2",
   "metadata": {},
   "outputs": [],
   "source": [
    "from selenium import webdriver\n",
    "from selenium.webdriver.chrome.options import Options\n",
    "import time\n",
    "from selenium.webdriver.common.keys import Keys\n",
    "from selenium.webdriver.common.action_chains import ActionChains\n",
    "from selenium.webdriver.support import expected_conditions as EC\n",
    "from selenium.webdriver.common.by import By\n",
    "from selenium.webdriver.support.ui import WebDriverWait\n",
    "#import pandas as pd\n",
    "from selenium.common.exceptions import NoSuchElementException"
   ]
  },
  {
   "cell_type": "code",
   "execution_count": 76,
   "id": "6a788bed",
   "metadata": {},
   "outputs": [
    {
     "name": "stderr",
     "output_type": "stream",
     "text": [
      "C:\\Users\\TAITTH~1.VSS\\AppData\\Local\\Temp/ipykernel_15204/2133367892.py:3: DeprecationWarning: executable_path has been deprecated, please pass in a Service object\n",
      "  driver = webdriver.Chrome(options=chrome_options, executable_path= Path_Chrome_Driver)\n"
     ]
    }
   ],
   "source": [
    "chrome_options = Options()\n",
    "Path_Chrome_Driver = r\"C:\\Users\\taitt.haugiang.VSS\\Desktop\\Chrome\\chromedriver.exe\"\n",
    "driver = webdriver.Chrome(options=chrome_options, executable_path= Path_Chrome_Driver)"
   ]
  },
  {
   "cell_type": "code",
   "execution_count": 77,
   "id": "9bd74f2e",
   "metadata": {},
   "outputs": [],
   "source": [
    "baseUrl = r'https://giamdinh.bhxh.gov.vn/'\n",
    "driver.get(baseUrl)\n",
    "username = ''\n",
    "password = ''\n",
    "MA_CSCKB = ''\n",
    "THANG_QT = 6"
   ]
  },
  {
   "cell_type": "code",
   "execution_count": 78,
   "id": "ede8b4d9",
   "metadata": {},
   "outputs": [
    {
     "name": "stderr",
     "output_type": "stream",
     "text": [
      "C:\\Users\\TAITTH~1.VSS\\AppData\\Local\\Temp/ipykernel_15204/1701340892.py:5: DeprecationWarning: find_element_by_* commands are deprecated. Please use find_element() instead\n",
      "  driver.find_element_by_css_selector('.btn.btn-submit.btn-block').click()\n"
     ]
    }
   ],
   "source": [
    "driver.find_element(By.ID, 'username').send_keys(username)\n",
    "time.sleep(1)\n",
    "driver.find_element(By.ID, 'password').send_keys(password)\n",
    "time.sleep(1)\n",
    "driver.find_element_by_css_selector('.btn.btn-submit.btn-block').click()"
   ]
  },
  {
   "cell_type": "code",
   "execution_count": null,
   "id": "f9084a69",
   "metadata": {},
   "outputs": [],
   "source": [
    "timeout = 10\n",
    "i = 0\n",
    "for i in range(100) :\n",
    "    try:\n",
    "        print(i)\n",
    "        time.sleep(1)\n",
    "        element_present = EC.presence_of_element_located((By.ID, 'btn_dong_y'))\n",
    "        WebDriverWait(driver, timeout).until(element_present)\n",
    "        driver.find_element(By.ID, 'btn_dong_y').click()\n",
    "        element_present = EC.presence_of_element_located((By.ID, 'ButtonYes'))\n",
    "        driver.find_element(By.ID, 'ButtonYes').click()\n",
    "        element_present = EC.presence_of_element_located((By.ID, 'btnNext'))\n",
    "        driver.find_element(By.ID, 'btnNext').click()\n",
    "    except:\n",
    "        print('Không tìm thấy hồ sơ. Khởi tạo lại xử lý hồ sơ ....')\n",
    "\n",
    "        WebDriverWait(driver,2).until(EC.element_to_be_clickable((By.XPATH,\"//span[text()='Giám định']\"))).click()\n",
    "        WebDriverWait(driver,1).until(EC.element_to_be_clickable((By.XPATH,\"//span[text()='Giám định biểu 79a, 80a']\"))).click()\n",
    "        \n",
    "        driver.find_element(By.ID, 'cbx_cskcb_B-1').click() \n",
    "        driver.find_element(By.ID, 'cbx_cskcb_I').send_keys(Keys.DELETE)\n",
    "        time.sleep(2)\n",
    "        driver.find_element(By.ID, 'cbx_cskcb_I').send_keys(MA_CSCKB)\n",
    "        actions = ActionChains(driver)\n",
    "        actions.send_keys(Keys.TAB)\n",
    "        actions.perform()\n",
    "\n",
    "        driver.find_element(By.ID, 'cbx_thang').click()           \n",
    "        driver.find_element(By.ID, 'cbx_thang_I').send_keys(Keys.BACK_SPACE)        \n",
    "        driver.find_element(By.ID, 'cbx_thang_I').send_keys(THANG_QT)\n",
    "        time.sleep(2) \n",
    "        actions = ActionChains(driver)\n",
    "        actions.send_keys(Keys.TAB)\n",
    "        actions.perform()\n",
    "        \n",
    "        driver.find_element(By.ID, 'LoaiHS').click()\n",
    "        WebDriverWait(driver,3).until(EC.element_to_be_clickable((By.XPATH,\"//td[.='Trong mẫu']\"))).click()\n",
    "        time.sleep(2)\n",
    "\n",
    "        driver.find_element(By.ID, 'TrangThaiGD').click()\n",
    "        WebDriverWait(driver,2).until(EC.element_to_be_clickable((By.XPATH,\"//td[.='Chưa giám định (CĐ)']\"))).click()\n",
    "        driver.find_element(By.ID, 'bt_Timkiem').click()\n",
    "        time.sleep(2)\n",
    "        driver.find_element(By.ID, 'gvGdHoso_tccell0_4').click()"
   ]
  }
 ],
 "metadata": {
  "kernelspec": {
   "display_name": "Python 3.8.1 64-bit",
   "language": "python",
   "name": "python3"
  },
  "language_info": {
   "codemirror_mode": {
    "name": "ipython",
    "version": 3
   },
   "file_extension": ".py",
   "mimetype": "text/x-python",
   "name": "python",
   "nbconvert_exporter": "python",
   "pygments_lexer": "ipython3",
   "version": "3.8.1"
  },
  "vscode": {
   "interpreter": {
    "hash": "7f36d96b16a80fe67a5bd5bd0b1969df9712b396977a3dcf3499eedc03b10903"
   }
  }
 },
 "nbformat": 4,
 "nbformat_minor": 5
}
