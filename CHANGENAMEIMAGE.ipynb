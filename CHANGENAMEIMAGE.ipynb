{
 "cells": [
  {
   "cell_type": "code",
   "execution_count": 23,
   "metadata": {},
   "outputs": [],
   "source": [
    "import os\n",
    "os.getcwd()\n",
    "collection = r\"C:\\Users\\Lenovo\\Desktop\\Temp\"\n",
    "for i, filename in  enumerate(os.listdir(collection)):\n",
    "    if i % 2 == 0:\n",
    "        os.rename(r\"C:\\Users\\Lenovo\\Desktop\\Temp\\\\\" + filename, r\"C:\\Users\\Lenovo\\Desktop\\Change\\\\\" + str(i + 1) + \"B.jpg\")\n",
    "    else:\n",
    "        os.rename(r\"C:\\Users\\Lenovo\\Desktop\\Temp\\\\\" + filename, r\"C:\\Users\\Lenovo\\Desktop\\Change\\\\\" + str(i) + \"A.jpg\")"
   ]
  }
 ],
 "metadata": {
  "interpreter": {
   "hash": "ee5cc6fef2d70a7e71ee3826687cbd150f18158e0b1eef11d4f4f92bb920e304"
  },
  "kernelspec": {
   "display_name": "Python 3.9.4 64-bit",
   "name": "python3"
  },
  "language_info": {
   "codemirror_mode": {
    "name": "ipython",
    "version": 3
   },
   "file_extension": ".py",
   "mimetype": "text/x-python",
   "name": "python",
   "nbconvert_exporter": "python",
   "pygments_lexer": "ipython3",
   "version": "3.9.4"
  },
  "orig_nbformat": 4
 },
 "nbformat": 4,
 "nbformat_minor": 2
}
