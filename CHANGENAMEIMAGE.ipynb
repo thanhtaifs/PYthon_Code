{
 "cells": [
  {
   "cell_type": "code",
   "execution_count": 7,
   "metadata": {},
   "outputs": [],
   "source": [
    "import os\n",
    "import math\n",
    "os.getcwd()\n",
    "collection = r\"C:\\Users\\Lenovo\\Desktop\\VSSID\\Temp\"\n",
    "# đối với các trường hợp cần gộp file tổng lại với nhau cần đổi Start bằng vị trí tiếp theo của vị trí hình ảnh gộp\n",
    "for i, filename in enumerate(os.listdir(collection),start = 213):\n",
    "    if i % 2 == 0:\n",
    "        os.rename(r\"C:\\Users\\Lenovo\\Desktop\\VSSID\\Temp\\\\\" + filename, r\"C:\\Users\\Lenovo\\Desktop\\VSSID\\ANHXULY\\\\\" + str(round(i/2)) + \"B.jpg\")\n",
    "    else:        \n",
    "        os.rename(r\"C:\\Users\\Lenovo\\Desktop\\VSSID\\Temp\\\\\" + filename, r\"C:\\Users\\Lenovo\\Desktop\\VSSID\\ANHXULY\\\\\" + str(math.ceil(i/2)) + \"A.jpg\")\n"
   ]
  }
 ],
 "metadata": {
  "interpreter": {
   "hash": "ee5cc6fef2d70a7e71ee3826687cbd150f18158e0b1eef11d4f4f92bb920e304"
  },
  "kernelspec": {
   "display_name": "Python 3.9.4 64-bit",
   "name": "python3"
  },
  "language_info": {
   "codemirror_mode": {
    "name": "ipython",
    "version": 3
   },
   "file_extension": ".py",
   "mimetype": "text/x-python",
   "name": "python",
   "nbconvert_exporter": "python",
   "pygments_lexer": "ipython3",
   "version": "3.9.4"
  },
  "orig_nbformat": 4
 },
 "nbformat": 4,
 "nbformat_minor": 2
}
