{
 "cells": [
  {
   "cell_type": "code",
   "execution_count": 1,
   "id": "40cfa2a2",
   "metadata": {},
   "outputs": [],
   "source": [
    "from selenium import webdriver\n",
    "from selenium.webdriver.chrome.options import Options\n",
    "import time\n",
    "from selenium.webdriver.common.keys import Keys\n",
    "from selenium.webdriver.common.action_chains import ActionChains\n",
    "from selenium.webdriver.support import expected_conditions as EC\n",
    "from selenium.webdriver.common.by import By\n",
    "from selenium.webdriver.support.ui import WebDriverWait\n",
    "import pandas as pd\n",
    "from selenium.common.exceptions import NoSuchElementException\n",
    "import requests\n",
    "\n",
    "# thư viện dùng để load hình Captcha qua bên VSCode\n",
    "import base64\n",
    "import io\n",
    "from matplotlib import pyplot as plt\n",
    "import matplotlib.image as mpimg\n"
   ]
  },
  {
   "cell_type": "code",
   "execution_count": 2,
   "id": "0542253d",
   "metadata": {},
   "outputs": [
    {
     "name": "stderr",
     "output_type": "stream",
     "text": [
      "C:\\Users\\TAITTH~1.VSS\\AppData\\Local\\Temp/ipykernel_10352/2133367892.py:3: DeprecationWarning: executable_path has been deprecated, please pass in a Service object\n",
      "  driver = webdriver.Chrome(options=chrome_options, executable_path= Path_Chrome_Driver)\n"
     ]
    }
   ],
   "source": [
    "chrome_options = Options()\n",
    "Path_Chrome_Driver = r\"C:\\Users\\taitt.haugiang.VSS\\Desktop\\Chrome\\chromedriver.exe\"\n",
    "driver = webdriver.Chrome(options=chrome_options, executable_path= Path_Chrome_Driver)"
   ]
  },
  {
   "cell_type": "code",
   "execution_count": 3,
   "id": "4989bad3",
   "metadata": {},
   "outputs": [],
   "source": [
    "baseUrl = r'https://dichvucong.baohiemxahoi.gov.vn/#/dang-ky'\n",
    "driver.get(baseUrl)"
   ]
  },
  {
   "cell_type": "code",
   "execution_count": 4,
   "id": "07a4ec8c",
   "metadata": {},
   "outputs": [],
   "source": [
    "time.sleep(2)\n",
    "driver.find_element(By.CLASS_NAME, 'mat-flat-button').click()"
   ]
  },
  {
   "cell_type": "code",
   "execution_count": 5,
   "id": "8df0b651",
   "metadata": {},
   "outputs": [],
   "source": [
    "#img_dir =r\"C:\\Users\\Lenovo\\Desktop\\VSSID\\ANHXULY\"\n",
    "# img_dir =r\"C:\\Users\\taitt.haugiang.VSS\\Desktop\\VSSID\\HINHANH\"\n",
    "folder_excel = r\"D:\\SOLIEU\\DULIEU_VSSID\\NGAY20102022\"\n",
    "# Tên file excel cần xử lý\n",
    "FileName_Excel = \"Data_VssID_20102022_TAI.xlsx\"\n",
    "result = pd.read_excel(folder_excel + \"\\\\\" + FileName_Excel, dtype=str)"
   ]
  },
  {
   "cell_type": "code",
   "execution_count": null,
   "id": "f9084a69",
   "metadata": {},
   "outputs": [],
   "source": [
    "i = 350\n",
    "while i < 600:\n",
    "    try:      \n",
    "        if result.loc[i,\"Hoan_Thanh\"] != '1':\n",
    "            hoten = result.loc[i,\"hoTen\"]\n",
    "            EMAIL = result.loc[i,\"Email\"]\n",
    "            Name_Email = EMAIL.split(\"@\")[0]\n",
    "\n",
    "            print(\"Dữ liệu theo STT: \" + str(i + 1))\n",
    "            print(\"Địa chỉ Email: \" + Name_Email)\n",
    "            print(\"Họ tên: \" + hoten)\n",
    "            \n",
    "            Ma_BHXH = result.loc[i,\"soBhxh\"]\n",
    "            CMND = result.loc[i,\"soCmnd\"]\n",
    "            DC =  result.loc[i,\"DC\"]\n",
    "            XA = result.loc[i,\"maXaLh\"]\n",
    "            TINH =  result.loc[i,\"maTinhLh\"]\n",
    "            HUYEN =  result.loc[i,\"maHuyenLh\"]\n",
    "            SDT = result.loc[i,\"soDienThoai\"]\n",
    "\n",
    "            driver.find_element(By.ID, 'mat-input-7').send_keys(hoten)\n",
    "            driver.find_element(By.ID, 'mat-input-4').send_keys(Ma_BHXH)\n",
    "            driver.find_element(By.ID, 'mat-input-5').send_keys(CMND)\n",
    "\n",
    "            \n",
    "            WebDriverWait(driver,8).until(EC.element_to_be_clickable((By.ID,\"mat-input-8\"))).send_keys(TINH)\n",
    "            actions = ActionChains(driver)\n",
    "            actions.send_keys(Keys.TAB)\n",
    "            actions.perform()\n",
    "            time.sleep(0.5)\n",
    "            # driver.find_element(By.ID, 'mat-input-9').send_keys(HUYEN)\n",
    "            WebDriverWait(driver,8).until(EC.element_to_be_clickable((By.ID,\"mat-input-9\"))).send_keys(HUYEN)\n",
    "            actions = ActionChains(driver) \n",
    "            actions.send_keys(Keys.TAB)\n",
    "            actions.perform()\n",
    "            time.sleep(0.5)\n",
    "            # driver.find_element(By.ID, 'mat-input-10').send_keys(XA)\n",
    "            WebDriverWait(driver,8).until(EC.element_to_be_clickable((By.ID,\"mat-input-10\"))).send_keys(XA)\n",
    "            actions = ActionChains(driver) \n",
    "            actions.send_keys(Keys.TAB)\n",
    "            actions.perform()\n",
    "\n",
    "            driver.find_element(By.ID, 'mat-input-11').send_keys(DC)\n",
    "            driver.find_element(By.ID, 'mat-input-2').send_keys(EMAIL)\n",
    "            driver.find_element(By.ID, 'mat-input-3').send_keys(SDT)\n",
    "\n",
    "            WebDriverWait(driver,10).until(EC.element_to_be_clickable((By.XPATH,\"//button[./span[text()='Chọn']]\"))).click()\n",
    "            WebDriverWait(driver,15).until(EC.element_to_be_clickable((By.XPATH,\"//strong[contains(text(),'[093]')]\"))).click()\n",
    "            WebDriverWait(driver,10).until(EC.element_to_be_clickable((By.CLASS_NAME,\"mat-raised-button\"))).click()\n",
    "\n",
    "            time.sleep(0.5)\n",
    "            driver.find_element(By.ID, 'mat-input-6').send_keys('')     \n",
    "                   \n",
    "            # xử lý hình ảnh           \n",
    "           \n",
    "            src_image = driver.find_element_by_xpath(\"//div[@class='captcha-img']/img\").get_attribute(\"src\")\n",
    "            img = base64.b64decode(src_image.split(\"data:image/png;base64,\")[1])\n",
    "            img = io.BytesIO(img)\n",
    "            img = plt.imread(img, format='JPG')\n",
    "            plt.imshow(img, interpolation='nearest')\n",
    "            plt.show()\n",
    "            \n",
    "            CAPTCHA = input(\"Nhập giá trị hình Captcha vào đây ......\")\n",
    "            CAPTCHA = CAPTCHA.upper()\n",
    "\n",
    "            print(\"Gửi dữ liệu thành công, tiếp tục xác nhận OTP tại Email : \" + Name_Email)\n",
    "            \n",
    "            if len(CAPTCHA) == 4:\n",
    "                driver.find_element(By.ID, 'mat-input-6').send_keys(CAPTCHA)\n",
    "                time.sleep(1)\n",
    "                driver.find_element_by_xpath(\"//button[./span[text()='Ghi nhận']]\").click()\n",
    "                \n",
    "\n",
    "            # Kết thúc xử lý hình ảnh\n",
    "                    \n",
    "            OTPVALUE = input(\"Nhập giá trị OTP vào đây\")\n",
    "\n",
    "            if(len(OTPVALUE) == 6): \n",
    "                WebDriverWait(driver,1).until(EC.element_to_be_clickable((By.XPATH,\"//*[starts-with(@id, 'otp_0_')]\"))).send_keys(OTPVALUE[0])\n",
    "                WebDriverWait(driver,1).until(EC.element_to_be_clickable((By.XPATH,\"//*[starts-with(@id, 'otp_1_')]\"))).send_keys(OTPVALUE[1])\n",
    "                WebDriverWait(driver,1).until(EC.element_to_be_clickable((By.XPATH,\"//*[starts-with(@id, 'otp_2_')]\"))).send_keys(OTPVALUE[2])\n",
    "                WebDriverWait(driver,1).until(EC.element_to_be_clickable((By.XPATH,\"//*[starts-with(@id, 'otp_3_')]\"))).send_keys(OTPVALUE[3])\n",
    "                WebDriverWait(driver,1).until(EC.element_to_be_clickable((By.XPATH,\"//*[starts-with(@id, 'otp_4_')]\"))).send_keys(OTPVALUE[4])\n",
    "                WebDriverWait(driver,1).until(EC.element_to_be_clickable((By.XPATH,\"//*[starts-with(@id, 'otp_5_')]\"))).send_keys(OTPVALUE[5])\n",
    "                WebDriverWait(driver,1).until(EC.element_to_be_clickable((By.XPATH,\"//button[./span[text()='Xác nhận']]\"))).click()\n",
    "                print(\"Kết thúc hồ sơ thứ \" + str(i + 1))\n",
    "                #result.loc[i,\"Hoan_Thanh\"] = 1\n",
    "                #result.loc[i,\"GhiChu\"] = \"Thành công.\"    \n",
    "                WebDriverWait(driver,15).until(EC.element_to_be_clickable((By.XPATH,\"//button[./span[text()='Đóng']]\"))).click()                  \n",
    "            else:\n",
    "                #result.loc[i,\"Hoan_Thanh\"] = 0\n",
    "                print(\"Kết thúc hồ sơ thứ chưa thành công \" + str(i + 1))\n",
    "                #result.loc[i,\"GhiChu\"] = \"Chưa thành công.\"\n",
    "                \n",
    "            #Refesh = input(\"Nhập giá trị để tiếp tục\")  \n",
    "            time.sleep(1)\n",
    "            \n",
    "            # Xác định hồ sơ chạy tiếp\n",
    "            false = False\n",
    "            k = 0\n",
    "            print(\"Chờ xử lý hồ sơ tiếp theo ..........\")\n",
    "            while false == False & k < 40:                \n",
    "                check = driver.find_element_by_xpath(\"//button[./span[text()='Ghi nhận']]\")\n",
    "                #print(\"tìm kiếm điều kiện hợp lệ\" )\n",
    "                if check.is_enabled() == True :\n",
    "                    false = True\n",
    "                k = k + 1\n",
    "\n",
    "            #WebDriverWait(driver,10).until(EC.element_to_be_clickable((By.XPATH,\"//button[./span[text()='Ghi nhận']]\"))).click()\n",
    "\n",
    "        i = i + 1         \n",
    "    except:\n",
    "            result.loc[i,\"Hoan_Thanh\"] = 0\n",
    "            result.loc[i,\"GhiChu\"] = \"Thất bại.\"\n",
    "            print(\"Lỗi tại hồ sơ thứ \" + str(i + 1))\n",
    "            i = i + 1\n"
   ]
  }
 ],
 "metadata": {
  "kernelspec": {
   "display_name": "Python 3.8.1 64-bit",
   "language": "python",
   "name": "python3"
  },
  "language_info": {
   "codemirror_mode": {
    "name": "ipython",
    "version": 3
   },
   "file_extension": ".py",
   "mimetype": "text/x-python",
   "name": "python",
   "nbconvert_exporter": "python",
   "pygments_lexer": "ipython3",
   "version": "3.8.1"
  },
  "vscode": {
   "interpreter": {
    "hash": "7f36d96b16a80fe67a5bd5bd0b1969df9712b396977a3dcf3499eedc03b10903"
   }
  }
 },
 "nbformat": 4,
 "nbformat_minor": 5
}
