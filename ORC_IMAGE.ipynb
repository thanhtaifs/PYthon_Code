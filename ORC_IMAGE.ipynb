{
 "cells": [
  {
   "cell_type": "code",
   "execution_count": 12,
   "metadata": {},
   "outputs": [],
   "source": [
    "from PIL import Image, ImageEnhance, ImageFilter\n",
    "import pytesseract"
   ]
  },
  {
   "cell_type": "code",
   "execution_count": null,
   "metadata": {},
   "outputs": [],
   "source": [
    "pytesseract.pytesseract.tesseract_cmd = r'C:\\Program Files\\Tesseract-OCR\\tesseract.exe'  # your path may be different\n",
    "text = pytesseract.image_to_string( Image.open(r\"C:\\Users\\PC\\Desktop\\TEST\\TEST_IMG_2.jpg\") ,lang='eng', config='--tessdata-dir \"C:\\\\Program Files\\\\Tesseract-OCR\\\\tessdata\"')\n",
    "\n",
    "print(text)"
   ]
  },
  {
   "cell_type": "code",
   "execution_count": 9,
   "metadata": {},
   "outputs": [],
   "source": [
    "import os\n",
    "import numpy as np\n",
    "import pyboof as pb\n",
    "\n",
    "\n",
    "class QR_Extractor:\n",
    "    # Src: github.com/lessthanoptimal/PyBoof/blob/master/examples/qrcode_detect.py\n",
    "    def __init__(self):\n",
    "        # Load a pre-built dictionary\n",
    "        config_marker = pb.load_hamming_marker(pb.HammingDictionary.ARUCO_MIP_25h7)\n",
    "\n",
    "# Tweak the detector. None class be passed in for the detector\n",
    "        config_detector = pb.ConfigFiducialHammingDetector()\n",
    "        config_detector.configThreshold.type = pb.ThresholdType.LOCAL_MEAN\n",
    "        self.detector = pb.FactoryFiducial(np.uint8).square_hamming(config_marker, config_detector)        \n",
    "\n",
    "    def extract(self, img_path):\n",
    "        if not os.path.isfile(img_path):\n",
    "            print('File not found:', img_path)\n",
    "            return None\n",
    "        image = pb.load_single_band(img_path, np.uint8)     \n",
    "        self.detector.detect(image)\n",
    "        qr_codes = []\n",
    "        for qr in self.detector.detections:\n",
    "            print(qr.message)\n",
    "            qr_codes.append({\n",
    "                'text': qr.message,\n",
    "                'points': qr.bounds.convert_tuple()\n",
    "            })\n",
    "        return qr_codes"
   ]
  },
  {
   "cell_type": "code",
   "execution_count": 31,
   "metadata": {},
   "outputs": [
    {
     "name": "stdout",
     "output_type": "stream",
     "text": [
      "Number Found = 1\n",
      "=========== Found #0\n",
      "Pattern ID = 1023\n",
      "Image Location Polygon2D( (520.3741066198136,878.5220685012064) (535.4927171817868,875.15530361634) (535.8575260592695,898.4928540788798) (520.7241467810652,902.1760917659566) )\n"
     ]
    }
   ],
   "source": [
    "config_marker = pb.load_hamming_marker(pb.HammingDictionary.ARUCO_ORIGINAL)\n",
    "\n",
    "# Tweak the detector. None class be passed in for the detector\n",
    "config_detector = pb.ConfigFiducialHammingDetector()\n",
    "config_detector.configThreshold.type = pb.ThresholdType.LOCAL_MEAN\n",
    "detector = pb.FactoryFiducial(np.uint8).square_hamming(config_marker, config_detector)\n",
    "detector.detect(pb.load_single_band(r'C:\\Users\\PC\\Desktop\\New folder\\TEST_IMG.jpg', np.uint8))\n",
    "\n",
    "print(\"Number Found = \" + str(detector.get_total()))\n",
    "for i in range(detector.get_total()):\n",
    "    print(\"=========== Found #\" + str(i))\n",
    "    fid_to_cam = detector.get_fiducial_to_camera(i)\n",
    "    print(\"Pattern ID = \" + str(detector.get_id(i)))\n",
    "    print(\"Image Location \" + str(detector.get_bounds(i)))\n",
    "   \n",
    " \n",
    "\n",
    "   \n",
    "\n",
    "      \n",
    "           \n",
    "    \n",
    "    \n",
    "   "
   ]
  },
  {
   "cell_type": "code",
   "execution_count": 23,
   "metadata": {},
   "outputs": [
    {
     "name": "stdout",
     "output_type": "stream",
     "text": [
      "Detected a total of 1 QR Codes\n",
      "Message: 9321360623|5472e1baa76e205468e1bb8b2047e1baa56d|26/01/1990|2|-|93 - 014|17/08/2022|-|18/08/2022|93059321360623|-|4|28/07/2023|85a01864d57fc6d-7102|4|487579e1bb876e2056e1bb8b205468e1bba7792c2054e1bb896e682048e1baad75204769616e67|$\u0000\u0000\u0000\u0000\u0000\u0000\u0000\u0000\u0000\u0000\u0000\u0000\u0000\u0000\u0000\u0000\u0000\u0000\u0000\u0000\u0000\u0000\n",
      " at: Polygon2D( (184.56844290283834,502.39964956408375) (326.88195128860826,502.16470953847715) (323.14154814107985,647.0237876537841) (180.682643716465,648.3996944639093) )\n"
     ]
    }
   ],
   "source": [
    "import numpy as np\n",
    "import pyboof as pb\n",
    "\n",
    " \n",
    "# Load an image as gray scale.=\n",
    "gray = pb.load_single_band(r'C:\\Users\\PC\\Desktop\\New folder\\TEST_IMG.jpg', np.uint8)\n",
    " \n",
    "# Declare the QR Code detector\n",
    "detector = pb.FactoryFiducial(np.uint8).qrcode()\n",
    "\n",
    "# Process the image, detect the QR Codes, and print the results\n",
    "detector.detect(gray)\n",
    "print(\"Detected a total of {} QR Codes\".format(len(detector.detections)))\n",
    "for qr in detector.detections:\n",
    "    print(\"Message: \"+qr.message)\n",
    "    print(\" at: \"+str(qr.bounds))"
   ]
  },
  {
   "cell_type": "code",
   "execution_count": 32,
   "metadata": {},
   "outputs": [
    {
     "data": {
      "text/plain": [
       "True"
      ]
     },
     "execution_count": 32,
     "metadata": {},
     "output_type": "execute_result"
    }
   ],
   "source": [
    "import cv2\n",
    "img = cv2.imread(r'C:\\Users\\PC\\Desktop\\New folder\\TEST_IMG.jpg')\n",
    "x= 520\n",
    "y= 878\n",
    "\n",
    "h= 150\n",
    "w= 250\n",
    "\n",
    "crop_img = img[y: y+h, x:x+w ]\n",
    "cv2.imwrite(r'C:\\Users\\PC\\Desktop\\New folder\\TEST_IMG_2.jpg',crop_img)\n"
   ]
  }
 ],
 "metadata": {
  "kernelspec": {
   "display_name": "Python 3.9.4 64-bit",
   "language": "python",
   "name": "python3"
  },
  "language_info": {
   "codemirror_mode": {
    "name": "ipython",
    "version": 3
   },
   "file_extension": ".py",
   "mimetype": "text/x-python",
   "name": "python",
   "nbconvert_exporter": "python",
   "pygments_lexer": "ipython3",
   "version": "3.9.4"
  },
  "orig_nbformat": 4,
  "vscode": {
   "interpreter": {
    "hash": "52634da84371cba311ea128a5ea7cdc41ff074b781779e754b270ff9f8153cee"
   }
  }
 },
 "nbformat": 4,
 "nbformat_minor": 2
}
