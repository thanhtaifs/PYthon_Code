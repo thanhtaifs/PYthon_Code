{
 "cells": [
  {
   "cell_type": "code",
   "execution_count": 9,
   "id": "70307da3",
   "metadata": {},
   "outputs": [],
   "source": [
    "import pandas as pd\n",
    "import glob\n",
    "import matplotlib.pyplot as plt\n",
    "import numpy as np"
   ]
  },
  {
   "cell_type": "code",
   "execution_count": 2,
   "id": "c68c36f0",
   "metadata": {},
   "outputs": [],
   "source": [
    "# Read All File Excel in Directory and merge all sheet in file excel to one Sheet\n",
    "file_list = glob.glob(r'D:\\SOLIEU\\2021\\T082021MAUA\\*.xlsx')\n",
    "# create list file excel\n",
    "files = []"
   ]
  },
  {
   "cell_type": "code",
   "execution_count": 3,
   "id": "c7afb3af",
   "metadata": {},
   "outputs": [],
   "source": [
    "for filename in file_list:\n",
    "    df = pd.concat(pd.read_excel(filename, sheet_name=None), ignore_index=True)\n",
    "    files.append(df)\n",
    "frame = pd.concat(files, axis=0, ignore_index=True)"
   ]
  },
  {
   "cell_type": "code",
   "execution_count": 4,
   "id": "e97fe685",
   "metadata": {},
   "outputs": [],
   "source": [
    "data = frame"
   ]
  },
  {
   "cell_type": "code",
   "execution_count": 5,
   "id": "4e070424",
   "metadata": {},
   "outputs": [],
   "source": [
    "data.loc[data['MA_CSKCB'] == 93001, 'MA_CHA'] = '93001'\n",
    "data.loc[(data['MA_CSKCB'] == 93002) | (data['MA_CSKCB'] == 93048) | (data['MA_CSKCB'] == 93049) | (data['MA_CSKCB'] == 93050) | (data['MA_CSKCB'] == 93051) | (data['MA_CSKCB'] == 93052)| (data['MA_CSKCB'] == 93053) | (data['MA_CSKCB'] == 93054) | (data['MA_CSKCB'] == 93055) | (data['MA_CSKCB'] == 93057)  | (data['MA_CSKCB'] == 93080), 'MA_CHA'] = '93002'\n",
    "data.loc[(data['MA_CSKCB'] == 93003) | (data['MA_CSKCB'] == 93019) | (data['MA_CSKCB'] == 93058) | (data['MA_CSKCB'] == 93059) | (data['MA_CSKCB'] == 93060) | (data['MA_CSKCB'] == 93061)| (data['MA_CSKCB'] == 93092) | (data['MA_CSKCB'] == 93094) | (data['MA_CSKCB'] == 93097)  | (data['MA_CSKCB'] == 93104), 'MA_CHA'] = '93003'\n",
    "data.loc[(data['MA_CSKCB'] == 93004) | (data['MA_CSKCB'] == 93035) | (data['MA_CSKCB'] == 93036) | (data['MA_CSKCB'] == 93037) | (data['MA_CSKCB'] == 93038) | (data['MA_CSKCB'] == 93039)| (data['MA_CSKCB'] == 93040) | (data['MA_CSKCB'] == 93041) | (data['MA_CSKCB'] == 93042)  | (data['MA_CSKCB'] == 93043) | (data['MA_CSKCB'] == 93044) | (data['MA_CSKCB'] == 93045) | (data['MA_CSKCB'] == 93046) | (data['MA_CSKCB'] == 93047) | (data['MA_CSKCB'] == 93089) | (data['MA_CSKCB'] == 93090), 'MA_CHA'] = '93004'\n",
    "data.loc[(data['MA_CSKCB'] == 93005) | (data['MA_CSKCB'] == 93026) | (data['MA_CSKCB'] == 93027) | (data['MA_CSKCB'] == 93028) | (data['MA_CSKCB'] == 93029) | (data['MA_CSKCB'] == 93030)| (data['MA_CSKCB'] == 93031) | (data['MA_CSKCB'] == 93032) | (data['MA_CSKCB'] == 93033)  | (data['MA_CSKCB'] == 93087), 'MA_CHA'] = '93005'\n",
    "data.loc[(data['MA_CSKCB'] == 93006) | (data['MA_CSKCB'] == 93018) | (data['MA_CSKCB'] == 93020) | (data['MA_CSKCB'] == 93022) | (data['MA_CSKCB'] == 93023) | (data['MA_CSKCB'] == 93024)| (data['MA_CSKCB'] == 93025) | (data['MA_CSKCB'] == 93073) | (data['MA_CSKCB'] == 93083)  | (data['MA_CSKCB'] == 93084) | (data['MA_CSKCB'] == 93086), 'MA_CHA'] = '93006'\n",
    "data.loc[(data['MA_CSKCB'] == 93109) | (data['MA_CSKCB'] == 93009) | (data['MA_CSKCB'] == 93010) | (data['MA_CSKCB'] == 93011) | (data['MA_CSKCB'] == 93012) | (data['MA_CSKCB'] == 93013)| (data['MA_CSKCB'] == 93014) | (data['MA_CSKCB'] == 93015) | (data['MA_CSKCB'] == 93017)  | (data['MA_CSKCB'] == 93082), 'MA_CHA'] = '93109'\n",
    "data.loc[(data['MA_CSKCB'] == 93016) | (data['MA_CSKCB'] == 93067) | (data['MA_CSKCB'] == 93068) | (data['MA_CSKCB'] == 93069) | (data['MA_CSKCB'] == 93070) | (data['MA_CSKCB'] == 93071)| (data['MA_CSKCB'] == 93072), 'MA_CHA'] = '93016'\n",
    "data.loc[(data['MA_CSKCB'] == 93078) | (data['MA_CSKCB'] == 93062) | (data['MA_CSKCB'] == 93063) | (data['MA_CSKCB'] == 93064) | (data['MA_CSKCB'] == 93065) | (data['MA_CSKCB'] == 93066)| (data['MA_CSKCB'] == 93095)| (data['MA_CSKCB'] == 93096)| (data['MA_CSKCB'] == 93098), 'MA_CHA'] = '93078'\n",
    "data.loc[data['MA_CSKCB'] == 93007, 'MA_CHA'] = '93007'\n",
    "data.loc[data['MA_CSKCB'] == 93008, 'MA_CHA'] = '93008'\n",
    "data.loc[data['MA_CSKCB'] == 93100, 'MA_CHA'] = '93100'\n",
    "data.loc[data['MA_CSKCB'] == 93101, 'MA_CHA'] = '93101'\n",
    "data.loc[data['MA_CSKCB'] == 93102, 'MA_CHA'] = '93102'\n",
    "data.loc[data['MA_CSKCB'] == 93103, 'MA_CHA'] = '93103'\n",
    "data.loc[data['MA_CSKCB'] == 93105, 'MA_CHA'] = '93105'\n",
    "data.loc[data['MA_CSKCB'] == 93106, 'MA_CHA'] = '93106'\n",
    "data.loc[data['MA_CSKCB'] == 93107, 'MA_CHA'] = '93107'\n",
    "data.loc[data['MA_CSKCB'] == 93110, 'MA_CHA'] = '93110'"
   ]
  },
  {
   "cell_type": "code",
   "execution_count": 12,
   "id": "b0a7b252",
   "metadata": {},
   "outputs": [],
   "source": [
    "table = pd.pivot_table(frame,index=['MA_CHA'],columns=['MA_LOAIKCB'],values=['T_BHTT'],aggfunc=['count','sum'],margins = True)"
   ]
  },
  {
   "cell_type": "code",
   "execution_count": 13,
   "id": "a0e9a3ee",
   "metadata": {},
   "outputs": [],
   "source": [
    "# Export Data to Excel\n",
    "DataOutput = table"
   ]
  },
  {
   "cell_type": "code",
   "execution_count": 14,
   "id": "48d0afbd",
   "metadata": {
    "scrolled": true
   },
   "outputs": [],
   "source": [
    "DataOutput = table.replace(np.nan, 0)"
   ]
  },
  {
   "cell_type": "code",
   "execution_count": 15,
   "id": "80ffd4e9",
   "metadata": {},
   "outputs": [],
   "source": [
    "DataOutput.to_excel(r'D:\\SOLIEU\\TONGHOPBAOCAOGIAMDINH.xlsx',index = False)"
   ]
  }
 ],
 "metadata": {
  "kernelspec": {
   "display_name": "Python 3",
   "language": "python",
   "name": "python3"
  },
  "language_info": {
   "codemirror_mode": {
    "name": "ipython",
    "version": 3
   },
   "file_extension": ".py",
   "mimetype": "text/x-python",
   "name": "python",
   "nbconvert_exporter": "python",
   "pygments_lexer": "ipython3",
   "version": "3.8.8"
  }
 },
 "nbformat": 4,
 "nbformat_minor": 5
}
