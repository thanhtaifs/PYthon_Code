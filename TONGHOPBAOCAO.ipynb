{
 "cells": [
  {
   "cell_type": "code",
   "execution_count": 1,
   "source": [
    "import pandas as pd\r\n",
    "import glob\r\n",
    "import matplotlib.pyplot as plt\r\n",
    "import numpy as np"
   ],
   "outputs": [],
   "metadata": {}
  },
  {
   "cell_type": "markdown",
   "source": [
    "Tổng hợp số liệu báo cáo giám định hàng tháng"
   ],
   "metadata": {}
  },
  {
   "cell_type": "code",
   "execution_count": 2,
   "source": [
    "files = [] # Biến chứa các dữ liệu file Excel sau khi tải vào dataframe\r\n",
    "file_list = glob.glob(r'C:\\Users\\Lenovo\\Desktop\\Excel\\THANGQT\\*.xlsx')"
   ],
   "outputs": [],
   "metadata": {}
  },
  {
   "cell_type": "code",
   "execution_count": 3,
   "source": [
    "for filename in file_list:\r\n",
    "    df = pd.concat(pd.read_excel(filename, sheet_name=None), ignore_index=True)\r\n",
    "    files.append(df)\r\n",
    "frame = pd.concat(files, axis=0, ignore_index=True)"
   ],
   "outputs": [],
   "metadata": {}
  },
  {
   "cell_type": "code",
   "execution_count": 4,
   "source": [
    "data = frame"
   ],
   "outputs": [],
   "metadata": {}
  },
  {
   "cell_type": "code",
   "execution_count": 5,
   "source": [
    "data.loc[data['MA_CSKCB'] == 93001, 'MA_CHA'] = '93001'\r\n",
    "data.loc[(data['MA_CSKCB'] == 93002) | (data['MA_CSKCB'] == 93048) | (data['MA_CSKCB'] == 93049) | (data['MA_CSKCB'] == 93050) | (data['MA_CSKCB'] == 93051) | (data['MA_CSKCB'] == 93052)| (data['MA_CSKCB'] == 93053) | (data['MA_CSKCB'] == 93054) | (data['MA_CSKCB'] == 93055) | (data['MA_CSKCB'] == 93057)  | (data['MA_CSKCB'] == 93080), 'MA_CHA'] = '93002'\r\n",
    "data.loc[(data['MA_CSKCB'] == 93003) | (data['MA_CSKCB'] == 93019) | (data['MA_CSKCB'] == 93058) | (data['MA_CSKCB'] == 93059) | (data['MA_CSKCB'] == 93060) | (data['MA_CSKCB'] == 93061)| (data['MA_CSKCB'] == 93092) | (data['MA_CSKCB'] == 93094) | (data['MA_CSKCB'] == 93097)  | (data['MA_CSKCB'] == 93104), 'MA_CHA'] = '93003'\r\n",
    "data.loc[(data['MA_CSKCB'] == 93004) | (data['MA_CSKCB'] == 93035) | (data['MA_CSKCB'] == 93036) | (data['MA_CSKCB'] == 93037) | (data['MA_CSKCB'] == 93038) | (data['MA_CSKCB'] == 93039)| (data['MA_CSKCB'] == 93040) | (data['MA_CSKCB'] == 93041) | (data['MA_CSKCB'] == 93042)  | (data['MA_CSKCB'] == 93043) | (data['MA_CSKCB'] == 93044) | (data['MA_CSKCB'] == 93045) | (data['MA_CSKCB'] == 93046) | (data['MA_CSKCB'] == 93047) | (data['MA_CSKCB'] == 93089) | (data['MA_CSKCB'] == 93090), 'MA_CHA'] = '93004'\r\n",
    "data.loc[(data['MA_CSKCB'] == 93005) | (data['MA_CSKCB'] == 93026) | (data['MA_CSKCB'] == 93027) | (data['MA_CSKCB'] == 93028) | (data['MA_CSKCB'] == 93029) | (data['MA_CSKCB'] == 93030)| (data['MA_CSKCB'] == 93031) | (data['MA_CSKCB'] == 93032) | (data['MA_CSKCB'] == 93033)  | (data['MA_CSKCB'] == 93087), 'MA_CHA'] = '93005'\r\n",
    "data.loc[(data['MA_CSKCB'] == 93006) | (data['MA_CSKCB'] == 93018) | (data['MA_CSKCB'] == 93020) | (data['MA_CSKCB'] == 93022) | (data['MA_CSKCB'] == 93023) | (data['MA_CSKCB'] == 93024)| (data['MA_CSKCB'] == 93025) | (data['MA_CSKCB'] == 93073) | (data['MA_CSKCB'] == 93083)  | (data['MA_CSKCB'] == 93084) | (data['MA_CSKCB'] == 93086), 'MA_CHA'] = '93006'\r\n",
    "data.loc[(data['MA_CSKCB'] == 93109) | (data['MA_CSKCB'] == 93009) | (data['MA_CSKCB'] == 93010) | (data['MA_CSKCB'] == 93011) | (data['MA_CSKCB'] == 93012) | (data['MA_CSKCB'] == 93013)| (data['MA_CSKCB'] == 93014) | (data['MA_CSKCB'] == 93015) | (data['MA_CSKCB'] == 93017)  | (data['MA_CSKCB'] == 93082), 'MA_CHA'] = '93109'\r\n",
    "data.loc[(data['MA_CSKCB'] == 93016) | (data['MA_CSKCB'] == 93067) | (data['MA_CSKCB'] == 93068) | (data['MA_CSKCB'] == 93069) | (data['MA_CSKCB'] == 93070) | (data['MA_CSKCB'] == 93071)| (data['MA_CSKCB'] == 93072), 'MA_CHA'] = '93016'\r\n",
    "data.loc[(data['MA_CSKCB'] == 93078) | (data['MA_CSKCB'] == 93062) | (data['MA_CSKCB'] == 93063) | (data['MA_CSKCB'] == 93064) | (data['MA_CSKCB'] == 93065) | (data['MA_CSKCB'] == 93066)| (data['MA_CSKCB'] == 93095)| (data['MA_CSKCB'] == 93096)| (data['MA_CSKCB'] == 93098), 'MA_CHA'] = '93078'\r\n",
    "data.loc[data['MA_CSKCB'] == 93007, 'MA_CHA'] = '93007'\r\n",
    "data.loc[data['MA_CSKCB'] == 93008, 'MA_CHA'] = '93008'\r\n",
    "data.loc[data['MA_CSKCB'] == 93100, 'MA_CHA'] = '93100'\r\n",
    "data.loc[data['MA_CSKCB'] == 93101, 'MA_CHA'] = '93101'\r\n",
    "data.loc[data['MA_CSKCB'] == 93102, 'MA_CHA'] = '93102'\r\n",
    "data.loc[data['MA_CSKCB'] == 93103, 'MA_CHA'] = '93103'\r\n",
    "data.loc[data['MA_CSKCB'] == 93105, 'MA_CHA'] = '93105'\r\n",
    "data.loc[data['MA_CSKCB'] == 93106, 'MA_CHA'] = '93106'\r\n",
    "data.loc[data['MA_CSKCB'] == 93107, 'MA_CHA'] = '93107'\r\n",
    "data.loc[data['MA_CSKCB'] == 93110, 'MA_CHA'] = '93110'"
   ],
   "outputs": [],
   "metadata": {}
  },
  {
   "cell_type": "code",
   "execution_count": 14,
   "source": [
    "data.loc[data['MA_LOAIKCB'] == 1, 'LOAIKCB'] = '1.ĐKBD'\r\n",
    "data.loc[data['MA_LOAIKCB'] == 2, 'LOAIKCB'] = '2.Nội tỉnh'\r\n",
    "data.loc[data['MA_LOAIKCB'] == 3, 'LOAIKCB'] = '3.Ngoại tỉnh'"
   ],
   "outputs": [],
   "metadata": {}
  },
  {
   "cell_type": "code",
   "execution_count": 18,
   "source": [
    "table = pd.pivot_table(frame,\r\n",
    "                    index=['MA_CHA'],\r\n",
    "                    columns=['LOAIKCB'],\r\n",
    "                    values=['T_BHTT'],\r\n",
    "                    aggfunc=[np.size,np.sum],\r\n",
    "                    margins = True,\r\n",
    "                    margins_name='Tổng cộng')"
   ],
   "outputs": [],
   "metadata": {}
  },
  {
   "cell_type": "code",
   "execution_count": 19,
   "source": [
    "pd.options.display.float_format = '{:,.2f}'.format\r\n",
    "table\r\n"
   ],
   "outputs": [
    {
     "output_type": "execute_result",
     "data": {
      "text/html": [
       "<div>\n",
       "<style scoped>\n",
       "    .dataframe tbody tr th:only-of-type {\n",
       "        vertical-align: middle;\n",
       "    }\n",
       "\n",
       "    .dataframe tbody tr th {\n",
       "        vertical-align: top;\n",
       "    }\n",
       "\n",
       "    .dataframe thead tr th {\n",
       "        text-align: left;\n",
       "    }\n",
       "\n",
       "    .dataframe thead tr:last-of-type th {\n",
       "        text-align: right;\n",
       "    }\n",
       "</style>\n",
       "<table border=\"1\" class=\"dataframe\">\n",
       "  <thead>\n",
       "    <tr>\n",
       "      <th></th>\n",
       "      <th colspan=\"3\" halign=\"left\">size</th>\n",
       "      <th colspan=\"3\" halign=\"left\">sum</th>\n",
       "    </tr>\n",
       "    <tr>\n",
       "      <th></th>\n",
       "      <th colspan=\"3\" halign=\"left\">T_BHTT</th>\n",
       "      <th colspan=\"3\" halign=\"left\">T_BHTT</th>\n",
       "    </tr>\n",
       "    <tr>\n",
       "      <th>LOAIKCB</th>\n",
       "      <th>1.ĐKBD</th>\n",
       "      <th>2.Nội tỉnh</th>\n",
       "      <th>Tổng cộng</th>\n",
       "      <th>1.ĐKBD</th>\n",
       "      <th>2.Nội tỉnh</th>\n",
       "      <th>Tổng cộng</th>\n",
       "    </tr>\n",
       "    <tr>\n",
       "      <th>MA_CHA</th>\n",
       "      <th></th>\n",
       "      <th></th>\n",
       "      <th></th>\n",
       "      <th></th>\n",
       "      <th></th>\n",
       "      <th></th>\n",
       "    </tr>\n",
       "  </thead>\n",
       "  <tbody>\n",
       "    <tr>\n",
       "      <th>93001</th>\n",
       "      <td>3,378.00</td>\n",
       "      <td>109.00</td>\n",
       "      <td>3,487.00</td>\n",
       "      <td>788,171,497.72</td>\n",
       "      <td>758,090,285.01</td>\n",
       "      <td>1,546,261,782.73</td>\n",
       "    </tr>\n",
       "    <tr>\n",
       "      <th>Tổng cộng</th>\n",
       "      <td>3,378.00</td>\n",
       "      <td>109.00</td>\n",
       "      <td>3,487.00</td>\n",
       "      <td>788,171,497.72</td>\n",
       "      <td>758,090,285.01</td>\n",
       "      <td>1,546,261,782.73</td>\n",
       "    </tr>\n",
       "  </tbody>\n",
       "</table>\n",
       "</div>"
      ],
      "text/plain": [
       "              size                                 sum                 \\\n",
       "            T_BHTT                              T_BHTT                  \n",
       "LOAIKCB     1.ĐKBD 2.Nội tỉnh Tổng cộng         1.ĐKBD     2.Nội tỉnh   \n",
       "MA_CHA                                                                  \n",
       "93001     3,378.00     109.00  3,487.00 788,171,497.72 758,090,285.01   \n",
       "Tổng cộng 3,378.00     109.00  3,487.00 788,171,497.72 758,090,285.01   \n",
       "\n",
       "                            \n",
       "                            \n",
       "LOAIKCB          Tổng cộng  \n",
       "MA_CHA                      \n",
       "93001     1,546,261,782.73  \n",
       "Tổng cộng 1,546,261,782.73  "
      ]
     },
     "metadata": {},
     "execution_count": 19
    }
   ],
   "metadata": {}
  },
  {
   "cell_type": "code",
   "execution_count": 13,
   "source": [
    "# Export Data to Excel\r\n",
    "DataOutput = table\r\n",
    "DataOutput = table.replace(np.nan, 0) # Nan thành số 0\r\n",
    "DataOutput.to_excel(r'D:\\SOLIEU\\TONGHOPBAOCAOGIAMDINH.xlsx',index = False) # xuất dữ liệu ra tập tin Excel"
   ],
   "outputs": [],
   "metadata": {}
  }
 ],
 "metadata": {
  "kernelspec": {
   "name": "python3",
   "display_name": "Python 3.9.4 64-bit"
  },
  "language_info": {
   "codemirror_mode": {
    "name": "ipython",
    "version": 3
   },
   "file_extension": ".py",
   "mimetype": "text/x-python",
   "name": "python",
   "nbconvert_exporter": "python",
   "pygments_lexer": "ipython3",
   "version": "3.9.4"
  },
  "interpreter": {
   "hash": "ee5cc6fef2d70a7e71ee3826687cbd150f18158e0b1eef11d4f4f92bb920e304"
  }
 },
 "nbformat": 4,
 "nbformat_minor": 5
}